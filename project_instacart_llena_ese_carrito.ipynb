{
 "cells": [
  {
   "cell_type": "markdown",
   "id": "3Xg_RQfnafXz",
   "metadata": {
    "id": "3Xg_RQfnafXz"
   },
   "source": [
    "# ¡Llena ese carrito!"
   ]
  },
  {
   "cell_type": "markdown",
   "id": "mhIvmmkW414q",
   "metadata": {
    "id": "mhIvmmkW414q"
   },
   "source": [
    "# Introducción\n",
    "\n",
    "Instacart es una plataforma de entregas de comestibles donde la clientela puede registrar un pedido y hacer que se lo entreguen, similar a Uber Eats y Door Dash.\n",
    "El conjunto de datos que te hemos proporcionado tiene modificaciones del original. Redujimos el tamaño del conjunto para que tus cálculos se hicieran más rápido e introdujimos valores ausentes y duplicados. Tuvimos cuidado de conservar las distribuciones de los datos originales cuando hicimos los cambios.\n",
    "\n",
    "Debes completar tres pasos. Para cada uno de ellos, escribe una breve introducción que refleje con claridad cómo pretendes resolver cada paso, y escribe párrafos explicatorios que justifiquen tus decisiones al tiempo que avanzas en tu solución.  También escribe una conclusión que resuma tus hallazgos y elecciones.\n"
   ]
  },
  {
   "cell_type": "markdown",
   "id": "3MbyzpOQZ5Or",
   "metadata": {
    "id": "3MbyzpOQZ5Or"
   },
   "source": [
    "## Diccionario de datos\n",
    "\n",
    "Hay cinco tablas en el conjunto de datos, y tendrás que usarlas todas para hacer el preprocesamiento de datos y el análisis exploratorio de datos. A continuación se muestra un diccionario de datos que enumera las columnas de cada tabla y describe los datos que contienen.\n",
    "\n",
    "- `instacart_orders.csv`: cada fila corresponde a un pedido en la aplicación Instacart.\n",
    "    - `'order_id'`: número de ID que identifica de manera única cada pedido.\n",
    "    - `'user_id'`: número de ID que identifica de manera única la cuenta de cada cliente.\n",
    "    - `'order_number'`: el número de veces que este cliente ha hecho un pedido.\n",
    "    - `'order_dow'`: día de la semana en que se hizo el pedido (0 si es domingo).\n",
    "    - `'order_hour_of_day'`: hora del día en que se hizo el pedido.\n",
    "    - `'days_since_prior_order'`: número de días transcurridos desde que este cliente hizo su pedido anterior.\n",
    "- `products.csv`: cada fila corresponde a un producto único que pueden comprar los clientes.\n",
    "    - `'product_id'`: número ID que identifica de manera única cada producto.\n",
    "    - `'product_name'`: nombre del producto.\n",
    "    - `'aisle_id'`: número ID que identifica de manera única cada categoría de pasillo de víveres.\n",
    "    - `'department_id'`: número ID que identifica de manera única cada departamento de víveres.\n",
    "- `order_products.csv`: cada fila corresponde a un artículo pedido en un pedido.\n",
    "    - `'order_id'`: número de ID que identifica de manera única cada pedido.\n",
    "    - `'product_id'`: número ID que identifica de manera única cada producto.\n",
    "    - `'add_to_cart_order'`: el orden secuencial en el que se añadió cada artículo en el carrito.\n",
    "    - `'reordered'`: 0 si el cliente nunca ha pedido este producto antes, 1 si lo ha pedido.\n",
    "- `aisles.csv`\n",
    "    - `'aisle_id'`: número ID que identifica de manera única cada categoría de pasillo de víveres.\n",
    "    - `'aisle'`: nombre del pasillo.\n",
    "- `departments.csv`\n",
    "    - `'department_id'`: número ID que identifica de manera única cada departamento de víveres.\n",
    "    - `'department'`: nombre del departamento."
   ]
  },
  {
   "cell_type": "markdown",
   "id": "n3Ha_cNSZ8lK",
   "metadata": {
    "id": "n3Ha_cNSZ8lK"
   },
   "source": [
    "# Paso 1. Descripción de los datos\n",
    "\n",
    "Lee los archivos de datos (`/datasets/instacart_orders.csv`, `/datasets/products.csv`, `/datasets/aisles.csv`, `/datasets/departments.csv` y `/datasets/order_products.csv`) con `pd.read_csv()` usando los parámetros adecuados para leer los datos correctamente. Verifica la información para cada DataFrame creado.\n"
   ]
  },
  {
   "cell_type": "markdown",
   "id": "OmlQPLlyaAfR",
   "metadata": {
    "id": "OmlQPLlyaAfR"
   },
   "source": [
    "## Plan de solución\n",
    "\n",
    "Escribe aquí tu plan de solución para el Paso 1. Descripción de los datos.\n",
    "\n",
    "Primeramente procedemos a leer los archivos csv.\n",
    "Al verlos podemos observar que estan separados por \";\"\n",
    "Todos los archivos tenian el mismo separador, asi que tendremos que agragar el parametro sep= para que queden como queremos y sean faciles de leer.\n",
    "Adicionalmente a eso podemos ver algunos valores ausentes que debemos solucionar mas adelante."
   ]
  },
  {
   "cell_type": "code",
   "execution_count": 1,
   "id": "fbf1adab",
   "metadata": {
    "id": "fbf1adab"
   },
   "outputs": [],
   "source": [
    "# importar librerías\n",
    "import pandas as pd\n",
    "import numpy as np\n",
    "from matplotlib import pyplot as plt\n",
    "import seaborn as sns"
   ]
  },
  {
   "cell_type": "code",
   "execution_count": 2,
   "id": "ad36396d",
   "metadata": {
    "id": "ad36396d"
   },
   "outputs": [],
   "source": [
    "# leer conjuntos de datos en los DataFrames\n",
    "data_instacart_orders = pd.read_csv(\"/datasets/instacart_orders.csv\", sep=\";\")\n",
    "data_products = pd.read_csv(\"/datasets/products.csv\", sep=\";\")\n",
    "data_aisles = pd.read_csv(\"/datasets/aisles.csv\", sep=\";\")\n",
    "data_departaments = pd.read_csv(\"/datasets/departments.csv\", sep=\";\")\n",
    "data_orders_products = pd.read_csv(\"/datasets/order_products.csv\", sep=\";\")"
   ]
  },
  {
   "cell_type": "code",
   "execution_count": 3,
   "id": "ad6a1efa",
   "metadata": {
    "id": "ad6a1efa"
   },
   "outputs": [
    {
     "name": "stdout",
     "output_type": "stream",
     "text": [
      "<class 'pandas.core.frame.DataFrame'>\n",
      "RangeIndex: 478967 entries, 0 to 478966\n",
      "Data columns (total 6 columns):\n",
      " #   Column                  Non-Null Count   Dtype  \n",
      "---  ------                  --------------   -----  \n",
      " 0   order_id                478967 non-null  int64  \n",
      " 1   user_id                 478967 non-null  int64  \n",
      " 2   order_number            478967 non-null  int64  \n",
      " 3   order_dow               478967 non-null  int64  \n",
      " 4   order_hour_of_day       478967 non-null  int64  \n",
      " 5   days_since_prior_order  450148 non-null  float64\n",
      "dtypes: float64(1), int64(5)\n",
      "memory usage: 21.9 MB\n"
     ]
    }
   ],
   "source": [
    "# mostrar información del DataFrame\n",
    "data_instacart_orders.info()"
   ]
  },
  {
   "cell_type": "code",
   "execution_count": 4,
   "id": "5130e05e",
   "metadata": {
    "id": "5130e05e"
   },
   "outputs": [
    {
     "name": "stdout",
     "output_type": "stream",
     "text": [
      "<class 'pandas.core.frame.DataFrame'>\n",
      "RangeIndex: 49694 entries, 0 to 49693\n",
      "Data columns (total 4 columns):\n",
      " #   Column         Non-Null Count  Dtype \n",
      "---  ------         --------------  ----- \n",
      " 0   product_id     49694 non-null  int64 \n",
      " 1   product_name   48436 non-null  object\n",
      " 2   aisle_id       49694 non-null  int64 \n",
      " 3   department_id  49694 non-null  int64 \n",
      "dtypes: int64(3), object(1)\n",
      "memory usage: 1.5+ MB\n"
     ]
    }
   ],
   "source": [
    "# mostrar información del DataFrame\n",
    "data_products.info()"
   ]
  },
  {
   "cell_type": "code",
   "execution_count": 5,
   "id": "d8370c05",
   "metadata": {
    "id": "d8370c05"
   },
   "outputs": [
    {
     "name": "stdout",
     "output_type": "stream",
     "text": [
      "<class 'pandas.core.frame.DataFrame'>\n",
      "RangeIndex: 134 entries, 0 to 133\n",
      "Data columns (total 2 columns):\n",
      " #   Column    Non-Null Count  Dtype \n",
      "---  ------    --------------  ----- \n",
      " 0   aisle_id  134 non-null    int64 \n",
      " 1   aisle     134 non-null    object\n",
      "dtypes: int64(1), object(1)\n",
      "memory usage: 2.2+ KB\n"
     ]
    }
   ],
   "source": [
    "# mostrar información del DataFrame\n",
    "data_aisles.info()"
   ]
  },
  {
   "cell_type": "code",
   "execution_count": 6,
   "id": "59e2090f",
   "metadata": {
    "id": "59e2090f"
   },
   "outputs": [
    {
     "name": "stdout",
     "output_type": "stream",
     "text": [
      "<class 'pandas.core.frame.DataFrame'>\n",
      "RangeIndex: 21 entries, 0 to 20\n",
      "Data columns (total 2 columns):\n",
      " #   Column         Non-Null Count  Dtype \n",
      "---  ------         --------------  ----- \n",
      " 0   department_id  21 non-null     int64 \n",
      " 1   department     21 non-null     object\n",
      "dtypes: int64(1), object(1)\n",
      "memory usage: 464.0+ bytes\n"
     ]
    }
   ],
   "source": [
    "# mostrar información del DataFrame\n",
    "data_departaments.info()"
   ]
  },
  {
   "cell_type": "code",
   "execution_count": 7,
   "id": "6fc81694",
   "metadata": {
    "id": "6fc81694"
   },
   "outputs": [
    {
     "name": "stdout",
     "output_type": "stream",
     "text": [
      "<class 'pandas.core.frame.DataFrame'>\n",
      "RangeIndex: 4545007 entries, 0 to 4545006\n",
      "Data columns (total 4 columns):\n",
      " #   Column             Dtype  \n",
      "---  ------             -----  \n",
      " 0   order_id           int64  \n",
      " 1   product_id         int64  \n",
      " 2   add_to_cart_order  float64\n",
      " 3   reordered          int64  \n",
      "dtypes: float64(1), int64(3)\n",
      "memory usage: 138.7 MB\n"
     ]
    }
   ],
   "source": [
    "# mostrar información del DataFrame\n",
    "data_orders_products.info()"
   ]
  },
  {
   "cell_type": "markdown",
   "id": "t75BD19oaR5f",
   "metadata": {
    "id": "t75BD19oaR5f"
   },
   "source": [
    "## Conclusiones\n",
    "\n",
    "Escribe aquí tus conclusiones\n",
    "\n",
    "Luego de usar el parametro sep= en read_csv hemos podido vizualizar los datos de la forma adecuada.\n",
    "Hemos descubierto que en data_instacart_orders tenemos algunos valores ausentes en la fila llamada \"days_since_prior_order\"\n",
    "y en el conjunto de datos llamado data_orders_products parece que existe un problema ya que con info no me dice cuantos datos hay en cada fila a pesar de que indica que tiene 4545007 en total.\n"
   ]
  },
  {
   "cell_type": "markdown",
   "id": "8RJHqxVmaVsF",
   "metadata": {
    "id": "8RJHqxVmaVsF"
   },
   "source": [
    "# Paso 2. Preprocesamiento de los datos\n",
    "\n",
    "Preprocesa los datos de la siguiente manera:\n",
    "\n",
    "- Verifica y corrige los tipos de datos (por ejemplo, asegúrate de que las columnas de ID sean números enteros).\n",
    "- Identifica y completa los valores ausentes.\n",
    "- Identifica y elimina los valores duplicados.\n",
    "\n",
    "Asegúrate de explicar qué tipos de valores ausentes y duplicados encontraste, cómo los completaste o eliminaste y por qué usaste esos métodos. ¿Por qué crees que estos valores ausentes y duplicados pueden haber estado presentes en el conjunto de datos?"
   ]
  },
  {
   "cell_type": "markdown",
   "id": "p6poABZQaZYb",
   "metadata": {
    "id": "p6poABZQaZYb"
   },
   "source": [
    "## Plan de solución\n",
    "\n",
    "Escribe aquí tu plan para el Paso 2. Preprocesamiento de los datos.\n",
    "\n",
    "\n",
    "utilicé duplicated con sum para ver si habia valores duplicados y el resultado fue cero.\n"
   ]
  },
  {
   "cell_type": "markdown",
   "id": "07357848-dc64-4156-9cc3-01ff4365226d",
   "metadata": {
    "id": "07357848-dc64-4156-9cc3-01ff4365226d"
   },
   "source": [
    "## Encuentra y elimina los valores duplicados (y describe cómo tomaste tus decisiones)."
   ]
  },
  {
   "cell_type": "markdown",
   "id": "f179f0a9",
   "metadata": {
    "id": "f179f0a9"
   },
   "source": [
    "### `orders` data frame"
   ]
  },
  {
   "cell_type": "code",
   "execution_count": 8,
   "id": "b99297a5-405a-463d-8535-9adc3da4ad74",
   "metadata": {
    "id": "b99297a5-405a-463d-8535-9adc3da4ad74"
   },
   "outputs": [
    {
     "data": {
      "text/plain": [
       "15"
      ]
     },
     "execution_count": 8,
     "metadata": {},
     "output_type": "execute_result"
    }
   ],
   "source": [
    "# Revisa si hay pedidos duplicados\n",
    "data_instacart_orders.duplicated().sum()\n"
   ]
  },
  {
   "cell_type": "markdown",
   "id": "PEkwUX_gvt5A",
   "metadata": {
    "id": "PEkwUX_gvt5A"
   },
   "source": [
    "¿Tienes líneas duplicadas? Si sí, ¿qué tienen en común?\n",
    "\n",
    "Si habian duplicados y pudimos ver en el siguiente paso que todos los duplicados se encontraban entre la columna de \"order_dow\" y \"order_hour_of_day\" "
   ]
  },
  {
   "cell_type": "code",
   "execution_count": 9,
   "id": "0d44de5d",
   "metadata": {
    "id": "0d44de5d"
   },
   "outputs": [
    {
     "name": "stdout",
     "output_type": "stream",
     "text": [
      "15\n"
     ]
    },
    {
     "data": {
      "text/html": [
       "<div>\n",
       "<style scoped>\n",
       "    .dataframe tbody tr th:only-of-type {\n",
       "        vertical-align: middle;\n",
       "    }\n",
       "\n",
       "    .dataframe tbody tr th {\n",
       "        vertical-align: top;\n",
       "    }\n",
       "\n",
       "    .dataframe thead th {\n",
       "        text-align: right;\n",
       "    }\n",
       "</style>\n",
       "<table border=\"1\" class=\"dataframe\">\n",
       "  <thead>\n",
       "    <tr style=\"text-align: right;\">\n",
       "      <th></th>\n",
       "      <th>order_id</th>\n",
       "      <th>user_id</th>\n",
       "      <th>order_number</th>\n",
       "      <th>order_dow</th>\n",
       "      <th>order_hour_of_day</th>\n",
       "      <th>days_since_prior_order</th>\n",
       "    </tr>\n",
       "  </thead>\n",
       "  <tbody>\n",
       "    <tr>\n",
       "      <th>4838</th>\n",
       "      <td>2766110</td>\n",
       "      <td>162084</td>\n",
       "      <td>41</td>\n",
       "      <td>3</td>\n",
       "      <td>2</td>\n",
       "      <td>16.0</td>\n",
       "    </tr>\n",
       "    <tr>\n",
       "      <th>5156</th>\n",
       "      <td>2190225</td>\n",
       "      <td>138285</td>\n",
       "      <td>18</td>\n",
       "      <td>3</td>\n",
       "      <td>2</td>\n",
       "      <td>11.0</td>\n",
       "    </tr>\n",
       "    <tr>\n",
       "      <th>15506</th>\n",
       "      <td>553049</td>\n",
       "      <td>58599</td>\n",
       "      <td>13</td>\n",
       "      <td>3</td>\n",
       "      <td>2</td>\n",
       "      <td>7.0</td>\n",
       "    </tr>\n",
       "    <tr>\n",
       "      <th>18420</th>\n",
       "      <td>382357</td>\n",
       "      <td>120200</td>\n",
       "      <td>19</td>\n",
       "      <td>3</td>\n",
       "      <td>2</td>\n",
       "      <td>11.0</td>\n",
       "    </tr>\n",
       "    <tr>\n",
       "      <th>24691</th>\n",
       "      <td>690242</td>\n",
       "      <td>77357</td>\n",
       "      <td>2</td>\n",
       "      <td>3</td>\n",
       "      <td>2</td>\n",
       "      <td>9.0</td>\n",
       "    </tr>\n",
       "    <tr>\n",
       "      <th>...</th>\n",
       "      <td>...</td>\n",
       "      <td>...</td>\n",
       "      <td>...</td>\n",
       "      <td>...</td>\n",
       "      <td>...</td>\n",
       "      <td>...</td>\n",
       "    </tr>\n",
       "    <tr>\n",
       "      <th>457013</th>\n",
       "      <td>3384021</td>\n",
       "      <td>14881</td>\n",
       "      <td>6</td>\n",
       "      <td>3</td>\n",
       "      <td>2</td>\n",
       "      <td>30.0</td>\n",
       "    </tr>\n",
       "    <tr>\n",
       "      <th>458816</th>\n",
       "      <td>910166</td>\n",
       "      <td>164782</td>\n",
       "      <td>18</td>\n",
       "      <td>3</td>\n",
       "      <td>2</td>\n",
       "      <td>4.0</td>\n",
       "    </tr>\n",
       "    <tr>\n",
       "      <th>459635</th>\n",
       "      <td>1680532</td>\n",
       "      <td>106435</td>\n",
       "      <td>6</td>\n",
       "      <td>3</td>\n",
       "      <td>2</td>\n",
       "      <td>21.0</td>\n",
       "    </tr>\n",
       "    <tr>\n",
       "      <th>468324</th>\n",
       "      <td>222962</td>\n",
       "      <td>54979</td>\n",
       "      <td>59</td>\n",
       "      <td>3</td>\n",
       "      <td>2</td>\n",
       "      <td>3.0</td>\n",
       "    </tr>\n",
       "    <tr>\n",
       "      <th>477526</th>\n",
       "      <td>2592344</td>\n",
       "      <td>46860</td>\n",
       "      <td>38</td>\n",
       "      <td>3</td>\n",
       "      <td>2</td>\n",
       "      <td>3.0</td>\n",
       "    </tr>\n",
       "  </tbody>\n",
       "</table>\n",
       "<p>121 rows × 6 columns</p>\n",
       "</div>"
      ],
      "text/plain": [
       "        order_id  user_id  order_number  order_dow  order_hour_of_day  \\\n",
       "4838     2766110   162084            41          3                  2   \n",
       "5156     2190225   138285            18          3                  2   \n",
       "15506     553049    58599            13          3                  2   \n",
       "18420     382357   120200            19          3                  2   \n",
       "24691     690242    77357             2          3                  2   \n",
       "...          ...      ...           ...        ...                ...   \n",
       "457013   3384021    14881             6          3                  2   \n",
       "458816    910166   164782            18          3                  2   \n",
       "459635   1680532   106435             6          3                  2   \n",
       "468324    222962    54979            59          3                  2   \n",
       "477526   2592344    46860            38          3                  2   \n",
       "\n",
       "        days_since_prior_order  \n",
       "4838                      16.0  \n",
       "5156                      11.0  \n",
       "15506                      7.0  \n",
       "18420                     11.0  \n",
       "24691                      9.0  \n",
       "...                        ...  \n",
       "457013                    30.0  \n",
       "458816                     4.0  \n",
       "459635                    21.0  \n",
       "468324                     3.0  \n",
       "477526                     3.0  \n",
       "\n",
       "[121 rows x 6 columns]"
      ]
     },
     "execution_count": 9,
     "metadata": {},
     "output_type": "execute_result"
    }
   ],
   "source": [
    "# Basándote en tus hallazgos,\n",
    "# Verifica todos los pedidos que se hicieron el miércoles a las 2:00 a.m.\n",
    "print(data_instacart_orders[(data_instacart_orders[\"order_dow\"] == 3) & (data_instacart_orders[\"order_hour_of_day\"] == 2)].duplicated().sum())\n",
    "data_instacart_orders[(data_instacart_orders[\"order_dow\"] == 3) & (data_instacart_orders[\"order_hour_of_day\"] == 2)]"
   ]
  },
  {
   "cell_type": "markdown",
   "id": "vu2OWyoqwOx5",
   "metadata": {
    "id": "vu2OWyoqwOx5"
   },
   "source": [
    "¿Qué sugiere este resultado?\n",
    "\n",
    "Luego de filtrar por dia y por hora nos damos cuenta de que los duplicados se encuentran dentro de este rango(dia miercoles, hora 2am)."
   ]
  },
  {
   "cell_type": "code",
   "execution_count": 10,
   "id": "480563c7",
   "metadata": {
    "id": "480563c7"
   },
   "outputs": [],
   "source": [
    "# Elimina los pedidos duplicados\n",
    "dt_insta_orders = data_instacart_orders.drop_duplicates().reset_index(drop\n",
    "= True)"
   ]
  },
  {
   "cell_type": "code",
   "execution_count": 11,
   "id": "0b2396a2",
   "metadata": {
    "id": "0b2396a2"
   },
   "outputs": [
    {
     "data": {
      "text/plain": [
       "0"
      ]
     },
     "execution_count": 11,
     "metadata": {},
     "output_type": "execute_result"
    }
   ],
   "source": [
    "# Vuelve a verificar si hay filas duplicadas\n",
    "dt_insta_orders.duplicated().sum()"
   ]
  },
  {
   "cell_type": "code",
   "execution_count": 12,
   "id": "f6113ef1",
   "metadata": {
    "id": "f6113ef1"
   },
   "outputs": [
    {
     "data": {
      "text/plain": [
       "0"
      ]
     },
     "execution_count": 12,
     "metadata": {},
     "output_type": "execute_result"
    }
   ],
   "source": [
    "# Vuelve a verificar únicamente si hay IDs duplicados de pedidos\n",
    "dt_insta_orders[\"order_id\"].duplicated().sum()\n",
    "\n"
   ]
  },
  {
   "cell_type": "markdown",
   "id": "5e8905ae",
   "metadata": {
    "id": "5e8905ae"
   },
   "source": [
    "Describe brevemente tus hallazgos y lo que hiciste con ellos\n",
    "\n",
    "Hasta ahora hemos encontrado que el csv estaba separado por \";\" y que tenia algunos valores duplicados.\n",
    "Solucionamos estos errores con el metodo sep=, con duplicated.sum() para buscar los duplicados y con drop_duplicates() para eliminar los duplicados encontrados.\n"
   ]
  },
  {
   "cell_type": "markdown",
   "id": "45e6bc46",
   "metadata": {
    "id": "45e6bc46"
   },
   "source": [
    "### `products` data frame"
   ]
  },
  {
   "cell_type": "code",
   "execution_count": 13,
   "id": "5f526b5b-8175-46fa-a0fd-441767d50e64",
   "metadata": {
    "id": "5f526b5b-8175-46fa-a0fd-441767d50e64"
   },
   "outputs": [
    {
     "data": {
      "text/plain": [
       "0"
      ]
     },
     "execution_count": 13,
     "metadata": {},
     "output_type": "execute_result"
    }
   ],
   "source": [
    "# Verifica si hay filas totalmente duplicadas\n",
    "data_products.duplicated().sum()"
   ]
  },
  {
   "cell_type": "code",
   "execution_count": 14,
   "id": "88daa4f4",
   "metadata": {
    "id": "88daa4f4"
   },
   "outputs": [
    {
     "data": {
      "text/plain": [
       "0"
      ]
     },
     "execution_count": 14,
     "metadata": {},
     "output_type": "execute_result"
    }
   ],
   "source": [
    "# Verifica únicamente si hay IDs duplicadas de productos\n",
    "data_products[\"product_id\"].duplicated().sum()"
   ]
  },
  {
   "cell_type": "code",
   "execution_count": 15,
   "id": "c773f0bf",
   "metadata": {
    "id": "c773f0bf"
   },
   "outputs": [
    {
     "data": {
      "text/plain": [
       "1361"
      ]
     },
     "execution_count": 15,
     "metadata": {},
     "output_type": "execute_result"
    }
   ],
   "source": [
    "# Revisa únicamente si hay nombres duplicados de productos (convierte los nombres a letras mayúsculas para compararlos mejor)\n",
    "data_products[\"product_name_upper\"] = data_products[\"product_name\"].str.upper()\n",
    "data_products[\"product_name_upper\"].duplicated().sum()"
   ]
  },
  {
   "cell_type": "code",
   "execution_count": 16,
   "id": "01efd02e",
   "metadata": {
    "id": "01efd02e"
   },
   "outputs": [
    {
     "data": {
      "text/plain": [
       "104"
      ]
     },
     "execution_count": 16,
     "metadata": {},
     "output_type": "execute_result"
    }
   ],
   "source": [
    "# Revisa si hay nombres duplicados de productos no faltantes\n",
    "data_products[\"product_name_upper\"].dropna().duplicated().sum()"
   ]
  },
  {
   "cell_type": "markdown",
   "id": "9da8d293",
   "metadata": {
    "id": "9da8d293"
   },
   "source": [
    "Describe brevemente tus hallazgos y lo que hiciste con ellos.\n",
    "\n",
    "A pesar de que vemos que no hay duplicados cuando aplicamos el duplicated al dataframe completo, si revisamos la columna product_name, encontramos 1361 duplicados. al parecer 104 son valores ausentes.\n"
   ]
  },
  {
   "cell_type": "markdown",
   "id": "60f30db1",
   "metadata": {
    "id": "60f30db1"
   },
   "source": [
    "### `departments` data frame"
   ]
  },
  {
   "cell_type": "code",
   "execution_count": 17,
   "id": "fb410ad4-0fbf-4b80-bb09-23fdea79afe3",
   "metadata": {
    "id": "fb410ad4-0fbf-4b80-bb09-23fdea79afe3"
   },
   "outputs": [
    {
     "data": {
      "text/plain": [
       "0"
      ]
     },
     "execution_count": 17,
     "metadata": {},
     "output_type": "execute_result"
    }
   ],
   "source": [
    "# Revisa si hay filas totalmente duplicadas\n",
    "data_departaments.duplicated().sum()"
   ]
  },
  {
   "cell_type": "code",
   "execution_count": 18,
   "id": "332b12bb",
   "metadata": {
    "id": "332b12bb"
   },
   "outputs": [
    {
     "data": {
      "text/plain": [
       "0"
      ]
     },
     "execution_count": 18,
     "metadata": {},
     "output_type": "execute_result"
    }
   ],
   "source": [
    "# Revisa únicamente si hay IDs duplicadas de productos\n",
    "data_departaments[\"department_id\"].duplicated().sum()"
   ]
  },
  {
   "cell_type": "markdown",
   "id": "bd30d78e",
   "metadata": {
    "id": "bd30d78e"
   },
   "source": [
    "Describe brevemente tus hallazgos y lo que hiciste con ellos.\n",
    "\n",
    "En este dataframe no hemos encontrado duplicados."
   ]
  },
  {
   "cell_type": "markdown",
   "id": "889349c1",
   "metadata": {
    "id": "889349c1"
   },
   "source": [
    "### `aisles` data frame"
   ]
  },
  {
   "cell_type": "code",
   "execution_count": 19,
   "id": "9da89fb9-4679-40f5-ad0d-c34df753a3f8",
   "metadata": {
    "id": "9da89fb9-4679-40f5-ad0d-c34df753a3f8"
   },
   "outputs": [
    {
     "data": {
      "text/plain": [
       "0"
      ]
     },
     "execution_count": 19,
     "metadata": {},
     "output_type": "execute_result"
    }
   ],
   "source": [
    "# Revisa si hay filas totalmente duplicadas\n",
    "data_aisles.duplicated().sum()"
   ]
  },
  {
   "cell_type": "code",
   "execution_count": 20,
   "id": "da7c2822",
   "metadata": {
    "id": "da7c2822"
   },
   "outputs": [
    {
     "data": {
      "text/plain": [
       "0"
      ]
     },
     "execution_count": 20,
     "metadata": {},
     "output_type": "execute_result"
    }
   ],
   "source": [
    "# Revisa únicamente si hay IDs duplicadas de productos\n",
    "data_aisles[\"aisle_id\"].duplicated().sum()"
   ]
  },
  {
   "cell_type": "markdown",
   "id": "ac63826f",
   "metadata": {
    "id": "ac63826f"
   },
   "source": [
    "Describe brevemente tus hallazgos y lo que hiciste con ellos.\n",
    "\n",
    "No hemos encontrado valores duplicados en este DataFrame"
   ]
  },
  {
   "cell_type": "markdown",
   "id": "274cd06a",
   "metadata": {
    "id": "274cd06a"
   },
   "source": [
    "### `order_products` data frame"
   ]
  },
  {
   "cell_type": "code",
   "execution_count": 21,
   "id": "52326689-84a8-4b8f-a881-7c68780f62c9",
   "metadata": {
    "id": "52326689-84a8-4b8f-a881-7c68780f62c9"
   },
   "outputs": [
    {
     "data": {
      "text/plain": [
       "0"
      ]
     },
     "execution_count": 21,
     "metadata": {},
     "output_type": "execute_result"
    }
   ],
   "source": [
    "# Revisa si hay filas totalmente duplicadas\n",
    "data_orders_products.duplicated().sum()"
   ]
  },
  {
   "cell_type": "code",
   "execution_count": 22,
   "id": "7b861391",
   "metadata": {
    "id": "7b861391"
   },
   "outputs": [
    {
     "name": "stdout",
     "output_type": "stream",
     "text": [
      "valores duplicados de order_id: 4094961\n",
      "valores duplicados de product_id: 4499434\n",
      "valores duplicados de add_to_cart_order: 4544942\n",
      "valores duplicados de reordered: 4545005\n",
      " \n",
      "Valores ausentes en la columna order_id: 0\n",
      "Valores ausentes en la columna product_id: 0\n"
     ]
    }
   ],
   "source": [
    "# Vuelve a verificar si hay cualquier otro duplicado engañoso\n",
    "print(\"valores duplicados de order_id:\", data_orders_products[\"order_id\"].duplicated().sum())\n",
    "print(\"valores duplicados de product_id:\", data_orders_products[\"product_id\"].duplicated().sum())\n",
    "print(\"valores duplicados de add_to_cart_order:\", data_orders_products[\"add_to_cart_order\"].duplicated().sum())\n",
    "print(\"valores duplicados de reordered:\", data_orders_products[\"reordered\"].duplicated().sum())\n",
    "print(\" \")\n",
    "print(\"Valores ausentes en la columna order_id:\", data_orders_products[\"order_id\"].isna().sum())\n",
    "print(\"Valores ausentes en la columna product_id:\", data_orders_products[\"product_id\"].isna().sum())\n"
   ]
  },
  {
   "cell_type": "markdown",
   "id": "0b890492",
   "metadata": {
    "id": "0b890492"
   },
   "source": [
    "Describe brevemente tus hallazgos y lo que hiciste con ellos.\n",
    "\n",
    "En este caso cuando ejecutamos el duplicated al DataFrame completo nos dice que no tiene duplicados, sin embargo, cuando lo aplicamos fila por fila aparecen muchisimos duplicados.\n",
    "En las filas de add_to_cart_order y reordered es aceptable que esto ocurra, pero en las columnas de id no deberia pasar debido a que se supone que son valores unicos para identificar la orden o el producto.\n",
    "Hicimos una verificacion extra para ver si estos datos repetidos se debian a valores ausentes pero el resultado ha sido cero."
   ]
  },
  {
   "cell_type": "markdown",
   "id": "1e46de76",
   "metadata": {
    "id": "1e46de76"
   },
   "source": [
    "## Encuentra y elimina los valores ausentes\n",
    "\n",
    "Al trabajar con valores duplicados, pudimos observar que también nos falta investigar valores ausentes:\n",
    "\n",
    "* La columna `'product_name'` de la tabla products.\n",
    "* La columna `'days_since_prior_order'` de la tabla orders.\n",
    "* La columna `'add_to_cart_order'` de la tabla order_productos."
   ]
  },
  {
   "cell_type": "markdown",
   "id": "c0aebd78",
   "metadata": {
    "id": "c0aebd78"
   },
   "source": [
    "### `products` data frame"
   ]
  },
  {
   "cell_type": "code",
   "execution_count": 23,
   "id": "fe4a8b0f",
   "metadata": {
    "id": "fe4a8b0f"
   },
   "outputs": [
    {
     "data": {
      "text/plain": [
       "1258"
      ]
     },
     "execution_count": 23,
     "metadata": {},
     "output_type": "execute_result"
    }
   ],
   "source": [
    "# Encuentra los valores ausentes en la columna 'product_name'\n",
    "data_products[\"product_name_upper\"].isna().sum()"
   ]
  },
  {
   "cell_type": "markdown",
   "id": "-A6x1AbJhjkp",
   "metadata": {
    "id": "-A6x1AbJhjkp"
   },
   "source": [
    "Describe brevemente cuáles son tus hallazgos.\n",
    "\n",
    "se han encontrado 1258 valores ausentes en la columna product_name"
   ]
  },
  {
   "cell_type": "code",
   "execution_count": 24,
   "id": "e96167bc",
   "metadata": {
    "id": "e96167bc"
   },
   "outputs": [
    {
     "data": {
      "text/plain": [
       "0"
      ]
     },
     "execution_count": 24,
     "metadata": {},
     "output_type": "execute_result"
    }
   ],
   "source": [
    "#  ¿Todos los nombres de productos ausentes están relacionados con el pasillo con ID 100?\n",
    "(data_products[\"aisle_id\"] == 100).isna().sum()"
   ]
  },
  {
   "cell_type": "markdown",
   "id": "WRpIfXRphpSL",
   "metadata": {
    "id": "WRpIfXRphpSL"
   },
   "source": [
    "Describe brevemente cuáles son tus hallazgos.\n",
    "Aparentemente los valores ausentes no estan relacionados con el pasillo de ID 100"
   ]
  },
  {
   "cell_type": "code",
   "execution_count": 25,
   "id": "8fd0a541",
   "metadata": {
    "id": "8fd0a541"
   },
   "outputs": [
    {
     "data": {
      "text/plain": [
       "0"
      ]
     },
     "execution_count": 25,
     "metadata": {},
     "output_type": "execute_result"
    }
   ],
   "source": [
    "# ¿Todos los nombres de productos ausentes están relacionados con el departamento con ID 21?\n",
    "(data_products[\"department_id\"] == 21).isna().sum()"
   ]
  },
  {
   "cell_type": "markdown",
   "id": "qDpdYn1Fht_I",
   "metadata": {
    "id": "qDpdYn1Fht_I"
   },
   "source": [
    "Describe brevemente cuáles son tus hallazgos.\n",
    "Aparentemente no estan relacionados con el departamento con ID 21"
   ]
  },
  {
   "cell_type": "code",
   "execution_count": 26,
   "id": "325c3464",
   "metadata": {
    "id": "325c3464"
   },
   "outputs": [
    {
     "data": {
      "text/html": [
       "<div>\n",
       "<style scoped>\n",
       "    .dataframe tbody tr th:only-of-type {\n",
       "        vertical-align: middle;\n",
       "    }\n",
       "\n",
       "    .dataframe tbody tr th {\n",
       "        vertical-align: top;\n",
       "    }\n",
       "\n",
       "    .dataframe thead th {\n",
       "        text-align: right;\n",
       "    }\n",
       "</style>\n",
       "<table border=\"1\" class=\"dataframe\">\n",
       "  <thead>\n",
       "    <tr style=\"text-align: right;\">\n",
       "      <th></th>\n",
       "      <th>product_id</th>\n",
       "      <th>product_name</th>\n",
       "      <th>aisle_id</th>\n",
       "      <th>department_id</th>\n",
       "      <th>product_name_upper</th>\n",
       "    </tr>\n",
       "  </thead>\n",
       "  <tbody>\n",
       "    <tr>\n",
       "      <th>37</th>\n",
       "      <td>38</td>\n",
       "      <td>NaN</td>\n",
       "      <td>100</td>\n",
       "      <td>21</td>\n",
       "      <td>NaN</td>\n",
       "    </tr>\n",
       "    <tr>\n",
       "      <th>71</th>\n",
       "      <td>72</td>\n",
       "      <td>NaN</td>\n",
       "      <td>100</td>\n",
       "      <td>21</td>\n",
       "      <td>NaN</td>\n",
       "    </tr>\n",
       "    <tr>\n",
       "      <th>109</th>\n",
       "      <td>110</td>\n",
       "      <td>NaN</td>\n",
       "      <td>100</td>\n",
       "      <td>21</td>\n",
       "      <td>NaN</td>\n",
       "    </tr>\n",
       "    <tr>\n",
       "      <th>296</th>\n",
       "      <td>297</td>\n",
       "      <td>NaN</td>\n",
       "      <td>100</td>\n",
       "      <td>21</td>\n",
       "      <td>NaN</td>\n",
       "    </tr>\n",
       "    <tr>\n",
       "      <th>416</th>\n",
       "      <td>417</td>\n",
       "      <td>NaN</td>\n",
       "      <td>100</td>\n",
       "      <td>21</td>\n",
       "      <td>NaN</td>\n",
       "    </tr>\n",
       "    <tr>\n",
       "      <th>...</th>\n",
       "      <td>...</td>\n",
       "      <td>...</td>\n",
       "      <td>...</td>\n",
       "      <td>...</td>\n",
       "      <td>...</td>\n",
       "    </tr>\n",
       "    <tr>\n",
       "      <th>49552</th>\n",
       "      <td>49553</td>\n",
       "      <td>NaN</td>\n",
       "      <td>100</td>\n",
       "      <td>21</td>\n",
       "      <td>NaN</td>\n",
       "    </tr>\n",
       "    <tr>\n",
       "      <th>49574</th>\n",
       "      <td>49575</td>\n",
       "      <td>NaN</td>\n",
       "      <td>100</td>\n",
       "      <td>21</td>\n",
       "      <td>NaN</td>\n",
       "    </tr>\n",
       "    <tr>\n",
       "      <th>49640</th>\n",
       "      <td>49641</td>\n",
       "      <td>NaN</td>\n",
       "      <td>100</td>\n",
       "      <td>21</td>\n",
       "      <td>NaN</td>\n",
       "    </tr>\n",
       "    <tr>\n",
       "      <th>49663</th>\n",
       "      <td>49664</td>\n",
       "      <td>NaN</td>\n",
       "      <td>100</td>\n",
       "      <td>21</td>\n",
       "      <td>NaN</td>\n",
       "    </tr>\n",
       "    <tr>\n",
       "      <th>49668</th>\n",
       "      <td>49669</td>\n",
       "      <td>NaN</td>\n",
       "      <td>100</td>\n",
       "      <td>21</td>\n",
       "      <td>NaN</td>\n",
       "    </tr>\n",
       "  </tbody>\n",
       "</table>\n",
       "<p>1258 rows × 5 columns</p>\n",
       "</div>"
      ],
      "text/plain": [
       "       product_id product_name  aisle_id  department_id product_name_upper\n",
       "37             38          NaN       100             21                NaN\n",
       "71             72          NaN       100             21                NaN\n",
       "109           110          NaN       100             21                NaN\n",
       "296           297          NaN       100             21                NaN\n",
       "416           417          NaN       100             21                NaN\n",
       "...           ...          ...       ...            ...                ...\n",
       "49552       49553          NaN       100             21                NaN\n",
       "49574       49575          NaN       100             21                NaN\n",
       "49640       49641          NaN       100             21                NaN\n",
       "49663       49664          NaN       100             21                NaN\n",
       "49668       49669          NaN       100             21                NaN\n",
       "\n",
       "[1258 rows x 5 columns]"
      ]
     },
     "execution_count": 26,
     "metadata": {},
     "output_type": "execute_result"
    }
   ],
   "source": [
    "# Usa las tablas department y aisle para revisar los datos del pasillo con ID 100 y el departamento con ID 21.\n",
    "data_products[(data_products[\"department_id\"] == 21) & (data_products[\"aisle_id\"] == 100)]"
   ]
  },
  {
   "cell_type": "markdown",
   "id": "nqhSTUPhhvEJ",
   "metadata": {
    "id": "nqhSTUPhhvEJ"
   },
   "source": [
    "Describe brevemente cuáles son tus hallazgos.\n",
    "\n",
    "En este caso podemos ver claramente que los valores ausentes efectivamente pertenecen a la columna product_name y estan relacionados con el pasillo 100 y el departamento 21"
   ]
  },
  {
   "cell_type": "code",
   "execution_count": 27,
   "id": "6b295120",
   "metadata": {
    "id": "6b295120"
   },
   "outputs": [
    {
     "data": {
      "text/plain": [
       "0"
      ]
     },
     "execution_count": 27,
     "metadata": {},
     "output_type": "execute_result"
    }
   ],
   "source": [
    "# Completa los nombres de productos ausentes con 'Unknown'\n",
    "data_products[\"product_name_upper\"] = data_products[\"product_name_upper\"].fillna(\"UNKNOWN\")\n",
    "data_products[\"product_name_upper\"].isna().sum()"
   ]
  },
  {
   "cell_type": "markdown",
   "id": "fc70e5ad",
   "metadata": {
    "id": "fc70e5ad"
   },
   "source": [
    "Describe brevemente tus hallazgos y lo que hiciste con ellos.\n",
    "\n",
    "Hemos hecho varias busquedas hasta encontrar que los valores ausentes estaban relacionados con el pasillo de ID 100 y el departamento con ID 21. \n",
    "Usamos el metodo fillna() para sustituir los valores ausentes encontrados y hemos verificado nuevamente si efectibamente fueron eliminados los valores ausentes."
   ]
  },
  {
   "cell_type": "markdown",
   "id": "7eb45c86",
   "metadata": {
    "id": "7eb45c86"
   },
   "source": [
    "### `orders` data frame"
   ]
  },
  {
   "cell_type": "code",
   "execution_count": 28,
   "id": "93e41d96",
   "metadata": {
    "id": "93e41d96"
   },
   "outputs": [
    {
     "data": {
      "text/plain": [
       "order_id                      0\n",
       "user_id                       0\n",
       "order_number                  0\n",
       "order_dow                     0\n",
       "order_hour_of_day             0\n",
       "days_since_prior_order    28817\n",
       "dtype: int64"
      ]
     },
     "execution_count": 28,
     "metadata": {},
     "output_type": "execute_result"
    }
   ],
   "source": [
    "# Encuentra los valores ausentes\n",
    "dt_insta_orders.isna().sum()"
   ]
  },
  {
   "cell_type": "code",
   "execution_count": 29,
   "id": "166e5a86",
   "metadata": {
    "id": "166e5a86"
   },
   "outputs": [
    {
     "name": "stdout",
     "output_type": "stream",
     "text": [
      "days_since_prior_order    0.0\n",
      "order_id                  0.0\n",
      "dtype: float64\n"
     ]
    }
   ],
   "source": [
    "# ¿Hay algún valor ausente que no sea el primer pedido del cliente?\n",
    "print(dt_insta_orders.query(\"order_id == 1\")[[\"days_since_prior_order\", \"order_id\"]].isna().sum())"
   ]
  },
  {
   "cell_type": "markdown",
   "id": "4e23d089",
   "metadata": {
    "id": "4e23d089"
   },
   "source": [
    "Describe brevemente tus hallazgos y lo que hiciste con ellos.\n",
    "\n",
    "Encontramos valores ausentes en la columna days_since_prior_order. luego verificamos si habia valores ausentes que no sean el primer pedido de cliente siendo el resultado cero. Quiere decir esto que ninguno de los valores ausentes es del primer pedido del cliente."
   ]
  },
  {
   "cell_type": "markdown",
   "id": "69dc9ca4",
   "metadata": {
    "id": "69dc9ca4"
   },
   "source": [
    "### `order_products` data frame"
   ]
  },
  {
   "cell_type": "code",
   "execution_count": 30,
   "id": "b8240253",
   "metadata": {
    "id": "b8240253"
   },
   "outputs": [
    {
     "data": {
      "text/plain": [
       "order_id               0\n",
       "product_id             0\n",
       "add_to_cart_order    836\n",
       "reordered              0\n",
       "dtype: int64"
      ]
     },
     "execution_count": 30,
     "metadata": {},
     "output_type": "execute_result"
    }
   ],
   "source": [
    "# Encuentra los valores ausentes\n",
    "data_orders_products.isna().sum()"
   ]
  },
  {
   "cell_type": "code",
   "execution_count": 31,
   "id": "9a78e5ee",
   "metadata": {
    "id": "9a78e5ee"
   },
   "outputs": [
    {
     "name": "stdout",
     "output_type": "stream",
     "text": [
      "valor minimo: 1.0\n",
      "valor maximo: 64.0\n"
     ]
    }
   ],
   "source": [
    "# ¿Cuáles son los valores mínimos y máximos en esta columna?\n",
    "print(\"valor minimo:\", data_orders_products[\"add_to_cart_order\"].min())\n",
    "print(\"valor maximo:\", data_orders_products[\"add_to_cart_order\"].max())"
   ]
  },
  {
   "cell_type": "markdown",
   "id": "-Z2Ja215jW78",
   "metadata": {
    "id": "-Z2Ja215jW78"
   },
   "source": [
    "Describe brevemente cuáles son tus hallazgos.\n",
    "\n",
    "tenemos valores ausentes en la columna add_to_cart_order y los valores minimos y maximos de esta columna son 1.0 y 64.0 respectivamente."
   ]
  },
  {
   "cell_type": "code",
   "execution_count": 32,
   "id": "ab9d0c2b",
   "metadata": {
    "id": "ab9d0c2b"
   },
   "outputs": [
    {
     "data": {
      "text/plain": [
       "[2449164,\n",
       " 1968313,\n",
       " 2926893,\n",
       " 1717990,\n",
       " 1959075,\n",
       " 844733,\n",
       " 61355,\n",
       " 936852,\n",
       " 264710,\n",
       " 1717990,\n",
       " 1564093,\n",
       " 129627,\n",
       " 264710,\n",
       " 293169,\n",
       " 2849370,\n",
       " 1386261,\n",
       " 3308010,\n",
       " 903110,\n",
       " 2136777,\n",
       " 3347453,\n",
       " 1888628,\n",
       " 165801,\n",
       " 2449164,\n",
       " 2094761,\n",
       " 3347453,\n",
       " 1038146,\n",
       " 2136777,\n",
       " 2997021,\n",
       " 844733,\n",
       " 844733,\n",
       " 2136777,\n",
       " 813364,\n",
       " 165801,\n",
       " 2256933,\n",
       " 171934,\n",
       " 264710,\n",
       " 2449164,\n",
       " 2409109,\n",
       " 3347453,\n",
       " 813364,\n",
       " 2926893,\n",
       " 936852,\n",
       " 1730767,\n",
       " 1169835,\n",
       " 733526,\n",
       " 844733,\n",
       " 293169,\n",
       " 61355,\n",
       " 903110,\n",
       " 1968313,\n",
       " 733526,\n",
       " 2136777,\n",
       " 2926893,\n",
       " 404157,\n",
       " 1386261,\n",
       " 171934,\n",
       " 3125735,\n",
       " 747668,\n",
       " 3308010,\n",
       " 1169835,\n",
       " 1800005,\n",
       " 1961723,\n",
       " 936852,\n",
       " 2849370,\n",
       " 3308010,\n",
       " 61355,\n",
       " 871281,\n",
       " 1717990,\n",
       " 813364,\n",
       " 388234,\n",
       " 61355,\n",
       " 3125735,\n",
       " 1959075,\n",
       " 61355,\n",
       " 3125735,\n",
       " 1648217,\n",
       " 171934,\n",
       " 3125735,\n",
       " 61355,\n",
       " 1477139,\n",
       " 1959075,\n",
       " 1717990,\n",
       " 1717990,\n",
       " 61355,\n",
       " 1717990,\n",
       " 171934,\n",
       " 1038146,\n",
       " 3308010,\n",
       " 3347453,\n",
       " 102236,\n",
       " 936852,\n",
       " 171934,\n",
       " 1730767,\n",
       " 2926893,\n",
       " 1021563,\n",
       " 1832957,\n",
       " 1959075,\n",
       " 2256933,\n",
       " 1968313,\n",
       " 2721963,\n",
       " 293169,\n",
       " 102236,\n",
       " 3125735,\n",
       " 1959075,\n",
       " 264710,\n",
       " 678116,\n",
       " 1220886,\n",
       " 1386261,\n",
       " 171934,\n",
       " 1959075,\n",
       " 61355,\n",
       " 3308010,\n",
       " 61355,\n",
       " 102236,\n",
       " 388234,\n",
       " 171934,\n",
       " 3308010,\n",
       " 1961723,\n",
       " 2721963,\n",
       " 3308010,\n",
       " 1564093,\n",
       " 264710,\n",
       " 404157,\n",
       " 1673227,\n",
       " 813364,\n",
       " 2094761,\n",
       " 844733,\n",
       " 1386261,\n",
       " 1959075,\n",
       " 3125735,\n",
       " 61355,\n",
       " 102236,\n",
       " 3308010,\n",
       " 1386261,\n",
       " 936852,\n",
       " 2999801,\n",
       " 1038146,\n",
       " 1888628,\n",
       " 813364,\n",
       " 1800005,\n",
       " 1968313,\n",
       " 3308010,\n",
       " 2449164,\n",
       " 388234,\n",
       " 3125735,\n",
       " 102236,\n",
       " 903110,\n",
       " 1832957,\n",
       " 102236,\n",
       " 3308010,\n",
       " 2926893,\n",
       " 388234,\n",
       " 1800005,\n",
       " 2094761,\n",
       " 2721963,\n",
       " 844733,\n",
       " 2136777,\n",
       " 2926893,\n",
       " 813364,\n",
       " 2136777,\n",
       " 1673227,\n",
       " 1633337,\n",
       " 1021563,\n",
       " 102236,\n",
       " 1800005,\n",
       " 1477139,\n",
       " 2470674,\n",
       " 1220886,\n",
       " 2470674,\n",
       " 1648217,\n",
       " 264710,\n",
       " 1832957,\n",
       " 2721963,\n",
       " 2849370,\n",
       " 2625444,\n",
       " 871281,\n",
       " 1717990,\n",
       " 1220886,\n",
       " 1677118,\n",
       " 1730767,\n",
       " 1730767,\n",
       " 678116,\n",
       " 102236,\n",
       " 2136777,\n",
       " 61355,\n",
       " 2136777,\n",
       " 903110,\n",
       " 844733,\n",
       " 2849370,\n",
       " 1832957,\n",
       " 1730767,\n",
       " 2479011,\n",
       " 3383594,\n",
       " 61355,\n",
       " 1832957,\n",
       " 1021563,\n",
       " 1021563,\n",
       " 1959075,\n",
       " 1832957,\n",
       " 813364,\n",
       " 61355,\n",
       " 61355,\n",
       " 2926893,\n",
       " 1959075,\n",
       " 1648217,\n",
       " 2136777,\n",
       " 264710,\n",
       " 1800005,\n",
       " 2094761,\n",
       " 2926893,\n",
       " 1959075,\n",
       " 264710,\n",
       " 61355,\n",
       " 3308010,\n",
       " 2256933,\n",
       " 936852,\n",
       " 3308010,\n",
       " 1038146,\n",
       " 1183255,\n",
       " 2256933,\n",
       " 1832957,\n",
       " 1386261,\n",
       " 1713430,\n",
       " 1730767,\n",
       " 2136777,\n",
       " 3308010,\n",
       " 1717990,\n",
       " 171934,\n",
       " 1968313,\n",
       " 1717990,\n",
       " 2136777,\n",
       " 1648217,\n",
       " 1968313,\n",
       " 2652650,\n",
       " 733526,\n",
       " 1673227,\n",
       " 2849370,\n",
       " 61355,\n",
       " 3308010,\n",
       " 1169835,\n",
       " 3308010,\n",
       " 171934,\n",
       " 2999801,\n",
       " 1717990,\n",
       " 1386261,\n",
       " 936852,\n",
       " 1968313,\n",
       " 1713430,\n",
       " 1800005,\n",
       " 2136777,\n",
       " 264710,\n",
       " 264710,\n",
       " 2926893,\n",
       " 165801,\n",
       " 1598369,\n",
       " 2997021,\n",
       " 1730767,\n",
       " 61355,\n",
       " 1916118,\n",
       " 1730767,\n",
       " 3308010,\n",
       " 2479011,\n",
       " 2449164,\n",
       " 61355,\n",
       " 3125735,\n",
       " 2094761,\n",
       " 1888628,\n",
       " 3125735,\n",
       " 264710,\n",
       " 171934,\n",
       " 1800005,\n",
       " 1038146,\n",
       " 1959075,\n",
       " 102236,\n",
       " 3308010,\n",
       " 1386261,\n",
       " 1800005,\n",
       " 2470674,\n",
       " 2926893,\n",
       " 2470674,\n",
       " 102236,\n",
       " 3308010,\n",
       " 1717990,\n",
       " 903110,\n",
       " 2997021,\n",
       " 129627,\n",
       " 3383594,\n",
       " 3308010,\n",
       " 1386261,\n",
       " 854647,\n",
       " 102236,\n",
       " 1038146,\n",
       " 3308010,\n",
       " 936852,\n",
       " 264710,\n",
       " 264710,\n",
       " 1800005,\n",
       " 61355,\n",
       " 1220886,\n",
       " 2136777,\n",
       " 293169,\n",
       " 1800005,\n",
       " 1888628,\n",
       " 813364,\n",
       " 2136777,\n",
       " 61355,\n",
       " 1730767,\n",
       " 1021563,\n",
       " 2721963,\n",
       " 1730767,\n",
       " 1564093,\n",
       " 3308010,\n",
       " 2849370,\n",
       " 3308010,\n",
       " 1302315,\n",
       " 1888628,\n",
       " 61355,\n",
       " 1959075,\n",
       " 61355,\n",
       " 2136777,\n",
       " 733526,\n",
       " 3308010,\n",
       " 1730767,\n",
       " 1183255,\n",
       " 264710,\n",
       " 1730767,\n",
       " 678116,\n",
       " 2721963,\n",
       " 2136777,\n",
       " 3308010,\n",
       " 2721963,\n",
       " 2409109,\n",
       " 871281,\n",
       " 171934,\n",
       " 678116,\n",
       " 2849370,\n",
       " 813364,\n",
       " 3125735,\n",
       " 1730767,\n",
       " 61355,\n",
       " 2999801,\n",
       " 1648217,\n",
       " 936852,\n",
       " 3125735,\n",
       " 61355,\n",
       " 2849370,\n",
       " 1220886,\n",
       " 1959075,\n",
       " 2256933,\n",
       " 171934,\n",
       " 2926893,\n",
       " 2926893,\n",
       " 404157,\n",
       " 2136777,\n",
       " 3308010,\n",
       " 1021563,\n",
       " 404157,\n",
       " 171934,\n",
       " 61355,\n",
       " 2094761,\n",
       " 1832957,\n",
       " 293169,\n",
       " 813364,\n",
       " 293169,\n",
       " 3125735,\n",
       " 1021563,\n",
       " 1800005,\n",
       " 3308010,\n",
       " 936852,\n",
       " 264710,\n",
       " 171934,\n",
       " 888470,\n",
       " 1673227,\n",
       " 871281,\n",
       " 1800005,\n",
       " 3308010,\n",
       " 1730767,\n",
       " 180546,\n",
       " 2621907,\n",
       " 1730767,\n",
       " 936852,\n",
       " 1959075,\n",
       " 1169835,\n",
       " 1730767,\n",
       " 2926893,\n",
       " 854647,\n",
       " 2449164,\n",
       " 3308010,\n",
       " 2470674,\n",
       " 1183255,\n",
       " 61355,\n",
       " 1386261,\n",
       " 903110,\n",
       " 2094761,\n",
       " 903110,\n",
       " 264710,\n",
       " 1648217,\n",
       " 293169,\n",
       " 2479011,\n",
       " 1730767,\n",
       " 1730767,\n",
       " 2926893,\n",
       " 61355,\n",
       " 3125735,\n",
       " 1959075,\n",
       " 2409109,\n",
       " 2926893,\n",
       " 1021563,\n",
       " 1386261,\n",
       " 3308010,\n",
       " 2926893,\n",
       " 1800005,\n",
       " 61355,\n",
       " 2449164,\n",
       " 102236,\n",
       " 3308010,\n",
       " 1308785,\n",
       " 1800005,\n",
       " 2926893,\n",
       " 61355,\n",
       " 2136777,\n",
       " 1717990,\n",
       " 3308010,\n",
       " 1730767,\n",
       " 871281,\n",
       " 1673227,\n",
       " 102236,\n",
       " 2136777,\n",
       " 1717990,\n",
       " 813364,\n",
       " 1800005,\n",
       " 1959075,\n",
       " 813364,\n",
       " 165801,\n",
       " 2136777,\n",
       " 2729254,\n",
       " 1673227,\n",
       " 1961723,\n",
       " 61355,\n",
       " 1183255,\n",
       " 2136777,\n",
       " 1302315,\n",
       " 1386261,\n",
       " 2849370,\n",
       " 171934,\n",
       " 2136777,\n",
       " 3308010,\n",
       " 733526,\n",
       " 1959075,\n",
       " 9310,\n",
       " 813364,\n",
       " 2170451,\n",
       " 1800005,\n",
       " 404157,\n",
       " 871281,\n",
       " 3125735,\n",
       " 2721963,\n",
       " 404157,\n",
       " 129627,\n",
       " 678116,\n",
       " 2926893,\n",
       " 264710,\n",
       " 2256933,\n",
       " 102236,\n",
       " 102236,\n",
       " 1021563,\n",
       " 264710,\n",
       " 2926893,\n",
       " 936852,\n",
       " 102236,\n",
       " 1968313,\n",
       " 936852,\n",
       " 293169,\n",
       " 2136777,\n",
       " 2136777,\n",
       " 61355,\n",
       " 1183255,\n",
       " 1730767,\n",
       " 1800005,\n",
       " 2479011,\n",
       " 1386261,\n",
       " 1800005,\n",
       " 1673227,\n",
       " 3308010,\n",
       " 2926893,\n",
       " 2926893,\n",
       " 61355,\n",
       " 1832957,\n",
       " 1717990,\n",
       " 813364,\n",
       " 2999801,\n",
       " 264710,\n",
       " 3308010,\n",
       " 3347453,\n",
       " 3308010,\n",
       " 936852,\n",
       " 813364,\n",
       " 404157,\n",
       " 171934,\n",
       " 903110,\n",
       " 871281,\n",
       " 102236,\n",
       " 61355,\n",
       " 813364,\n",
       " 102236,\n",
       " 3308010,\n",
       " 1800005,\n",
       " 1832957,\n",
       " 2479011,\n",
       " 171934,\n",
       " 171934,\n",
       " 844733,\n",
       " 3308010,\n",
       " 171934,\n",
       " 1800005,\n",
       " 404157,\n",
       " 1673227,\n",
       " 3383594,\n",
       " 3308010,\n",
       " 2136777,\n",
       " 102236,\n",
       " 1717990,\n",
       " 2094761,\n",
       " 102236,\n",
       " 1959075,\n",
       " 171934,\n",
       " 2136777,\n",
       " 1386261,\n",
       " 2136777,\n",
       " 2449164,\n",
       " 171934,\n",
       " 3308010,\n",
       " 1220886,\n",
       " 2136777,\n",
       " 1959075,\n",
       " 2136777,\n",
       " 171934,\n",
       " 936852,\n",
       " 3308010,\n",
       " 2470674,\n",
       " 871281,\n",
       " 2721963,\n",
       " 102236,\n",
       " 61355,\n",
       " 3125735,\n",
       " 3308010,\n",
       " 1386261,\n",
       " 1717990,\n",
       " 293169,\n",
       " 61355,\n",
       " 1386261,\n",
       " 2721963,\n",
       " 2136777,\n",
       " 1888628,\n",
       " 264710,\n",
       " 1564093,\n",
       " 2136777,\n",
       " 1730767,\n",
       " 2849370,\n",
       " 2721963,\n",
       " 293169,\n",
       " 264710,\n",
       " 2721963,\n",
       " 3125735,\n",
       " 1959075,\n",
       " 404157,\n",
       " 171934,\n",
       " 61355,\n",
       " 1959075,\n",
       " 871281,\n",
       " 61355,\n",
       " 1183255,\n",
       " 1673227,\n",
       " 2849370,\n",
       " 1477139,\n",
       " 1730767,\n",
       " 903110,\n",
       " 844733,\n",
       " 3308010,\n",
       " 1673227,\n",
       " 61355,\n",
       " 171934,\n",
       " 2926893,\n",
       " 2926893,\n",
       " 1959075,\n",
       " 2479011,\n",
       " 3347453,\n",
       " 2721963,\n",
       " 2625444,\n",
       " 171934,\n",
       " 813364,\n",
       " 102236,\n",
       " 61355,\n",
       " 844733,\n",
       " 2721963,\n",
       " 1302315,\n",
       " 813364,\n",
       " 61355,\n",
       " 2926893,\n",
       " 1968313,\n",
       " 1968313,\n",
       " 264710,\n",
       " 1717990,\n",
       " 1730767,\n",
       " 2136777,\n",
       " 2721963,\n",
       " 2136777,\n",
       " 2721963,\n",
       " 171934,\n",
       " 171934,\n",
       " 2979697,\n",
       " 1730767,\n",
       " 1888628,\n",
       " 1625713,\n",
       " 2136777,\n",
       " 1800005,\n",
       " 2094761,\n",
       " 1961723,\n",
       " 1564093,\n",
       " 1959075,\n",
       " 1916118,\n",
       " 61355,\n",
       " 2997021,\n",
       " 293169,\n",
       " 3308010,\n",
       " 1529171,\n",
       " 61355,\n",
       " 2256933,\n",
       " 1959075,\n",
       " 2449164,\n",
       " 1673227,\n",
       " 2479011,\n",
       " 1888628,\n",
       " 1800005,\n",
       " 2470674,\n",
       " 1386261,\n",
       " 3125735,\n",
       " 2721963,\n",
       " 2926893,\n",
       " 1800005,\n",
       " 1386261,\n",
       " 2136777,\n",
       " 61355,\n",
       " 171934,\n",
       " 3308010,\n",
       " 61355,\n",
       " 936852,\n",
       " 61355,\n",
       " 936852,\n",
       " 293169,\n",
       " 1386261,\n",
       " 171934,\n",
       " 1800005,\n",
       " 871281,\n",
       " 3125735,\n",
       " 61355,\n",
       " 1959075,\n",
       " 1968313,\n",
       " 1717990,\n",
       " 3308010,\n",
       " 844733,\n",
       " 129627,\n",
       " 844733,\n",
       " 264710,\n",
       " 165801,\n",
       " 1386261,\n",
       " 2136777,\n",
       " 2721963,\n",
       " 1730767,\n",
       " 3125735,\n",
       " 2136777,\n",
       " 1183255,\n",
       " 171934,\n",
       " 936852,\n",
       " 854647,\n",
       " 1386261,\n",
       " 2926893,\n",
       " 1961723,\n",
       " 61355,\n",
       " 1730767,\n",
       " 1633337,\n",
       " 61355,\n",
       " 1959075,\n",
       " 102236,\n",
       " 404157,\n",
       " 1968313,\n",
       " 1386261,\n",
       " 2136777,\n",
       " 2999801,\n",
       " 1529171,\n",
       " 2721963,\n",
       " 61355,\n",
       " 3383594,\n",
       " 1730767,\n",
       " 936852,\n",
       " 2926893,\n",
       " 102236,\n",
       " 1959075,\n",
       " 102236,\n",
       " 1713430,\n",
       " 3383594,\n",
       " 102236,\n",
       " 1959075,\n",
       " 678116,\n",
       " 2449164,\n",
       " 844733,\n",
       " 61355,\n",
       " 3308010,\n",
       " 61355,\n",
       " 2136777,\n",
       " 264710,\n",
       " 171934,\n",
       " 813364,\n",
       " 3308010,\n",
       " 1730767,\n",
       " 61355,\n",
       " 102236,\n",
       " 61355,\n",
       " 1717990,\n",
       " 3308010,\n",
       " 1968313,\n",
       " 129627,\n",
       " 936852,\n",
       " 61355,\n",
       " 61355,\n",
       " 165801,\n",
       " 2409109,\n",
       " 2926893,\n",
       " 61355,\n",
       " 1961723,\n",
       " 1832957,\n",
       " 1961723,\n",
       " 1183255,\n",
       " 61355,\n",
       " 2999801,\n",
       " 1220886,\n",
       " 3125735,\n",
       " 171934,\n",
       " 388234,\n",
       " 102236,\n",
       " 102236,\n",
       " 61355,\n",
       " 2721963,\n",
       " 1800005,\n",
       " 1968313,\n",
       " 2136777,\n",
       " 61355,\n",
       " 1220886,\n",
       " 61355,\n",
       " 936852,\n",
       " 1673227,\n",
       " 936852,\n",
       " 1673227,\n",
       " 1625713,\n",
       " 171934,\n",
       " 2136777,\n",
       " 1800005,\n",
       " 1730767,\n",
       " 264710,\n",
       " 102236,\n",
       " 61355,\n",
       " 903110,\n",
       " 2136777,\n",
       " 1959075,\n",
       " 3125735,\n",
       " 171934,\n",
       " 1169835,\n",
       " 3308010,\n",
       " 61355,\n",
       " 1959075,\n",
       " 2721963,\n",
       " 813364,\n",
       " 1477139,\n",
       " 1888628,\n",
       " 1730767,\n",
       " 1959075,\n",
       " 2479011,\n",
       " 3308010,\n",
       " 2721963,\n",
       " 1717990,\n",
       " 2409109,\n",
       " 171934,\n",
       " 171934,\n",
       " 1183255,\n",
       " 1800005,\n",
       " 171934,\n",
       " 2136777,\n",
       " 388234,\n",
       " 264710,\n",
       " 61355,\n",
       " 1730767,\n",
       " 1717990,\n",
       " 1916118,\n",
       " 264710,\n",
       " 3125735,\n",
       " 1959075,\n",
       " 813364,\n",
       " 3347453,\n",
       " 293169,\n",
       " 171934,\n",
       " 1386261,\n",
       " 1183255,\n",
       " 1717990,\n",
       " 1308785,\n",
       " 2625444,\n",
       " 171934,\n",
       " 102236,\n",
       " 1386261,\n",
       " 1968313,\n",
       " 1386261,\n",
       " 404157,\n",
       " 1959075,\n",
       " 1832957,\n",
       " 1961723,\n",
       " 936852,\n",
       " 1386261,\n",
       " 2449164,\n",
       " 171934,\n",
       " 1959075,\n",
       " 2449164,\n",
       " 180546,\n",
       " 1183255,\n",
       " 1386261,\n",
       " 1968313,\n",
       " 2136777,\n",
       " 3308010,\n",
       " 2479011,\n",
       " 2979697,\n",
       " 1888628,\n",
       " 1832957,\n",
       " 1961723,\n",
       " 1800005,\n",
       " 1633337,\n",
       " 404157,\n",
       " 1673227,\n",
       " 1832957]"
      ]
     },
     "execution_count": 32,
     "metadata": {},
     "output_type": "execute_result"
    }
   ],
   "source": [
    "# Guarda todas las IDs de pedidos que tengan un valor ausente en 'add_to_cart_order'\n",
    "\n",
    "id_nan_list = list(data_orders_products[data_orders_products[\"add_to_cart_order\"].isnull()][\"order_id\"])\n",
    "id_nan_list"
   ]
  },
  {
   "cell_type": "code",
   "execution_count": 33,
   "id": "54c31695",
   "metadata": {
    "id": "54c31695"
   },
   "outputs": [
    {
     "data": {
      "text/plain": [
       "65"
      ]
     },
     "execution_count": 33,
     "metadata": {},
     "output_type": "execute_result"
    }
   ],
   "source": [
    "# ¿Todos los pedidos con valores ausentes tienen más de 64 productos?\n",
    "data_orders_products[data_orders_products['order_id'].isin(id_nan_list)].groupby(\"order_id\")[\"product_id\"].count().min()\n",
    "# Agrupa todos los pedidos con datos ausentes por su ID de pedido.\n",
    "# Cuenta el número de 'product_id' en cada pedido y revisa el valor mínimo del conteo."
   ]
  },
  {
   "cell_type": "markdown",
   "id": "p9V6pddtjglj",
   "metadata": {
    "id": "p9V6pddtjglj"
   },
   "source": [
    "Describe brevemente cuáles son tus hallazgos.\n",
    "\n",
    "efectivamente todos los pedidos con valores ausentes tienen mas de 64 productos, exactamente 65"
   ]
  },
  {
   "cell_type": "code",
   "execution_count": 34,
   "id": "7a987d08",
   "metadata": {
    "id": "7a987d08"
   },
   "outputs": [],
   "source": [
    "# Remplaza los valores ausentes en la columna 'add_to_cart? con 999 y convierte la columna al tipo entero.\n",
    "#print(data_orders_products[\"add_to_cart_order\"].unique())\n",
    "#data_orders_products[\"add_to_cart_order\"].fillna(0, inplace=True)\n",
    "#data_orders_products[\"add_to_cart_order\"] = data_orders_products[\"add_to_cart_order\"].astype(\"int\")\n",
    "#data_orders_products[\"add_to_cart_order\"].sort_values(ascending=True).value_counts()"
   ]
  },
  {
   "cell_type": "markdown",
   "id": "fea4bcc7",
   "metadata": {
    "id": "fea4bcc7"
   },
   "source": [
    "Describe brevemente tus hallazgos y lo que hiciste con ellos.\n",
    "\n",
    "Entonces siguiendo la recomendacion dada por el revisor, elimino el codigo para dejar los datos tal y como estaban, no puedo convertirlos en enteros si tengo datos ausentes.\n"
   ]
  },
  {
   "cell_type": "markdown",
   "id": "RnplPFY1gSrb",
   "metadata": {
    "id": "RnplPFY1gSrb"
   },
   "source": [
    "## Conclusiones\n",
    "\n",
    "Escribe aquí tus conclusiones\n",
    "\n",
    "\n",
    "En esta primera parte hemos ajustado como debe leerse el documento csv, hemos detectado valores duplicados y ausentes, algunos han sido eliminados y sustituidos.\n",
    "Se ha realizado el procesamiento de datos pertinente para empezar nuestro analisis contando con una base limpia y fidedigna."
   ]
  },
  {
   "cell_type": "markdown",
   "id": "UjrOIwTcz3ri",
   "metadata": {
    "id": "UjrOIwTcz3ri"
   },
   "source": [
    "# Paso 3. Análisis de los datos\n",
    "\n",
    "Una vez los datos estén procesados y listos, haz el siguiente análisis:"
   ]
  },
  {
   "cell_type": "markdown",
   "id": "turkish-kidney",
   "metadata": {
    "id": "turkish-kidney"
   },
   "source": [
    "# [A] Fácil (deben completarse todos para aprobar)\n",
    "\n",
    "1. Verifica que los valores en las columnas `'order_hour_of_day'` y `'order_dow'` de la tabla `orders` sean sensibles (es decir, `'order_hour_of_day'` va de 0 a 23 y `'order_dow'` va de 0 a 6).\n",
    "2. Crea un gráfico que muestre el número de personas que hacen pedidos dependiendo de la hora del día.\n",
    "3. Crea un gráfico que muestre qué día de la semana la gente hace sus compras.\n",
    "4. Crea un gráfico que muestre el tiempo que la gente espera hasta hacer su siguiente pedido, y comenta sobre los valores mínimos y máximos."
   ]
  },
  {
   "cell_type": "markdown",
   "id": "short-capability",
   "metadata": {
    "id": "short-capability"
   },
   "source": [
    "### [A1] Verifica que los valores sean sensibles"
   ]
  },
  {
   "cell_type": "code",
   "execution_count": 35,
   "id": "growing-fruit",
   "metadata": {
    "id": "growing-fruit"
   },
   "outputs": [
    {
     "name": "stdout",
     "output_type": "stream",
     "text": [
      "Verificacion de las columnas\n",
      "va de 0 a 23\n",
      "0      3180\n",
      "1      1763\n",
      "2       989\n",
      "3       770\n",
      "4       765\n",
      "5      1371\n",
      "6      4215\n",
      "7     13043\n",
      "8     25024\n",
      "9     35896\n",
      "10    40578\n",
      "11    40032\n",
      "12    38034\n",
      "13    39007\n",
      "14    39631\n",
      "15    39789\n",
      "16    38112\n",
      "17    31930\n",
      "18    25510\n",
      "19    19547\n",
      "20    14624\n",
      "21    11019\n",
      "22     8512\n",
      "23     5611\n",
      "Name: order_hour_of_day, dtype: int64\n",
      "  \n",
      "va de 0 a 6\n"
     ]
    },
    {
     "data": {
      "text/plain": [
       "0    84090\n",
       "1    82185\n",
       "2    65833\n",
       "3    60897\n",
       "4    59810\n",
       "5    63488\n",
       "6    62649\n",
       "Name: order_dow, dtype: int64"
      ]
     },
     "execution_count": 35,
     "metadata": {},
     "output_type": "execute_result"
    }
   ],
   "source": [
    "print(\"Verificacion de las columnas\")\n",
    "print(\"va de 0 a 23\")\n",
    "print(dt_insta_orders[\"order_hour_of_day\"].value_counts().sort_index())\n",
    "print(\"  \")\n",
    "print(\"va de 0 a 6\")\n",
    "dt_insta_orders[\"order_dow\"].value_counts().sort_index()\n"
   ]
  },
  {
   "cell_type": "code",
   "execution_count": 36,
   "id": "accessory-malaysia",
   "metadata": {
    "id": "accessory-malaysia"
   },
   "outputs": [
    {
     "data": {
      "text/plain": [
       "0      3180\n",
       "1      1763\n",
       "2       989\n",
       "3       770\n",
       "4       765\n",
       "5      1371\n",
       "6      4215\n",
       "7     13043\n",
       "8     25024\n",
       "9     35896\n",
       "10    40578\n",
       "11    40032\n",
       "12    38034\n",
       "13    39007\n",
       "14    39631\n",
       "15    39789\n",
       "16    38112\n",
       "17    31930\n",
       "18    25510\n",
       "19    19547\n",
       "20    14624\n",
       "21    11019\n",
       "22     8512\n",
       "23     5611\n",
       "Name: order_hour_of_day, dtype: int64"
      ]
     },
     "execution_count": 36,
     "metadata": {},
     "output_type": "execute_result"
    }
   ],
   "source": [
    "dt_insta_orders[\"order_hour_of_day\"].value_counts().sort_index()"
   ]
  },
  {
   "cell_type": "markdown",
   "id": "hmR2GNQ6lCsX",
   "metadata": {
    "id": "hmR2GNQ6lCsX"
   },
   "source": [
    "Escribe aquí tus conclusiones\n",
    "\n",
    "Las columnas tienen la informacion correcta con respecto a las horas y los dias"
   ]
  },
  {
   "cell_type": "markdown",
   "id": "a6743a70",
   "metadata": {
    "id": "a6743a70"
   },
   "source": [
    "### [A2] Para cada hora del día, ¿cuántas personas hacen órdenes?"
   ]
  },
  {
   "cell_type": "code",
   "execution_count": 37,
   "id": "a36cca27",
   "metadata": {
    "id": "a36cca27"
   },
   "outputs": [
    {
     "data": {
      "text/plain": [
       "<AxesSubplot:title={'center':'Cantidad de ordenes por hora'}, xlabel='Hora del dia', ylabel='Cantidad de pedidos'>"
      ]
     },
     "execution_count": 37,
     "metadata": {},
     "output_type": "execute_result"
    },
    {
     "data": {
      "image/png": "[encoded data removed]",
      "text/plain": [
       "<Figure size 936x360 with 1 Axes>"
      ]
     },
     "metadata": {
      "needs_background": "light"
     },
     "output_type": "display_data"
    }
   ],
   "source": [
    "dt_insta_orders[\"order_hour_of_day\"].value_counts().sort_index().plot(kind=\"bar\", figsize=[13, 5], rot=\"0\", title=\"Cantidad de ordenes por hora\", xlabel=\"Hora del dia\", ylabel=\"Cantidad de pedidos\")"
   ]
  },
  {
   "cell_type": "markdown",
   "id": "11270eed",
   "metadata": {
    "id": "11270eed"
   },
   "source": [
    "Escribe aquí tus conclusiones\n",
    "\n",
    "Segun nuestra grafica podemos ver que las horas de mayor venta son entre las 9 y las 17, por el contrario las horas de menos ventas son entre las 2 y las 4 donde las ventas son casi nulas."
   ]
  },
  {
   "cell_type": "markdown",
   "id": "documented-command",
   "metadata": {
    "id": "documented-command"
   },
   "source": [
    "### [A3] ¿Qué día de la semana compran víveres las personas?"
   ]
  },
  {
   "cell_type": "code",
   "execution_count": 38,
   "id": "chief-digit",
   "metadata": {
    "id": "chief-digit",
    "scrolled": true
   },
   "outputs": [
    {
     "data": {
      "text/plain": [
       "<AxesSubplot:title={'center':'Cantidad de ordenes por dia'}, xlabel='Dia de la semana', ylabel='Cantidad de pedidos'>"
      ]
     },
     "execution_count": 38,
     "metadata": {},
     "output_type": "execute_result"
    },
    {
     "data": {
      "image/png": "[encoded data removed]",
      "text/plain": [
       "<Figure size 432x360 with 1 Axes>"
      ]
     },
     "metadata": {
      "needs_background": "light"
     },
     "output_type": "display_data"
    }
   ],
   "source": [
    "dt_insta_orders[\"order_dow\"].value_counts().sort_index().plot(kind=\"bar\", figsize=[6, 5], rot=\"0\", title=\"Cantidad de ordenes por dia\", xlabel=\"Dia de la semana\", ylabel=\"Cantidad de pedidos\", ylim=[50000, 90000])"
   ]
  },
  {
   "cell_type": "markdown",
   "id": "dominant-lightning",
   "metadata": {
    "id": "dominant-lightning"
   },
   "source": [
    "Escribe aquí tus conclusiones\n",
    "\n",
    "En las ventas separadas por dia vemos como destacados los dias domingos y lunes como los dias de mayores ventas con unas 2000 ventas por encima de los demas dias aproximadamente, el resto de dias mantienen un ritmo similar entre si, de al rededor de las 6000 ventas."
   ]
  },
  {
   "cell_type": "markdown",
   "id": "cutting-concert",
   "metadata": {
    "id": "cutting-concert"
   },
   "source": [
    "### [A4] ¿Cuánto tiempo esperan las personas hasta hacer otro pedido? Comenta sobre los valores mínimos y máximos."
   ]
  },
  {
   "cell_type": "code",
   "execution_count": 39,
   "id": "c231f523",
   "metadata": {
    "id": "c231f523"
   },
   "outputs": [
    {
     "data": {
      "text/plain": [
       "<AxesSubplot:title={'center':'Cantidad de dias hasta el siguiente pedido'}, xlabel='dias', ylabel='Cantidad de pedidos'>"
      ]
     },
     "execution_count": 39,
     "metadata": {},
     "output_type": "execute_result"
    },
    {
     "data": {
      "image/png": "[encoded data removed]",
      "text/plain": [
       "<Figure size 1080x360 with 1 Axes>"
      ]
     },
     "metadata": {
      "needs_background": "light"
     },
     "output_type": "display_data"
    }
   ],
   "source": [
    "dt_insta_orders[\"days_since_prior_order\"].value_counts().sort_index().plot(kind=\"bar\", figsize=[15, 5], rot=\"30\", title=\"Cantidad de dias hasta el siguiente pedido\", xlabel=\"dias\", ylabel=\"Cantidad de pedidos\", grid=True)"
   ]
  },
  {
   "cell_type": "markdown",
   "id": "discrete-vertex",
   "metadata": {
    "id": "discrete-vertex"
   },
   "source": [
    "Escribe aquí tus conclusiones\n",
    "\n",
    "Segun los analisis realizados podemos deducir que los dias en los que mas se realizan compras son los dias domingo y lunes y los dias con menos compra son los miercoles y jueves.\n",
    "\n",
    "Las horas mas frecuentes en las que se realizan las compras son entre las 10 y las 16. Siendo las mas bajas del dia entre las 2 y las 4 de la tarde.\n",
    "\n",
    "Y la cantidad transcurrida de dias para realizar un pedido nuevemente tiene dos picos, que serian luego de 7 dias y 30 dias, siendo 30 dias el mas comun entre los usuarios que compraron nuevamente. "
   ]
  },
  {
   "cell_type": "markdown",
   "id": "tight-staff",
   "metadata": {
    "id": "tight-staff"
   },
   "source": [
    "# [B] Intermedio (deben completarse todos para aprobar)\n",
    "\n",
    "1. ¿Existe alguna diferencia entre las distribuciones `'order_hour_of_day'` de los miércoles y los sábados? Traza gráficos de barra de `'order_hour_of_day'` para ambos días en la misma figura y describe las diferencias que observes.\n",
    "2. Grafica la distribución para el número de órdenes que hacen los clientes (es decir, cuántos clientes hicieron solo 1 pedido, cuántos hicieron 2, cuántos 3, y así sucesivamente...).\n",
    "3. ¿Cuáles son los 20 principales productos que se piden con más frecuencia (muestra su identificación y nombre)?"
   ]
  },
  {
   "cell_type": "markdown",
   "id": "packed-classic",
   "metadata": {
    "id": "packed-classic"
   },
   "source": [
    "### [B1] Diferencia entre miércoles y sábados para  `'order_hour_of_day'`. Traza gráficos de barra para los dos días y describe las diferencias que veas."
   ]
  },
  {
   "cell_type": "code",
   "execution_count": 40,
   "id": "d89b8403",
   "metadata": {
    "id": "d89b8403"
   },
   "outputs": [
    {
     "data": {
      "text/plain": [
       "<matplotlib.legend.Legend at 0x7f695f3c45e0>"
      ]
     },
     "execution_count": 40,
     "metadata": {},
     "output_type": "execute_result"
    },
    {
     "data": {
      "image/png": "[encoded data removed]",
      "text/plain": [
       "<Figure size 1080x360 with 1 Axes>"
      ]
     },
     "metadata": {},
     "output_type": "display_data"
    }
   ],
   "source": [
    "# Set the aesthetic style of the plots\n",
    "sns.set()\n",
    "\n",
    "# Filter the DataFrame to include only rows where \"order_dow\" is 3 or 6\n",
    "wed_sat_df = dt_insta_orders[(dt_insta_orders[\"order_dow\"] == 3) | (dt_insta_orders[\"order_dow\"] == 6)]\n",
    "\n",
    "# Define a color palette as a dictionary. Here, 3 will be red and 6 will be green\n",
    "color_dict = {3: 'red', 6: 'green'}\n",
    "\n",
    "# size\n",
    "fig, ax = plt.subplots(figsize = (15, 5))\n",
    "\n",
    "# Create the histogram plot\n",
    "sns.histplot(wed_sat_df, x=\"order_hour_of_day\", hue=\"order_dow\", palette=color_dict, multiple=\"dodge\").set_title(\"Comparacion de ventas entre los dias Miercoles y Sabado\")\n",
    "\n",
    "# Rename axes\n",
    "ax.set(xlabel=\"Hora del dia\", ylabel=\"Cantidad de pedidos\")\n",
    "\n",
    "# Rename legends\n",
    "plt.legend(labels=[\"Miercoles\",\"Sabado\"])\n"
   ]
  },
  {
   "cell_type": "markdown",
   "id": "charitable-congo",
   "metadata": {
    "id": "charitable-congo"
   },
   "source": [
    "Escribe aquí tus conclusiones\n",
    "\n",
    "\n",
    "Podemos ver que los comportamientos de los dias miercoles y sabados son bastante parecidos entre si, sin embargo el sabado tiende a ser un poco mejor para las ventas, especialmente entre las 11 y 14 horas del dia, y el miercoles a su vez es ligeramente mejor que el sabado entre las 9 y las 10.\n"
   ]
  },
  {
   "cell_type": "markdown",
   "id": "e3891143",
   "metadata": {
    "id": "e3891143"
   },
   "source": [
    "### [B2] ¿Cuál es la distribución para el número de pedidos por cliente?"
   ]
  },
  {
   "cell_type": "code",
   "execution_count": 41,
   "id": "d8c26c23",
   "metadata": {
    "id": "d8c26c23"
   },
   "outputs": [
    {
     "data": {
      "text/plain": [
       "<AxesSubplot:title={'center':'Grafica de distribucion para el numero de ordenes'}, ylabel='Frequency'>"
      ]
     },
     "execution_count": 41,
     "metadata": {},
     "output_type": "execute_result"
    },
    {
     "data": {
      "image/png": "[encoded data removed]",
      "text/plain": [
       "<Figure size 720x360 with 1 Axes>"
      ]
     },
     "metadata": {},
     "output_type": "display_data"
    }
   ],
   "source": [
    "dt_insta_orders[\"order_number\"].value_counts().sort_index().plot(kind=\"hist\", figsize=[10, 5], ylabel=\"Frecuencia de compras\", title=\"Grafica de distribucion para el numero de ordenes\")"
   ]
  },
  {
   "cell_type": "markdown",
   "id": "d2eff7d5",
   "metadata": {
    "id": "d2eff7d5"
   },
   "source": [
    "Escribe aquí tus conclusiones\n",
    "\n",
    "\n",
    "En nuestro histograma podemos ver que solo un pequeño porcentaje de nuestros clientes llegan a nuestro punto mas alto que es alrededor de las 60 compras, aproximadamente unos 2500 clientes, a partir de aqui la repeticion de las compras baja notablemente siendo el valor mas cercano apenas de unas 12 repeticiones, y solo un promedio de unos 5000 clientes.\n",
    "\n",
    "para el resto de la grafica los numeros son bastante bajos con respecto a estos dos primeros ya que solo cerca de 12000 usuarios compraron en 5 oportunidades y la gran mayoria mucho menos de eso."
   ]
  },
  {
   "cell_type": "markdown",
   "id": "54a0319c",
   "metadata": {
    "id": "54a0319c"
   },
   "source": [
    "### [B3] ¿Cuáles son los 20 productos más populares (muestra su ID y nombre)?"
   ]
  },
  {
   "cell_type": "code",
   "execution_count": 42,
   "id": "universal-facial",
   "metadata": {
    "id": "universal-facial"
   },
   "outputs": [
    {
     "data": {
      "text/html": [
       "<div>\n",
       "<style scoped>\n",
       "    .dataframe tbody tr th:only-of-type {\n",
       "        vertical-align: middle;\n",
       "    }\n",
       "\n",
       "    .dataframe tbody tr th {\n",
       "        vertical-align: top;\n",
       "    }\n",
       "\n",
       "    .dataframe thead th {\n",
       "        text-align: right;\n",
       "    }\n",
       "</style>\n",
       "<table border=\"1\" class=\"dataframe\">\n",
       "  <thead>\n",
       "    <tr style=\"text-align: right;\">\n",
       "      <th></th>\n",
       "      <th>product_id</th>\n",
       "      <th>num_orders</th>\n",
       "      <th>product_name</th>\n",
       "    </tr>\n",
       "  </thead>\n",
       "  <tbody>\n",
       "    <tr>\n",
       "      <th>0</th>\n",
       "      <td>24852</td>\n",
       "      <td>66076</td>\n",
       "      <td>Banana</td>\n",
       "    </tr>\n",
       "    <tr>\n",
       "      <th>1</th>\n",
       "      <td>13176</td>\n",
       "      <td>51314</td>\n",
       "      <td>Bag of Organic Bananas</td>\n",
       "    </tr>\n",
       "    <tr>\n",
       "      <th>2</th>\n",
       "      <td>21137</td>\n",
       "      <td>36791</td>\n",
       "      <td>Organic Strawberries</td>\n",
       "    </tr>\n",
       "    <tr>\n",
       "      <th>3</th>\n",
       "      <td>21903</td>\n",
       "      <td>33967</td>\n",
       "      <td>Organic Baby Spinach</td>\n",
       "    </tr>\n",
       "    <tr>\n",
       "      <th>4</th>\n",
       "      <td>47209</td>\n",
       "      <td>29599</td>\n",
       "      <td>Organic Hass Avocado</td>\n",
       "    </tr>\n",
       "    <tr>\n",
       "      <th>5</th>\n",
       "      <td>47766</td>\n",
       "      <td>24404</td>\n",
       "      <td>Organic Avocado</td>\n",
       "    </tr>\n",
       "    <tr>\n",
       "      <th>6</th>\n",
       "      <td>47626</td>\n",
       "      <td>22053</td>\n",
       "      <td>Large Lemon</td>\n",
       "    </tr>\n",
       "    <tr>\n",
       "      <th>7</th>\n",
       "      <td>26209</td>\n",
       "      <td>20308</td>\n",
       "      <td>Limes</td>\n",
       "    </tr>\n",
       "    <tr>\n",
       "      <th>8</th>\n",
       "      <td>16797</td>\n",
       "      <td>19999</td>\n",
       "      <td>Strawberries</td>\n",
       "    </tr>\n",
       "    <tr>\n",
       "      <th>9</th>\n",
       "      <td>27845</td>\n",
       "      <td>19187</td>\n",
       "      <td>Organic Whole Milk</td>\n",
       "    </tr>\n",
       "    <tr>\n",
       "      <th>10</th>\n",
       "      <td>27966</td>\n",
       "      <td>18887</td>\n",
       "      <td>Organic Raspberries</td>\n",
       "    </tr>\n",
       "    <tr>\n",
       "      <th>11</th>\n",
       "      <td>24964</td>\n",
       "      <td>16279</td>\n",
       "      <td>Organic Garlic</td>\n",
       "    </tr>\n",
       "    <tr>\n",
       "      <th>12</th>\n",
       "      <td>22935</td>\n",
       "      <td>16066</td>\n",
       "      <td>Organic Yellow Onion</td>\n",
       "    </tr>\n",
       "    <tr>\n",
       "      <th>13</th>\n",
       "      <td>45007</td>\n",
       "      <td>14931</td>\n",
       "      <td>Organic Zucchini</td>\n",
       "    </tr>\n",
       "    <tr>\n",
       "      <th>14</th>\n",
       "      <td>39275</td>\n",
       "      <td>14439</td>\n",
       "      <td>Organic Blueberries</td>\n",
       "    </tr>\n",
       "    <tr>\n",
       "      <th>15</th>\n",
       "      <td>49683</td>\n",
       "      <td>13021</td>\n",
       "      <td>Cucumber Kirby</td>\n",
       "    </tr>\n",
       "    <tr>\n",
       "      <th>16</th>\n",
       "      <td>28204</td>\n",
       "      <td>12940</td>\n",
       "      <td>Organic Fuji Apple</td>\n",
       "    </tr>\n",
       "    <tr>\n",
       "      <th>17</th>\n",
       "      <td>8277</td>\n",
       "      <td>11830</td>\n",
       "      <td>Apple Honeycrisp Organic</td>\n",
       "    </tr>\n",
       "    <tr>\n",
       "      <th>18</th>\n",
       "      <td>45066</td>\n",
       "      <td>11787</td>\n",
       "      <td>Honeycrisp Apple</td>\n",
       "    </tr>\n",
       "    <tr>\n",
       "      <th>19</th>\n",
       "      <td>4920</td>\n",
       "      <td>11694</td>\n",
       "      <td>Seedless Red Grapes</td>\n",
       "    </tr>\n",
       "  </tbody>\n",
       "</table>\n",
       "</div>"
      ],
      "text/plain": [
       "    product_id  num_orders              product_name\n",
       "0        24852       66076                    Banana\n",
       "1        13176       51314    Bag of Organic Bananas\n",
       "2        21137       36791      Organic Strawberries\n",
       "3        21903       33967      Organic Baby Spinach\n",
       "4        47209       29599      Organic Hass Avocado\n",
       "5        47766       24404           Organic Avocado\n",
       "6        47626       22053               Large Lemon\n",
       "7        26209       20308                     Limes\n",
       "8        16797       19999              Strawberries\n",
       "9        27845       19187        Organic Whole Milk\n",
       "10       27966       18887       Organic Raspberries\n",
       "11       24964       16279            Organic Garlic\n",
       "12       22935       16066      Organic Yellow Onion\n",
       "13       45007       14931          Organic Zucchini\n",
       "14       39275       14439       Organic Blueberries\n",
       "15       49683       13021            Cucumber Kirby\n",
       "16       28204       12940        Organic Fuji Apple\n",
       "17        8277       11830  Apple Honeycrisp Organic\n",
       "18       45066       11787          Honeycrisp Apple\n",
       "19        4920       11694       Seedless Red Grapes"
      ]
     },
     "execution_count": 42,
     "metadata": {},
     "output_type": "execute_result"
    }
   ],
   "source": [
    "top_20 = data_orders_products.query(\"order_id\")[\"product_id\"].value_counts().head(20).reset_index()\n",
    "top_20.columns=[\"product_id\", \"num_orders\"]\n",
    "top_20.merge(data_products[[\"product_name\", \"product_id\"]], how=\"left\", on=\"product_id\")"
   ]
  },
  {
   "cell_type": "markdown",
   "id": "7df00f47",
   "metadata": {
    "id": "7df00f47"
   },
   "source": [
    "Escribe aquí tus conclusiones\n",
    "\n",
    "Podemos ver en los datos anteriores que el producto mas vendido y por mucho es la banana, adicionalmente podemos ver que los productos organicos tienen una buena preferencia, junto con algunas frutas y verduras."
   ]
  },
  {
   "cell_type": "markdown",
   "id": "gross-theme",
   "metadata": {
    "id": "gross-theme"
   },
   "source": [
    "# [C] Difícil (deben completarse todos para aprobar)\n",
    "\n",
    "1. ¿Cuántos artículos suelen comprar las personas en un pedido? ¿Cómo es la distribución?\n",
    "2. ¿Cuáles son los 20 principales artículos que vuelven a pedirse con mayor frecuencia (muestra sus nombres e IDs de los productos)?\n",
    "3. Para cada producto, ¿cuál es la tasa de repetición del pedido (número de repeticiones de pedido/total de pedidos?\n",
    "4. Para cada cliente, ¿qué proporción de los productos que pidió ya los había pedido? Calcula la tasa de repetición de pedido para cada usuario en lugar de para cada producto.\n",
    "5. ¿Cuáles son los 20 principales artículos que la gente pone primero en sus carritos (muestra las IDs de los productos, sus nombres, y el número de veces en que fueron el primer artículo en añadirse al carrito)?"
   ]
  },
  {
   "cell_type": "markdown",
   "id": "romantic-deposit",
   "metadata": {
    "id": "romantic-deposit"
   },
   "source": [
    "### [C1] ¿Cuántos artículos compran normalmente las personas en un pedido? ¿Cómo es la distribución?"
   ]
  },
  {
   "cell_type": "code",
   "execution_count": 43,
   "id": "virtual-punch",
   "metadata": {
    "id": "virtual-punch"
   },
   "outputs": [
    {
     "data": {
      "text/plain": [
       "<AxesSubplot:title={'center':'Cantidad de artículos por pedido'}, xlabel='Cantidad de articulos', ylabel='Pedidos por cliente'>"
      ]
     },
     "execution_count": 43,
     "metadata": {},
     "output_type": "execute_result"
    },
    {
     "data": {
      "image/png": "[encoded data removed]",
      "text/plain": [
       "<Figure size 1440x360 with 1 Axes>"
      ]
     },
     "metadata": {},
     "output_type": "display_data"
    }
   ],
   "source": [
    "data_orders_products[\"add_to_cart_order\"].value_counts().plot(kind=\"bar\", figsize=[20,5], title=\"Cantidad de artículos por pedido\", xlabel=\"Cantidad de articulos\", ylabel=\"Pedidos por cliente\")"
   ]
  },
  {
   "cell_type": "markdown",
   "id": "designed-mortality",
   "metadata": {
    "id": "designed-mortality"
   },
   "source": [
    "Escribe aquí tus conclusiones\n",
    "\n",
    "\n",
    "Este grafico podemos dividirlo en 4 partes para responder a la pregunta que nos han hecho.\n",
    "A este primer grupo le llamaremos \"Clientes Bronce\", es el mayor grupo de personas, este grupo solo compran entre 1 y 6 articulos en cada compra.\n",
    "El segundo grupo, lo llamaremos \"Clientes plata\" que sigue siendo un grupo importante de personas, solo que no tan grande como el primer grupo mencionado.\n",
    "En este grupo veremos a las personas que realizan entre 7 y 17 compras.\n",
    "El tercer grupo es mas selecto ya que es el grupo que compra la mayor cantidad de articulos en cada pedido de los primeros 3 grupos, este grupo podemos llamarlo grupo \"Gold\". \n",
    "Ya que realizan compras de entre 18 y 37 articulos en cada pedido.\n",
    "Y por ultimo el grupo de clientes mas destacados que llamaremos \"clientes platinium\" son un muy pequeño grupo una minoria, pero estos clientes realizan compras de entre 38 y 64 articulos.\n",
    "haciendo que sea nuestro mejor cliente. Lamentablemente son muy pocos los clientes de esta seccion.\n",
    "\n",
    "\n",
    "Nuestro grafico tambien nos muestra que el promedio de compra de los clientes es de entre 9 y 10 productos en cada pedido."
   ]
  },
  {
   "cell_type": "markdown",
   "id": "5e6b5537",
   "metadata": {
    "id": "5e6b5537"
   },
   "source": [
    "### [C2] ¿Cuáles son los 20 principales artículos que vuelven a pedirse con mayor frecuencia (muestra sus nombres e IDs de los productos)?"
   ]
  },
  {
   "cell_type": "code",
   "execution_count": 44,
   "id": "9374e55a",
   "metadata": {
    "id": "9374e55a"
   },
   "outputs": [
    {
     "data": {
      "text/html": [
       "<div>\n",
       "<style scoped>\n",
       "    .dataframe tbody tr th:only-of-type {\n",
       "        vertical-align: middle;\n",
       "    }\n",
       "\n",
       "    .dataframe tbody tr th {\n",
       "        vertical-align: top;\n",
       "    }\n",
       "\n",
       "    .dataframe thead th {\n",
       "        text-align: right;\n",
       "    }\n",
       "</style>\n",
       "<table border=\"1\" class=\"dataframe\">\n",
       "  <thead>\n",
       "    <tr style=\"text-align: right;\">\n",
       "      <th></th>\n",
       "      <th>product_id</th>\n",
       "      <th>num_orders</th>\n",
       "      <th>product_name</th>\n",
       "    </tr>\n",
       "  </thead>\n",
       "  <tbody>\n",
       "    <tr>\n",
       "      <th>0</th>\n",
       "      <td>24852</td>\n",
       "      <td>55763</td>\n",
       "      <td>Banana</td>\n",
       "    </tr>\n",
       "    <tr>\n",
       "      <th>1</th>\n",
       "      <td>13176</td>\n",
       "      <td>44450</td>\n",
       "      <td>Bag of Organic Bananas</td>\n",
       "    </tr>\n",
       "    <tr>\n",
       "      <th>2</th>\n",
       "      <td>21137</td>\n",
       "      <td>28639</td>\n",
       "      <td>Organic Strawberries</td>\n",
       "    </tr>\n",
       "    <tr>\n",
       "      <th>3</th>\n",
       "      <td>21903</td>\n",
       "      <td>26233</td>\n",
       "      <td>Organic Baby Spinach</td>\n",
       "    </tr>\n",
       "    <tr>\n",
       "      <th>4</th>\n",
       "      <td>47209</td>\n",
       "      <td>23629</td>\n",
       "      <td>Organic Hass Avocado</td>\n",
       "    </tr>\n",
       "    <tr>\n",
       "      <th>5</th>\n",
       "      <td>47766</td>\n",
       "      <td>18743</td>\n",
       "      <td>Organic Avocado</td>\n",
       "    </tr>\n",
       "    <tr>\n",
       "      <th>6</th>\n",
       "      <td>27845</td>\n",
       "      <td>16251</td>\n",
       "      <td>Organic Whole Milk</td>\n",
       "    </tr>\n",
       "    <tr>\n",
       "      <th>7</th>\n",
       "      <td>47626</td>\n",
       "      <td>15044</td>\n",
       "      <td>Large Lemon</td>\n",
       "    </tr>\n",
       "    <tr>\n",
       "      <th>8</th>\n",
       "      <td>27966</td>\n",
       "      <td>14748</td>\n",
       "      <td>Organic Raspberries</td>\n",
       "    </tr>\n",
       "    <tr>\n",
       "      <th>9</th>\n",
       "      <td>16797</td>\n",
       "      <td>13945</td>\n",
       "      <td>Strawberries</td>\n",
       "    </tr>\n",
       "    <tr>\n",
       "      <th>10</th>\n",
       "      <td>26209</td>\n",
       "      <td>13327</td>\n",
       "      <td>Limes</td>\n",
       "    </tr>\n",
       "    <tr>\n",
       "      <th>11</th>\n",
       "      <td>22935</td>\n",
       "      <td>11145</td>\n",
       "      <td>Organic Yellow Onion</td>\n",
       "    </tr>\n",
       "    <tr>\n",
       "      <th>12</th>\n",
       "      <td>24964</td>\n",
       "      <td>10411</td>\n",
       "      <td>Organic Garlic</td>\n",
       "    </tr>\n",
       "    <tr>\n",
       "      <th>13</th>\n",
       "      <td>45007</td>\n",
       "      <td>10076</td>\n",
       "      <td>Organic Zucchini</td>\n",
       "    </tr>\n",
       "    <tr>\n",
       "      <th>14</th>\n",
       "      <td>49683</td>\n",
       "      <td>9538</td>\n",
       "      <td>Cucumber Kirby</td>\n",
       "    </tr>\n",
       "    <tr>\n",
       "      <th>15</th>\n",
       "      <td>28204</td>\n",
       "      <td>8989</td>\n",
       "      <td>Organic Fuji Apple</td>\n",
       "    </tr>\n",
       "    <tr>\n",
       "      <th>16</th>\n",
       "      <td>8277</td>\n",
       "      <td>8836</td>\n",
       "      <td>Apple Honeycrisp Organic</td>\n",
       "    </tr>\n",
       "    <tr>\n",
       "      <th>17</th>\n",
       "      <td>39275</td>\n",
       "      <td>8799</td>\n",
       "      <td>Organic Blueberries</td>\n",
       "    </tr>\n",
       "    <tr>\n",
       "      <th>18</th>\n",
       "      <td>5876</td>\n",
       "      <td>8412</td>\n",
       "      <td>Organic Lemon</td>\n",
       "    </tr>\n",
       "    <tr>\n",
       "      <th>19</th>\n",
       "      <td>49235</td>\n",
       "      <td>8389</td>\n",
       "      <td>Organic Half &amp; Half</td>\n",
       "    </tr>\n",
       "  </tbody>\n",
       "</table>\n",
       "</div>"
      ],
      "text/plain": [
       "    product_id  num_orders              product_name\n",
       "0        24852       55763                    Banana\n",
       "1        13176       44450    Bag of Organic Bananas\n",
       "2        21137       28639      Organic Strawberries\n",
       "3        21903       26233      Organic Baby Spinach\n",
       "4        47209       23629      Organic Hass Avocado\n",
       "5        47766       18743           Organic Avocado\n",
       "6        27845       16251        Organic Whole Milk\n",
       "7        47626       15044               Large Lemon\n",
       "8        27966       14748       Organic Raspberries\n",
       "9        16797       13945              Strawberries\n",
       "10       26209       13327                     Limes\n",
       "11       22935       11145      Organic Yellow Onion\n",
       "12       24964       10411            Organic Garlic\n",
       "13       45007       10076          Organic Zucchini\n",
       "14       49683        9538            Cucumber Kirby\n",
       "15       28204        8989        Organic Fuji Apple\n",
       "16        8277        8836  Apple Honeycrisp Organic\n",
       "17       39275        8799       Organic Blueberries\n",
       "18        5876        8412             Organic Lemon\n",
       "19       49235        8389       Organic Half & Half"
      ]
     },
     "execution_count": 44,
     "metadata": {},
     "output_type": "execute_result"
    }
   ],
   "source": [
    "\n",
    "top_20_reordered = data_orders_products.query(\"reordered == 1\")[\"product_id\"].value_counts().head(20).reset_index()\n",
    "top_20_reordered.columns=[\"product_id\", \"num_orders\"]\n",
    "top_20_reordered.merge(data_products[[\"product_name\", \"product_id\"]], how=\"left\", on=\"product_id\")"
   ]
  },
  {
   "cell_type": "markdown",
   "id": "80e70c74",
   "metadata": {
    "id": "80e70c74"
   },
   "source": [
    "Escribe aquí tus conclusiones\n",
    "\n",
    "Como era de esperarse el top 20 de los productos que vuelven a pedirse, son en un 90% los productos que se ven en el primer listado de top20 de productos mas pedidos, a excepcion de los dos ultimos que no aparecen en el anterior listado."
   ]
  },
  {
   "cell_type": "markdown",
   "id": "9d312b14",
   "metadata": {
    "id": "9d312b14"
   },
   "source": [
    "### [C3] Para cada producto, ¿cuál es la proporción de las veces que se pide y que se vuelve a pedir?"
   ]
  },
  {
   "cell_type": "code",
   "execution_count": 45,
   "id": "8ae9f4b1",
   "metadata": {
    "id": "8ae9f4b1"
   },
   "outputs": [],
   "source": [
    "conteo = data_orders_products.groupby(\"product_id\").agg(recuento=(\"product_id\", \"count\"), recompras=(\"reordered\", \"sum\"))"
   ]
  },
  {
   "cell_type": "code",
   "execution_count": 46,
   "id": "103e7fe1",
   "metadata": {
    "id": "103e7fe1"
   },
   "outputs": [
    {
     "data": {
      "text/html": [
       "<div>\n",
       "<style scoped>\n",
       "    .dataframe tbody tr th:only-of-type {\n",
       "        vertical-align: middle;\n",
       "    }\n",
       "\n",
       "    .dataframe tbody tr th {\n",
       "        vertical-align: top;\n",
       "    }\n",
       "\n",
       "    .dataframe thead th {\n",
       "        text-align: right;\n",
       "    }\n",
       "</style>\n",
       "<table border=\"1\" class=\"dataframe\">\n",
       "  <thead>\n",
       "    <tr style=\"text-align: right;\">\n",
       "      <th></th>\n",
       "      <th>recuento</th>\n",
       "      <th>recompras</th>\n",
       "      <th>porc</th>\n",
       "    </tr>\n",
       "    <tr>\n",
       "      <th>product_id</th>\n",
       "      <th></th>\n",
       "      <th></th>\n",
       "      <th></th>\n",
       "    </tr>\n",
       "  </thead>\n",
       "  <tbody>\n",
       "    <tr>\n",
       "      <th>24852</th>\n",
       "      <td>66050</td>\n",
       "      <td>55763</td>\n",
       "      <td>84.425435</td>\n",
       "    </tr>\n",
       "    <tr>\n",
       "      <th>13176</th>\n",
       "      <td>53297</td>\n",
       "      <td>44450</td>\n",
       "      <td>83.400567</td>\n",
       "    </tr>\n",
       "    <tr>\n",
       "      <th>21137</th>\n",
       "      <td>37039</td>\n",
       "      <td>28639</td>\n",
       "      <td>77.321202</td>\n",
       "    </tr>\n",
       "    <tr>\n",
       "      <th>21903</th>\n",
       "      <td>33971</td>\n",
       "      <td>26233</td>\n",
       "      <td>77.221748</td>\n",
       "    </tr>\n",
       "    <tr>\n",
       "      <th>47209</th>\n",
       "      <td>29773</td>\n",
       "      <td>23629</td>\n",
       "      <td>79.363853</td>\n",
       "    </tr>\n",
       "    <tr>\n",
       "      <th>47766</th>\n",
       "      <td>24689</td>\n",
       "      <td>18743</td>\n",
       "      <td>75.916400</td>\n",
       "    </tr>\n",
       "    <tr>\n",
       "      <th>27845</th>\n",
       "      <td>19600</td>\n",
       "      <td>16251</td>\n",
       "      <td>82.913265</td>\n",
       "    </tr>\n",
       "    <tr>\n",
       "      <th>47626</th>\n",
       "      <td>21495</td>\n",
       "      <td>15044</td>\n",
       "      <td>69.988369</td>\n",
       "    </tr>\n",
       "    <tr>\n",
       "      <th>27966</th>\n",
       "      <td>19197</td>\n",
       "      <td>14748</td>\n",
       "      <td>76.824504</td>\n",
       "    </tr>\n",
       "    <tr>\n",
       "      <th>16797</th>\n",
       "      <td>20018</td>\n",
       "      <td>13945</td>\n",
       "      <td>69.662304</td>\n",
       "    </tr>\n",
       "    <tr>\n",
       "      <th>26209</th>\n",
       "      <td>19690</td>\n",
       "      <td>13327</td>\n",
       "      <td>67.684104</td>\n",
       "    </tr>\n",
       "    <tr>\n",
       "      <th>22935</th>\n",
       "      <td>15898</td>\n",
       "      <td>11145</td>\n",
       "      <td>70.103158</td>\n",
       "    </tr>\n",
       "    <tr>\n",
       "      <th>24964</th>\n",
       "      <td>15292</td>\n",
       "      <td>10411</td>\n",
       "      <td>68.081350</td>\n",
       "    </tr>\n",
       "    <tr>\n",
       "      <th>45007</th>\n",
       "      <td>14584</td>\n",
       "      <td>10076</td>\n",
       "      <td>69.089413</td>\n",
       "    </tr>\n",
       "    <tr>\n",
       "      <th>49683</th>\n",
       "      <td>13675</td>\n",
       "      <td>9538</td>\n",
       "      <td>69.747715</td>\n",
       "    </tr>\n",
       "    <tr>\n",
       "      <th>28204</th>\n",
       "      <td>12544</td>\n",
       "      <td>8989</td>\n",
       "      <td>71.659758</td>\n",
       "    </tr>\n",
       "    <tr>\n",
       "      <th>8277</th>\n",
       "      <td>11993</td>\n",
       "      <td>8836</td>\n",
       "      <td>73.676311</td>\n",
       "    </tr>\n",
       "    <tr>\n",
       "      <th>39275</th>\n",
       "      <td>13879</td>\n",
       "      <td>8799</td>\n",
       "      <td>63.397939</td>\n",
       "    </tr>\n",
       "    <tr>\n",
       "      <th>5876</th>\n",
       "      <td>12232</td>\n",
       "      <td>8412</td>\n",
       "      <td>68.770438</td>\n",
       "    </tr>\n",
       "    <tr>\n",
       "      <th>49235</th>\n",
       "      <td>10752</td>\n",
       "      <td>8389</td>\n",
       "      <td>78.022693</td>\n",
       "    </tr>\n",
       "    <tr>\n",
       "      <th>44632</th>\n",
       "      <td>10577</td>\n",
       "      <td>8187</td>\n",
       "      <td>77.403801</td>\n",
       "    </tr>\n",
       "    <tr>\n",
       "      <th>19057</th>\n",
       "      <td>10651</td>\n",
       "      <td>8106</td>\n",
       "      <td>76.105530</td>\n",
       "    </tr>\n",
       "    <tr>\n",
       "      <th>45066</th>\n",
       "      <td>11089</td>\n",
       "      <td>8033</td>\n",
       "      <td>72.441158</td>\n",
       "    </tr>\n",
       "    <tr>\n",
       "      <th>4920</th>\n",
       "      <td>11755</td>\n",
       "      <td>7850</td>\n",
       "      <td>66.780094</td>\n",
       "    </tr>\n",
       "    <tr>\n",
       "      <th>30391</th>\n",
       "      <td>11184</td>\n",
       "      <td>7806</td>\n",
       "      <td>69.796137</td>\n",
       "    </tr>\n",
       "    <tr>\n",
       "      <th>40706</th>\n",
       "      <td>11781</td>\n",
       "      <td>7793</td>\n",
       "      <td>66.148884</td>\n",
       "    </tr>\n",
       "    <tr>\n",
       "      <th>37646</th>\n",
       "      <td>10215</td>\n",
       "      <td>7399</td>\n",
       "      <td>72.432697</td>\n",
       "    </tr>\n",
       "    <tr>\n",
       "      <th>27086</th>\n",
       "      <td>9588</td>\n",
       "      <td>7288</td>\n",
       "      <td>76.011681</td>\n",
       "    </tr>\n",
       "    <tr>\n",
       "      <th>30489</th>\n",
       "      <td>9902</td>\n",
       "      <td>7211</td>\n",
       "      <td>72.823672</td>\n",
       "    </tr>\n",
       "    <tr>\n",
       "      <th>42265</th>\n",
       "      <td>10670</td>\n",
       "      <td>7081</td>\n",
       "      <td>66.363636</td>\n",
       "    </tr>\n",
       "    <tr>\n",
       "      <th>21616</th>\n",
       "      <td>10172</td>\n",
       "      <td>7065</td>\n",
       "      <td>69.455368</td>\n",
       "    </tr>\n",
       "    <tr>\n",
       "      <th>28985</th>\n",
       "      <td>9469</td>\n",
       "      <td>6604</td>\n",
       "      <td>69.743373</td>\n",
       "    </tr>\n",
       "    <tr>\n",
       "      <th>27104</th>\n",
       "      <td>10194</td>\n",
       "      <td>6567</td>\n",
       "      <td>64.420247</td>\n",
       "    </tr>\n",
       "    <tr>\n",
       "      <th>17794</th>\n",
       "      <td>10191</td>\n",
       "      <td>6468</td>\n",
       "      <td>63.467766</td>\n",
       "    </tr>\n",
       "    <tr>\n",
       "      <th>22035</th>\n",
       "      <td>8455</td>\n",
       "      <td>6463</td>\n",
       "      <td>76.439976</td>\n",
       "    </tr>\n",
       "    <tr>\n",
       "      <th>5077</th>\n",
       "      <td>8429</td>\n",
       "      <td>6276</td>\n",
       "      <td>74.457231</td>\n",
       "    </tr>\n",
       "    <tr>\n",
       "      <th>19660</th>\n",
       "      <td>7675</td>\n",
       "      <td>6223</td>\n",
       "      <td>81.081433</td>\n",
       "    </tr>\n",
       "    <tr>\n",
       "      <th>4605</th>\n",
       "      <td>10400</td>\n",
       "      <td>6208</td>\n",
       "      <td>59.692308</td>\n",
       "    </tr>\n",
       "    <tr>\n",
       "      <th>35951</th>\n",
       "      <td>8145</td>\n",
       "      <td>6180</td>\n",
       "      <td>75.874770</td>\n",
       "    </tr>\n",
       "    <tr>\n",
       "      <th>31717</th>\n",
       "      <td>9774</td>\n",
       "      <td>6115</td>\n",
       "      <td>62.563945</td>\n",
       "    </tr>\n",
       "  </tbody>\n",
       "</table>\n",
       "</div>"
      ],
      "text/plain": [
       "            recuento  recompras       porc\n",
       "product_id                                \n",
       "24852          66050      55763  84.425435\n",
       "13176          53297      44450  83.400567\n",
       "21137          37039      28639  77.321202\n",
       "21903          33971      26233  77.221748\n",
       "47209          29773      23629  79.363853\n",
       "47766          24689      18743  75.916400\n",
       "27845          19600      16251  82.913265\n",
       "47626          21495      15044  69.988369\n",
       "27966          19197      14748  76.824504\n",
       "16797          20018      13945  69.662304\n",
       "26209          19690      13327  67.684104\n",
       "22935          15898      11145  70.103158\n",
       "24964          15292      10411  68.081350\n",
       "45007          14584      10076  69.089413\n",
       "49683          13675       9538  69.747715\n",
       "28204          12544       8989  71.659758\n",
       "8277           11993       8836  73.676311\n",
       "39275          13879       8799  63.397939\n",
       "5876           12232       8412  68.770438\n",
       "49235          10752       8389  78.022693\n",
       "44632          10577       8187  77.403801\n",
       "19057          10651       8106  76.105530\n",
       "45066          11089       8033  72.441158\n",
       "4920           11755       7850  66.780094\n",
       "30391          11184       7806  69.796137\n",
       "40706          11781       7793  66.148884\n",
       "37646          10215       7399  72.432697\n",
       "27086           9588       7288  76.011681\n",
       "30489           9902       7211  72.823672\n",
       "42265          10670       7081  66.363636\n",
       "21616          10172       7065  69.455368\n",
       "28985           9469       6604  69.743373\n",
       "27104          10194       6567  64.420247\n",
       "17794          10191       6468  63.467766\n",
       "22035           8455       6463  76.439976\n",
       "5077            8429       6276  74.457231\n",
       "19660           7675       6223  81.081433\n",
       "4605           10400       6208  59.692308\n",
       "35951           8145       6180  75.874770\n",
       "31717           9774       6115  62.563945"
      ]
     },
     "execution_count": 46,
     "metadata": {},
     "output_type": "execute_result"
    }
   ],
   "source": [
    "conteo[\"porc\"] = (conteo['recompras'] / conteo['recuento']) * 100\n",
    "conteo[conteo[\"recompras\"] > 1].sort_values(by=\"recompras\", ascending=False).head(40)\n"
   ]
  },
  {
   "cell_type": "markdown",
   "id": "I10dEIAyldcO",
   "metadata": {
    "id": "I10dEIAyldcO"
   },
   "source": [
    "Escribe aquí tus conclusiones\n",
    "\n",
    "\n",
    "Ahora podemos ver claramente cuantas veces se compró un producto, cuantas veces se volvio a comprar y el porcentaje de recompra.\n",
    "Tenemos muchos articulos donde el porcentaje es del 100% esto debido a que las compras son bajas, he organizado el cuadro de forma en que los productos mas recomprados queden en la punta y asi saber cuales son los que tienen mas salida. Donde la banana ocupa el numero 1"
   ]
  },
  {
   "cell_type": "markdown",
   "id": "subject-boxing",
   "metadata": {
    "id": "subject-boxing"
   },
   "source": [
    "### [C4] Para cada cliente, ¿qué proporción de sus productos ya los había pedido?"
   ]
  },
  {
   "cell_type": "code",
   "execution_count": 47,
   "id": "medical-couple",
   "metadata": {
    "id": "medical-couple",
    "scrolled": true
   },
   "outputs": [
    {
     "data": {
      "text/plain": [
       "<AxesSubplot:title={'center':'Proporcíon de productos reordenados'}, ylabel='Frequency'>"
      ]
     },
     "execution_count": 47,
     "metadata": {},
     "output_type": "execute_result"
    },
    {
     "data": {
      "image/png": "[encoded data removed]",
      "text/plain": [
       "<Figure size 720x360 with 1 Axes>"
      ]
     },
     "metadata": {},
     "output_type": "display_data"
    }
   ],
   "source": [
    "reordered = data_orders_products.merge(dt_insta_orders[[\"user_id\", \"order_id\"]], how=\"left\", on=\"order_id\")\n",
    "reordered_by_user = reordered.groupby(\"user_id\").agg(recuento=(\"product_id\", \"count\"), recompras=(\"reordered\", \"sum\"))\n",
    "reordered_by_user\n",
    "reordered_porc = (reordered_by_user[\"recompras\"] / reordered_by_user[\"recuento\"]) * 100\n",
    "reordered_porc.sort_values(ascending=False).plot(kind=\"hist\", title=\"Proporcíon de productos reordenados\", figsize=[10,5], bins=100)\n",
    "#dividir el numero de productos reordenador entre el numero total de ordenados"
   ]
  },
  {
   "cell_type": "markdown",
   "id": "BgJSvXDsleXz",
   "metadata": {
    "id": "BgJSvXDsleXz"
   },
   "source": [
    "Escribe aquí tus conclusiones\n",
    "\n",
    "\n",
    "Hemos almacenado el porcentaje solicitado en la variable \"reordered_porc\" ahora podemos saber el porcentaje individual de recompra para cada usuario.\n"
   ]
  },
  {
   "cell_type": "markdown",
   "id": "92d35137",
   "metadata": {
    "id": "92d35137"
   },
   "source": [
    "### [C5] ¿Cuáles son los 20 principales artículos que las personas ponen primero en sus carritos?"
   ]
  },
  {
   "cell_type": "code",
   "execution_count": 48,
   "id": "0ae57274",
   "metadata": {
    "id": "0ae57274",
    "scrolled": true
   },
   "outputs": [
    {
     "data": {
      "text/html": [
       "<div>\n",
       "<style scoped>\n",
       "    .dataframe tbody tr th:only-of-type {\n",
       "        vertical-align: middle;\n",
       "    }\n",
       "\n",
       "    .dataframe tbody tr th {\n",
       "        vertical-align: top;\n",
       "    }\n",
       "\n",
       "    .dataframe thead th {\n",
       "        text-align: right;\n",
       "    }\n",
       "</style>\n",
       "<table border=\"1\" class=\"dataframe\">\n",
       "  <thead>\n",
       "    <tr style=\"text-align: right;\">\n",
       "      <th></th>\n",
       "      <th>product_id</th>\n",
       "      <th>count</th>\n",
       "      <th>product_name</th>\n",
       "    </tr>\n",
       "  </thead>\n",
       "  <tbody>\n",
       "    <tr>\n",
       "      <th>0</th>\n",
       "      <td>24852</td>\n",
       "      <td>15562</td>\n",
       "      <td>Banana</td>\n",
       "    </tr>\n",
       "    <tr>\n",
       "      <th>1</th>\n",
       "      <td>13176</td>\n",
       "      <td>11026</td>\n",
       "      <td>Bag of Organic Bananas</td>\n",
       "    </tr>\n",
       "    <tr>\n",
       "      <th>2</th>\n",
       "      <td>27845</td>\n",
       "      <td>4363</td>\n",
       "      <td>Organic Whole Milk</td>\n",
       "    </tr>\n",
       "    <tr>\n",
       "      <th>3</th>\n",
       "      <td>21137</td>\n",
       "      <td>3946</td>\n",
       "      <td>Organic Strawberries</td>\n",
       "    </tr>\n",
       "    <tr>\n",
       "      <th>4</th>\n",
       "      <td>47209</td>\n",
       "      <td>3390</td>\n",
       "      <td>Organic Hass Avocado</td>\n",
       "    </tr>\n",
       "    <tr>\n",
       "      <th>5</th>\n",
       "      <td>21903</td>\n",
       "      <td>3336</td>\n",
       "      <td>Organic Baby Spinach</td>\n",
       "    </tr>\n",
       "    <tr>\n",
       "      <th>6</th>\n",
       "      <td>47766</td>\n",
       "      <td>3044</td>\n",
       "      <td>Organic Avocado</td>\n",
       "    </tr>\n",
       "    <tr>\n",
       "      <th>7</th>\n",
       "      <td>19660</td>\n",
       "      <td>2336</td>\n",
       "      <td>Spring Water</td>\n",
       "    </tr>\n",
       "    <tr>\n",
       "      <th>8</th>\n",
       "      <td>16797</td>\n",
       "      <td>2308</td>\n",
       "      <td>Strawberries</td>\n",
       "    </tr>\n",
       "    <tr>\n",
       "      <th>9</th>\n",
       "      <td>27966</td>\n",
       "      <td>2024</td>\n",
       "      <td>Organic Raspberries</td>\n",
       "    </tr>\n",
       "    <tr>\n",
       "      <th>10</th>\n",
       "      <td>44632</td>\n",
       "      <td>1914</td>\n",
       "      <td>Sparkling Water Grapefruit</td>\n",
       "    </tr>\n",
       "    <tr>\n",
       "      <th>11</th>\n",
       "      <td>49235</td>\n",
       "      <td>1797</td>\n",
       "      <td>Organic Half &amp; Half</td>\n",
       "    </tr>\n",
       "    <tr>\n",
       "      <th>12</th>\n",
       "      <td>47626</td>\n",
       "      <td>1737</td>\n",
       "      <td>Large Lemon</td>\n",
       "    </tr>\n",
       "    <tr>\n",
       "      <th>13</th>\n",
       "      <td>196</td>\n",
       "      <td>1733</td>\n",
       "      <td>Soda</td>\n",
       "    </tr>\n",
       "    <tr>\n",
       "      <th>14</th>\n",
       "      <td>38689</td>\n",
       "      <td>1397</td>\n",
       "      <td>Organic Reduced Fat Milk</td>\n",
       "    </tr>\n",
       "    <tr>\n",
       "      <th>15</th>\n",
       "      <td>26209</td>\n",
       "      <td>1370</td>\n",
       "      <td>Limes</td>\n",
       "    </tr>\n",
       "    <tr>\n",
       "      <th>16</th>\n",
       "      <td>12341</td>\n",
       "      <td>1340</td>\n",
       "      <td>Hass Avocados</td>\n",
       "    </tr>\n",
       "    <tr>\n",
       "      <th>17</th>\n",
       "      <td>5785</td>\n",
       "      <td>1310</td>\n",
       "      <td>Organic Reduced Fat 2% Milk</td>\n",
       "    </tr>\n",
       "    <tr>\n",
       "      <th>18</th>\n",
       "      <td>27086</td>\n",
       "      <td>1309</td>\n",
       "      <td>Half &amp; Half</td>\n",
       "    </tr>\n",
       "    <tr>\n",
       "      <th>19</th>\n",
       "      <td>43352</td>\n",
       "      <td>1246</td>\n",
       "      <td>Raspberries</td>\n",
       "    </tr>\n",
       "  </tbody>\n",
       "</table>\n",
       "</div>"
      ],
      "text/plain": [
       "    product_id  count                 product_name\n",
       "0        24852  15562                       Banana\n",
       "1        13176  11026       Bag of Organic Bananas\n",
       "2        27845   4363           Organic Whole Milk\n",
       "3        21137   3946         Organic Strawberries\n",
       "4        47209   3390         Organic Hass Avocado\n",
       "5        21903   3336         Organic Baby Spinach\n",
       "6        47766   3044              Organic Avocado\n",
       "7        19660   2336                 Spring Water\n",
       "8        16797   2308                 Strawberries\n",
       "9        27966   2024          Organic Raspberries\n",
       "10       44632   1914   Sparkling Water Grapefruit\n",
       "11       49235   1797          Organic Half & Half\n",
       "12       47626   1737                  Large Lemon\n",
       "13         196   1733                         Soda\n",
       "14       38689   1397     Organic Reduced Fat Milk\n",
       "15       26209   1370                        Limes\n",
       "16       12341   1340                Hass Avocados\n",
       "17        5785   1310  Organic Reduced Fat 2% Milk\n",
       "18       27086   1309                  Half & Half\n",
       "19       43352   1246                  Raspberries"
      ]
     },
     "execution_count": 48,
     "metadata": {},
     "output_type": "execute_result"
    }
   ],
   "source": [
    "top_first_20 = data_orders_products.query(\"add_to_cart_order == 1\")[[\"product_id\"]].value_counts().reset_index().head(20)\n",
    "top_first_20.columns=[\"product_id\", \"count\"]\n",
    "top_first_20 = top_first_20.merge(data_products[[\"product_id\", \"product_name\"]], how=\"left\", on=\"product_id\")\n",
    "\n",
    "\n",
    "\n",
    "top_first_20"
   ]
  },
  {
   "cell_type": "markdown",
   "id": "28ce9872",
   "metadata": {
    "id": "28ce9872"
   },
   "source": [
    "Escribe aquí tus conclusiones\n",
    "\n",
    "\n",
    "Ahora vemos los primeros 20 articulos en ser ordenados en primer lugar por los usuarios y usuarias\n"
   ]
  }
 ],
 "metadata": {
  "colab": {
   "provenance": []
  },
  "kernelspec": {
   "display_name": "Python 3 (ipykernel)",
   "language": "python",
   "name": "python3"
  },
  "language_info": {
   "codemirror_mode": {
    "name": "ipython",
    "version": 3
   },
   "file_extension": ".py",
   "mimetype": "text/x-python",
   "name": "python",
   "nbconvert_exporter": "python",
   "pygments_lexer": "ipython3",
   "version": "3.11.5"
  },
  "toc": {
   "base_numbering": 1,
   "nav_menu": {},
   "number_sections": true,
   "sideBar": true,
   "skip_h1_title": true,
   "title_cell": "Table of Contents",
   "title_sidebar": "Contents",
   "toc_cell": false,
   "toc_position": {},
   "toc_section_display": true,
   "toc_window_display": false
  },
  "vscode": {
   "interpreter": {
    "hash": "01a7be9ec63e704a62cefc5fe7a4756944464ee731be31632bdf42a4cb4688cf"
   }
  }
 },
 "nbformat": 4,
 "nbformat_minor": 5
}
