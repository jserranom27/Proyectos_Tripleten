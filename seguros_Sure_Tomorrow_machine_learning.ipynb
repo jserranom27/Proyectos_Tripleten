{
 "cells": [
  {
   "cell_type": "markdown",
   "metadata": {},
   "source": [
    "# Descripción"
   ]
  },
  {
   "cell_type": "markdown",
   "metadata": {},
   "source": [
    "La compañía de seguros Sure Tomorrow quiere resolver varias tareas con la ayuda de machine learning y te pide que evalúes esa posibilidad.\n",
    "- Tarea 1: encontrar clientes que sean similares a un cliente determinado. Esto ayudará a los agentes de la compañía con el marketing.\n",
    "- Tarea 2: predecir la probabilidad de que un nuevo cliente reciba una prestación del seguro. ¿Puede un modelo de predictivo funcionar mejor que un modelo dummy?\n",
    "- Tarea 3: predecir el número de prestaciones de seguro que un nuevo cliente pueda recibir utilizando un modelo de regresión lineal.\n",
    "- Tarea 4: proteger los datos personales de los clientes sin afectar al modelo del ejercicio anterior. Es necesario desarrollar un algoritmo de transformación de datos que dificulte la recuperación de la información personal si los datos caen en manos equivocadas. Esto se denomina enmascaramiento u ofuscación de datos. Pero los datos deben protegerse de tal manera que no se vea afectada la calidad de los modelos de machine learning. No es necesario elegir el mejor modelo, basta con demostrar que el algoritmo funciona correctamente.\n"
   ]
  },
  {
   "cell_type": "markdown",
   "metadata": {},
   "source": [
    "# Preprocesamiento y exploración de datos\n",
    "\n",
    "## Inicialización"
   ]
  },
  {
   "cell_type": "code",
   "execution_count": 1,
   "metadata": {},
   "outputs": [
    {
     "name": "stdout",
     "output_type": "stream",
     "text": [
      "Requirement already satisfied: scikit-learn in /opt/conda/envs/python3/lib/python3.9/site-packages (0.24.1)\n",
      "Collecting scikit-learn\n",
      "  Downloading scikit_learn-1.4.2-cp39-cp39-manylinux_2_17_x86_64.manylinux2014_x86_64.whl.metadata (11 kB)\n",
      "Requirement already satisfied: numpy>=1.19.5 in /opt/conda/envs/python3/lib/python3.9/site-packages (from scikit-learn) (1.21.2)\n",
      "Requirement already satisfied: scipy>=1.6.0 in /opt/conda/envs/python3/lib/python3.9/site-packages (from scikit-learn) (1.10.1)\n",
      "Requirement already satisfied: joblib>=1.2.0 in /opt/conda/envs/python3/lib/python3.9/site-packages (from scikit-learn) (1.4.2)\n",
      "Requirement already satisfied: threadpoolctl>=2.0.0 in /opt/conda/envs/python3/lib/python3.9/site-packages (from scikit-learn) (3.5.0)\n",
      "Downloading scikit_learn-1.4.2-cp39-cp39-manylinux_2_17_x86_64.manylinux2014_x86_64.whl (12.2 MB)\n",
      "\u001b[2K   \u001b[90m━━━━━━━━━━━━━━━━━━━━━━━━━━━━━━━━━━━━━━━━\u001b[0m \u001b[32m12.2/12.2 MB\u001b[0m \u001b[31m66.7 MB/s\u001b[0m eta \u001b[36m0:00:00\u001b[0m00:01\u001b[0m0:01\u001b[0m\n",
      "\u001b[?25hInstalling collected packages: scikit-learn\n",
      "  Attempting uninstall: scikit-learn\n",
      "    Found existing installation: scikit-learn 0.24.1\n",
      "    Uninstalling scikit-learn-0.24.1:\n",
      "\u001b[31mERROR: Could not install packages due to an OSError: [Errno 13] Permission denied: 'COPYING'\n",
      "Consider using the `--user` option or check the permissions.\n",
      "\u001b[0m\u001b[31m\n",
      "\u001b[0mNote: you may need to restart the kernel to use updated packages.\n"
     ]
    }
   ],
   "source": [
    "pip install scikit-learn --upgrade"
   ]
  },
  {
   "cell_type": "code",
   "execution_count": 2,
   "metadata": {},
   "outputs": [],
   "source": [
    "import numpy as np\n",
    "import pandas as pd\n",
    "\n",
    "import seaborn as sns\n",
    "import matplotlib.pyplot as plt\n",
    "import sklearn.linear_model\n",
    "import sklearn.metrics\n",
    "import sklearn.neighbors\n",
    "import sklearn.preprocessing\n",
    "from sklearn.neighbors import NearestNeighbors\n",
    "from sklearn.model_selection import train_test_split\n",
    "from sklearn.metrics import mean_squared_error\n",
    "from sklearn.metrics import r2_score\n",
    "import math\n",
    "from scipy.stats import mode\n",
    "\n",
    "\n",
    "from IPython.display import display"
   ]
  },
  {
   "cell_type": "markdown",
   "metadata": {},
   "source": [
    "## Carga de datos"
   ]
  },
  {
   "cell_type": "markdown",
   "metadata": {},
   "source": [
    "Carga los datos y haz una revisión básica para comprobar que no hay problemas obvios."
   ]
  },
  {
   "cell_type": "code",
   "execution_count": 3,
   "metadata": {},
   "outputs": [],
   "source": [
    "df = pd.read_csv('/datasets/insurance_us.csv')"
   ]
  },
  {
   "cell_type": "markdown",
   "metadata": {},
   "source": [
    "Renombramos las columnas para que el código se vea más coherente con su estilo."
   ]
  },
  {
   "cell_type": "code",
   "execution_count": 4,
   "metadata": {},
   "outputs": [],
   "source": [
    "df = df.rename(columns={'Gender': 'gender', 'Age': 'age', 'Salary': 'income', 'Family members': 'family_members', 'Insurance benefits': 'insurance_benefits'})"
   ]
  },
  {
   "cell_type": "code",
   "execution_count": 5,
   "metadata": {},
   "outputs": [
    {
     "data": {
      "text/html": [
       "<div>\n",
       "<style scoped>\n",
       "    .dataframe tbody tr th:only-of-type {\n",
       "        vertical-align: middle;\n",
       "    }\n",
       "\n",
       "    .dataframe tbody tr th {\n",
       "        vertical-align: top;\n",
       "    }\n",
       "\n",
       "    .dataframe thead th {\n",
       "        text-align: right;\n",
       "    }\n",
       "</style>\n",
       "<table border=\"1\" class=\"dataframe\">\n",
       "  <thead>\n",
       "    <tr style=\"text-align: right;\">\n",
       "      <th></th>\n",
       "      <th>gender</th>\n",
       "      <th>age</th>\n",
       "      <th>income</th>\n",
       "      <th>family_members</th>\n",
       "      <th>insurance_benefits</th>\n",
       "    </tr>\n",
       "  </thead>\n",
       "  <tbody>\n",
       "    <tr>\n",
       "      <th>4745</th>\n",
       "      <td>0</td>\n",
       "      <td>25.0</td>\n",
       "      <td>35500.0</td>\n",
       "      <td>2</td>\n",
       "      <td>0</td>\n",
       "    </tr>\n",
       "    <tr>\n",
       "      <th>4478</th>\n",
       "      <td>1</td>\n",
       "      <td>45.0</td>\n",
       "      <td>50600.0</td>\n",
       "      <td>1</td>\n",
       "      <td>1</td>\n",
       "    </tr>\n",
       "    <tr>\n",
       "      <th>4650</th>\n",
       "      <td>1</td>\n",
       "      <td>23.0</td>\n",
       "      <td>42000.0</td>\n",
       "      <td>0</td>\n",
       "      <td>0</td>\n",
       "    </tr>\n",
       "    <tr>\n",
       "      <th>2870</th>\n",
       "      <td>1</td>\n",
       "      <td>36.0</td>\n",
       "      <td>33500.0</td>\n",
       "      <td>2</td>\n",
       "      <td>0</td>\n",
       "    </tr>\n",
       "    <tr>\n",
       "      <th>1927</th>\n",
       "      <td>1</td>\n",
       "      <td>30.0</td>\n",
       "      <td>54900.0</td>\n",
       "      <td>1</td>\n",
       "      <td>0</td>\n",
       "    </tr>\n",
       "    <tr>\n",
       "      <th>4225</th>\n",
       "      <td>1</td>\n",
       "      <td>43.0</td>\n",
       "      <td>57000.0</td>\n",
       "      <td>1</td>\n",
       "      <td>1</td>\n",
       "    </tr>\n",
       "    <tr>\n",
       "      <th>3004</th>\n",
       "      <td>0</td>\n",
       "      <td>38.0</td>\n",
       "      <td>31500.0</td>\n",
       "      <td>1</td>\n",
       "      <td>0</td>\n",
       "    </tr>\n",
       "    <tr>\n",
       "      <th>343</th>\n",
       "      <td>0</td>\n",
       "      <td>25.0</td>\n",
       "      <td>54900.0</td>\n",
       "      <td>1</td>\n",
       "      <td>0</td>\n",
       "    </tr>\n",
       "    <tr>\n",
       "      <th>3914</th>\n",
       "      <td>1</td>\n",
       "      <td>39.0</td>\n",
       "      <td>32000.0</td>\n",
       "      <td>1</td>\n",
       "      <td>0</td>\n",
       "    </tr>\n",
       "    <tr>\n",
       "      <th>3534</th>\n",
       "      <td>1</td>\n",
       "      <td>39.0</td>\n",
       "      <td>30900.0</td>\n",
       "      <td>1</td>\n",
       "      <td>0</td>\n",
       "    </tr>\n",
       "  </tbody>\n",
       "</table>\n",
       "</div>"
      ],
      "text/plain": [
       "      gender   age   income  family_members  insurance_benefits\n",
       "4745       0  25.0  35500.0               2                   0\n",
       "4478       1  45.0  50600.0               1                   1\n",
       "4650       1  23.0  42000.0               0                   0\n",
       "2870       1  36.0  33500.0               2                   0\n",
       "1927       1  30.0  54900.0               1                   0\n",
       "4225       1  43.0  57000.0               1                   1\n",
       "3004       0  38.0  31500.0               1                   0\n",
       "343        0  25.0  54900.0               1                   0\n",
       "3914       1  39.0  32000.0               1                   0\n",
       "3534       1  39.0  30900.0               1                   0"
      ]
     },
     "execution_count": 5,
     "metadata": {},
     "output_type": "execute_result"
    }
   ],
   "source": [
    "df.sample(10)"
   ]
  },
  {
   "cell_type": "code",
   "execution_count": 6,
   "metadata": {},
   "outputs": [
    {
     "name": "stdout",
     "output_type": "stream",
     "text": [
      "<class 'pandas.core.frame.DataFrame'>\n",
      "RangeIndex: 5000 entries, 0 to 4999\n",
      "Data columns (total 5 columns):\n",
      " #   Column              Non-Null Count  Dtype  \n",
      "---  ------              --------------  -----  \n",
      " 0   gender              5000 non-null   int64  \n",
      " 1   age                 5000 non-null   float64\n",
      " 2   income              5000 non-null   float64\n",
      " 3   family_members      5000 non-null   int64  \n",
      " 4   insurance_benefits  5000 non-null   int64  \n",
      "dtypes: float64(2), int64(3)\n",
      "memory usage: 195.4 KB\n"
     ]
    }
   ],
   "source": [
    "df.info()"
   ]
  },
  {
   "cell_type": "code",
   "execution_count": 7,
   "metadata": {},
   "outputs": [],
   "source": [
    "# puede que queramos cambiar el tipo de edad (de float a int) aunque esto no es crucial\n",
    "\n",
    "# escribe tu conversión aquí si lo deseas:\n",
    "\n",
    "df[\"age\"] = df[\"age\"].astype(\"Int64\")\n"
   ]
  },
  {
   "cell_type": "code",
   "execution_count": 8,
   "metadata": {},
   "outputs": [],
   "source": [
    "# cambiaremos el tipo de dato de income por entero tambien\n",
    "df[\"income\"] = df[\"income\"].round()\n",
    "\n",
    "df[\"income\"] = df[\"income\"].astype(\"Int64\")\n"
   ]
  },
  {
   "cell_type": "code",
   "execution_count": 9,
   "metadata": {},
   "outputs": [
    {
     "name": "stdout",
     "output_type": "stream",
     "text": [
      "0       41\n",
      "1       46\n",
      "2       29\n",
      "3       21\n",
      "4       28\n",
      "        ..\n",
      "4995    28\n",
      "4996    34\n",
      "4997    20\n",
      "4998    22\n",
      "4999    28\n",
      "Name: age, Length: 5000, dtype: Int64\n"
     ]
    },
    {
     "data": {
      "text/plain": [
       "0       49600\n",
       "1       38000\n",
       "2       21000\n",
       "3       41700\n",
       "4       26100\n",
       "        ...  \n",
       "4995    35700\n",
       "4996    52400\n",
       "4997    33900\n",
       "4998    32700\n",
       "4999    40600\n",
       "Name: income, Length: 5000, dtype: Int64"
      ]
     },
     "execution_count": 9,
     "metadata": {},
     "output_type": "execute_result"
    }
   ],
   "source": [
    "# comprueba que la conversión se haya realizado con éxito\n",
    "\n",
    "print(df[\"age\"])\n",
    "df[\"income\"]"
   ]
  },
  {
   "cell_type": "code",
   "execution_count": 10,
   "metadata": {},
   "outputs": [],
   "source": [
    "# ahora echa un vistazo a las estadísticas descriptivas de los datos.# ¿Se ve todo bien?"
   ]
  },
  {
   "cell_type": "code",
   "execution_count": 11,
   "metadata": {},
   "outputs": [
    {
     "data": {
      "text/html": [
       "<div>\n",
       "<style scoped>\n",
       "    .dataframe tbody tr th:only-of-type {\n",
       "        vertical-align: middle;\n",
       "    }\n",
       "\n",
       "    .dataframe tbody tr th {\n",
       "        vertical-align: top;\n",
       "    }\n",
       "\n",
       "    .dataframe thead th {\n",
       "        text-align: right;\n",
       "    }\n",
       "</style>\n",
       "<table border=\"1\" class=\"dataframe\">\n",
       "  <thead>\n",
       "    <tr style=\"text-align: right;\">\n",
       "      <th></th>\n",
       "      <th>gender</th>\n",
       "      <th>age</th>\n",
       "      <th>income</th>\n",
       "      <th>family_members</th>\n",
       "      <th>insurance_benefits</th>\n",
       "    </tr>\n",
       "  </thead>\n",
       "  <tbody>\n",
       "    <tr>\n",
       "      <th>count</th>\n",
       "      <td>5000.000000</td>\n",
       "      <td>5000.000000</td>\n",
       "      <td>5000.000000</td>\n",
       "      <td>5000.000000</td>\n",
       "      <td>5000.000000</td>\n",
       "    </tr>\n",
       "    <tr>\n",
       "      <th>mean</th>\n",
       "      <td>0.499000</td>\n",
       "      <td>30.952800</td>\n",
       "      <td>39916.360000</td>\n",
       "      <td>1.194200</td>\n",
       "      <td>0.148000</td>\n",
       "    </tr>\n",
       "    <tr>\n",
       "      <th>std</th>\n",
       "      <td>0.500049</td>\n",
       "      <td>8.440807</td>\n",
       "      <td>9900.083569</td>\n",
       "      <td>1.091387</td>\n",
       "      <td>0.463183</td>\n",
       "    </tr>\n",
       "    <tr>\n",
       "      <th>min</th>\n",
       "      <td>0.000000</td>\n",
       "      <td>18.000000</td>\n",
       "      <td>5300.000000</td>\n",
       "      <td>0.000000</td>\n",
       "      <td>0.000000</td>\n",
       "    </tr>\n",
       "    <tr>\n",
       "      <th>25%</th>\n",
       "      <td>0.000000</td>\n",
       "      <td>24.000000</td>\n",
       "      <td>33300.000000</td>\n",
       "      <td>0.000000</td>\n",
       "      <td>0.000000</td>\n",
       "    </tr>\n",
       "    <tr>\n",
       "      <th>50%</th>\n",
       "      <td>0.000000</td>\n",
       "      <td>30.000000</td>\n",
       "      <td>40200.000000</td>\n",
       "      <td>1.000000</td>\n",
       "      <td>0.000000</td>\n",
       "    </tr>\n",
       "    <tr>\n",
       "      <th>75%</th>\n",
       "      <td>1.000000</td>\n",
       "      <td>37.000000</td>\n",
       "      <td>46600.000000</td>\n",
       "      <td>2.000000</td>\n",
       "      <td>0.000000</td>\n",
       "    </tr>\n",
       "    <tr>\n",
       "      <th>max</th>\n",
       "      <td>1.000000</td>\n",
       "      <td>65.000000</td>\n",
       "      <td>79000.000000</td>\n",
       "      <td>6.000000</td>\n",
       "      <td>5.000000</td>\n",
       "    </tr>\n",
       "  </tbody>\n",
       "</table>\n",
       "</div>"
      ],
      "text/plain": [
       "            gender          age        income  family_members  \\\n",
       "count  5000.000000  5000.000000   5000.000000     5000.000000   \n",
       "mean      0.499000    30.952800  39916.360000        1.194200   \n",
       "std       0.500049     8.440807   9900.083569        1.091387   \n",
       "min       0.000000    18.000000   5300.000000        0.000000   \n",
       "25%       0.000000    24.000000  33300.000000        0.000000   \n",
       "50%       0.000000    30.000000  40200.000000        1.000000   \n",
       "75%       1.000000    37.000000  46600.000000        2.000000   \n",
       "max       1.000000    65.000000  79000.000000        6.000000   \n",
       "\n",
       "       insurance_benefits  \n",
       "count         5000.000000  \n",
       "mean             0.148000  \n",
       "std              0.463183  \n",
       "min              0.000000  \n",
       "25%              0.000000  \n",
       "50%              0.000000  \n",
       "75%              0.000000  \n",
       "max              5.000000  "
      ]
     },
     "execution_count": 11,
     "metadata": {},
     "output_type": "execute_result"
    }
   ],
   "source": [
    "df.describe()"
   ]
  },
  {
   "cell_type": "markdown",
   "metadata": {},
   "source": [
    "## Análisis exploratorio de datos"
   ]
  },
  {
   "cell_type": "markdown",
   "metadata": {},
   "source": [
    "Vamos a comprobar rápidamente si existen determinados grupos de clientes observando el gráfico de pares."
   ]
  },
  {
   "cell_type": "code",
   "execution_count": 12,
   "metadata": {},
   "outputs": [
    {
     "data": {
      "image/png": "[encoded data removed]",
      "text/plain": [
       "<Figure size 1200x1200 with 30 Axes>"
      ]
     },
     "metadata": {},
     "output_type": "display_data"
    }
   ],
   "source": [
    "g = sns.pairplot(df, kind='hist')\n",
    "g.fig.set_size_inches(12, 12)"
   ]
  },
  {
   "cell_type": "markdown",
   "metadata": {},
   "source": [
    "De acuerdo, es un poco complicado detectar grupos obvios (clústeres) ya que es difícil combinar diversas variables simultáneamente (para analizar distribuciones multivariadas). Ahí es donde LA y ML pueden ser bastante útiles."
   ]
  },
  {
   "cell_type": "markdown",
   "metadata": {},
   "source": [
    "# Tarea 1. Clientes similares"
   ]
  },
  {
   "cell_type": "markdown",
   "metadata": {},
   "source": [
    "En el lenguaje de ML, es necesario desarrollar un procedimiento que devuelva los k vecinos más cercanos (objetos) para un objeto dado basándose en la distancia entre los objetos.\n",
    "Es posible que quieras revisar las siguientes lecciones (capítulo -> lección)- Distancia entre vectores -> Distancia euclidiana\n",
    "- Distancia entre vectores -> Distancia Manhattan\n",
    "\n",
    "Para resolver la tarea, podemos probar diferentes métricas de distancia."
   ]
  },
  {
   "cell_type": "markdown",
   "metadata": {},
   "source": [
    "Escribe una función que devuelva los k vecinos más cercanos para un $n^{th}$ objeto basándose en una métrica de distancia especificada. A la hora de realizar esta tarea no debe tenerse en cuenta el número de prestaciones de seguro recibidas.\n",
    "Puedes utilizar una implementación ya existente del algoritmo kNN de scikit-learn (consulta [el enlace](https://scikit-learn.org/stable/modules/generated/sklearn.neighbors.NearestNeighbors.html#sklearn.neighbors.NearestNeighbors)) o tu propia implementación.\n",
    "Pruébalo para cuatro combinaciones de dos casos- Escalado\n",
    "  - los datos no están escalados\n",
    "  - los datos se escalan con el escalador [MaxAbsScaler](https://scikit-learn.org/stable/modules/generated/sklearn.preprocessing.MaxAbsScaler.html)\n",
    "- Métricas de distancia\n",
    "  - Euclidiana\n",
    "  - Manhattan\n",
    "\n",
    "Responde a estas preguntas:- ¿El hecho de que los datos no estén escalados afecta al algoritmo kNN? Si es así, ¿cómo se manifiesta?- ¿Qué tan similares son los resultados al utilizar la métrica de distancia Manhattan (independientemente del escalado)?"
   ]
  },
  {
   "cell_type": "code",
   "execution_count": 13,
   "metadata": {},
   "outputs": [],
   "source": [
    "feature_names = ['gender', 'age', 'income', 'family_members']"
   ]
  },
  {
   "cell_type": "code",
   "execution_count": 14,
   "metadata": {},
   "outputs": [],
   "source": [
    "def get_knn(df, n, k, metric):\n",
    "    \n",
    "    \"\"\"\n",
    "    Devuelve los k vecinos más cercanos\n",
    "\n",
    "    :param df: DataFrame de pandas utilizado para encontrar objetos similares dentro del mismo lugar    \n",
    "    :param n: número de objetos para los que se buscan los vecinos más cercanos    \n",
    "    :param k: número de vecinos más cercanos a devolver\n",
    "    :param métrica: nombre de la métrica de distancia    \"\"\"\n",
    "\n",
    "    nbrs = NearestNeighbors(n_neighbors=k, metric=metric)\n",
    "    nbrs.fit(df[feature_names])\n",
    "    nbrs_distances, nbrs_indices = nbrs.kneighbors([df.iloc[n][feature_names]], k, return_distance=True)\n",
    "    \n",
    "    df_res = pd.concat([\n",
    "        df.iloc[nbrs_indices[0]],\n",
    "        pd.DataFrame(nbrs_distances.T, index=nbrs_indices[0], columns=['distance'])\n",
    "        ], axis=1)\n",
    "    \n",
    "    return df_res"
   ]
  },
  {
   "cell_type": "markdown",
   "metadata": {},
   "source": [
    "Escalar datos."
   ]
  },
  {
   "cell_type": "code",
   "execution_count": 15,
   "metadata": {},
   "outputs": [],
   "source": [
    "feature_names = ['gender', 'age', 'income', 'family_members']\n",
    "\n",
    "transformer_mas = sklearn.preprocessing.MaxAbsScaler().fit(df[feature_names].to_numpy())\n",
    "\n",
    "df_scaled = df.copy()\n",
    "df_scaled.loc[:, feature_names] = transformer_mas.transform(df[feature_names].to_numpy())"
   ]
  },
  {
   "cell_type": "code",
   "execution_count": 16,
   "metadata": {},
   "outputs": [
    {
     "data": {
      "text/html": [
       "<div>\n",
       "<style scoped>\n",
       "    .dataframe tbody tr th:only-of-type {\n",
       "        vertical-align: middle;\n",
       "    }\n",
       "\n",
       "    .dataframe tbody tr th {\n",
       "        vertical-align: top;\n",
       "    }\n",
       "\n",
       "    .dataframe thead th {\n",
       "        text-align: right;\n",
       "    }\n",
       "</style>\n",
       "<table border=\"1\" class=\"dataframe\">\n",
       "  <thead>\n",
       "    <tr style=\"text-align: right;\">\n",
       "      <th></th>\n",
       "      <th>gender</th>\n",
       "      <th>age</th>\n",
       "      <th>income</th>\n",
       "      <th>family_members</th>\n",
       "      <th>insurance_benefits</th>\n",
       "    </tr>\n",
       "  </thead>\n",
       "  <tbody>\n",
       "    <tr>\n",
       "      <th>1226</th>\n",
       "      <td>0.0</td>\n",
       "      <td>0.476923</td>\n",
       "      <td>0.375949</td>\n",
       "      <td>0.166667</td>\n",
       "      <td>0</td>\n",
       "    </tr>\n",
       "    <tr>\n",
       "      <th>2722</th>\n",
       "      <td>0.0</td>\n",
       "      <td>0.446154</td>\n",
       "      <td>0.534177</td>\n",
       "      <td>0.333333</td>\n",
       "      <td>0</td>\n",
       "    </tr>\n",
       "    <tr>\n",
       "      <th>4196</th>\n",
       "      <td>0.0</td>\n",
       "      <td>0.369231</td>\n",
       "      <td>0.427848</td>\n",
       "      <td>0.000000</td>\n",
       "      <td>0</td>\n",
       "    </tr>\n",
       "    <tr>\n",
       "      <th>2770</th>\n",
       "      <td>0.0</td>\n",
       "      <td>0.584615</td>\n",
       "      <td>0.431646</td>\n",
       "      <td>0.166667</td>\n",
       "      <td>0</td>\n",
       "    </tr>\n",
       "    <tr>\n",
       "      <th>577</th>\n",
       "      <td>0.0</td>\n",
       "      <td>0.476923</td>\n",
       "      <td>0.311392</td>\n",
       "      <td>0.333333</td>\n",
       "      <td>0</td>\n",
       "    </tr>\n",
       "  </tbody>\n",
       "</table>\n",
       "</div>"
      ],
      "text/plain": [
       "      gender       age    income  family_members  insurance_benefits\n",
       "1226     0.0  0.476923  0.375949        0.166667                   0\n",
       "2722     0.0  0.446154  0.534177        0.333333                   0\n",
       "4196     0.0  0.369231  0.427848        0.000000                   0\n",
       "2770     0.0  0.584615  0.431646        0.166667                   0\n",
       "577      0.0  0.476923  0.311392        0.333333                   0"
      ]
     },
     "execution_count": 16,
     "metadata": {},
     "output_type": "execute_result"
    }
   ],
   "source": [
    "df_scaled.sample(5)"
   ]
  },
  {
   "cell_type": "code",
   "execution_count": 17,
   "metadata": {},
   "outputs": [
    {
     "data": {
      "text/html": [
       "<div>\n",
       "<style scoped>\n",
       "    .dataframe tbody tr th:only-of-type {\n",
       "        vertical-align: middle;\n",
       "    }\n",
       "\n",
       "    .dataframe tbody tr th {\n",
       "        vertical-align: top;\n",
       "    }\n",
       "\n",
       "    .dataframe thead th {\n",
       "        text-align: right;\n",
       "    }\n",
       "</style>\n",
       "<table border=\"1\" class=\"dataframe\">\n",
       "  <thead>\n",
       "    <tr style=\"text-align: right;\">\n",
       "      <th></th>\n",
       "      <th>gender</th>\n",
       "      <th>age</th>\n",
       "      <th>income</th>\n",
       "      <th>family_members</th>\n",
       "      <th>insurance_benefits</th>\n",
       "    </tr>\n",
       "  </thead>\n",
       "  <tbody>\n",
       "    <tr>\n",
       "      <th>count</th>\n",
       "      <td>5000.000000</td>\n",
       "      <td>5000.000000</td>\n",
       "      <td>5000.000000</td>\n",
       "      <td>5000.000000</td>\n",
       "      <td>5000.000000</td>\n",
       "    </tr>\n",
       "    <tr>\n",
       "      <th>mean</th>\n",
       "      <td>0.499000</td>\n",
       "      <td>0.476197</td>\n",
       "      <td>0.505270</td>\n",
       "      <td>0.199033</td>\n",
       "      <td>0.148000</td>\n",
       "    </tr>\n",
       "    <tr>\n",
       "      <th>std</th>\n",
       "      <td>0.500049</td>\n",
       "      <td>0.129859</td>\n",
       "      <td>0.125318</td>\n",
       "      <td>0.181898</td>\n",
       "      <td>0.463183</td>\n",
       "    </tr>\n",
       "    <tr>\n",
       "      <th>min</th>\n",
       "      <td>0.000000</td>\n",
       "      <td>0.276923</td>\n",
       "      <td>0.067089</td>\n",
       "      <td>0.000000</td>\n",
       "      <td>0.000000</td>\n",
       "    </tr>\n",
       "    <tr>\n",
       "      <th>25%</th>\n",
       "      <td>0.000000</td>\n",
       "      <td>0.369231</td>\n",
       "      <td>0.421519</td>\n",
       "      <td>0.000000</td>\n",
       "      <td>0.000000</td>\n",
       "    </tr>\n",
       "    <tr>\n",
       "      <th>50%</th>\n",
       "      <td>0.000000</td>\n",
       "      <td>0.461538</td>\n",
       "      <td>0.508861</td>\n",
       "      <td>0.166667</td>\n",
       "      <td>0.000000</td>\n",
       "    </tr>\n",
       "    <tr>\n",
       "      <th>75%</th>\n",
       "      <td>1.000000</td>\n",
       "      <td>0.569231</td>\n",
       "      <td>0.589873</td>\n",
       "      <td>0.333333</td>\n",
       "      <td>0.000000</td>\n",
       "    </tr>\n",
       "    <tr>\n",
       "      <th>max</th>\n",
       "      <td>1.000000</td>\n",
       "      <td>1.000000</td>\n",
       "      <td>1.000000</td>\n",
       "      <td>1.000000</td>\n",
       "      <td>5.000000</td>\n",
       "    </tr>\n",
       "  </tbody>\n",
       "</table>\n",
       "</div>"
      ],
      "text/plain": [
       "            gender          age       income  family_members  \\\n",
       "count  5000.000000  5000.000000  5000.000000     5000.000000   \n",
       "mean      0.499000     0.476197     0.505270        0.199033   \n",
       "std       0.500049     0.129859     0.125318        0.181898   \n",
       "min       0.000000     0.276923     0.067089        0.000000   \n",
       "25%       0.000000     0.369231     0.421519        0.000000   \n",
       "50%       0.000000     0.461538     0.508861        0.166667   \n",
       "75%       1.000000     0.569231     0.589873        0.333333   \n",
       "max       1.000000     1.000000     1.000000        1.000000   \n",
       "\n",
       "       insurance_benefits  \n",
       "count         5000.000000  \n",
       "mean             0.148000  \n",
       "std              0.463183  \n",
       "min              0.000000  \n",
       "25%              0.000000  \n",
       "50%              0.000000  \n",
       "75%              0.000000  \n",
       "max              5.000000  "
      ]
     },
     "execution_count": 17,
     "metadata": {},
     "output_type": "execute_result"
    }
   ],
   "source": [
    "df_scaled.describe()"
   ]
  },
  {
   "cell_type": "markdown",
   "metadata": {},
   "source": [
    "Ahora, vamos a obtener registros similares para uno determinado, para cada combinación"
   ]
  },
  {
   "cell_type": "code",
   "execution_count": 18,
   "metadata": {},
   "outputs": [
    {
     "data": {
      "text/html": [
       "<div>\n",
       "<style scoped>\n",
       "    .dataframe tbody tr th:only-of-type {\n",
       "        vertical-align: middle;\n",
       "    }\n",
       "\n",
       "    .dataframe tbody tr th {\n",
       "        vertical-align: top;\n",
       "    }\n",
       "\n",
       "    .dataframe thead th {\n",
       "        text-align: right;\n",
       "    }\n",
       "</style>\n",
       "<table border=\"1\" class=\"dataframe\">\n",
       "  <thead>\n",
       "    <tr style=\"text-align: right;\">\n",
       "      <th></th>\n",
       "      <th>gender</th>\n",
       "      <th>age</th>\n",
       "      <th>income</th>\n",
       "      <th>family_members</th>\n",
       "      <th>insurance_benefits</th>\n",
       "      <th>distance</th>\n",
       "    </tr>\n",
       "  </thead>\n",
       "  <tbody>\n",
       "    <tr>\n",
       "      <th>3972</th>\n",
       "      <td>1</td>\n",
       "      <td>40</td>\n",
       "      <td>41000</td>\n",
       "      <td>1</td>\n",
       "      <td>0</td>\n",
       "      <td>0.000000</td>\n",
       "    </tr>\n",
       "    <tr>\n",
       "      <th>5</th>\n",
       "      <td>1</td>\n",
       "      <td>43</td>\n",
       "      <td>41000</td>\n",
       "      <td>2</td>\n",
       "      <td>1</td>\n",
       "      <td>3.162278</td>\n",
       "    </tr>\n",
       "    <tr>\n",
       "      <th>2717</th>\n",
       "      <td>0</td>\n",
       "      <td>37</td>\n",
       "      <td>41000</td>\n",
       "      <td>0</td>\n",
       "      <td>0</td>\n",
       "      <td>3.316625</td>\n",
       "    </tr>\n",
       "    <tr>\n",
       "      <th>3434</th>\n",
       "      <td>1</td>\n",
       "      <td>36</td>\n",
       "      <td>41000</td>\n",
       "      <td>2</td>\n",
       "      <td>0</td>\n",
       "      <td>4.123106</td>\n",
       "    </tr>\n",
       "    <tr>\n",
       "      <th>1740</th>\n",
       "      <td>0</td>\n",
       "      <td>36</td>\n",
       "      <td>41000</td>\n",
       "      <td>1</td>\n",
       "      <td>0</td>\n",
       "      <td>4.123106</td>\n",
       "    </tr>\n",
       "    <tr>\n",
       "      <th>1383</th>\n",
       "      <td>1</td>\n",
       "      <td>35</td>\n",
       "      <td>41000</td>\n",
       "      <td>0</td>\n",
       "      <td>0</td>\n",
       "      <td>5.099020</td>\n",
       "    </tr>\n",
       "  </tbody>\n",
       "</table>\n",
       "</div>"
      ],
      "text/plain": [
       "      gender  age  income  family_members  insurance_benefits  distance\n",
       "3972       1   40   41000               1                   0  0.000000\n",
       "5          1   43   41000               2                   1  3.162278\n",
       "2717       0   37   41000               0                   0  3.316625\n",
       "3434       1   36   41000               2                   0  4.123106\n",
       "1740       0   36   41000               1                   0  4.123106\n",
       "1383       1   35   41000               0                   0  5.099020"
      ]
     },
     "execution_count": 18,
     "metadata": {},
     "output_type": "execute_result"
    }
   ],
   "source": [
    "n = 3972\n",
    "k = 6\n",
    "eu = get_knn(df, n, k, \"euclidean\")\n",
    "eu"
   ]
  },
  {
   "cell_type": "code",
   "execution_count": 19,
   "metadata": {},
   "outputs": [
    {
     "data": {
      "text/html": [
       "<div>\n",
       "<style scoped>\n",
       "    .dataframe tbody tr th:only-of-type {\n",
       "        vertical-align: middle;\n",
       "    }\n",
       "\n",
       "    .dataframe tbody tr th {\n",
       "        vertical-align: top;\n",
       "    }\n",
       "\n",
       "    .dataframe thead th {\n",
       "        text-align: right;\n",
       "    }\n",
       "</style>\n",
       "<table border=\"1\" class=\"dataframe\">\n",
       "  <thead>\n",
       "    <tr style=\"text-align: right;\">\n",
       "      <th></th>\n",
       "      <th>gender</th>\n",
       "      <th>age</th>\n",
       "      <th>income</th>\n",
       "      <th>family_members</th>\n",
       "      <th>insurance_benefits</th>\n",
       "      <th>distance</th>\n",
       "    </tr>\n",
       "  </thead>\n",
       "  <tbody>\n",
       "    <tr>\n",
       "      <th>3972</th>\n",
       "      <td>1</td>\n",
       "      <td>40</td>\n",
       "      <td>41000</td>\n",
       "      <td>1</td>\n",
       "      <td>0</td>\n",
       "      <td>0.0</td>\n",
       "    </tr>\n",
       "    <tr>\n",
       "      <th>5</th>\n",
       "      <td>1</td>\n",
       "      <td>43</td>\n",
       "      <td>41000</td>\n",
       "      <td>2</td>\n",
       "      <td>1</td>\n",
       "      <td>4.0</td>\n",
       "    </tr>\n",
       "    <tr>\n",
       "      <th>1740</th>\n",
       "      <td>0</td>\n",
       "      <td>36</td>\n",
       "      <td>41000</td>\n",
       "      <td>1</td>\n",
       "      <td>0</td>\n",
       "      <td>5.0</td>\n",
       "    </tr>\n",
       "    <tr>\n",
       "      <th>2717</th>\n",
       "      <td>0</td>\n",
       "      <td>37</td>\n",
       "      <td>41000</td>\n",
       "      <td>0</td>\n",
       "      <td>0</td>\n",
       "      <td>5.0</td>\n",
       "    </tr>\n",
       "    <tr>\n",
       "      <th>3434</th>\n",
       "      <td>1</td>\n",
       "      <td>36</td>\n",
       "      <td>41000</td>\n",
       "      <td>2</td>\n",
       "      <td>0</td>\n",
       "      <td>5.0</td>\n",
       "    </tr>\n",
       "    <tr>\n",
       "      <th>4763</th>\n",
       "      <td>1</td>\n",
       "      <td>46</td>\n",
       "      <td>41000</td>\n",
       "      <td>1</td>\n",
       "      <td>1</td>\n",
       "      <td>6.0</td>\n",
       "    </tr>\n",
       "  </tbody>\n",
       "</table>\n",
       "</div>"
      ],
      "text/plain": [
       "      gender  age  income  family_members  insurance_benefits  distance\n",
       "3972       1   40   41000               1                   0       0.0\n",
       "5          1   43   41000               2                   1       4.0\n",
       "1740       0   36   41000               1                   0       5.0\n",
       "2717       0   37   41000               0                   0       5.0\n",
       "3434       1   36   41000               2                   0       5.0\n",
       "4763       1   46   41000               1                   1       6.0"
      ]
     },
     "execution_count": 19,
     "metadata": {},
     "output_type": "execute_result"
    }
   ],
   "source": [
    "man = get_knn(df, n, k, \"manhattan\")\n",
    "man"
   ]
  },
  {
   "cell_type": "code",
   "execution_count": 20,
   "metadata": {},
   "outputs": [
    {
     "data": {
      "text/html": [
       "<div>\n",
       "<style scoped>\n",
       "    .dataframe tbody tr th:only-of-type {\n",
       "        vertical-align: middle;\n",
       "    }\n",
       "\n",
       "    .dataframe tbody tr th {\n",
       "        vertical-align: top;\n",
       "    }\n",
       "\n",
       "    .dataframe thead th {\n",
       "        text-align: right;\n",
       "    }\n",
       "</style>\n",
       "<table border=\"1\" class=\"dataframe\">\n",
       "  <thead>\n",
       "    <tr style=\"text-align: right;\">\n",
       "      <th></th>\n",
       "      <th>gender</th>\n",
       "      <th>age</th>\n",
       "      <th>income</th>\n",
       "      <th>family_members</th>\n",
       "      <th>insurance_benefits</th>\n",
       "      <th>distance</th>\n",
       "    </tr>\n",
       "  </thead>\n",
       "  <tbody>\n",
       "    <tr>\n",
       "      <th>3972</th>\n",
       "      <td>1.0</td>\n",
       "      <td>0.615385</td>\n",
       "      <td>0.518987</td>\n",
       "      <td>0.166667</td>\n",
       "      <td>0</td>\n",
       "      <td>0.000000</td>\n",
       "    </tr>\n",
       "    <tr>\n",
       "      <th>1641</th>\n",
       "      <td>1.0</td>\n",
       "      <td>0.615385</td>\n",
       "      <td>0.525316</td>\n",
       "      <td>0.166667</td>\n",
       "      <td>0</td>\n",
       "      <td>0.006329</td>\n",
       "    </tr>\n",
       "    <tr>\n",
       "      <th>2824</th>\n",
       "      <td>1.0</td>\n",
       "      <td>0.615385</td>\n",
       "      <td>0.530380</td>\n",
       "      <td>0.166667</td>\n",
       "      <td>0</td>\n",
       "      <td>0.011392</td>\n",
       "    </tr>\n",
       "    <tr>\n",
       "      <th>4590</th>\n",
       "      <td>1.0</td>\n",
       "      <td>0.615385</td>\n",
       "      <td>0.505063</td>\n",
       "      <td>0.166667</td>\n",
       "      <td>0</td>\n",
       "      <td>0.013924</td>\n",
       "    </tr>\n",
       "    <tr>\n",
       "      <th>1393</th>\n",
       "      <td>1.0</td>\n",
       "      <td>0.615385</td>\n",
       "      <td>0.503797</td>\n",
       "      <td>0.166667</td>\n",
       "      <td>0</td>\n",
       "      <td>0.015190</td>\n",
       "    </tr>\n",
       "    <tr>\n",
       "      <th>3720</th>\n",
       "      <td>1.0</td>\n",
       "      <td>0.600000</td>\n",
       "      <td>0.517722</td>\n",
       "      <td>0.166667</td>\n",
       "      <td>0</td>\n",
       "      <td>0.015437</td>\n",
       "    </tr>\n",
       "  </tbody>\n",
       "</table>\n",
       "</div>"
      ],
      "text/plain": [
       "      gender       age    income  family_members  insurance_benefits  distance\n",
       "3972     1.0  0.615385  0.518987        0.166667                   0  0.000000\n",
       "1641     1.0  0.615385  0.525316        0.166667                   0  0.006329\n",
       "2824     1.0  0.615385  0.530380        0.166667                   0  0.011392\n",
       "4590     1.0  0.615385  0.505063        0.166667                   0  0.013924\n",
       "1393     1.0  0.615385  0.503797        0.166667                   0  0.015190\n",
       "3720     1.0  0.600000  0.517722        0.166667                   0  0.015437"
      ]
     },
     "execution_count": 20,
     "metadata": {},
     "output_type": "execute_result"
    }
   ],
   "source": [
    "scal_eu = get_knn(df_scaled, n, k, \"euclidean\")\n",
    "scal_eu"
   ]
  },
  {
   "cell_type": "code",
   "execution_count": 21,
   "metadata": {},
   "outputs": [
    {
     "data": {
      "text/html": [
       "<div>\n",
       "<style scoped>\n",
       "    .dataframe tbody tr th:only-of-type {\n",
       "        vertical-align: middle;\n",
       "    }\n",
       "\n",
       "    .dataframe tbody tr th {\n",
       "        vertical-align: top;\n",
       "    }\n",
       "\n",
       "    .dataframe thead th {\n",
       "        text-align: right;\n",
       "    }\n",
       "</style>\n",
       "<table border=\"1\" class=\"dataframe\">\n",
       "  <thead>\n",
       "    <tr style=\"text-align: right;\">\n",
       "      <th></th>\n",
       "      <th>gender</th>\n",
       "      <th>age</th>\n",
       "      <th>income</th>\n",
       "      <th>family_members</th>\n",
       "      <th>insurance_benefits</th>\n",
       "      <th>distance</th>\n",
       "    </tr>\n",
       "  </thead>\n",
       "  <tbody>\n",
       "    <tr>\n",
       "      <th>3972</th>\n",
       "      <td>1.0</td>\n",
       "      <td>0.615385</td>\n",
       "      <td>0.518987</td>\n",
       "      <td>0.166667</td>\n",
       "      <td>0</td>\n",
       "      <td>0.000000</td>\n",
       "    </tr>\n",
       "    <tr>\n",
       "      <th>1641</th>\n",
       "      <td>1.0</td>\n",
       "      <td>0.615385</td>\n",
       "      <td>0.525316</td>\n",
       "      <td>0.166667</td>\n",
       "      <td>0</td>\n",
       "      <td>0.006329</td>\n",
       "    </tr>\n",
       "    <tr>\n",
       "      <th>2824</th>\n",
       "      <td>1.0</td>\n",
       "      <td>0.615385</td>\n",
       "      <td>0.530380</td>\n",
       "      <td>0.166667</td>\n",
       "      <td>0</td>\n",
       "      <td>0.011392</td>\n",
       "    </tr>\n",
       "    <tr>\n",
       "      <th>4590</th>\n",
       "      <td>1.0</td>\n",
       "      <td>0.615385</td>\n",
       "      <td>0.505063</td>\n",
       "      <td>0.166667</td>\n",
       "      <td>0</td>\n",
       "      <td>0.013924</td>\n",
       "    </tr>\n",
       "    <tr>\n",
       "      <th>1393</th>\n",
       "      <td>1.0</td>\n",
       "      <td>0.615385</td>\n",
       "      <td>0.503797</td>\n",
       "      <td>0.166667</td>\n",
       "      <td>0</td>\n",
       "      <td>0.015190</td>\n",
       "    </tr>\n",
       "    <tr>\n",
       "      <th>3720</th>\n",
       "      <td>1.0</td>\n",
       "      <td>0.600000</td>\n",
       "      <td>0.517722</td>\n",
       "      <td>0.166667</td>\n",
       "      <td>0</td>\n",
       "      <td>0.016650</td>\n",
       "    </tr>\n",
       "  </tbody>\n",
       "</table>\n",
       "</div>"
      ],
      "text/plain": [
       "      gender       age    income  family_members  insurance_benefits  distance\n",
       "3972     1.0  0.615385  0.518987        0.166667                   0  0.000000\n",
       "1641     1.0  0.615385  0.525316        0.166667                   0  0.006329\n",
       "2824     1.0  0.615385  0.530380        0.166667                   0  0.011392\n",
       "4590     1.0  0.615385  0.505063        0.166667                   0  0.013924\n",
       "1393     1.0  0.615385  0.503797        0.166667                   0  0.015190\n",
       "3720     1.0  0.600000  0.517722        0.166667                   0  0.016650"
      ]
     },
     "execution_count": 21,
     "metadata": {},
     "output_type": "execute_result"
    }
   ],
   "source": [
    "scal_man = get_knn(df_scaled, n, k, \"manhattan\")\n",
    "scal_man"
   ]
  },
  {
   "cell_type": "code",
   "execution_count": 22,
   "metadata": {},
   "outputs": [
    {
     "data": {
      "image/png": "[encoded data removed]",
      "text/plain": [
       "<Figure size 640x480 with 1 Axes>"
      ]
     },
     "metadata": {},
     "output_type": "display_data"
    },
    {
     "data": {
      "image/png": "[encoded data removed]",
      "text/plain": [
       "<Figure size 640x480 with 1 Axes>"
      ]
     },
     "metadata": {},
     "output_type": "display_data"
    },
    {
     "data": {
      "image/png": "[encoded data removed]",
      "text/plain": [
       "<Figure size 640x480 with 1 Axes>"
      ]
     },
     "metadata": {},
     "output_type": "display_data"
    },
    {
     "data": {
      "image/png": "[encoded data removed]",
      "text/plain": [
       "<Figure size 640x480 with 1 Axes>"
      ]
     },
     "metadata": {},
     "output_type": "display_data"
    }
   ],
   "source": [
    "plt.scatter(eu.index, eu['distance'], label='Euclidean - Original')\n",
    "plt.scatter(man.index, man['distance'], label='Manhattan - Original')\n",
    "plt.title(\"Original Data\")\n",
    "plt.legend(loc = \"lower right\")\n",
    "plt.show()\n",
    "\n",
    "plt.scatter(scal_eu.index, scal_eu['distance'], label='Euclidean - Scaled')\n",
    "plt.scatter(scal_man.index, scal_man['distance'], label='Manhattan - Scaled')\n",
    "plt.title(\"Scaled Data\")\n",
    "plt.legend()\n",
    "plt.show()\n",
    "\n",
    "plt.scatter(eu.index, eu['distance'], label='Euclidean - Original')\n",
    "plt.scatter(scal_eu.index, scal_eu['distance'], label='Euclidean - Scaled')\n",
    "plt.title(\"Euclidean Distance - Original vs Scaled\")\n",
    "plt.legend()\n",
    "plt.show()\n",
    "\n",
    "plt.scatter(man.index, man['distance'], label='Manhattan - Original')\n",
    "plt.scatter(scal_man.index, scal_man['distance'], label='Manhattan - Scaled')\n",
    "plt.title(\"Manhattan Distance - Original vs Scaled\")\n",
    "plt.legend()\n",
    "plt.show()\n"
   ]
  },
  {
   "cell_type": "markdown",
   "metadata": {},
   "source": [
    "Respuestas a las preguntas"
   ]
  },
  {
   "cell_type": "markdown",
   "metadata": {},
   "source": [
    "**¿El hecho de que los datos no estén escalados afecta al algoritmo kNN? Si es así, ¿cómo se manifiesta?** \n",
    "\n",
    "Si afecta, ya que cambian los rangos de las medias, cuando escalamos los datos estos se miden de una forma mas\n",
    "pareja, haciendo que sea mas real cualquier filtro que se aplique."
   ]
  },
  {
   "cell_type": "markdown",
   "metadata": {},
   "source": [
    "**¿Qué tan similares son los resultados al utilizar la métrica de distancia Manhattan (independientemente del escalado)?** \n",
    "\n",
    "los datos son totalmente diferentes, no se asemejan, como podemos ver el grafico los puntos de los grupos se posicionan unos arriba y otros totalmente opuestos abajo, dejando ver la gran diferencia entre ellos."
   ]
  },
  {
   "cell_type": "markdown",
   "metadata": {},
   "source": [
    "# Tarea 2. ¿Es probable que el cliente reciba una prestación del seguro?"
   ]
  },
  {
   "cell_type": "markdown",
   "metadata": {},
   "source": [
    "En términos de machine learning podemos considerarlo como una tarea de clasificación binaria."
   ]
  },
  {
   "cell_type": "markdown",
   "metadata": {},
   "source": [
    "Con el valor de `insurance_benefits` superior a cero como objetivo, evalúa si el enfoque de clasificación kNN puede funcionar mejor que el modelo dummy.\n",
    "Instrucciones:\n",
    "- Construye un clasificador basado en KNN y mide su calidad con la métrica F1 para k=1...10 tanto para los datos originales como para los escalados. Sería interesante observar cómo k puede influir en la métrica de evaluación y si el escalado de los datos provoca alguna diferencia. Puedes utilizar una implementación ya existente del algoritmo de clasificación kNN de scikit-learn (consulta [el enlace](https://scikit-learn.org/stable/modules/generated/sklearn.neighbors.KNeighborsClassifier.html)) o tu propia implementación.- Construye un modelo dummy que, en este caso, es simplemente un modelo aleatorio. Debería devolver \"1\" con cierta probabilidad. Probemos el modelo con cuatro valores de probabilidad: 0, la probabilidad de pagar cualquier prestación del seguro, 0.5, 1.\n",
    "La probabilidad de pagar cualquier prestación del seguro puede definirse como\n",
    "$$\n",
    "P\\{\\text{prestación de seguro recibida}\\}=\\frac{\\text{número de clientes que han recibido alguna prestación de seguro}}{\\text{número total de clientes}}.\n",
    "$$\n",
    "\n",
    "Divide todos los datos correspondientes a las etapas de entrenamiento/prueba respetando la proporción 70:30."
   ]
  },
  {
   "cell_type": "code",
   "execution_count": 23,
   "metadata": {},
   "outputs": [],
   "source": [
    "# сalcula el objetivo\n",
    "# Calcular la probabilidad de recibir beneficios del seguro\n",
    "df['insurance_benefits_received'] = (df[\"insurance_benefits\"] > 0).astype(int)\n",
    "df_scaled['insurance_benefits_received'] = (df_scaled[\"insurance_benefits\"] > 0).astype(int)"
   ]
  },
  {
   "cell_type": "code",
   "execution_count": 24,
   "metadata": {},
   "outputs": [
    {
     "data": {
      "text/plain": [
       "0       0\n",
       "1       1\n",
       "2       0\n",
       "3       0\n",
       "4       0\n",
       "       ..\n",
       "4995    0\n",
       "4996    0\n",
       "4997    0\n",
       "4998    0\n",
       "4999    0\n",
       "Name: insurance_benefits_received, Length: 5000, dtype: int64"
      ]
     },
     "execution_count": 24,
     "metadata": {},
     "output_type": "execute_result"
    }
   ],
   "source": [
    "df[\"insurance_benefits_received\"]"
   ]
  },
  {
   "cell_type": "code",
   "execution_count": 25,
   "metadata": {},
   "outputs": [
    {
     "data": {
      "text/plain": [
       "gender  age  income  family_members  insurance_benefits  insurance_benefits_received\n",
       "1       19   43200   1               0                   0                              3\n",
       "0       21   37200   0               0                   0                              3\n",
       "1       30   49900   1               0                   0                              3\n",
       "0       28   39800   1               0                   0                              3\n",
       "        31   49400   1               0                   0                              3\n",
       "                                                                                       ..\n",
       "        35   37400   0               0                   0                              1\n",
       "             37100   0               0                   0                              1\n",
       "             36200   1               0                   0                              1\n",
       "             36100   2               0                   0                              1\n",
       "1       65   39700   1               5                   1                              1\n",
       "Length: 4847, dtype: int64"
      ]
     },
     "execution_count": 25,
     "metadata": {},
     "output_type": "execute_result"
    }
   ],
   "source": [
    "# comprueba el desequilibrio de clases con value_counts()\n",
    "df.value_counts()"
   ]
  },
  {
   "cell_type": "code",
   "execution_count": 26,
   "metadata": {},
   "outputs": [],
   "source": [
    "def eval_classifier(y_true, y_pred):\n",
    "    \n",
    "    f1_score = sklearn.metrics.f1_score(y_true, y_pred)\n",
    "    print(f'F1: {f1_score:.2f}')\n",
    "    \n",
    "# si tienes algún problema con la siguiente línea, reinicia el kernel y ejecuta el cuaderno de nuevo    \n",
    "    cm = sklearn.metrics.confusion_matrix(y_true, y_pred, normalize='all')\n",
    "    print('Matriz de confusión')\n",
    "    print(cm)"
   ]
  },
  {
   "cell_type": "code",
   "execution_count": 27,
   "metadata": {},
   "outputs": [],
   "source": [
    "#segmentacion de datos\n",
    "\n",
    "features = df.drop(['insurance_benefits'], axis=1)\n",
    "target = df['insurance_benefits']\n",
    "\n",
    "features_train, features_valid, target_train, target_valid = train_test_split(features, target, test_size=0.7, random_state=12345) \n",
    "#se segmenta el 70 % de los datos para hacer el conjunto de validación"
   ]
  },
  {
   "cell_type": "code",
   "execution_count": 28,
   "metadata": {},
   "outputs": [],
   "source": [
    "# generar la salida de un modelo aleatorio\n",
    "\n",
    "def rnd_model_predict(P, size, seed=42):\n",
    "\n",
    "    rng = np.random.default_rng(seed=seed)\n",
    "    return rng.binomial(n=1, p=P, size=size)"
   ]
  },
  {
   "cell_type": "code",
   "execution_count": 29,
   "metadata": {},
   "outputs": [
    {
     "name": "stdout",
     "output_type": "stream",
     "text": [
      "La probabilidad: 0.00\n",
      "F1: 0.00\n",
      "Matriz de confusión\n",
      "[[0.8872 0.    ]\n",
      " [0.1128 0.    ]]\n",
      "\n",
      "La probabilidad: 0.11\n",
      "F1: 0.12\n",
      "Matriz de confusión\n",
      "[[0.7914 0.0958]\n",
      " [0.0994 0.0134]]\n",
      "\n",
      "La probabilidad: 0.50\n",
      "F1: 0.20\n",
      "Matriz de confusión\n",
      "[[0.456  0.4312]\n",
      " [0.053  0.0598]]\n",
      "\n",
      "La probabilidad: 1.00\n",
      "F1: 0.20\n",
      "Matriz de confusión\n",
      "[[0.     0.8872]\n",
      " [0.     0.1128]]\n",
      "\n"
     ]
    }
   ],
   "source": [
    "for P in [0, df['insurance_benefits_received'].sum() / len(df), 0.5, 1]:\n",
    "\n",
    "    print(f'La probabilidad: {P:.2f}')\n",
    "   \n",
    "    y_pred_rnd = rnd_model_predict(P, df.shape[0])\n",
    "        \n",
    "    eval_classifier(df['insurance_benefits_received'], y_pred_rnd) \n",
    "    \n",
    "    print()"
   ]
  },
  {
   "cell_type": "code",
   "execution_count": 30,
   "metadata": {},
   "outputs": [
    {
     "name": "stdout",
     "output_type": "stream",
     "text": [
      "La probabilidad: 0.00\n",
      "Resultados con datos originales:\n",
      "F1: 0.00\n",
      "Matriz de confusión\n",
      "[[0.8872 0.    ]\n",
      " [0.1128 0.    ]]\n",
      "Resultados con datos escalados:\n",
      "F1: 0.00\n",
      "Matriz de confusión\n",
      "[[0.8872 0.    ]\n",
      " [0.1128 0.    ]]\n",
      "\n",
      "La probabilidad: 0.11\n",
      "Resultados con datos originales:\n",
      "F1: 0.12\n",
      "Matriz de confusión\n",
      "[[0.7914 0.0958]\n",
      " [0.0994 0.0134]]\n",
      "Resultados con datos escalados:\n",
      "F1: 0.12\n",
      "Matriz de confusión\n",
      "[[0.7914 0.0958]\n",
      " [0.0994 0.0134]]\n",
      "\n",
      "La probabilidad: 0.50\n",
      "Resultados con datos originales:\n",
      "F1: 0.20\n",
      "Matriz de confusión\n",
      "[[0.456  0.4312]\n",
      " [0.053  0.0598]]\n",
      "Resultados con datos escalados:\n",
      "F1: 0.20\n",
      "Matriz de confusión\n",
      "[[0.456  0.4312]\n",
      " [0.053  0.0598]]\n",
      "\n",
      "La probabilidad: 1.00\n",
      "Resultados con datos originales:\n",
      "F1: 0.20\n",
      "Matriz de confusión\n",
      "[[0.     0.8872]\n",
      " [0.     0.1128]]\n",
      "Resultados con datos escalados:\n",
      "F1: 0.20\n",
      "Matriz de confusión\n",
      "[[0.     0.8872]\n",
      " [0.     0.1128]]\n",
      "\n"
     ]
    }
   ],
   "source": [
    "# Bucle para generar y evaluar las predicciones con datos originales y escalados\n",
    "for P in [0, df['insurance_benefits_received'].sum() / len(df), 0.5, 1]:\n",
    "    print(f'La probabilidad: {P:.2f}')\n",
    "   \n",
    "    # Predicciones con datos originales\n",
    "    y_pred_rnd = rnd_model_predict(P, df.shape[0])\n",
    "    print(\"Resultados con datos originales:\")\n",
    "    eval_classifier(df['insurance_benefits_received'], y_pred_rnd)\n",
    "    \n",
    "    # Predicciones con datos escalados\n",
    "    y_pred_rnd_scaled = rnd_model_predict(P, df.shape[0])\n",
    "    print(\"Resultados con datos escalados:\")\n",
    "    eval_classifier(df['insurance_benefits_received'], y_pred_rnd_scaled)\n",
    "    \n",
    "    print()"
   ]
  },
  {
   "cell_type": "markdown",
   "metadata": {},
   "source": [
    "El modelo aleatorio que implemente genera predicciones de manera aleatoria basadas en una probabilidad fija P. Estas predicciones no están influenciadas por los valores específicos de los datos, ya que el modelo aleatorio no aprende de los datos de entrenamiento.\n",
    "\n",
    "Cuando utilicé este modelo para generar predicciones con datos originales y escalados, el resultado fue el mismo para ambos conjuntos de datos porque el modelo no está realmente procesando los datos ni aprendiendo de ellos. Simplemente está aplicando una regla aleatoria basada en la probabilidad P.\n",
    "\n",
    "Es por eso que ves resultados idénticos cuando utilizo el modelo aleatorio con datos originales y escalados."
   ]
  },
  {
   "cell_type": "code",
   "execution_count": 31,
   "metadata": {},
   "outputs": [],
   "source": [
    "def knn_model_predict(df, k, metric, feature_names, target_column):\n",
    "    \"\"\"\n",
    "    Devuelve las etiquetas de clase de los k vecinos más cercanos\n",
    "\n",
    "    :param df: DataFrame de pandas utilizado para encontrar objetos similares dentro del mismo lugar    \n",
    "    :param k: número de vecinos más cercanos a devolver\n",
    "    :param métrica: nombre de la métrica de distancia\n",
    "    :param feature_names: lista de nombres de características (features) a utilizar\n",
    "    :param target_column: nombre de la columna que contiene las etiquetas de clase\n",
    "    \"\"\"\n",
    "    predictions = []\n",
    "    for n in range(len(df)):\n",
    "        # Instanciar el modelo NearestNeighbors\n",
    "        nbrs = NearestNeighbors(n_neighbors=k, metric=metric)\n",
    "        # Ajustar el modelo\n",
    "        nbrs.fit(df[feature_names])\n",
    "        # Encontrar los índices de los k vecinos más cercanos y sus distancias\n",
    "        nbrs_indices = nbrs.kneighbors([df.iloc[n][feature_names]], k, return_distance=False)[0]\n",
    "        # Obtener las etiquetas de clase de los vecinos más cercanos\n",
    "        neighbors_labels = df.iloc[nbrs_indices][target_column].values\n",
    "        # Tomar la moda de las etiquetas de clase de los vecinos más cercanos\n",
    "        predicted_label = mode(neighbors_labels)[0][0]\n",
    "        predictions.append(predicted_label)\n",
    "    return predictions\n"
   ]
  },
  {
   "cell_type": "code",
   "execution_count": 32,
   "metadata": {},
   "outputs": [
    {
     "name": "stdout",
     "output_type": "stream",
     "text": [
      "Probabilidad: 0.00\n",
      "Resultados del modelo aleatorio con datos originales:\n",
      "F1: 0.00\n",
      "Matriz de confusión\n",
      "[[0.8872 0.    ]\n",
      " [0.1128 0.    ]]\n",
      "Resultados del modelo aleatorio con datos escalados:\n",
      "F1: 0.00\n",
      "Matriz de confusión\n",
      "[[0.8872 0.    ]\n",
      " [0.1128 0.    ]]\n",
      "Resultados del modelo KNN con datos originales:\n",
      "F1: 0.57\n",
      "Matriz de confusión\n",
      "[[0.8844 0.0028]\n",
      " [0.0672 0.0456]]\n",
      "Resultados del modelo KNN con datos escalados:\n",
      "F1: 0.97\n",
      "Matriz de confusión\n",
      "[[8.868e-01 4.000e-04]\n",
      " [5.600e-03 1.072e-01]]\n",
      "\n",
      "Probabilidad: 0.11\n",
      "Resultados del modelo aleatorio con datos originales:\n",
      "F1: 0.12\n",
      "Matriz de confusión\n",
      "[[0.7914 0.0958]\n",
      " [0.0994 0.0134]]\n",
      "Resultados del modelo aleatorio con datos escalados:\n",
      "F1: 0.12\n",
      "Matriz de confusión\n",
      "[[0.7914 0.0958]\n",
      " [0.0994 0.0134]]\n",
      "Resultados del modelo KNN con datos originales:\n",
      "F1: 0.57\n",
      "Matriz de confusión\n",
      "[[0.8844 0.0028]\n",
      " [0.0672 0.0456]]\n",
      "Resultados del modelo KNN con datos escalados:\n",
      "F1: 0.97\n",
      "Matriz de confusión\n",
      "[[8.868e-01 4.000e-04]\n",
      " [5.600e-03 1.072e-01]]\n",
      "\n",
      "Probabilidad: 0.50\n",
      "Resultados del modelo aleatorio con datos originales:\n",
      "F1: 0.20\n",
      "Matriz de confusión\n",
      "[[0.456  0.4312]\n",
      " [0.053  0.0598]]\n",
      "Resultados del modelo aleatorio con datos escalados:\n",
      "F1: 0.20\n",
      "Matriz de confusión\n",
      "[[0.456  0.4312]\n",
      " [0.053  0.0598]]\n",
      "Resultados del modelo KNN con datos originales:\n",
      "F1: 0.57\n",
      "Matriz de confusión\n",
      "[[0.8844 0.0028]\n",
      " [0.0672 0.0456]]\n",
      "Resultados del modelo KNN con datos escalados:\n",
      "F1: 0.97\n",
      "Matriz de confusión\n",
      "[[8.868e-01 4.000e-04]\n",
      " [5.600e-03 1.072e-01]]\n",
      "\n",
      "Probabilidad: 1.00\n",
      "Resultados del modelo aleatorio con datos originales:\n",
      "F1: 0.20\n",
      "Matriz de confusión\n",
      "[[0.     0.8872]\n",
      " [0.     0.1128]]\n",
      "Resultados del modelo aleatorio con datos escalados:\n",
      "F1: 0.20\n",
      "Matriz de confusión\n",
      "[[0.     0.8872]\n",
      " [0.     0.1128]]\n",
      "Resultados del modelo KNN con datos originales:\n",
      "F1: 0.57\n",
      "Matriz de confusión\n",
      "[[0.8844 0.0028]\n",
      " [0.0672 0.0456]]\n",
      "Resultados del modelo KNN con datos escalados:\n",
      "F1: 0.97\n",
      "Matriz de confusión\n",
      "[[8.868e-01 4.000e-04]\n",
      " [5.600e-03 1.072e-01]]\n",
      "\n"
     ]
    }
   ],
   "source": [
    "# Iterar sobre las probabilidades\n",
    "# Probabilidades a evaluar\n",
    "probabilidades = [0, df['insurance_benefits_received'].sum() / len(df), 0.5, 1]\n",
    "\n",
    "# Iterar sobre las probabilidades\n",
    "for P in probabilidades:\n",
    "    print(f'Probabilidad: {P:.2f}')\n",
    "\n",
    "    # Predicciones con modelo aleatorio y datos originales\n",
    "    y_pred_rnd = rnd_model_predict(P, df.shape[0])\n",
    "    print(\"Resultados del modelo aleatorio con datos originales:\")\n",
    "    eval_classifier(df['insurance_benefits_received'], y_pred_rnd)\n",
    "\n",
    "    # Predicciones con modelo aleatorio y datos escalados (iguales)\n",
    "    y_pred_rnd_scaled = rnd_model_predict(P, df.shape[0])  # Usando df.shape[0]\n",
    "    print(\"Resultados del modelo aleatorio con datos escalados:\")\n",
    "    eval_classifier(df_scaled['insurance_benefits_received'], y_pred_rnd_scaled)\n",
    "\n",
    "    # Predicciones con modelo KNN y datos originales\n",
    "    y_pred_knn_normal = knn_model_predict(df, 5, 'euclidean', ['gender', 'age', 'income', 'family_members'], 'insurance_benefits_received')\n",
    "    print(\"Resultados del modelo KNN con datos originales:\")\n",
    "    eval_classifier(df['insurance_benefits_received'], y_pred_knn_normal)\n",
    "\n",
    "    # Predicciones con modelo KNN y datos escalados\n",
    "    y_pred_knn_scaled = knn_model_predict(df_scaled, 5, 'euclidean', ['gender', 'age', 'income', 'family_members'], 'insurance_benefits_received')\n",
    "    print(\"Resultados del modelo KNN con datos escalados:\")\n",
    "    eval_classifier(df_scaled['insurance_benefits_received'], y_pred_knn_scaled)\n",
    "\n",
    "    print()\n"
   ]
  },
  {
   "cell_type": "code",
   "execution_count": 33,
   "metadata": {
    "scrolled": true
   },
   "outputs": [
    {
     "ename": "NameError",
     "evalue": "name 'f1_score_random_original' is not defined",
     "output_type": "error",
     "traceback": [
      "\u001b[0;31m---------------------------------------------------------------------------\u001b[0m",
      "\u001b[0;31mNameError\u001b[0m                                 Traceback (most recent call last)",
      "Cell \u001b[0;32mIn[33], line 5\u001b[0m\n\u001b[1;32m      2\u001b[0m modelos \u001b[38;5;241m=\u001b[39m [\u001b[38;5;124m'\u001b[39m\u001b[38;5;124mModelo Aleatorio (Original)\u001b[39m\u001b[38;5;124m'\u001b[39m, \u001b[38;5;124m'\u001b[39m\u001b[38;5;124mModelo Aleatorio (Escalado)\u001b[39m\u001b[38;5;124m'\u001b[39m, \u001b[38;5;124m'\u001b[39m\u001b[38;5;124mKNN (Original)\u001b[39m\u001b[38;5;124m'\u001b[39m, \u001b[38;5;124m'\u001b[39m\u001b[38;5;124mKNN (Escalado)\u001b[39m\u001b[38;5;124m'\u001b[39m]\n\u001b[1;32m      4\u001b[0m \u001b[38;5;66;03m# Lista de puntuaciones F1 para cada modelo\u001b[39;00m\n\u001b[0;32m----> 5\u001b[0m f1_scores \u001b[38;5;241m=\u001b[39m [\u001b[43mf1_score_random_original\u001b[49m, f1_score_random_scaled, f1_score_knn_original, f1_score_knn_scaled]\n\u001b[1;32m      7\u001b[0m \u001b[38;5;66;03m# Crear el gráfico de barras\u001b[39;00m\n\u001b[1;32m      8\u001b[0m plt\u001b[38;5;241m.\u001b[39mfigure(figsize\u001b[38;5;241m=\u001b[39m(\u001b[38;5;241m10\u001b[39m, \u001b[38;5;241m6\u001b[39m))\n",
      "\u001b[0;31mNameError\u001b[0m: name 'f1_score_random_original' is not defined"
     ]
    }
   ],
   "source": [
    "# Lista de nombres de modelos\n",
    "modelos = ['Modelo Aleatorio (Original)', 'Modelo Aleatorio (Escalado)', 'KNN (Original)', 'KNN (Escalado)']\n",
    "\n",
    "# Lista de puntuaciones F1 para cada modelo\n",
    "f1_scores = [f1_score_random_original, f1_score_random_scaled, f1_score_knn_original, f1_score_knn_scaled]\n",
    "\n",
    "# Crear el gráfico de barras\n",
    "plt.figure(figsize=(10, 6))\n",
    "plt.bar(modelos, f1_scores, color=['blue', 'orange', 'green', 'red'])\n",
    "\n",
    "# Añadir etiquetas y título\n",
    "plt.xlabel('Modelo')\n",
    "plt.ylabel('F1-score')\n",
    "plt.title('Comparación de F1-score entre modelos')\n",
    "plt.ylim(0, 1)  # Ajustar límites en el eje y para una mejor visualización\n",
    "\n",
    "# Mostrar gráfico\n",
    "plt.show()\n",
    "\n"
   ]
  },
  {
   "cell_type": "markdown",
   "metadata": {},
   "source": [
    "# Tarea 3. Regresión (con regresión lineal)"
   ]
  },
  {
   "cell_type": "markdown",
   "metadata": {},
   "source": [
    "Con `insurance_benefits` como objetivo, evalúa cuál sería la RECM de un modelo de regresión lineal."
   ]
  },
  {
   "cell_type": "markdown",
   "metadata": {},
   "source": [
    "Construye tu propia implementación de regresión lineal. Para ello, recuerda cómo está formulada la solución de la tarea de regresión lineal en términos de LA. Comprueba la RECM tanto para los datos originales como para los escalados. ¿Puedes ver alguna diferencia en la RECM con respecto a estos dos casos?\n",
    "\n",
    "Denotemos- $X$: matriz de características; cada fila es un caso, cada columna es una característica, la primera columna está formada por unidades- $y$ — objetivo (un vector)- $\\hat{y}$ — objetivo estimado (un vector)- $w$ — vector de pesos\n",
    "La tarea de regresión lineal en el lenguaje de las matrices puede formularse así:\n",
    "$$\n",
    "y = Xw\n",
    "$$\n",
    "\n",
    "El objetivo de entrenamiento es entonces encontrar esa $w$ w que minimice la distancia L2 (ECM) entre $Xw$ y $y$:\n",
    "\n",
    "$$\n",
    "\\min_w d_2(Xw, y) \\quad \\text{or} \\quad \\min_w \\text{MSE}(Xw, y)\n",
    "$$\n",
    "\n",
    "Parece que hay una solución analítica para lo anteriormente expuesto:\n",
    "$$\n",
    "w = (X^T X)^{-1} X^T y\n",
    "$$\n",
    "\n",
    "La fórmula anterior puede servir para encontrar los pesos $w$ y estos últimos pueden utilizarse para calcular los valores predichos\n",
    "$$\n",
    "\\hat{y} = X_{val}w\n",
    "$$"
   ]
  },
  {
   "cell_type": "markdown",
   "metadata": {},
   "source": [
    "Divide todos los datos correspondientes a las etapas de entrenamiento/prueba respetando la proporción 70:30. Utiliza la métrica RECM para evaluar el modelo."
   ]
  },
  {
   "cell_type": "code",
   "execution_count": 34,
   "metadata": {},
   "outputs": [],
   "source": [
    "class MyLinearRegression:\n",
    "    \n",
    "    def __init__(self):\n",
    "        \n",
    "        self.weights = None\n",
    "    \n",
    "    def fit(self, X, y):\n",
    "        \n",
    "        # añadir las unidades\n",
    "        X2 = np.append(np.ones([len(X), 1]), X, axis=1)\n",
    "        self.weights = np.linalg.inv(X2.T @ X2) @ X2.T @ y\n",
    "\n",
    "    def predict(self, X):\n",
    "        \n",
    "        # añadir las unidades\n",
    "        X2 = np.append(np.ones([len(X), 1]), X, axis=1)\n",
    "        y_pred = X2 @ self.weights\n",
    "        \n",
    "        return y_pred"
   ]
  },
  {
   "cell_type": "code",
   "execution_count": 35,
   "metadata": {},
   "outputs": [],
   "source": [
    "def eval_regressor(y_true, y_pred):\n",
    "    \n",
    "    rmse = math.sqrt(sklearn.metrics.mean_squared_error(y_true, y_pred))\n",
    "    print(f'RMSE: {rmse:.2f}')\n",
    "    \n",
    "    r2_score = math.sqrt(sklearn.metrics.r2_score(y_true, y_pred))\n",
    "    print(f'R2: {r2_score:.2f}')    "
   ]
  },
  {
   "cell_type": "code",
   "execution_count": 36,
   "metadata": {},
   "outputs": [
    {
     "name": "stdout",
     "output_type": "stream",
     "text": [
      "[-9.43539012e-01  3.57495491e-02  1.64272726e-02 -2.60743659e-07\n",
      " -1.16902127e-02]\n",
      "RMSE: 0.34\n",
      "R2: 0.66\n"
     ]
    }
   ],
   "source": [
    "X = df[['age', 'gender', 'income', 'family_members']].to_numpy()\n",
    "y = df['insurance_benefits'].to_numpy()\n",
    "\n",
    "\n",
    "X_train, X_test, y_train, y_test = train_test_split(X, y, test_size=0.3, random_state=12345)\n",
    "\n",
    "X_train = X_train.astype(float)\n",
    "\n",
    "lr = MyLinearRegression()\n",
    "\n",
    "lr.fit(X_train, y_train)\n",
    "print(lr.weights)\n",
    "\n",
    "y_test_pred = lr.predict(X_test)\n",
    "eval_regressor(y_test, y_test_pred)"
   ]
  },
  {
   "cell_type": "code",
   "execution_count": 37,
   "metadata": {},
   "outputs": [
    {
     "name": "stdout",
     "output_type": "stream",
     "text": [
      "[-0.94353901  2.32372069  0.01642727 -0.02059875 -0.07014128]\n",
      "RMSE: 0.34\n",
      "R2: 0.66\n"
     ]
    }
   ],
   "source": [
    "#datos escalados\n",
    "X = df_scaled[['age', 'gender', 'income', 'family_members']].to_numpy()\n",
    "y = df_scaled['insurance_benefits'].to_numpy()\n",
    "\n",
    "\n",
    "X_train, X_test, y_train, y_test = train_test_split(X, y, test_size=0.3, random_state=12345)\n",
    "\n",
    "X_train = X_train.astype(float)\n",
    "\n",
    "lr = MyLinearRegression()\n",
    "\n",
    "lr.fit(X_train, y_train)\n",
    "print(lr.weights)\n",
    "\n",
    "y_test_pred = lr.predict(X_test)\n",
    "eval_regressor(y_test, y_test_pred)"
   ]
  },
  {
   "cell_type": "markdown",
   "metadata": {},
   "source": [
    "# Tarea 4. Ofuscar datos"
   ]
  },
  {
   "cell_type": "markdown",
   "metadata": {},
   "source": [
    "Lo mejor es ofuscar los datos multiplicando las características numéricas (recuerda que se pueden ver como la matriz $X$) por una matriz invertible $P$. \n",
    "\n",
    "$$\n",
    "X' = X \\times P\n",
    "$$\n",
    "\n",
    "Trata de hacerlo y comprueba cómo quedarán los valores de las características después de la transformación. Por cierto, la propiedad de invertibilidad es importante aquí, así que asegúrate de que $P$ sea realmente invertible.\n",
    "\n",
    "Puedes revisar la lección 'Matrices y operaciones matriciales -> Multiplicación de matrices' para recordar la regla de multiplicación de matrices y su implementación con NumPy."
   ]
  },
  {
   "cell_type": "code",
   "execution_count": 38,
   "metadata": {},
   "outputs": [],
   "source": [
    "personal_info_column_list = ['gender', 'age', 'income', 'family_members']\n",
    "df_pn = df[personal_info_column_list]"
   ]
  },
  {
   "cell_type": "code",
   "execution_count": 39,
   "metadata": {},
   "outputs": [],
   "source": [
    "X = df_pn.to_numpy()"
   ]
  },
  {
   "cell_type": "markdown",
   "metadata": {},
   "source": [
    "Generar una matriz aleatoria $P$."
   ]
  },
  {
   "cell_type": "code",
   "execution_count": 40,
   "metadata": {},
   "outputs": [],
   "source": [
    "rng = np.random.default_rng(seed=42)\n",
    "P = rng.random(size=(X.shape[1], X.shape[1]))"
   ]
  },
  {
   "cell_type": "markdown",
   "metadata": {},
   "source": [
    "Comprobar que la matriz P sea invertible"
   ]
  },
  {
   "cell_type": "code",
   "execution_count": 41,
   "metadata": {},
   "outputs": [
    {
     "name": "stdout",
     "output_type": "stream",
     "text": [
      "La matriz P es invertible.\n",
      "[[ 0.41467992 -1.43783972  0.62798546  1.14001268]\n",
      " [-1.06101789  0.44219337  0.1329549   1.18425933]\n",
      " [ 1.42362442  1.60461607 -2.0553823  -1.53699695]\n",
      " [-0.11128575 -0.65813802  1.74995517 -0.11816316]]\n"
     ]
    }
   ],
   "source": [
    "try:\n",
    "    # Intentar calcular la inversa de la matriz P\n",
    "    inv_P = np.linalg.inv(P)\n",
    "    print(\"La matriz P es invertible.\")\n",
    "except np.linalg.LinAlgError:\n",
    "    print(\"La matriz P no es invertible.\")\n",
    "    \n",
    "print(inv_P)"
   ]
  },
  {
   "cell_type": "markdown",
   "metadata": {},
   "source": [
    "¿Puedes adivinar la edad o los ingresos de los clientes después de la transformación?"
   ]
  },
  {
   "cell_type": "code",
   "execution_count": 42,
   "metadata": {},
   "outputs": [
    {
     "data": {
      "text/plain": [
       "array([[6359.715273139105, 22380.40467609026, 18424.09074183637,\n",
       "        46000.69669015785],\n",
       "       [4873.294064793656, 17160.367029820114, 14125.780761328471,\n",
       "        35253.45577301139],\n",
       "       [2693.117429275205, 9486.397744004375, 7808.831560241926,\n",
       "        19484.86063067367],\n",
       "       ...,\n",
       "       [4346.22342489892, 15289.241264919003, 12586.162643921967,\n",
       "        31433.50888551671],\n",
       "       [4194.093241552677, 14751.991024200619, 12144.029306365586,\n",
       "        30323.887634259787],\n",
       "       [5205.468273536653, 18314.248144458878, 15077.013707617267,\n",
       "        37649.59295455183]], dtype=object)"
      ]
     },
     "execution_count": 42,
     "metadata": {},
     "output_type": "execute_result"
    }
   ],
   "source": [
    "ofus = X @ P\n",
    "ofus"
   ]
  },
  {
   "cell_type": "markdown",
   "metadata": {},
   "source": [
    "Miramos los datos nuevos y no tienen nada parecido al df inicial ni se entienden a que pertenece cada numero"
   ]
  },
  {
   "cell_type": "markdown",
   "metadata": {},
   "source": [
    "¿Puedes recuperar los datos originales de $X'$ si conoces $P$? Intenta comprobarlo a través de los cálculos moviendo $P$ del lado derecho de la fórmula anterior al izquierdo. En este caso las reglas de la multiplicación matricial son realmente útiles"
   ]
  },
  {
   "cell_type": "code",
   "execution_count": 43,
   "metadata": {},
   "outputs": [
    {
     "data": {
      "text/plain": [
       "array([[0.999999999992724, 40.99999999999636, 49599.99999999999,\n",
       "        1.000000000005457],\n",
       "       [-5.002220859751105e-12, 46.0, 37999.999999999985,\n",
       "        1.0000000000027285],\n",
       "       [-3.637978807091713e-12, 28.99999999999818, 20999.999999999996,\n",
       "        -9.094947017729282e-13],\n",
       "       ...,\n",
       "       [9.094947017729282e-13, 20.0, 33899.99999999999,\n",
       "        2.000000000003638],\n",
       "       [0.9999999999918145, 21.999999999996362, 32700.0,\n",
       "        3.0000000000059117],\n",
       "       [0.9999999999954525, 27.999999999996362, 40599.99999999999,\n",
       "        1.0000000000027285]], dtype=object)"
      ]
     },
     "execution_count": 43,
     "metadata": {},
     "output_type": "execute_result"
    }
   ],
   "source": [
    "recovered = ofus @ inv_P\n",
    "recovered"
   ]
  },
  {
   "cell_type": "code",
   "execution_count": 44,
   "metadata": {},
   "outputs": [
    {
     "data": {
      "text/plain": [
       "array([[1, 41, 49600, 1],\n",
       "       [0, 46, 38000, 1],\n",
       "       [0, 29, 21000, 0],\n",
       "       ...,\n",
       "       [0, 20, 33900, 2],\n",
       "       [1, 22, 32700, 3],\n",
       "       [1, 28, 40600, 1]], dtype=object)"
      ]
     },
     "execution_count": 44,
     "metadata": {},
     "output_type": "execute_result"
    }
   ],
   "source": [
    "X"
   ]
  },
  {
   "cell_type": "markdown",
   "metadata": {},
   "source": [
    "Si se pueden recuperar los datos de esa manera."
   ]
  },
  {
   "cell_type": "markdown",
   "metadata": {},
   "source": [
    "Muestra los tres casos para algunos clientes- Datos originales\n",
    "- El que está transformado- El que está invertido (recuperado)"
   ]
  },
  {
   "cell_type": "code",
   "execution_count": 45,
   "metadata": {},
   "outputs": [
    {
     "name": "stdout",
     "output_type": "stream",
     "text": [
      "\n",
      "client:  1\n",
      "Datos Originales [1 41 49600 1]\n",
      "Datos Transformados [6359.715273139105 22380.40467609026 18424.09074183637 46000.69669015785]\n",
      "Invertido [0.999999999992724 40.99999999999636 49599.99999999999 1.000000000005457]\n",
      "\n",
      "client:  2\n",
      "Datos Originales [0 46 38000 1]\n",
      "Datos Transformados [4873.294064793656 17160.367029820114 14125.780761328471 35253.45577301139]\n",
      "Invertido [-5.002220859751105e-12 46.0 37999.999999999985 1.0000000000027285]\n",
      "\n",
      "client:  3\n",
      "Datos Originales [0 29 21000 0]\n",
      "Datos Transformados [2693.117429275205 9486.397744004375 7808.831560241926 19484.86063067367]\n",
      "Invertido [-3.637978807091713e-12 28.99999999999818 20999.999999999996\n",
      " -9.094947017729282e-13]\n"
     ]
    }
   ],
   "source": [
    "for i in range(3):\n",
    "    print(\"\\nclient: \", i+1)\n",
    "    print(\"Datos Originales\", X[i, :])\n",
    "    print(\"Datos Transformados\", ofus[i, :])\n",
    "    print(\"Invertido\", recovered[i, :])"
   ]
  },
  {
   "cell_type": "markdown",
   "metadata": {},
   "source": [
    "Seguramente puedes ver que algunos valores no son exactamente iguales a los de los datos originales. ¿Cuál podría ser la razón de ello?"
   ]
  },
  {
   "cell_type": "markdown",
   "metadata": {},
   "source": [
    "Esto es porque se expresan en notacion cientifica"
   ]
  },
  {
   "cell_type": "markdown",
   "metadata": {},
   "source": [
    "La precisión numérica finita es un concepto fundamental en informática y matemáticas computacionales. Se refiere a la limitación de la cantidad de dígitos que pueden ser representados y manipulados en un sistema computacional. Esta limitación puede conducir a errores de redondeo y otros problemas cuando se realizan operaciones matemáticas.\n",
    "\n",
    "En la mayoría de los sistemas computacionales, los números se representan utilizando un formato finito, como los números de punto flotante. En estos formatos, solo se pueden representar un número limitado de dígitos significativos, lo que significa que algunos números no pueden ser representados con precisión exacta. Por ejemplo, en un sistema de precisión finita, 1/3 no se puede representar exactamente como un número de punto flotante.\n",
    "\n",
    "Los errores de precisión numérica finita pueden acumularse y afectar la exactitud de los cálculos, especialmente en operaciones iterativas o en cálculos que implican números muy grandes o muy pequeños. Los algoritmos y técnicas numéricas se desarrollan para minimizar estos errores y garantizar que los cálculos se realicen con la mayor precisión posible dentro de las limitaciones del sistema."
   ]
  },
  {
   "cell_type": "markdown",
   "metadata": {},
   "source": [
    "## Prueba de que la ofuscación de datos puede funcionar con regresión lineal"
   ]
  },
  {
   "cell_type": "markdown",
   "metadata": {},
   "source": [
    "En este proyecto la tarea de regresión se ha resuelto con la regresión lineal. Tu siguiente tarea es demostrar _analytically_ que el método de ofuscación no afectará a la regresión lineal en términos de valores predichos, es decir, que sus valores seguirán siendo los mismos. ¿Lo puedes creer? Pues no hace falta que lo creas, ¡tienes que que demostrarlo!"
   ]
  },
  {
   "cell_type": "markdown",
   "metadata": {},
   "source": [
    "Entonces, los datos están ofuscados y ahora tenemos $X \\times P$ en lugar de tener solo $X$. En consecuencia, hay otros pesos $w_P$ como\n",
    "$$\n",
    "w = (X^T X)^{-1} X^T y \\quad \\Rightarrow \\quad w_P = [(XP)^T XP]^{-1} (XP)^T y\n",
    "$$\n",
    "\n",
    "¿Cómo se relacionarían $w$ y $w_P$ si simplificáramos la fórmula de $w_P$ anterior? \n",
    "\n",
    "Para responder a esta pregunta, podemos utilizar una propiedad relacionada con la inversa de una matriz y la transposición del producto de matrices. La propiedad que nos será útil en este caso es:\n",
    "\n",
    "Reversibilidad de la transposición de un producto de matrices:\n",
    "$(AB)^T = B^TA^T$\n",
    "\n",
    "Ya que tenemos la formula para los pesos originales y para los nuevos pesos, podemos sustituir\n",
    "$Xp = X.P$ para simplificar los nuevos pesos.\n",
    "\n",
    "Donde $Wp = [(X.P)^T(X.P)]^-1(X.P)^Ty$\n",
    "\n",
    "Utilizando la propiedad de reversibilidad de la transposición de un producto de matrices, tenemos:\n",
    "\n",
    "$(AB)^T = B^TA^T$ Entonces\n",
    "\n",
    "$(XP)^T = P^TX^T$\n",
    "\n",
    "$wp = (P^TX^TXP)^-1P^TX^Ty$\n",
    "\n",
    "$wp = (P^T(X^TXP))^-1P^TX^Ty$\n",
    "\n",
    "$(AB)^{-1} = B^{-1}A^{-1}$\n",
    "\n",
    "$(P^T(X^TXP))^-1 = (X^TXP)^-1(P^T)^-1$\n",
    "\n",
    "$wp = (X^TXP)^-1(P^T)^-1P^TX^Ty$\n",
    "\n",
    "$wp = ((X^TX)P)^-1(P^T)^-1P^TX^Ty$\n",
    "\n",
    "$(X^TXP)^-1 = P^-1(X^TX)^-1$ \n",
    "\n",
    "$wp = P^-1(X^TX)^-1(P^T)^-1P^TX^Ty$\n",
    "\n",
    "$(P^T)^-1P^T = I$\n",
    "\n",
    "$wp = P^-1(X^TX)^-1IX^Ty$\n",
    "\n",
    "$wp = P^-1(X^TX)^-1X^Ty$\n",
    "\n",
    "$wp = P^-1w$\n",
    "\n",
    "¿Cuáles serían los valores predichos con $w_P$? \n",
    "\n",
    "$yp =X⋅P⋅wp$\n",
    "\n",
    "$yp =X⋅PP^-1w$\n",
    "\n",
    "$yp =X⋅Iw$\n",
    "\n",
    "$yp =Xw$\n",
    "\n",
    "Entonces \n",
    "\n",
    "¿Qué significa esto para la calidad de la regresión lineal si esta se mide mediante la RECM?\n",
    "Revisa el Apéndice B Propiedades de las matrices al final del cuaderno. ¡Allí encontrarás fórmulas muy útiles!\n",
    "\n",
    "No es necesario escribir código en esta sección, basta con una explicación analítica."
   ]
  },
  {
   "cell_type": "markdown",
   "metadata": {},
   "source": [
    "**Respuesta**"
   ]
  },
  {
   "cell_type": "markdown",
   "metadata": {},
   "source": [
    "Dado que los valores predichos con $w$ y $wp$ son los mismos, la calidad de la regresión lineal medida mediante el RECM no se ve afectada por la ofuscación de datos. Esto significa que, aunque los datos estén ofuscados, el modelo de regresión lineal seguirá produciendo predicciones precisas como lo haría con los datos originales.\n",
    "\n",
    "En resumen, la ofuscación de datos no afecta la calidad de la regresión lineal medida mediante RECM, lo que demuestra que la regresión lineal es inmune a la transformación lineal de los datos."
   ]
  },
  {
   "cell_type": "markdown",
   "metadata": {},
   "source": [
    "**Prueba analítica**"
   ]
  },
  {
   "cell_type": "markdown",
   "metadata": {},
   "source": [
    "$yp =Xw$"
   ]
  },
  {
   "cell_type": "markdown",
   "metadata": {},
   "source": [
    "## Prueba de regresión lineal con ofuscación de datos"
   ]
  },
  {
   "cell_type": "markdown",
   "metadata": {},
   "source": [
    "Ahora, probemos que la regresión lineal pueda funcionar, en términos computacionales, con la transformación de ofuscación elegida.\n",
    "Construye un procedimiento o una clase que ejecute la regresión lineal opcionalmente con la ofuscación. Puedes usar una implementación de regresión lineal de scikit-learn o tu propia implementación.\n",
    "Ejecuta la regresión lineal para los datos originales y los ofuscados, compara los valores predichos y los valores de las métricas RMSE y $R^2$. ¿Hay alguna diferencia?"
   ]
  },
  {
   "cell_type": "markdown",
   "metadata": {},
   "source": [
    "**Procedimiento**\n",
    "\n",
    "- Crea una matriz cuadrada $P$ de números aleatorios.- Comprueba que sea invertible. Si no lo es, repite el primer paso hasta obtener una matriz invertible.- <¡ tu comentario aquí !>\n",
    "- Utiliza $XP$ como la nueva matriz de características"
   ]
  },
  {
   "cell_type": "code",
   "execution_count": 46,
   "metadata": {},
   "outputs": [],
   "source": [
    "#generar una matriz aleatoria\n",
    "rng_1 = np.random.default_rng(seed=42)\n",
    "P_1 = rng.random(size=(X.shape[1], X.shape[1]))"
   ]
  },
  {
   "cell_type": "code",
   "execution_count": 47,
   "metadata": {},
   "outputs": [
    {
     "name": "stdout",
     "output_type": "stream",
     "text": [
      "La matriz P_1 es invertible.\n",
      "[[-3.30407744  4.40917525 -0.27870525 -1.90039547]\n",
      " [-0.95858897 -1.33121709  1.62644533  1.78106755]\n",
      " [ 6.24868421 -7.35167522  2.19103126  2.60761164]\n",
      " [-3.6064091   5.89580272 -2.79039845 -1.92803822]]\n"
     ]
    }
   ],
   "source": [
    "#comprobamos que sea invertible\n",
    "try:\n",
    "    # Intentar calcular la inversa de la matriz P_1\n",
    "    inv_P_1 = np.linalg.inv(P_1)\n",
    "    print(\"La matriz P_1 es invertible.\")\n",
    "except np.linalg.LinAlgError:\n",
    "    print(\"La matriz P_1 no es invertible.\")\n",
    "    \n",
    "print(inv_P_1)"
   ]
  },
  {
   "cell_type": "code",
   "execution_count": 48,
   "metadata": {},
   "outputs": [
    {
     "data": {
      "text/plain": [
       "array([[38639.61192648117, 9669.362340360263, 23190.732797188986,\n",
       "        2210.883923152314],\n",
       "       [29613.599214338945, 7413.262141861984, 17780.79501290537,\n",
       "        1706.5941812279489],\n",
       "       [16368.037983011474, 4097.694117967086, 9829.29132097517,\n",
       "        945.779594050148],\n",
       "       ...,\n",
       "       [26402.67088458637, 6606.708813450784, 15842.745511146173,\n",
       "        1504.745102078368],\n",
       "       [25470.835737857113, 6374.598282174029, 15286.194096050422,\n",
       "        1455.565999507894],\n",
       "       [31624.305312196204, 7913.005132106867, 18977.624689328546,\n",
       "        1805.039456490066]], dtype=object)"
      ]
     },
     "execution_count": 48,
     "metadata": {},
     "output_type": "execute_result"
    }
   ],
   "source": [
    "#ofuscamiento de datos\n",
    "of = X @ P_1\n",
    "of"
   ]
  },
  {
   "cell_type": "code",
   "execution_count": 49,
   "metadata": {},
   "outputs": [],
   "source": [
    "#nuevo split\n",
    "\n",
    "x_train_of, x_test_of, _, _ = train_test_split(of, y, test_size=0.3, random_state=12345)"
   ]
  },
  {
   "cell_type": "code",
   "execution_count": 50,
   "metadata": {},
   "outputs": [
    {
     "name": "stdout",
     "output_type": "stream",
     "text": [
      "[-0.94353901  2.32372069  0.01642727 -0.02059875 -0.07014128]\n",
      "RMSE: 0.34\n",
      "R2: 0.66\n"
     ]
    }
   ],
   "source": [
    "lr = MyLinearRegression()\n",
    "\n",
    "lr.fit(X_train, y_train)\n",
    "print(lr.weights)\n",
    "\n",
    "y_test_pred = lr.predict(X_test)\n",
    "eval_regressor(y_test, y_test_pred)"
   ]
  },
  {
   "cell_type": "code",
   "execution_count": 51,
   "metadata": {},
   "outputs": [
    {
     "name": "stdout",
     "output_type": "stream",
     "text": [
      "[-0.94354071  0.12556581 -0.08415868 -0.1906556   0.17406945]\n",
      "RMSE: 0.34\n",
      "R2: 0.66\n"
     ]
    }
   ],
   "source": [
    "x_train_of = x_train_of.astype(float)\n",
    "\n",
    "lr_of = MyLinearRegression()\n",
    "\n",
    "lr_of.fit(x_train_of, y_train)\n",
    "print(lr_of.weights)\n",
    "\n",
    "y_test_pred_of = lr_of.predict(x_test_of)\n",
    "eval_regressor(y_test, y_test_pred_of)"
   ]
  },
  {
   "cell_type": "markdown",
   "metadata": {},
   "source": [
    "# Conclusiones"
   ]
  },
  {
   "cell_type": "markdown",
   "metadata": {},
   "source": [
    "En conclusion podemos decir que el modelo lineal puede funcionar correctamente tanto con los datos normales y con los datos ofuscados. \n",
    "Sin alterar las predicciones, permitiendo que los datos de los usuarios sean protegidos y a la vez dejar que trabaje de forma adecuada el modelo de prediccion.\n",
    "Utilizamos las medidas RMSE y R2 para medir a los dos resultados de los modelos y estos fueron exactamente iguales, demostrando que nuestra teoria es cierta."
   ]
  },
  {
   "cell_type": "markdown",
   "metadata": {},
   "source": [
    "# Lista de control"
   ]
  },
  {
   "cell_type": "markdown",
   "metadata": {},
   "source": [
    "Escribe 'x' para verificar. Luego presiona Shift+Enter."
   ]
  },
  {
   "cell_type": "markdown",
   "metadata": {},
   "source": [
    "- [x]  Jupyter Notebook está abierto\n",
    "- [x]  El código no tiene errores- [ ]  Las celdas están ordenadas de acuerdo con la lógica y el orden de ejecución\n",
    "- [x]  Se ha realizado la tarea 1\n",
    "    - [x]  Está presente el procedimiento que puede devolver k clientes similares para un cliente determinado\n",
    "    - [x]  Se probó el procedimiento para las cuatro combinaciones propuestas    - [ ]  Se respondieron las preguntas sobre la escala/distancia- [ ]  Se ha realizado la tarea 2\n",
    "    - [x]  Se construyó y probó el modelo de clasificación aleatoria para todos los niveles de probabilidad    - [ ]  Se construyó y probó el modelo de clasificación kNN tanto para los datos originales como para los escalados. Se calculó la métrica F1.- [ ]  Se ha realizado la tarea 3\n",
    "    - [x]  Se implementó la solución de regresión lineal mediante operaciones matriciales    - [ ]  Se calculó la RECM para la solución implementada- [ ]  Se ha realizado la tarea 4\n",
    "    - [x]  Se ofuscaron los datos mediante una matriz aleatoria e invertible P    - [ ]  Se recuperaron los datos ofuscados y se han mostrado algunos ejemplos    - [ ]  Se proporcionó la prueba analítica de que la transformación no afecta a la RECM    - [ ]  Se proporcionó la prueba computacional de que la transformación no afecta a la RECM- [ ]  Se han sacado conclusiones"
   ]
  },
  {
   "cell_type": "markdown",
   "metadata": {},
   "source": [
    "# Apéndices\n",
    "\n",
    "## Apéndice A: Escribir fórmulas en los cuadernos de Jupyter"
   ]
  },
  {
   "cell_type": "markdown",
   "metadata": {},
   "source": [
    "Puedes escribir fórmulas en tu Jupyter Notebook utilizando un lenguaje de marcado proporcionado por un sistema de publicación de alta calidad llamado $\\LaTeX$ (se pronuncia como \"Lah-tech\"). Las fórmulas se verán como las de los libros de texto.\n",
    "\n",
    "Para incorporar una fórmula a un texto, pon el signo de dólar (\\\\$) antes y después del texto de la fórmula, por ejemplo: $\\frac{1}{2} \\times \\frac{3}{2} = \\frac{3}{4}$ or $y = x^2, x \\ge 1$.\n",
    "\n",
    "Si una fórmula debe estar en el mismo párrafo, pon el doble signo de dólar (\\\\$\\\\$) antes y después del texto de la fórmula, por ejemplo:\n",
    "$$\n",
    "\\bar{x} = \\frac{1}{n}\\sum_{i=1}^{n} x_i.\n",
    "$$\n",
    "\n",
    "El lenguaje de marcado de [LaTeX](https://es.wikipedia.org/wiki/LaTeX) es muy popular entre las personas que utilizan fórmulas en sus artículos, libros y textos. Puede resultar complicado, pero sus fundamentos son sencillos. Consulta esta [ficha de ayuda](http://tug.ctan.org/info/undergradmath/undergradmath.pdf) (materiales en inglés) de dos páginas para aprender a componer las fórmulas más comunes."
   ]
  },
  {
   "cell_type": "markdown",
   "metadata": {},
   "source": [
    "## Apéndice B: Propiedades de las matrices"
   ]
  },
  {
   "cell_type": "markdown",
   "metadata": {},
   "source": [
    "Las matrices tienen muchas propiedades en cuanto al álgebra lineal. Aquí se enumeran algunas de ellas que pueden ayudarte a la hora de realizar la prueba analítica de este proyecto."
   ]
  },
  {
   "cell_type": "markdown",
   "metadata": {},
   "source": [
    "<table>\n",
    "<tr>\n",
    "<td>Distributividad</td><td>$A(B+C)=AB+AC$</td>\n",
    "</tr>\n",
    "<tr>\n",
    "<td>No conmutatividad</td><td>$AB \\neq BA$</td>\n",
    "</tr>\n",
    "<tr>\n",
    "<td>Propiedad asociativa de la multiplicación</td><td>$(AB)C = A(BC)$</td>\n",
    "</tr>\n",
    "<tr>\n",
    "<td>Propiedad de identidad multiplicativa</td><td>$IA = AI = A$</td>\n",
    "</tr>\n",
    "<tr>\n",
    "<td></td><td>$A^{-1}A = AA^{-1} = I$\n",
    "</td>\n",
    "</tr>    \n",
    "<tr>\n",
    "<td></td><td>$(AB)^{-1} = B^{-1}A^{-1}$</td>\n",
    "</tr>    \n",
    "<tr>\n",
    "<td>Reversibilidad de la transposición de un producto de matrices,</td><td>$(AB)^T = B^TA^T$</td>\n",
    "</tr>    \n",
    "</table>"
   ]
  },
  {
   "cell_type": "code",
   "execution_count": null,
   "metadata": {},
   "outputs": [],
   "source": []
  }
 ],
 "metadata": {
  "ExecuteTimeLog": [
   {
    "duration": 369,
    "start_time": "2024-05-16T12:00:31.181Z"
   },
   {
    "duration": 0,
    "start_time": "2024-05-16T12:00:31.555Z"
   },
   {
    "duration": 0,
    "start_time": "2024-05-16T12:00:31.560Z"
   },
   {
    "duration": 0,
    "start_time": "2024-05-16T12:00:31.561Z"
   },
   {
    "duration": 0,
    "start_time": "2024-05-16T12:00:31.563Z"
   },
   {
    "duration": 0,
    "start_time": "2024-05-16T12:00:31.566Z"
   },
   {
    "duration": 0,
    "start_time": "2024-05-16T12:00:31.568Z"
   },
   {
    "duration": 0,
    "start_time": "2024-05-16T12:00:31.571Z"
   },
   {
    "duration": 0,
    "start_time": "2024-05-16T12:00:31.573Z"
   },
   {
    "duration": 0,
    "start_time": "2024-05-16T12:00:31.574Z"
   },
   {
    "duration": 0,
    "start_time": "2024-05-16T12:00:31.576Z"
   },
   {
    "duration": 0,
    "start_time": "2024-05-16T12:00:31.577Z"
   },
   {
    "duration": 0,
    "start_time": "2024-05-16T12:00:31.581Z"
   },
   {
    "duration": 0,
    "start_time": "2024-05-16T12:00:31.582Z"
   },
   {
    "duration": 0,
    "start_time": "2024-05-16T12:00:31.609Z"
   },
   {
    "duration": 1,
    "start_time": "2024-05-16T12:00:31.611Z"
   },
   {
    "duration": 0,
    "start_time": "2024-05-16T12:00:31.614Z"
   },
   {
    "duration": 0,
    "start_time": "2024-05-16T12:00:31.616Z"
   },
   {
    "duration": 0,
    "start_time": "2024-05-16T12:00:31.618Z"
   },
   {
    "duration": 4496,
    "start_time": "2024-05-16T12:00:40.485Z"
   },
   {
    "duration": 5443,
    "start_time": "2024-05-16T12:00:44.984Z"
   },
   {
    "duration": 12,
    "start_time": "2024-05-16T12:00:50.430Z"
   },
   {
    "duration": 5,
    "start_time": "2024-05-16T12:00:50.446Z"
   },
   {
    "duration": 21,
    "start_time": "2024-05-16T12:00:50.455Z"
   },
   {
    "duration": 34,
    "start_time": "2024-05-16T12:00:50.479Z"
   },
   {
    "duration": 6,
    "start_time": "2024-05-16T12:00:50.516Z"
   },
   {
    "duration": 6,
    "start_time": "2024-05-16T12:00:50.525Z"
   },
   {
    "duration": 11,
    "start_time": "2024-05-16T12:00:50.534Z"
   },
   {
    "duration": 3,
    "start_time": "2024-05-16T12:00:50.551Z"
   },
   {
    "duration": 78,
    "start_time": "2024-05-16T12:00:50.558Z"
   },
   {
    "duration": 5102,
    "start_time": "2024-05-16T12:00:50.639Z"
   },
   {
    "duration": 4,
    "start_time": "2024-05-16T12:00:55.745Z"
   },
   {
    "duration": 7,
    "start_time": "2024-05-16T12:00:55.753Z"
   },
   {
    "duration": 19,
    "start_time": "2024-05-16T12:00:55.763Z"
   },
   {
    "duration": 34,
    "start_time": "2024-05-16T12:00:55.785Z"
   },
   {
    "duration": 28,
    "start_time": "2024-05-16T12:00:55.822Z"
   },
   {
    "duration": 54,
    "start_time": "2024-05-16T12:00:55.853Z"
   },
   {
    "duration": 25,
    "start_time": "2024-05-16T12:00:55.910Z"
   },
   {
    "duration": 39,
    "start_time": "2024-05-16T12:00:55.937Z"
   },
   {
    "duration": 63,
    "start_time": "2024-05-16T12:00:55.979Z"
   },
   {
    "duration": 1070,
    "start_time": "2024-05-16T12:00:56.045Z"
   },
   {
    "duration": 5,
    "start_time": "2024-05-16T12:00:57.119Z"
   },
   {
    "duration": 8,
    "start_time": "2024-05-16T12:00:57.127Z"
   },
   {
    "duration": 18,
    "start_time": "2024-05-16T12:00:57.138Z"
   },
   {
    "duration": 49,
    "start_time": "2024-05-16T12:00:57.159Z"
   },
   {
    "duration": 10,
    "start_time": "2024-05-16T12:00:57.212Z"
   },
   {
    "duration": 6,
    "start_time": "2024-05-16T12:00:57.230Z"
   },
   {
    "duration": 39,
    "start_time": "2024-05-16T12:00:57.239Z"
   },
   {
    "duration": 30,
    "start_time": "2024-05-16T12:00:57.281Z"
   },
   {
    "duration": 7,
    "start_time": "2024-05-16T12:00:57.315Z"
   },
   {
    "duration": 5,
    "start_time": "2024-05-16T12:00:57.325Z"
   },
   {
    "duration": 81,
    "start_time": "2024-05-16T12:00:57.333Z"
   },
   {
    "duration": 95,
    "start_time": "2024-05-16T12:00:57.417Z"
   },
   {
    "duration": 5,
    "start_time": "2024-05-16T12:00:57.515Z"
   },
   {
    "duration": 4,
    "start_time": "2024-05-16T12:00:57.523Z"
   },
   {
    "duration": 86,
    "start_time": "2024-05-16T12:00:57.530Z"
   },
   {
    "duration": 10,
    "start_time": "2024-05-16T12:00:57.619Z"
   },
   {
    "duration": 78,
    "start_time": "2024-05-16T12:00:57.632Z"
   },
   {
    "duration": 11,
    "start_time": "2024-05-16T12:00:57.713Z"
   },
   {
    "duration": 84,
    "start_time": "2024-05-16T12:00:57.727Z"
   },
   {
    "duration": 6,
    "start_time": "2024-05-16T12:00:57.814Z"
   },
   {
    "duration": 5,
    "start_time": "2024-05-16T12:00:57.824Z"
   },
   {
    "duration": 6,
    "start_time": "2024-05-16T12:00:57.832Z"
   },
   {
    "duration": 71,
    "start_time": "2024-05-16T12:00:57.840Z"
   },
   {
    "duration": 13,
    "start_time": "2024-05-16T12:00:57.914Z"
   },
   {
    "duration": 83,
    "start_time": "2024-05-16T12:00:57.930Z"
   },
   {
    "duration": 10,
    "start_time": "2024-05-16T12:00:58.016Z"
   },
   {
    "duration": 4,
    "start_time": "2024-05-16T12:01:25.623Z"
   },
   {
    "duration": 11,
    "start_time": "2024-05-16T12:05:29.615Z"
   },
   {
    "duration": 37,
    "start_time": "2024-05-16T12:06:12.899Z"
   },
   {
    "duration": 39,
    "start_time": "2024-05-16T12:09:46.397Z"
   },
   {
    "duration": 5,
    "start_time": "2024-05-16T12:12:15.611Z"
   },
   {
    "duration": 320,
    "start_time": "2024-05-18T11:39:06.946Z"
   },
   {
    "duration": 5012,
    "start_time": "2024-05-18T11:39:17.261Z"
   },
   {
    "duration": 6049,
    "start_time": "2024-05-18T11:39:22.277Z"
   },
   {
    "duration": 24,
    "start_time": "2024-05-18T11:39:28.328Z"
   },
   {
    "duration": 5,
    "start_time": "2024-05-18T11:39:28.357Z"
   },
   {
    "duration": 25,
    "start_time": "2024-05-18T11:39:28.366Z"
   },
   {
    "duration": 48,
    "start_time": "2024-05-18T11:39:28.394Z"
   },
   {
    "duration": 11,
    "start_time": "2024-05-18T11:39:28.445Z"
   },
   {
    "duration": 8,
    "start_time": "2024-05-18T11:39:28.459Z"
   },
   {
    "duration": 16,
    "start_time": "2024-05-18T11:39:28.471Z"
   },
   {
    "duration": 37,
    "start_time": "2024-05-18T11:39:28.494Z"
   },
   {
    "duration": 36,
    "start_time": "2024-05-18T11:39:28.535Z"
   },
   {
    "duration": 5425,
    "start_time": "2024-05-18T11:39:28.574Z"
   },
   {
    "duration": 3,
    "start_time": "2024-05-18T11:39:34.003Z"
   },
   {
    "duration": 7,
    "start_time": "2024-05-18T11:39:34.009Z"
   },
   {
    "duration": 23,
    "start_time": "2024-05-18T11:39:34.020Z"
   },
   {
    "duration": 14,
    "start_time": "2024-05-18T11:39:34.046Z"
   },
   {
    "duration": 29,
    "start_time": "2024-05-18T11:39:34.065Z"
   },
   {
    "duration": 29,
    "start_time": "2024-05-18T11:39:34.130Z"
   },
   {
    "duration": 28,
    "start_time": "2024-05-18T11:39:34.162Z"
   },
   {
    "duration": 64,
    "start_time": "2024-05-18T11:39:34.193Z"
   },
   {
    "duration": 38,
    "start_time": "2024-05-18T11:39:34.261Z"
   },
   {
    "duration": 998,
    "start_time": "2024-05-18T11:39:34.303Z"
   },
   {
    "duration": 1061,
    "start_time": "2024-05-18T11:39:40.772Z"
   },
   {
    "duration": 981,
    "start_time": "2024-05-18T11:44:59.643Z"
   },
   {
    "duration": 997,
    "start_time": "2024-05-18T11:46:37.777Z"
   },
   {
    "duration": 6,
    "start_time": "2024-05-18T11:46:38.778Z"
   },
   {
    "duration": 9,
    "start_time": "2024-05-18T11:46:38.787Z"
   },
   {
    "duration": 17,
    "start_time": "2024-05-18T11:46:38.831Z"
   },
   {
    "duration": 6,
    "start_time": "2024-05-18T11:46:38.851Z"
   },
   {
    "duration": 10,
    "start_time": "2024-05-18T11:46:38.860Z"
   },
   {
    "duration": 6,
    "start_time": "2024-05-18T11:46:38.875Z"
   },
   {
    "duration": 76,
    "start_time": "2024-05-18T11:46:38.884Z"
   },
   {
    "duration": 11,
    "start_time": "2024-05-18T11:46:38.964Z"
   },
   {
    "duration": 65,
    "start_time": "2024-05-18T11:46:38.980Z"
   },
   {
    "duration": 7,
    "start_time": "2024-05-18T11:46:39.048Z"
   },
   {
    "duration": 5,
    "start_time": "2024-05-18T11:46:39.059Z"
   },
   {
    "duration": 19,
    "start_time": "2024-05-18T11:46:39.067Z"
   },
   {
    "duration": 14,
    "start_time": "2024-05-18T11:46:39.133Z"
   },
   {
    "duration": 80,
    "start_time": "2024-05-18T11:46:39.150Z"
   },
   {
    "duration": 5,
    "start_time": "2024-05-18T11:46:39.234Z"
   },
   {
    "duration": 8,
    "start_time": "2024-05-18T11:46:39.242Z"
   },
   {
    "duration": 80,
    "start_time": "2024-05-18T11:46:39.253Z"
   },
   {
    "duration": 15,
    "start_time": "2024-05-18T11:46:39.336Z"
   },
   {
    "duration": 12,
    "start_time": "2024-05-18T11:46:39.430Z"
   },
   {
    "duration": 7,
    "start_time": "2024-05-18T11:46:39.445Z"
   },
   {
    "duration": 75,
    "start_time": "2024-05-18T11:46:39.456Z"
   },
   {
    "duration": 5,
    "start_time": "2024-05-18T11:46:39.534Z"
   },
   {
    "duration": 11,
    "start_time": "2024-05-18T11:46:39.542Z"
   },
   {
    "duration": 77,
    "start_time": "2024-05-18T11:46:39.556Z"
   },
   {
    "duration": 8,
    "start_time": "2024-05-18T11:46:39.636Z"
   },
   {
    "duration": 83,
    "start_time": "2024-05-18T11:46:39.647Z"
   },
   {
    "duration": 13,
    "start_time": "2024-05-18T11:46:39.738Z"
   },
   {
    "duration": 5,
    "start_time": "2024-05-18T12:07:03.669Z"
   },
   {
    "duration": 69,
    "start_time": "2024-05-18T12:09:02.432Z"
   },
   {
    "duration": 66,
    "start_time": "2024-05-18T12:17:43.924Z"
   },
   {
    "duration": 173,
    "start_time": "2024-05-18T12:43:35.246Z"
   },
   {
    "duration": 6,
    "start_time": "2024-05-18T12:44:03.563Z"
   },
   {
    "duration": 418,
    "start_time": "2024-05-18T12:44:05.166Z"
   },
   {
    "duration": 175,
    "start_time": "2024-05-18T12:53:03.973Z"
   },
   {
    "duration": 238,
    "start_time": "2024-05-18T12:54:07.127Z"
   },
   {
    "duration": 299,
    "start_time": "2024-05-18T13:00:33.998Z"
   },
   {
    "duration": 6,
    "start_time": "2024-05-18T13:03:46.252Z"
   },
   {
    "duration": 97,
    "start_time": "2024-05-18T13:09:32.295Z"
   },
   {
    "duration": 6,
    "start_time": "2024-05-18T13:09:46.827Z"
   },
   {
    "duration": 72,
    "start_time": "2024-05-18T13:09:47.773Z"
   },
   {
    "duration": 6,
    "start_time": "2024-05-18T13:11:33.613Z"
   },
   {
    "duration": 4143,
    "start_time": "2024-05-18T13:20:35.123Z"
   },
   {
    "duration": 1685,
    "start_time": "2024-05-18T13:20:39.271Z"
   },
   {
    "duration": 14,
    "start_time": "2024-05-18T13:20:40.959Z"
   },
   {
    "duration": 5,
    "start_time": "2024-05-18T13:20:40.977Z"
   },
   {
    "duration": 50,
    "start_time": "2024-05-18T13:20:40.988Z"
   },
   {
    "duration": 26,
    "start_time": "2024-05-18T13:20:41.042Z"
   },
   {
    "duration": 14,
    "start_time": "2024-05-18T13:20:41.071Z"
   },
   {
    "duration": 7,
    "start_time": "2024-05-18T13:20:41.089Z"
   },
   {
    "duration": 38,
    "start_time": "2024-05-18T13:20:41.098Z"
   },
   {
    "duration": 4,
    "start_time": "2024-05-18T13:20:41.139Z"
   },
   {
    "duration": 35,
    "start_time": "2024-05-18T13:20:41.145Z"
   },
   {
    "duration": 6020,
    "start_time": "2024-05-18T13:20:41.183Z"
   },
   {
    "duration": 4,
    "start_time": "2024-05-18T13:20:47.207Z"
   },
   {
    "duration": 8,
    "start_time": "2024-05-18T13:20:47.230Z"
   },
   {
    "duration": 25,
    "start_time": "2024-05-18T13:20:47.242Z"
   },
   {
    "duration": 18,
    "start_time": "2024-05-18T13:20:47.274Z"
   },
   {
    "duration": 64,
    "start_time": "2024-05-18T13:20:47.296Z"
   },
   {
    "duration": 35,
    "start_time": "2024-05-18T13:20:47.363Z"
   },
   {
    "duration": 50,
    "start_time": "2024-05-18T13:20:47.407Z"
   },
   {
    "duration": 51,
    "start_time": "2024-05-18T13:20:47.461Z"
   },
   {
    "duration": 48,
    "start_time": "2024-05-18T13:20:47.533Z"
   },
   {
    "duration": 1370,
    "start_time": "2024-05-18T13:20:47.585Z"
   },
   {
    "duration": 7,
    "start_time": "2024-05-18T13:20:48.959Z"
   },
   {
    "duration": 10,
    "start_time": "2024-05-18T13:20:48.970Z"
   },
   {
    "duration": 58,
    "start_time": "2024-05-18T13:20:48.983Z"
   },
   {
    "duration": 8,
    "start_time": "2024-05-18T13:20:49.043Z"
   },
   {
    "duration": 12,
    "start_time": "2024-05-18T13:20:49.055Z"
   },
   {
    "duration": 6,
    "start_time": "2024-05-18T13:20:49.071Z"
   },
   {
    "duration": 90,
    "start_time": "2024-05-18T13:20:49.080Z"
   },
   {
    "duration": 110,
    "start_time": "2024-05-18T13:20:49.175Z"
   },
   {
    "duration": 12,
    "start_time": "2024-05-18T13:20:49.289Z"
   },
   {
    "duration": 1686,
    "start_time": "2024-05-18T13:20:49.305Z"
   },
   {
    "duration": 0,
    "start_time": "2024-05-18T13:20:50.995Z"
   },
   {
    "duration": 0,
    "start_time": "2024-05-18T13:20:50.997Z"
   },
   {
    "duration": 0,
    "start_time": "2024-05-18T13:20:51.000Z"
   },
   {
    "duration": 0,
    "start_time": "2024-05-18T13:20:51.002Z"
   },
   {
    "duration": 0,
    "start_time": "2024-05-18T13:20:51.005Z"
   },
   {
    "duration": 0,
    "start_time": "2024-05-18T13:20:51.007Z"
   },
   {
    "duration": 0,
    "start_time": "2024-05-18T13:20:51.009Z"
   },
   {
    "duration": 0,
    "start_time": "2024-05-18T13:20:51.032Z"
   },
   {
    "duration": 0,
    "start_time": "2024-05-18T13:20:51.035Z"
   },
   {
    "duration": 0,
    "start_time": "2024-05-18T13:20:51.037Z"
   },
   {
    "duration": 0,
    "start_time": "2024-05-18T13:20:51.040Z"
   },
   {
    "duration": 0,
    "start_time": "2024-05-18T13:20:51.042Z"
   },
   {
    "duration": 0,
    "start_time": "2024-05-18T13:20:51.047Z"
   },
   {
    "duration": 0,
    "start_time": "2024-05-18T13:20:51.050Z"
   },
   {
    "duration": 0,
    "start_time": "2024-05-18T13:20:51.052Z"
   },
   {
    "duration": 0,
    "start_time": "2024-05-18T13:20:51.054Z"
   },
   {
    "duration": 0,
    "start_time": "2024-05-18T13:20:51.056Z"
   },
   {
    "duration": 0,
    "start_time": "2024-05-18T13:20:51.058Z"
   },
   {
    "duration": 20,
    "start_time": "2024-05-18T13:23:40.099Z"
   },
   {
    "duration": 19,
    "start_time": "2024-05-18T13:23:58.602Z"
   },
   {
    "duration": 7,
    "start_time": "2024-05-18T13:25:05.815Z"
   },
   {
    "duration": 650878,
    "start_time": "2024-05-18T13:25:17.564Z"
   },
   {
    "duration": 18,
    "start_time": "2024-05-18T13:36:08.445Z"
   },
   {
    "duration": 31,
    "start_time": "2024-05-18T13:58:04.972Z"
   },
   {
    "duration": 31,
    "start_time": "2024-05-18T13:59:55.852Z"
   },
   {
    "duration": 31,
    "start_time": "2024-05-18T14:01:23.844Z"
   },
   {
    "duration": 13,
    "start_time": "2024-05-19T14:13:22.946Z"
   },
   {
    "duration": 5,
    "start_time": "2024-05-19T14:13:22.963Z"
   },
   {
    "duration": 313,
    "start_time": "2024-05-19T14:13:22.971Z"
   },
   {
    "duration": 0,
    "start_time": "2024-05-19T14:13:23.289Z"
   },
   {
    "duration": 0,
    "start_time": "2024-05-19T14:13:23.291Z"
   },
   {
    "duration": 0,
    "start_time": "2024-05-19T14:13:23.302Z"
   },
   {
    "duration": 0,
    "start_time": "2024-05-19T14:13:23.304Z"
   },
   {
    "duration": 0,
    "start_time": "2024-05-19T14:13:23.306Z"
   },
   {
    "duration": 0,
    "start_time": "2024-05-19T14:13:23.308Z"
   },
   {
    "duration": 0,
    "start_time": "2024-05-19T14:13:23.310Z"
   },
   {
    "duration": 0,
    "start_time": "2024-05-19T14:13:23.311Z"
   },
   {
    "duration": 0,
    "start_time": "2024-05-19T14:13:23.315Z"
   },
   {
    "duration": 0,
    "start_time": "2024-05-19T14:13:23.321Z"
   },
   {
    "duration": 0,
    "start_time": "2024-05-19T14:13:23.324Z"
   },
   {
    "duration": 0,
    "start_time": "2024-05-19T14:13:23.331Z"
   },
   {
    "duration": 0,
    "start_time": "2024-05-19T14:13:23.333Z"
   },
   {
    "duration": 0,
    "start_time": "2024-05-19T14:13:23.335Z"
   },
   {
    "duration": 0,
    "start_time": "2024-05-19T14:13:23.337Z"
   },
   {
    "duration": 4238,
    "start_time": "2024-05-19T14:15:07.820Z"
   },
   {
    "duration": 1534,
    "start_time": "2024-05-19T14:15:12.063Z"
   },
   {
    "duration": 16,
    "start_time": "2024-05-19T14:15:13.600Z"
   },
   {
    "duration": 5,
    "start_time": "2024-05-19T14:15:13.620Z"
   },
   {
    "duration": 18,
    "start_time": "2024-05-19T14:15:13.629Z"
   },
   {
    "duration": 16,
    "start_time": "2024-05-19T14:15:13.650Z"
   },
   {
    "duration": 6,
    "start_time": "2024-05-19T14:15:13.703Z"
   },
   {
    "duration": 5,
    "start_time": "2024-05-19T14:15:13.715Z"
   },
   {
    "duration": 10,
    "start_time": "2024-05-19T14:15:13.723Z"
   },
   {
    "duration": 3,
    "start_time": "2024-05-19T14:15:13.740Z"
   },
   {
    "duration": 78,
    "start_time": "2024-05-19T14:15:13.746Z"
   },
   {
    "duration": 5198,
    "start_time": "2024-05-19T14:15:13.828Z"
   },
   {
    "duration": 4,
    "start_time": "2024-05-19T14:15:19.029Z"
   },
   {
    "duration": 10,
    "start_time": "2024-05-19T14:15:19.037Z"
   },
   {
    "duration": 19,
    "start_time": "2024-05-19T14:15:19.050Z"
   },
   {
    "duration": 30,
    "start_time": "2024-05-19T14:15:19.072Z"
   },
   {
    "duration": 31,
    "start_time": "2024-05-19T14:15:19.105Z"
   },
   {
    "duration": 25,
    "start_time": "2024-05-19T14:15:19.138Z"
   },
   {
    "duration": 54,
    "start_time": "2024-05-19T14:15:19.166Z"
   },
   {
    "duration": 45,
    "start_time": "2024-05-19T14:15:19.223Z"
   },
   {
    "duration": 64,
    "start_time": "2024-05-19T14:15:19.271Z"
   },
   {
    "duration": 990,
    "start_time": "2024-05-19T14:15:19.338Z"
   },
   {
    "duration": 7,
    "start_time": "2024-05-19T14:15:20.332Z"
   },
   {
    "duration": 8,
    "start_time": "2024-05-19T14:15:20.342Z"
   },
   {
    "duration": 50,
    "start_time": "2024-05-19T14:15:20.353Z"
   },
   {
    "duration": 8,
    "start_time": "2024-05-19T14:15:20.406Z"
   },
   {
    "duration": 10,
    "start_time": "2024-05-19T14:15:20.417Z"
   },
   {
    "duration": 4,
    "start_time": "2024-05-19T14:15:20.433Z"
   },
   {
    "duration": 74,
    "start_time": "2024-05-19T14:15:20.441Z"
   },
   {
    "duration": 68,
    "start_time": "2024-05-19T14:15:20.518Z"
   },
   {
    "duration": 19,
    "start_time": "2024-05-19T14:15:20.588Z"
   },
   {
    "duration": 647387,
    "start_time": "2024-05-19T14:15:20.611Z"
   },
   {
    "duration": 449,
    "start_time": "2024-05-19T14:26:08.003Z"
   },
   {
    "duration": 7,
    "start_time": "2024-05-19T14:42:36.579Z"
   },
   {
    "duration": 4,
    "start_time": "2024-05-19T14:42:37.219Z"
   },
   {
    "duration": 15,
    "start_time": "2024-05-19T14:42:37.748Z"
   },
   {
    "duration": 12,
    "start_time": "2024-05-19T14:42:38.649Z"
   },
   {
    "duration": 5,
    "start_time": "2024-05-19T14:42:40.469Z"
   },
   {
    "duration": 5,
    "start_time": "2024-05-19T14:42:40.627Z"
   },
   {
    "duration": 5,
    "start_time": "2024-05-19T14:42:41.074Z"
   },
   {
    "duration": 6,
    "start_time": "2024-05-19T14:42:41.394Z"
   },
   {
    "duration": 10,
    "start_time": "2024-05-19T14:42:41.674Z"
   },
   {
    "duration": 9,
    "start_time": "2024-05-19T14:42:42.138Z"
   },
   {
    "duration": 6,
    "start_time": "2024-05-19T14:42:42.300Z"
   },
   {
    "duration": 5,
    "start_time": "2024-05-19T14:42:42.762Z"
   },
   {
    "duration": 4,
    "start_time": "2024-05-19T14:42:45.922Z"
   },
   {
    "duration": 16,
    "start_time": "2024-05-19T14:42:46.002Z"
   },
   {
    "duration": 11,
    "start_time": "2024-05-19T14:42:46.290Z"
   },
   {
    "duration": 6,
    "start_time": "2024-05-19T14:42:46.469Z"
   },
   {
    "duration": 9,
    "start_time": "2024-05-19T14:42:46.616Z"
   },
   {
    "duration": 10,
    "start_time": "2024-05-19T14:42:46.803Z"
   }
  ],
  "kernelspec": {
   "display_name": "Python 3 (ipykernel)",
   "language": "python",
   "name": "python3"
  },
  "language_info": {
   "codemirror_mode": {
    "name": "ipython",
    "version": 3
   },
   "file_extension": ".py",
   "mimetype": "text/x-python",
   "name": "python",
   "nbconvert_exporter": "python",
   "pygments_lexer": "ipython3",
   "version": "3.11.5"
  },
  "toc": {
   "base_numbering": 1,
   "nav_menu": {},
   "number_sections": true,
   "sideBar": true,
   "skip_h1_title": true,
   "title_cell": "Table of Contents",
   "title_sidebar": "Contents",
   "toc_cell": false,
   "toc_position": {
    "height": "335px",
    "left": "132px",
    "top": "137.125px",
    "width": "205.188px"
   },
   "toc_section_display": true,
   "toc_window_display": true
  }
 },
 "nbformat": 4,
 "nbformat_minor": 4
}
