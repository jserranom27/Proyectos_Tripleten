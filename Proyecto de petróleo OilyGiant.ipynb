{
 "cells": [
  {
   "cell_type": "markdown",
   "metadata": {},
   "source": [
    "# Proyecto de petróleo OilyGiant"
   ]
  },
  {
   "cell_type": "markdown",
   "metadata": {},
   "source": [
    "# Descripcion del proyecto"
   ]
  },
  {
   "cell_type": "markdown",
   "metadata": {},
   "source": [
    "Trabajas en la compañía de extracción de petróleo OilyGiant. Tu tarea es encontrar los mejores lugares donde abrir 200 pozos nuevos de petróleo.\n",
    "\n",
    "Para completar esta tarea, tendrás que realizar los siguientes pasos:\n",
    "\n",
    "Leer los archivos con los parámetros recogidos de pozos petrolíferos en la región seleccionada: calidad de crudo y volumen de reservas.\n",
    "\n",
    "Crear un modelo para predecir el volumen de reservas en pozos nuevos.\n",
    "\n",
    "Elegir los pozos petrolíferos que tienen los valores estimados más altos.\n",
    "\n",
    "Elegir la región con el beneficio total más alto para los pozos petrolíferos seleccionados.\n",
    "\n",
    "Tienes datos sobre muestras de crudo de tres regiones. Ya se conocen los parámetros de cada pozo petrolero de la región. Crea un modelo que ayude a elegir la región con el mayor margen de beneficio. Analiza los beneficios y riesgos potenciales utilizando la técnica bootstrapping."
   ]
  },
  {
   "cell_type": "markdown",
   "metadata": {},
   "source": [
    "# Condiciones"
   ]
  },
  {
   "cell_type": "markdown",
   "metadata": {},
   "source": [
    "* Solo la regresión lineal es adecuada para el entrenamiento de modelos (el resto no son lo suficientemente predecibles).\n",
    "\n",
    "* Al explorar la región, se lleva a cabo un estudio de 500 puntos con la selección de los mejores 200 puntos para el cálculo del beneficio.\n",
    "\n",
    "* El presupuesto para el desarrollo de 200 pozos petroleros es de 100 millones de dólares.\n",
    "\n",
    "* Un barril de materias primas genera 4.5 USD de ingresos. El ingreso de una unidad de producto es de 4500 dólares (el volumen de reservas está expresado en miles de barriles).\n",
    "\n",
    "* Después de la evaluación de riesgo, mantén solo las regiones con riesgo de pérdidas inferior al 2.5%. De las que se ajustan a los criterios, se debe seleccionar la región con el beneficio promedio más alto."
   ]
  },
  {
   "cell_type": "markdown",
   "metadata": {},
   "source": [
    "# Descripcion de los datos"
   ]
  },
  {
   "cell_type": "markdown",
   "metadata": {},
   "source": [
    "Los datos de exploración geológica de las tres regiones se almacenan en archivos:\n",
    "\n",
    "* geo_data_0.csv. \n",
    "* geo_data_1.csv. \n",
    "* geo_data_2.csv. \n",
    "\n",
    "id — identificador único de pozo de petróleo.\n",
    "\n",
    "f0, f1, f2 — tres características de los puntos (su significado específico no es importante, pero las características en sí son significativas).\n",
    "\n",
    "product — volumen de reservas en el pozo de petróleo (miles de barriles)."
   ]
  },
  {
   "cell_type": "markdown",
   "metadata": {},
   "source": [
    "# Instrucciones del proyecto"
   ]
  },
  {
   "cell_type": "markdown",
   "metadata": {},
   "source": [
    "## Descarga y prepara los datos. Explica el procedimiento."
   ]
  },
  {
   "cell_type": "markdown",
   "metadata": {},
   "source": [
    "## Entrena y prueba el modelo para cada región en geo_data_0.csv"
   ]
  },
  {
   "cell_type": "markdown",
   "metadata": {},
   "source": [
    "### Divide los datos en un conjunto de entrenamiento y un conjunto de validación en una proporción de 75:25"
   ]
  },
  {
   "cell_type": "markdown",
   "metadata": {},
   "source": [
    "### Entrena el modelo y haz predicciones para el conjunto de validación."
   ]
  },
  {
   "cell_type": "markdown",
   "metadata": {},
   "source": [
    "### Guarda las predicciones y las respuestas correctas para el conjunto de validación."
   ]
  },
  {
   "cell_type": "markdown",
   "metadata": {},
   "source": [
    "### Muestra el volumen medio de reservas predicho y RMSE del modelo."
   ]
  },
  {
   "cell_type": "markdown",
   "metadata": {},
   "source": [
    "### Analiza los resultados."
   ]
  },
  {
   "cell_type": "markdown",
   "metadata": {},
   "source": [
    "### Coloca todos los pasos previos en funciones, realiza y ejecuta los pasos 2.1-2.5 para los archivos 'geo_data_1.csv' y 'geo_data_2.csv'."
   ]
  },
  {
   "cell_type": "markdown",
   "metadata": {},
   "source": [
    "## Prepárate para el cálculo de ganancias"
   ]
  },
  {
   "cell_type": "markdown",
   "metadata": {},
   "source": [
    "### Almacena todos los valores necesarios para los cálculos en variables separadas."
   ]
  },
  {
   "cell_type": "markdown",
   "metadata": {},
   "source": [
    "### Dada la inversión de 100 millones por 200 pozos petrolíferos, de media un pozo petrolífero debe producir al menos un valor de 500,000 dólares en unidades para evitar pérdidas (esto es equivalente a 111.1 unidades). Compara esta cantidad con la cantidad media de reservas en cada región."
   ]
  },
  {
   "cell_type": "markdown",
   "metadata": {},
   "source": [
    "### Presenta conclusiones sobre cómo preparar el paso para calcular el beneficio."
   ]
  },
  {
   "cell_type": "markdown",
   "metadata": {},
   "source": [
    "## Escribe una función para calcular la ganancia de un conjunto de pozos de petróleo seleccionados y modela las predicciones"
   ]
  },
  {
   "cell_type": "markdown",
   "metadata": {},
   "source": [
    "### Elige los 200 pozos con los valores de predicción más altos de cada una de las 3 regiones (es decir, archivos 'csv')."
   ]
  },
  {
   "cell_type": "markdown",
   "metadata": {},
   "source": [
    "### Resume el volumen objetivo de reservas según dichas predicciones. Almacena las predicciones para los 200 pozos para cada una de las 3 regiones."
   ]
  },
  {
   "cell_type": "markdown",
   "metadata": {},
   "source": [
    "### Calcula la ganancia potencial de los 200 pozos principales por región. Presenta tus conclusiones: propón una región para el desarrollo de pozos petrolíferos y justifica tu elección."
   ]
  },
  {
   "cell_type": "markdown",
   "metadata": {},
   "source": [
    "## Calcula riesgos y ganancias para cada región"
   ]
  },
  {
   "cell_type": "markdown",
   "metadata": {},
   "source": [
    "### Utilizando las predicciones que almacenaste en el paso 4.2, emplea la técnica del bootstrapping con 1000 muestras para hallar la distribución de los beneficios. "
   ]
  },
  {
   "cell_type": "markdown",
   "metadata": {},
   "source": [
    "### Encuentra el beneficio promedio, el intervalo de confianza del 95% y el riesgo de pérdidas. La pérdida es una ganancia negativa, calcúlala como una probabilidad y luego exprésala como un porcentaje."
   ]
  },
  {
   "cell_type": "markdown",
   "metadata": {},
   "source": [
    "### Presenta tus conclusiones: propón una región para el desarrollo de pozos petrolíferos y justifica tu elección. ¿Coincide tu elección con la elección anterior en el punto 4.3?"
   ]
  },
  {
   "cell_type": "markdown",
   "metadata": {},
   "source": [
    "# Importacion de librerias"
   ]
  },
  {
   "cell_type": "code",
   "execution_count": 1,
   "metadata": {},
   "outputs": [],
   "source": [
    "import pandas as pd\n",
    "import matplotlib.pyplot as plt\n",
    "import numpy as np\n",
    "from scipy import stats as st\n",
    "import seaborn as sns\n",
    "import plotly.express as px\n",
    "import requests\n",
    "from bs4 import BeautifulSoup\n",
    "from sklearn.ensemble import RandomForestClassifier\n",
    "from sklearn.linear_model import LinearRegression\n",
    "from sklearn.model_selection import train_test_split\n",
    "from sklearn.metrics import mean_squared_error\n",
    "from sklearn.tree import DecisionTreeClassifier\n",
    "from sklearn.linear_model import LogisticRegression\n",
    "from sklearn.metrics import accuracy_score\n",
    "from sklearn.metrics import roc_auc_score\n",
    "from sklearn.metrics import mean_absolute_error\n",
    "from sklearn.utils import shuffle\n",
    "from sklearn.metrics import f1_score\n",
    "from sklearn.metrics import roc_curve"
   ]
  },
  {
   "cell_type": "markdown",
   "metadata": {},
   "source": [
    "# Lectura de los datos"
   ]
  },
  {
   "cell_type": "code",
   "execution_count": 2,
   "metadata": {},
   "outputs": [],
   "source": [
    "data_0 = pd.read_csv(\"/datasets/geo_data_0.csv\")\n",
    "data_1 = pd.read_csv(\"/datasets/geo_data_1.csv\")\n",
    "data_2 = pd.read_csv(\"/datasets/geo_data_2.csv\")"
   ]
  },
  {
   "cell_type": "markdown",
   "metadata": {},
   "source": [
    "# Preparacion de datos"
   ]
  },
  {
   "cell_type": "markdown",
   "metadata": {},
   "source": [
    "## revision de datos"
   ]
  },
  {
   "cell_type": "code",
   "execution_count": 3,
   "metadata": {},
   "outputs": [
    {
     "name": "stdout",
     "output_type": "stream",
     "text": [
      "<class 'pandas.core.frame.DataFrame'>\n",
      "RangeIndex: 100000 entries, 0 to 99999\n",
      "Data columns (total 5 columns):\n",
      " #   Column   Non-Null Count   Dtype  \n",
      "---  ------   --------------   -----  \n",
      " 0   id       100000 non-null  object \n",
      " 1   f0       100000 non-null  float64\n",
      " 2   f1       100000 non-null  float64\n",
      " 3   f2       100000 non-null  float64\n",
      " 4   product  100000 non-null  float64\n",
      "dtypes: float64(4), object(1)\n",
      "memory usage: 3.8+ MB\n",
      "<class 'pandas.core.frame.DataFrame'>\n",
      "RangeIndex: 100000 entries, 0 to 99999\n",
      "Data columns (total 5 columns):\n",
      " #   Column   Non-Null Count   Dtype  \n",
      "---  ------   --------------   -----  \n",
      " 0   id       100000 non-null  object \n",
      " 1   f0       100000 non-null  float64\n",
      " 2   f1       100000 non-null  float64\n",
      " 3   f2       100000 non-null  float64\n",
      " 4   product  100000 non-null  float64\n",
      "dtypes: float64(4), object(1)\n",
      "memory usage: 3.8+ MB\n",
      "<class 'pandas.core.frame.DataFrame'>\n",
      "RangeIndex: 100000 entries, 0 to 99999\n",
      "Data columns (total 5 columns):\n",
      " #   Column   Non-Null Count   Dtype  \n",
      "---  ------   --------------   -----  \n",
      " 0   id       100000 non-null  object \n",
      " 1   f0       100000 non-null  float64\n",
      " 2   f1       100000 non-null  float64\n",
      " 3   f2       100000 non-null  float64\n",
      " 4   product  100000 non-null  float64\n",
      "dtypes: float64(4), object(1)\n",
      "memory usage: 3.8+ MB\n",
      "None None None\n"
     ]
    }
   ],
   "source": [
    "print(data_0.info(), data_1.info(), data_2.info())"
   ]
  },
  {
   "cell_type": "code",
   "execution_count": 4,
   "metadata": {},
   "outputs": [
    {
     "name": "stdout",
     "output_type": "stream",
     "text": [
      "          id        f0        f1        f2     product\n",
      "69321  Pv8bV  0.749325 -0.426935  3.647096   48.773589\n",
      "78476  f0tzS -0.083002  0.482160  2.801727   87.344781\n",
      "26816  NoML0  0.280400 -0.166455  1.290272   61.867771\n",
      "8863   d960V -0.019709  0.174352 -0.687293   77.379344\n",
      "84816  81SWa  1.172163 -0.362424 -1.024993   24.913046\n",
      "68829  Uth5d  0.101899  1.175975  5.311665  130.082500\n",
      "94723  40IIY  0.956322  0.257905  6.902242   86.491797\n",
      "18646  CYIvE -0.049077  0.406130  7.315677  154.842834\n",
      "20554  HqhZQ  1.985105  0.259467  0.013170   68.817006\n",
      "62389  NkfNB  0.913524 -0.424796  4.038193  120.697236\n"
     ]
    }
   ],
   "source": [
    "print(data_0.sample(10))"
   ]
  },
  {
   "cell_type": "code",
   "execution_count": 5,
   "metadata": {},
   "outputs": [
    {
     "name": "stdout",
     "output_type": "stream",
     "text": [
      "          id         f0        f1        f2     product\n",
      "75773  L1JXV   1.845630 -5.848889  4.003873  107.813044\n",
      "45713  LZQw9 -12.875159 -2.606007  0.996361   30.132364\n",
      "31322  pFMfO  -7.047510 -0.789093  1.992806   57.085625\n",
      "15819  2kHNj  -6.491001 -3.448573  0.987696   30.132364\n",
      "26341  NWEhs   6.175621  4.168427  3.995834  107.813044\n",
      "12345  4DV4q   9.079967 -3.381034  3.997362  107.813044\n",
      "29054  jXUfQ   9.961560  8.565066  0.996362   26.953261\n",
      "85204  X0Csa -12.197168 -7.311985  0.998453   30.132364\n",
      "33596  D5aMY -13.501149 -0.536351  0.998566   30.132364\n",
      "96418  avQ8Z   6.355363 -5.886002  3.011099   80.859783\n"
     ]
    }
   ],
   "source": [
    "print(data_1.sample(10))"
   ]
  },
  {
   "cell_type": "code",
   "execution_count": 6,
   "metadata": {},
   "outputs": [
    {
     "name": "stdout",
     "output_type": "stream",
     "text": [
      "          id        f0        f1         f2     product\n",
      "26360  iQ4zA -0.469827  0.503669  -2.557565    0.621944\n",
      "2595   Tc0K6  0.728137  1.843353  12.140606  118.613726\n",
      "31376  Bx2ng  1.277842 -3.685141   4.369521   58.547667\n",
      "26994  eFO1y  0.193375  0.032026   1.010467   62.915606\n",
      "65184  gHs8x -0.158251  0.093654   2.688267   63.521695\n",
      "89164  hkiPV -1.166501 -1.398433   8.613914  113.558882\n",
      "74819  bgHNz -3.897136 -0.685045   5.687543   87.797487\n",
      "57676  w2W7h  0.297416  1.631913   5.048092   67.865092\n",
      "60020  H13Bs -1.644878 -0.583822   6.333070  135.546143\n",
      "36631  R9mLp  2.047125 -0.251930   1.354543  126.269129\n"
     ]
    }
   ],
   "source": [
    "print(data_2.sample(10))"
   ]
  },
  {
   "cell_type": "code",
   "execution_count": 7,
   "metadata": {},
   "outputs": [
    {
     "name": "stdout",
     "output_type": "stream",
     "text": [
      "la cantidad de datos duplicados de data_0 es: 0\n",
      "la cantidad de datos duplicados de data_1 es: 0\n",
      "la cantidad de datos duplicados de data_2 es: 0\n"
     ]
    }
   ],
   "source": [
    "#miraremos que no hayan duplicados y datos ausentes en la siguiente parte.\n",
    "\n",
    "print(\"la cantidad de datos duplicados de data_0 es:\", data_0.duplicated().sum())\n",
    "print(\"la cantidad de datos duplicados de data_1 es:\", data_1.duplicated().sum())\n",
    "print(\"la cantidad de datos duplicados de data_2 es:\", data_2.duplicated().sum())"
   ]
  },
  {
   "cell_type": "markdown",
   "metadata": {},
   "source": [
    "No se han encontrado datos duplicados en esta parte"
   ]
  },
  {
   "cell_type": "code",
   "execution_count": 8,
   "metadata": {},
   "outputs": [
    {
     "name": "stdout",
     "output_type": "stream",
     "text": [
      "la cantidad de datos ausentes de data_0 es: id         0\n",
      "f0         0\n",
      "f1         0\n",
      "f2         0\n",
      "product    0\n",
      "dtype: int64\n",
      "la cantidad de datos ausentes de data_1 es: id         0\n",
      "f0         0\n",
      "f1         0\n",
      "f2         0\n",
      "product    0\n",
      "dtype: int64\n",
      "la cantidad de datos ausentes de data_2 es: id         0\n",
      "f0         0\n",
      "f1         0\n",
      "f2         0\n",
      "product    0\n",
      "dtype: int64\n"
     ]
    }
   ],
   "source": [
    "#Ahora verificamos si hay datos ausentes\n",
    "\n",
    "print(\"la cantidad de datos ausentes de data_0 es:\",data_0.isna().sum())\n",
    "\n",
    "print(\"la cantidad de datos ausentes de data_1 es:\",data_1.isna().sum())\n",
    "\n",
    "print(\"la cantidad de datos ausentes de data_2 es:\",data_2.isna().sum())"
   ]
  },
  {
   "cell_type": "markdown",
   "metadata": {},
   "source": [
    "No se han encontrado datos ausentes."
   ]
  },
  {
   "cell_type": "markdown",
   "metadata": {},
   "source": [
    "## Distribucion de cada variable por cada tipo de localizacion de la data"
   ]
  },
  {
   "cell_type": "markdown",
   "metadata": {},
   "source": [
    "### Distribucion para las variables de data_0"
   ]
  },
  {
   "cell_type": "code",
   "execution_count": 56,
   "metadata": {},
   "outputs": [
    {
     "data": {
      "image/png": "[encoded data removed]",
      "text/plain": [
       "<Figure size 432x288 with 1 Axes>"
      ]
     },
     "metadata": {
      "needs_background": "light"
     },
     "output_type": "display_data"
    },
    {
     "data": {
      "image/png": "[encoded data removed]",
      "text/plain": [
       "<Figure size 432x288 with 1 Axes>"
      ]
     },
     "metadata": {
      "needs_background": "light"
     },
     "output_type": "display_data"
    },
    {
     "data": {
      "image/png": "[encoded data removed]",
      "text/plain": [
       "<Figure size 432x288 with 1 Axes>"
      ]
     },
     "metadata": {
      "needs_background": "light"
     },
     "output_type": "display_data"
    },
    {
     "data": {
      "image/png": "[encoded data removed]",
      "text/plain": [
       "<Figure size 432x288 with 1 Axes>"
      ]
     },
     "metadata": {
      "needs_background": "light"
     },
     "output_type": "display_data"
    }
   ],
   "source": [
    "plt.hist(data_0[\"f0\"], color=\"green\", ec=\"black\")\n",
    "plt.title(\"Distribucion de f0 en Geo_data_0\")\n",
    "plt.show()\n",
    "plt.hist(data_0[\"f1\"], color=\"red\", ec=\"black\")\n",
    "plt.title(\"Distribucion de f1 en Geo_data_0\")\n",
    "plt.show()\n",
    "plt.hist(data_0[\"f2\"], color=\"yellow\", ec=\"black\")\n",
    "plt.title(\"Distribucion de f2 en Geo_data_0\")\n",
    "plt.show()\n",
    "plt.hist(data_0[\"product\"], color=\"blue\", ec=\"black\")\n",
    "plt.title(\"Distribucion de product en Geo_data_0\")\n",
    "plt.show()"
   ]
  },
  {
   "cell_type": "markdown",
   "metadata": {},
   "source": [
    "### Distribucion para las variables de data_1"
   ]
  },
  {
   "cell_type": "code",
   "execution_count": 57,
   "metadata": {},
   "outputs": [
    {
     "data": {
      "image/png": "[encoded data removed]",
      "text/plain": [
       "<Figure size 432x288 with 1 Axes>"
      ]
     },
     "metadata": {
      "needs_background": "light"
     },
     "output_type": "display_data"
    },
    {
     "data": {
      "image/png": "[encoded data removed]",
      "text/plain": [
       "<Figure size 432x288 with 1 Axes>"
      ]
     },
     "metadata": {
      "needs_background": "light"
     },
     "output_type": "display_data"
    },
    {
     "data": {
      "image/png": "[encoded data removed]",
      "text/plain": [
       "<Figure size 432x288 with 1 Axes>"
      ]
     },
     "metadata": {
      "needs_background": "light"
     },
     "output_type": "display_data"
    },
    {
     "data": {
      "image/png": "[encoded data removed]",
      "text/plain": [
       "<Figure size 432x288 with 1 Axes>"
      ]
     },
     "metadata": {
      "needs_background": "light"
     },
     "output_type": "display_data"
    }
   ],
   "source": [
    "plt.hist(data_1[\"f0\"], color=\"green\", ec=\"black\")\n",
    "plt.title(\"Distribucion de f0 en Geo_data_1\")\n",
    "plt.show()\n",
    "plt.hist(data_1[\"f1\"], color=\"red\", ec=\"black\")\n",
    "plt.title(\"Distribucion de f1 en Geo_data_1\")\n",
    "plt.show()\n",
    "plt.hist(data_1[\"f2\"], color=\"yellow\", ec=\"black\")\n",
    "plt.title(\"Distribucion de f2 en Geo_data_1\")\n",
    "plt.show()\n",
    "plt.hist(data_1[\"product\"], color=\"blue\", ec=\"black\")\n",
    "plt.title(\"Distribucion de product en Geo_data_1\")\n",
    "plt.show()"
   ]
  },
  {
   "cell_type": "markdown",
   "metadata": {},
   "source": [
    "### Distribucion para las variables de data_2"
   ]
  },
  {
   "cell_type": "code",
   "execution_count": 58,
   "metadata": {},
   "outputs": [
    {
     "data": {
      "image/png": "[encoded data removed]",
      "text/plain": [
       "<Figure size 432x288 with 1 Axes>"
      ]
     },
     "metadata": {
      "needs_background": "light"
     },
     "output_type": "display_data"
    },
    {
     "data": {
      "image/png": "[encoded data removed]",
      "text/plain": [
       "<Figure size 432x288 with 1 Axes>"
      ]
     },
     "metadata": {
      "needs_background": "light"
     },
     "output_type": "display_data"
    },
    {
     "data": {
      "image/png": "[encoded data removed]",
      "text/plain": [
       "<Figure size 432x288 with 1 Axes>"
      ]
     },
     "metadata": {
      "needs_background": "light"
     },
     "output_type": "display_data"
    },
    {
     "data": {
      "image/png": "[encoded data removed]",
      "text/plain": [
       "<Figure size 432x288 with 1 Axes>"
      ]
     },
     "metadata": {
      "needs_background": "light"
     },
     "output_type": "display_data"
    }
   ],
   "source": [
    "plt.hist(data_2[\"f0\"], color=\"green\", ec=\"black\")\n",
    "plt.title(\"Distribucion de f0 en Geo_data_2\")\n",
    "plt.show()\n",
    "plt.hist(data_2[\"f1\"], color=\"red\", ec=\"black\")\n",
    "plt.title(\"Distribucion de f1 en Geo_data_2\")\n",
    "plt.show()\n",
    "plt.hist(data_2[\"f2\"], color=\"yellow\", ec=\"black\")\n",
    "plt.title(\"Distribucion de f2 en Geo_data_2\")\n",
    "plt.show()\n",
    "plt.hist(data_2[\"product\"], color=\"blue\", ec=\"black\")\n",
    "plt.title(\"Distribucion de product en Geo_data_2\")\n",
    "plt.show()"
   ]
  },
  {
   "cell_type": "markdown",
   "metadata": {},
   "source": [
    "# Segmentacion de datos"
   ]
  },
  {
   "cell_type": "code",
   "execution_count": 9,
   "metadata": {},
   "outputs": [
    {
     "data": {
      "text/html": [
       "<div>\n",
       "<style scoped>\n",
       "    .dataframe tbody tr th:only-of-type {\n",
       "        vertical-align: middle;\n",
       "    }\n",
       "\n",
       "    .dataframe tbody tr th {\n",
       "        vertical-align: top;\n",
       "    }\n",
       "\n",
       "    .dataframe thead th {\n",
       "        text-align: right;\n",
       "    }\n",
       "</style>\n",
       "<table border=\"1\" class=\"dataframe\">\n",
       "  <thead>\n",
       "    <tr style=\"text-align: right;\">\n",
       "      <th></th>\n",
       "      <th>id</th>\n",
       "      <th>f0</th>\n",
       "      <th>f1</th>\n",
       "      <th>f2</th>\n",
       "      <th>product</th>\n",
       "    </tr>\n",
       "  </thead>\n",
       "  <tbody>\n",
       "    <tr>\n",
       "      <th>0</th>\n",
       "      <td>txEyH</td>\n",
       "      <td>0.705745</td>\n",
       "      <td>-0.497823</td>\n",
       "      <td>1.221170</td>\n",
       "      <td>105.280062</td>\n",
       "    </tr>\n",
       "    <tr>\n",
       "      <th>1</th>\n",
       "      <td>2acmU</td>\n",
       "      <td>1.334711</td>\n",
       "      <td>-0.340164</td>\n",
       "      <td>4.365080</td>\n",
       "      <td>73.037750</td>\n",
       "    </tr>\n",
       "    <tr>\n",
       "      <th>2</th>\n",
       "      <td>409Wp</td>\n",
       "      <td>1.022732</td>\n",
       "      <td>0.151990</td>\n",
       "      <td>1.419926</td>\n",
       "      <td>85.265647</td>\n",
       "    </tr>\n",
       "    <tr>\n",
       "      <th>3</th>\n",
       "      <td>iJLyR</td>\n",
       "      <td>-0.032172</td>\n",
       "      <td>0.139033</td>\n",
       "      <td>2.978566</td>\n",
       "      <td>168.620776</td>\n",
       "    </tr>\n",
       "    <tr>\n",
       "      <th>4</th>\n",
       "      <td>Xdl7t</td>\n",
       "      <td>1.988431</td>\n",
       "      <td>0.155413</td>\n",
       "      <td>4.751769</td>\n",
       "      <td>154.036647</td>\n",
       "    </tr>\n",
       "    <tr>\n",
       "      <th>...</th>\n",
       "      <td>...</td>\n",
       "      <td>...</td>\n",
       "      <td>...</td>\n",
       "      <td>...</td>\n",
       "      <td>...</td>\n",
       "    </tr>\n",
       "    <tr>\n",
       "      <th>99995</th>\n",
       "      <td>DLsed</td>\n",
       "      <td>0.971957</td>\n",
       "      <td>0.370953</td>\n",
       "      <td>6.075346</td>\n",
       "      <td>110.744026</td>\n",
       "    </tr>\n",
       "    <tr>\n",
       "      <th>99996</th>\n",
       "      <td>QKivN</td>\n",
       "      <td>1.392429</td>\n",
       "      <td>-0.382606</td>\n",
       "      <td>1.273912</td>\n",
       "      <td>122.346843</td>\n",
       "    </tr>\n",
       "    <tr>\n",
       "      <th>99997</th>\n",
       "      <td>3rnvd</td>\n",
       "      <td>1.029585</td>\n",
       "      <td>0.018787</td>\n",
       "      <td>-1.348308</td>\n",
       "      <td>64.375443</td>\n",
       "    </tr>\n",
       "    <tr>\n",
       "      <th>99998</th>\n",
       "      <td>7kl59</td>\n",
       "      <td>0.998163</td>\n",
       "      <td>-0.528582</td>\n",
       "      <td>1.583869</td>\n",
       "      <td>74.040764</td>\n",
       "    </tr>\n",
       "    <tr>\n",
       "      <th>99999</th>\n",
       "      <td>1CWhH</td>\n",
       "      <td>1.764754</td>\n",
       "      <td>-0.266417</td>\n",
       "      <td>5.722849</td>\n",
       "      <td>149.633246</td>\n",
       "    </tr>\n",
       "  </tbody>\n",
       "</table>\n",
       "<p>100000 rows × 5 columns</p>\n",
       "</div>"
      ],
      "text/plain": [
       "          id        f0        f1        f2     product\n",
       "0      txEyH  0.705745 -0.497823  1.221170  105.280062\n",
       "1      2acmU  1.334711 -0.340164  4.365080   73.037750\n",
       "2      409Wp  1.022732  0.151990  1.419926   85.265647\n",
       "3      iJLyR -0.032172  0.139033  2.978566  168.620776\n",
       "4      Xdl7t  1.988431  0.155413  4.751769  154.036647\n",
       "...      ...       ...       ...       ...         ...\n",
       "99995  DLsed  0.971957  0.370953  6.075346  110.744026\n",
       "99996  QKivN  1.392429 -0.382606  1.273912  122.346843\n",
       "99997  3rnvd  1.029585  0.018787 -1.348308   64.375443\n",
       "99998  7kl59  0.998163 -0.528582  1.583869   74.040764\n",
       "99999  1CWhH  1.764754 -0.266417  5.722849  149.633246\n",
       "\n",
       "[100000 rows x 5 columns]"
      ]
     },
     "execution_count": 9,
     "metadata": {},
     "output_type": "execute_result"
    }
   ],
   "source": [
    "data_0"
   ]
  },
  {
   "cell_type": "code",
   "execution_count": 10,
   "metadata": {},
   "outputs": [],
   "source": [
    "features = data_0.drop(['id', 'product'], axis=1)\n",
    "target = data_0['product']\n",
    "\n",
    "features_train_0, features_valid_0, target_train_0, target_valid_0 = train_test_split(features, target, test_size=0.75, random_state=12345) \n",
    "#se segmenta el 75 % de los datos para hacer el conjunto de validación"
   ]
  },
  {
   "cell_type": "code",
   "execution_count": 11,
   "metadata": {},
   "outputs": [],
   "source": [
    "features = data_1.drop(['id', 'product'], axis=1)\n",
    "target = data_1['product']\n",
    "\n",
    "features_train_1, features_valid_1, target_train_1, target_valid_1 = train_test_split(features, target, test_size=0.75, random_state=12345) \n",
    "#se segmenta el 75 % de los datos para hacer el conjunto de validación"
   ]
  },
  {
   "cell_type": "code",
   "execution_count": 12,
   "metadata": {},
   "outputs": [],
   "source": [
    "features = data_2.drop(['id', 'product'], axis=1)\n",
    "target = data_2['product']\n",
    "\n",
    "features_train_2, features_valid_2, target_train_2, target_valid_2 = train_test_split(features, target, test_size=0.75, random_state=12345) \n",
    "#se segmenta el 75 % de los datos para hacer el conjunto de validación"
   ]
  },
  {
   "cell_type": "markdown",
   "metadata": {},
   "source": [
    "# Entrenamiento y prueba de modelo para cada region"
   ]
  },
  {
   "cell_type": "code",
   "execution_count": 13,
   "metadata": {},
   "outputs": [
    {
     "name": "stdout",
     "output_type": "stream",
     "text": [
      "RECM del modelo de regresión lineal en el conjunto de validación: 37.70188872577138\n",
      "El volumen medio de reservas predicho es: 92.56773277214636\n"
     ]
    }
   ],
   "source": [
    "model_0 = LinearRegression() # inicializa el constructor de modelos\n",
    "model_0.fit(features_train_0, target_train_0) # entrena el modelo en el conjunto de entrenamiento\n",
    "predictions_valid = model_0.predict(features_valid_0) # obtén las predicciones del modelo en el conjunto de validación\n",
    "\n",
    "recm_0 = mean_squared_error(target_valid_0, predictions_valid)**0.5\n",
    "df_0 = pd.DataFrame({\"predictions\":predictions_valid, \"target\":target_valid_0})\n",
    "print( \"RECM del modelo de regresión lineal en el conjunto de validación:\", recm_0)\n",
    "print( \"El volumen medio de reservas predicho es:\", predictions_valid.mean())"
   ]
  },
  {
   "cell_type": "markdown",
   "metadata": {},
   "source": [
    "# Funcion para data_1 y data_2"
   ]
  },
  {
   "cell_type": "code",
   "execution_count": 14,
   "metadata": {},
   "outputs": [],
   "source": [
    "def split_train(f_train, t_train, f_valid, t_valid, model):\n",
    "    recm = []\n",
    "    predict_mean = []\n",
    "    predict_sum = []\n",
    "    model.fit(f_train, t_train)\n",
    "    predictions_valid = model.predict(f_valid)\n",
    "    recm.append(mean_squared_error(t_valid, predictions_valid)**0.5)\n",
    "    predict_mean.append(predictions_valid.mean())\n",
    "    predict_sum.append(predictions_valid.sum())\n",
    "    df = pd.DataFrame({\"predictions\":predictions_valid, \"target\":t_valid})\n",
    "    print( \"RECM del modelo de regresión lineal en el conjunto de validación:\", recm)\n",
    "    print( \"El volumen medio de reservas predicho es:\", predict_mean)\n",
    "    print( \" El volumen total de reservas predicho es:\", predict_sum)\n",
    "    return df"
   ]
  },
  {
   "cell_type": "markdown",
   "metadata": {},
   "source": [
    "Utilizamos nuestra funcion con el resto de los conjuntos de datos"
   ]
  },
  {
   "cell_type": "code",
   "execution_count": 15,
   "metadata": {},
   "outputs": [
    {
     "name": "stdout",
     "output_type": "stream",
     "text": [
      "RECM del modelo de regresión lineal en el conjunto de validación: 37.70188872577138\n",
      "El volumen medio de reservas predicho es: 92.56773277214636\n"
     ]
    }
   ],
   "source": [
    "#resultado de data_0\n",
    "print( \"RECM del modelo de regresión lineal en el conjunto de validación:\", recm_0)\n",
    "print( \"El volumen medio de reservas predicho es:\", predictions_valid.mean())"
   ]
  },
  {
   "cell_type": "code",
   "execution_count": 16,
   "metadata": {},
   "outputs": [
    {
     "name": "stdout",
     "output_type": "stream",
     "text": [
      "RECM del modelo de regresión lineal en el conjunto de validación: [0.8914237412897416]\n",
      "El volumen medio de reservas predicho es: [68.81242584774002]\n",
      " El volumen total de reservas predicho es: [5160931.938580501]\n"
     ]
    }
   ],
   "source": [
    "#funcion con data_1\n",
    "df_1 = split_train(features_train_1, target_train_1, features_valid_1, target_valid_1, LinearRegression())"
   ]
  },
  {
   "cell_type": "code",
   "execution_count": 17,
   "metadata": {},
   "outputs": [
    {
     "name": "stdout",
     "output_type": "stream",
     "text": [
      "RECM del modelo de regresión lineal en el conjunto de validación: [40.03777476932527]\n",
      "El volumen medio de reservas predicho es: [94.94516837037592]\n",
      " El volumen total de reservas predicho es: [7120887.627778194]\n"
     ]
    }
   ],
   "source": [
    "#funcion con data_2\n",
    "df_2 = split_train(features_train_2, target_train_2, features_valid_2, target_valid_2, LinearRegression())"
   ]
  },
  {
   "cell_type": "markdown",
   "metadata": {},
   "source": [
    "# Analisis de resultados"
   ]
  },
  {
   "cell_type": "markdown",
   "metadata": {},
   "source": [
    "Me parece que lo mas destacable hasta este punto es que en el conjunto de datos (data_0 y data_2) tienen un recm bastante alto en comparacion de data_1.\n",
    "A su vez, el conjunto con el recm mas bajo tiene una media mucho mas baja que el otro par de cojuntos."
   ]
  },
  {
   "cell_type": "markdown",
   "metadata": {},
   "source": [
    "# Calculo de ganancias"
   ]
  },
  {
   "cell_type": "code",
   "execution_count": 18,
   "metadata": {},
   "outputs": [],
   "source": [
    "#Funcion para el calculo de los mejores pozos de cada region\n",
    "def best_product(data):\n",
    "    best = data.sort_values(by=\"predictions\", ascending=False).head(200)\n",
    "    best_1 = best[\"predictions\"]\n",
    "    return (best, best_1)"
   ]
  },
  {
   "cell_type": "markdown",
   "metadata": {},
   "source": [
    "## Mejores 200 pozos de cada region"
   ]
  },
  {
   "cell_type": "code",
   "execution_count": 19,
   "metadata": {},
   "outputs": [
    {
     "name": "stdout",
     "output_type": "stream",
     "text": [
      "93073    179.671107\n",
      "52356    177.057387\n",
      "78948    175.813948\n",
      "46784    175.707604\n",
      "27658    175.660226\n",
      "            ...    \n",
      "14128    155.550305\n",
      "36122    155.540119\n",
      "92200    155.525498\n",
      "87693    155.518817\n",
      "70875    155.515703\n",
      "Name: predictions, Length: 200, dtype: float64\n",
      " \n",
      "155.515703025064\n"
     ]
    }
   ],
   "source": [
    "best_product_0_all, best_product_0  = best_product(df_0)\n",
    "print(best_product_0)\n",
    "print(\" \")\n",
    "print(best_product_0.min())"
   ]
  },
  {
   "cell_type": "code",
   "execution_count": 20,
   "metadata": {},
   "outputs": [
    {
     "name": "stdout",
     "output_type": "stream",
     "text": [
      "26531    140.341055\n",
      "80439    139.967300\n",
      "55165    139.887370\n",
      "42738    139.844937\n",
      "38665    139.809686\n",
      "            ...    \n",
      "62220    138.778178\n",
      "21923    138.777818\n",
      "84722    138.777079\n",
      "37752    138.776965\n",
      "16330    138.776851\n",
      "Name: predictions, Length: 200, dtype: float64\n",
      " \n",
      "138.77685107509058\n"
     ]
    }
   ],
   "source": [
    "best_product_1_all, best_product_1 = best_product(df_1)\n",
    "print(best_product_1)\n",
    "print(\" \")\n",
    "print(best_product_1.min())"
   ]
  },
  {
   "cell_type": "code",
   "execution_count": 21,
   "metadata": {},
   "outputs": [
    {
     "name": "stdout",
     "output_type": "stream",
     "text": [
      "3540     176.941406\n",
      "25463    173.825169\n",
      "69502    173.536031\n",
      "6647     173.454197\n",
      "39274    172.370730\n",
      "            ...    \n",
      "82424    149.367783\n",
      "71049    149.345153\n",
      "50961    149.321246\n",
      "51230    149.297792\n",
      "30785    149.277850\n",
      "Name: predictions, Length: 200, dtype: float64\n",
      " \n",
      "149.27785036633304\n"
     ]
    }
   ],
   "source": [
    "best_product_2_all, best_product_2 = best_product(df_2)\n",
    "print(best_product_2)\n",
    "print(\" \")\n",
    "print(best_product_2.min())"
   ]
  },
  {
   "cell_type": "markdown",
   "metadata": {},
   "source": [
    "## Cantidad media de produccion de cada region"
   ]
  },
  {
   "cell_type": "code",
   "execution_count": 22,
   "metadata": {},
   "outputs": [
    {
     "data": {
      "text/plain": [
       "92.50000000000001"
      ]
     },
     "execution_count": 22,
     "metadata": {},
     "output_type": "execute_result"
    }
   ],
   "source": [
    "mean_0 = data_0[\"product\"].mean()\n",
    "mean_0"
   ]
  },
  {
   "cell_type": "code",
   "execution_count": 23,
   "metadata": {},
   "outputs": [
    {
     "data": {
      "text/plain": [
       "68.82500000000002"
      ]
     },
     "execution_count": 23,
     "metadata": {},
     "output_type": "execute_result"
    }
   ],
   "source": [
    "mean_1 = data_1[\"product\"].mean()\n",
    "mean_1"
   ]
  },
  {
   "cell_type": "code",
   "execution_count": 24,
   "metadata": {},
   "outputs": [
    {
     "data": {
      "text/plain": [
       "95.00000000000004"
      ]
     },
     "execution_count": 24,
     "metadata": {},
     "output_type": "execute_result"
    }
   ],
   "source": [
    "mean_2 = data_2[\"product\"].mean()\n",
    "mean_2"
   ]
  },
  {
   "cell_type": "markdown",
   "metadata": {},
   "source": [
    "## Conclusiones"
   ]
  },
  {
   "cell_type": "markdown",
   "metadata": {},
   "source": [
    "Hasta este punto analizamos cuales son los mejores 200 pozos de cada region, podemos observar que los mejores 200 se encuentran por encima de la media de cada region. De hecho los 600 pozos estan por encima del minimo que es 111.1."
   ]
  },
  {
   "cell_type": "markdown",
   "metadata": {},
   "source": [
    "# Funcion para el calculo de ganancia y modelo de predicciones"
   ]
  },
  {
   "cell_type": "markdown",
   "metadata": {},
   "source": [
    "## funcion"
   ]
  },
  {
   "cell_type": "code",
   "execution_count": 25,
   "metadata": {},
   "outputs": [],
   "source": [
    "def profit(data, outlay=100000000):\n",
    "    gross_profit = data\n",
    "    gross_profit = gross_profit[\"predictions\"]\n",
    "    gross_profit = (gross_profit.sum() * 4500)\n",
    "    op_profit = (gross_profit - outlay)\n",
    "    return op_profit"
   ]
  },
  {
   "cell_type": "markdown",
   "metadata": {},
   "source": [
    "## calculo de ganancias potenciales"
   ]
  },
  {
   "cell_type": "code",
   "execution_count": 26,
   "metadata": {},
   "outputs": [
    {
     "name": "stdout",
     "output_type": "stream",
     "text": [
      "la ganancia potencial de la region 0 es de: 31141609810.5994\n"
     ]
    }
   ],
   "source": [
    "profit_0 = profit(df_0)\n",
    "print(\"la ganancia potencial de la region 0 es de:\", profit_0)"
   ]
  },
  {
   "cell_type": "code",
   "execution_count": 27,
   "metadata": {},
   "outputs": [
    {
     "name": "stdout",
     "output_type": "stream",
     "text": [
      "la ganancia potencial de la region 1 es de: 23124193723.612255\n"
     ]
    }
   ],
   "source": [
    "profit_1 = profit(df_1)\n",
    "print(\"la ganancia potencial de la region 1 es de:\", profit_1)"
   ]
  },
  {
   "cell_type": "code",
   "execution_count": 28,
   "metadata": {},
   "outputs": [
    {
     "name": "stdout",
     "output_type": "stream",
     "text": [
      "la ganancia potencial de la region 2 es de: 31943994325.001873\n"
     ]
    }
   ],
   "source": [
    "profit_2 = profit(df_2)\n",
    "print(\"la ganancia potencial de la region 2 es de:\", profit_2)"
   ]
  },
  {
   "cell_type": "markdown",
   "metadata": {},
   "source": [
    "## Conclusiones y proposicion"
   ]
  },
  {
   "cell_type": "markdown",
   "metadata": {},
   "source": [
    "Luego de ver el potencial que tiene cada region nos damos cuenta que la region con mas potencial es la ultima, ya que nos ofrece un margen de ganancias mas alto que el resto. Por esto mismo mi recomendacion es invertir en la region de donde vienen los datos \"geo_data_2\" ya que tiene el conglomerado de los mejores 200 pozos con la mejor produccion dentro de todas las opciones."
   ]
  },
  {
   "cell_type": "markdown",
   "metadata": {},
   "source": [
    "# Bootstrapping"
   ]
  },
  {
   "cell_type": "code",
   "execution_count": 29,
   "metadata": {},
   "outputs": [],
   "source": [
    "state = np.random.RandomState(12345)\n",
    "new_profit_0 = []\n",
    "new_profit_1 = []\n",
    "new_profit_2 = []\n",
    "for i in range(1000):\n",
    "    subsample_0 = df_0.sample(n=500, replace=True, random_state=state)\n",
    "    profit_sample_0 = profit(subsample_0)\n",
    "    new_profit_0.append(profit_sample_0)\n",
    "    subsample_1 = df_1.sample(n=500, replace=True, random_state=state)\n",
    "    profit_sample_1 = profit(subsample_1)\n",
    "    new_profit_1.append(profit_sample_1)\n",
    "    subsample_2 = df_2.sample(n=500, replace=True, random_state=state)\n",
    "    profit_sample_2 = profit(subsample_2)\n",
    "    new_profit_2.append(profit_sample_2)\n"
   ]
  },
  {
   "cell_type": "code",
   "execution_count": 30,
   "metadata": {},
   "outputs": [],
   "source": [
    "#Transformamos las listas en series.\n",
    "new_profit_0 = pd.Series(new_profit_0)\n",
    "new_profit_1 =  pd.Series(new_profit_1)\n",
    "new_profit_2 = pd.Series(new_profit_2)"
   ]
  },
  {
   "cell_type": "code",
   "execution_count": 60,
   "metadata": {},
   "outputs": [
    {
     "name": "stdout",
     "output_type": "stream",
     "text": [
      "103653518.26336573\n",
      "113120735.60018356\n",
      "La media del nuevo conjunto de datos es: 108279715.09319085\n",
      "Intervalo de confianza del 97.5 %: (108111554.51432705, 108447875.67205465)\n"
     ]
    }
   ],
   "source": [
    "#Imprimimos quantiles de df_0\n",
    "lower_0 = new_profit_0.quantile(0.025)\n",
    "upper_0 = new_profit_0.quantile(0.975)\n",
    "print(lower_0)\n",
    "print(upper_0)\n",
    "print(\"La media del nuevo conjunto de datos es:\", new_profit_0.mean())\n",
    "\n",
    "confidence_interval = st.t.interval(0.975, len(new_profit_0)-1, new_profit_0.mean(), scale=new_profit_0.sem())\n",
    "print('Intervalo de confianza del 97.5 %:', confidence_interval)"
   ]
  },
  {
   "cell_type": "code",
   "execution_count": 61,
   "metadata": {},
   "outputs": [
    {
     "name": "stdout",
     "output_type": "stream",
     "text": [
      "47529264.412211254\n",
      "63046030.5550236\n",
      "La media del nuevo conjunto de datos es: 54956180.209220886\n",
      "Intervalo de confianza del 97.5 %: (54623086.00420801, 55289274.41423376)\n"
     ]
    }
   ],
   "source": [
    "#Imprimimos quantiles de df_1\n",
    "lower_1 = new_profit_1.quantile(0.05)\n",
    "upper_1 = new_profit_1.quantile(0.95)\n",
    "print(lower_1)\n",
    "print(upper_1)\n",
    "print(\"La media del nuevo conjunto de datos es:\", new_profit_1.mean())\n",
    "confidence_interval = st.t.interval(0.975, len(new_profit_1)-1, new_profit_1.mean(), scale=new_profit_1.sem())\n",
    "print('Intervalo de confianza del 97.5 %:', confidence_interval)"
   ]
  },
  {
   "cell_type": "code",
   "execution_count": 62,
   "metadata": {},
   "outputs": [
    {
     "name": "stdout",
     "output_type": "stream",
     "text": [
      "110685784.77527562\n",
      "116697892.37298796\n",
      "La media del nuevo conjunto de datos es: 113681514.27294669\n",
      "Intervalo de confianza del 97.5 %: (113549815.44589642, 113813213.09999695)\n"
     ]
    }
   ],
   "source": [
    "#Imprimimos quantiles de df_2\n",
    "lower_2 = new_profit_2.quantile(0.05)\n",
    "upper_2 = new_profit_2.quantile(0.95)\n",
    "print(lower_2)\n",
    "print(upper_2)\n",
    "print(\"La media del nuevo conjunto de datos es:\", new_profit_2.mean())\n",
    "confidence_interval = st.t.interval(0.975, len(new_profit_2)-1, new_profit_2.mean(), scale=new_profit_2.sem())\n",
    "print('Intervalo de confianza del 97.5 %:', confidence_interval)"
   ]
  },
  {
   "cell_type": "markdown",
   "metadata": {},
   "source": [
    "# Conclusion final"
   ]
  },
  {
   "cell_type": "markdown",
   "metadata": {},
   "source": [
    "Luego de hacer un profundo analisis y conocer mas de cerca todos los datos que nos fueron proporcionados.\n",
    "\n",
    "Hemos limpiado, ordenado y preparado los datos para su estudio, revisamos la distribucion de cada region de cada data y los hemos graficado.\n",
    "\n",
    "Realizamos funciones especifica para conseguir los objetivos solicitados.\n",
    "\n",
    "Entrenamos un modelo de prediccion.\n",
    "\n",
    "Luego usamos los resultados para realizar \"bootstrapping\"\n",
    "\n",
    "Y al final hemos obtenido llegado a una conclusion.\n",
    "\n",
    "Con un intervalo de confianza del 97.5% podemos estimar que la mejor region para realizar la inversion mencionada es geo_data_2.\n",
    "\n",
    "Que desde un principio nos ha mostrado dejar un mayor beneficio que el resto de las regiones.\n",
    "\n",
    "\n"
   ]
  },
  {
   "cell_type": "code",
   "execution_count": null,
   "metadata": {},
   "outputs": [],
   "source": []
  }
 ],
 "metadata": {
  "kernelspec": {
   "display_name": "Python 3 (ipykernel)",
   "language": "python",
   "name": "python3"
  },
  "language_info": {
   "codemirror_mode": {
    "name": "ipython",
    "version": 3
   },
   "file_extension": ".py",
   "mimetype": "text/x-python",
   "name": "python",
   "nbconvert_exporter": "python",
   "pygments_lexer": "ipython3",
   "version": "3.11.5"
  },
  "toc": {
   "base_numbering": 1,
   "nav_menu": {},
   "number_sections": true,
   "sideBar": true,
   "skip_h1_title": false,
   "title_cell": "Table of Contents",
   "title_sidebar": "Contents",
   "toc_cell": false,
   "toc_position": {
    "height": "calc(100% - 180px)",
    "left": "10px",
    "top": "150px",
    "width": "257.188px"
   },
   "toc_section_display": true,
   "toc_window_display": true
  }
 },
 "nbformat": 4,
 "nbformat_minor": 2
}
