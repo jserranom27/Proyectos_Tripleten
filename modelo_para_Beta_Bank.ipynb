{
 "cells": [
  {
   "cell_type": "markdown",
   "metadata": {},
   "source": [
    "# Descripcion del proyecto"
   ]
  },
  {
   "cell_type": "markdown",
   "metadata": {},
   "source": [
    "Los clientes de Beta Bank se están yendo, cada mes, poco a poco. Los banqueros descubrieron que es más barato salvar a los clientes existentes que atraer nuevos.\n",
    "\n",
    "Necesitamos predecir si un cliente dejará el banco pronto. Tú tienes los datos sobre el comportamiento pasado de los clientes y la terminación de contratos con el banco.\n",
    "\n",
    "Crea un modelo con el máximo valor F1 posible. Para aprobar la revisión, necesitas un valor F1 de al menos 0.59. Verifica F1 para el conjunto de prueba. \n",
    "\n",
    "Además, debes medir la métrica AUC-ROC y compararla con el valor F1."
   ]
  },
  {
   "cell_type": "markdown",
   "metadata": {},
   "source": [
    "# Instrucciones del proyecto"
   ]
  },
  {
   "cell_type": "markdown",
   "metadata": {},
   "source": [
    "* Descarga y prepara los datos.  Explica el procedimiento.\n",
    "\n",
    "* Examina el equilibrio de clases. Entrena el modelo sin tener en cuenta el desequilibrio. Describe brevemente tus hallazgos.\n",
    "\n",
    "* Mejora la calidad del modelo. Asegúrate de utilizar al menos dos enfoques para corregir el desequilibrio de clases. Utiliza conjuntos de entrenamiento y validación para encontrar el mejor modelo y el mejor conjunto de parámetros. Entrena diferentes modelos en los conjuntos de entrenamiento y validación. Encuentra el mejor. Describe brevemente tus hallazgos.\n",
    "\n",
    "* Realiza la prueba final."
   ]
  },
  {
   "cell_type": "markdown",
   "metadata": {},
   "source": [
    "# Descripción de los datos"
   ]
  },
  {
   "cell_type": "markdown",
   "metadata": {},
   "source": [
    "Puedes encontrar los datos en el archivo  /datasets/Churn.csv"
   ]
  },
  {
   "cell_type": "markdown",
   "metadata": {},
   "source": [
    "## Características"
   ]
  },
  {
   "cell_type": "markdown",
   "metadata": {},
   "source": [
    "* RowNumber: índice de cadena de datos\n",
    "* CustomerId: identificador de cliente único\n",
    "* Surname: apellido\n",
    "* CreditScore: valor de crédito\n",
    "* Geography: país de residencia\n",
    "* Gender: sexo\n",
    "* Age: edad\n",
    "* Tenure: período durante el cual ha madurado el depósito a plazo fijo de un cliente (años)\n",
    "* Balance: saldo de la cuenta\n",
    "* NumOfProducts: número de productos bancarios utilizados por el cliente\n",
    "* HasCrCard: el cliente tiene una tarjeta de crédito (1 - sí; 0 - no)\n",
    "* IsActiveMember: actividad del cliente (1 - sí; 0 - no)\n",
    "* EstimatedSalary: salario estimado"
   ]
  },
  {
   "cell_type": "markdown",
   "metadata": {},
   "source": [
    "## Objetivo"
   ]
  },
  {
   "cell_type": "markdown",
   "metadata": {},
   "source": [
    "* Exited: El cliente se ha ido (1 - sí; 0 - no)"
   ]
  },
  {
   "cell_type": "markdown",
   "metadata": {},
   "source": [
    "# Análisis exploratorio y preparacion de datos"
   ]
  },
  {
   "cell_type": "markdown",
   "metadata": {},
   "source": [
    "## Importacion de librerias"
   ]
  },
  {
   "cell_type": "code",
   "execution_count": 70,
   "metadata": {},
   "outputs": [],
   "source": [
    "import pandas as pd\n",
    "import matplotlib.pyplot as plt\n",
    "import numpy as np\n",
    "from scipy import stats as st\n",
    "import seaborn as sns\n",
    "import plotly.express as px\n",
    "import requests\n",
    "from bs4 import BeautifulSoup\n",
    "from sklearn.ensemble import RandomForestClassifier\n",
    "from sklearn.model_selection import train_test_split\n",
    "from sklearn.metrics import mean_squared_error\n",
    "from sklearn.tree import DecisionTreeClassifier\n",
    "from sklearn.linear_model import LogisticRegression\n",
    "from sklearn.metrics import accuracy_score\n",
    "from sklearn.metrics import roc_auc_score\n",
    "from sklearn.metrics import mean_absolute_error\n",
    "from sklearn.utils import shuffle\n",
    "from sklearn.metrics import f1_score\n",
    "from sklearn.metrics import roc_curve"
   ]
  },
  {
   "cell_type": "markdown",
   "metadata": {},
   "source": [
    "## Lectura de datos"
   ]
  },
  {
   "cell_type": "code",
   "execution_count": 71,
   "metadata": {},
   "outputs": [],
   "source": [
    "df = pd.read_csv(\"/datasets/Churn.csv\")"
   ]
  },
  {
   "cell_type": "code",
   "execution_count": 72,
   "metadata": {},
   "outputs": [
    {
     "data": {
      "text/html": [
       "<div>\n",
       "<style scoped>\n",
       "    .dataframe tbody tr th:only-of-type {\n",
       "        vertical-align: middle;\n",
       "    }\n",
       "\n",
       "    .dataframe tbody tr th {\n",
       "        vertical-align: top;\n",
       "    }\n",
       "\n",
       "    .dataframe thead th {\n",
       "        text-align: right;\n",
       "    }\n",
       "</style>\n",
       "<table border=\"1\" class=\"dataframe\">\n",
       "  <thead>\n",
       "    <tr style=\"text-align: right;\">\n",
       "      <th></th>\n",
       "      <th>RowNumber</th>\n",
       "      <th>CustomerId</th>\n",
       "      <th>Surname</th>\n",
       "      <th>CreditScore</th>\n",
       "      <th>Geography</th>\n",
       "      <th>Gender</th>\n",
       "      <th>Age</th>\n",
       "      <th>Tenure</th>\n",
       "      <th>Balance</th>\n",
       "      <th>NumOfProducts</th>\n",
       "      <th>HasCrCard</th>\n",
       "      <th>IsActiveMember</th>\n",
       "      <th>EstimatedSalary</th>\n",
       "      <th>Exited</th>\n",
       "    </tr>\n",
       "  </thead>\n",
       "  <tbody>\n",
       "    <tr>\n",
       "      <th>0</th>\n",
       "      <td>1</td>\n",
       "      <td>15634602</td>\n",
       "      <td>Hargrave</td>\n",
       "      <td>619</td>\n",
       "      <td>France</td>\n",
       "      <td>Female</td>\n",
       "      <td>42</td>\n",
       "      <td>2.0</td>\n",
       "      <td>0.00</td>\n",
       "      <td>1</td>\n",
       "      <td>1</td>\n",
       "      <td>1</td>\n",
       "      <td>101348.88</td>\n",
       "      <td>1</td>\n",
       "    </tr>\n",
       "    <tr>\n",
       "      <th>1</th>\n",
       "      <td>2</td>\n",
       "      <td>15647311</td>\n",
       "      <td>Hill</td>\n",
       "      <td>608</td>\n",
       "      <td>Spain</td>\n",
       "      <td>Female</td>\n",
       "      <td>41</td>\n",
       "      <td>1.0</td>\n",
       "      <td>83807.86</td>\n",
       "      <td>1</td>\n",
       "      <td>0</td>\n",
       "      <td>1</td>\n",
       "      <td>112542.58</td>\n",
       "      <td>0</td>\n",
       "    </tr>\n",
       "    <tr>\n",
       "      <th>2</th>\n",
       "      <td>3</td>\n",
       "      <td>15619304</td>\n",
       "      <td>Onio</td>\n",
       "      <td>502</td>\n",
       "      <td>France</td>\n",
       "      <td>Female</td>\n",
       "      <td>42</td>\n",
       "      <td>8.0</td>\n",
       "      <td>159660.80</td>\n",
       "      <td>3</td>\n",
       "      <td>1</td>\n",
       "      <td>0</td>\n",
       "      <td>113931.57</td>\n",
       "      <td>1</td>\n",
       "    </tr>\n",
       "    <tr>\n",
       "      <th>3</th>\n",
       "      <td>4</td>\n",
       "      <td>15701354</td>\n",
       "      <td>Boni</td>\n",
       "      <td>699</td>\n",
       "      <td>France</td>\n",
       "      <td>Female</td>\n",
       "      <td>39</td>\n",
       "      <td>1.0</td>\n",
       "      <td>0.00</td>\n",
       "      <td>2</td>\n",
       "      <td>0</td>\n",
       "      <td>0</td>\n",
       "      <td>93826.63</td>\n",
       "      <td>0</td>\n",
       "    </tr>\n",
       "    <tr>\n",
       "      <th>4</th>\n",
       "      <td>5</td>\n",
       "      <td>15737888</td>\n",
       "      <td>Mitchell</td>\n",
       "      <td>850</td>\n",
       "      <td>Spain</td>\n",
       "      <td>Female</td>\n",
       "      <td>43</td>\n",
       "      <td>2.0</td>\n",
       "      <td>125510.82</td>\n",
       "      <td>1</td>\n",
       "      <td>1</td>\n",
       "      <td>1</td>\n",
       "      <td>79084.10</td>\n",
       "      <td>0</td>\n",
       "    </tr>\n",
       "    <tr>\n",
       "      <th>...</th>\n",
       "      <td>...</td>\n",
       "      <td>...</td>\n",
       "      <td>...</td>\n",
       "      <td>...</td>\n",
       "      <td>...</td>\n",
       "      <td>...</td>\n",
       "      <td>...</td>\n",
       "      <td>...</td>\n",
       "      <td>...</td>\n",
       "      <td>...</td>\n",
       "      <td>...</td>\n",
       "      <td>...</td>\n",
       "      <td>...</td>\n",
       "      <td>...</td>\n",
       "    </tr>\n",
       "    <tr>\n",
       "      <th>9995</th>\n",
       "      <td>9996</td>\n",
       "      <td>15606229</td>\n",
       "      <td>Obijiaku</td>\n",
       "      <td>771</td>\n",
       "      <td>France</td>\n",
       "      <td>Male</td>\n",
       "      <td>39</td>\n",
       "      <td>5.0</td>\n",
       "      <td>0.00</td>\n",
       "      <td>2</td>\n",
       "      <td>1</td>\n",
       "      <td>0</td>\n",
       "      <td>96270.64</td>\n",
       "      <td>0</td>\n",
       "    </tr>\n",
       "    <tr>\n",
       "      <th>9996</th>\n",
       "      <td>9997</td>\n",
       "      <td>15569892</td>\n",
       "      <td>Johnstone</td>\n",
       "      <td>516</td>\n",
       "      <td>France</td>\n",
       "      <td>Male</td>\n",
       "      <td>35</td>\n",
       "      <td>10.0</td>\n",
       "      <td>57369.61</td>\n",
       "      <td>1</td>\n",
       "      <td>1</td>\n",
       "      <td>1</td>\n",
       "      <td>101699.77</td>\n",
       "      <td>0</td>\n",
       "    </tr>\n",
       "    <tr>\n",
       "      <th>9997</th>\n",
       "      <td>9998</td>\n",
       "      <td>15584532</td>\n",
       "      <td>Liu</td>\n",
       "      <td>709</td>\n",
       "      <td>France</td>\n",
       "      <td>Female</td>\n",
       "      <td>36</td>\n",
       "      <td>7.0</td>\n",
       "      <td>0.00</td>\n",
       "      <td>1</td>\n",
       "      <td>0</td>\n",
       "      <td>1</td>\n",
       "      <td>42085.58</td>\n",
       "      <td>1</td>\n",
       "    </tr>\n",
       "    <tr>\n",
       "      <th>9998</th>\n",
       "      <td>9999</td>\n",
       "      <td>15682355</td>\n",
       "      <td>Sabbatini</td>\n",
       "      <td>772</td>\n",
       "      <td>Germany</td>\n",
       "      <td>Male</td>\n",
       "      <td>42</td>\n",
       "      <td>3.0</td>\n",
       "      <td>75075.31</td>\n",
       "      <td>2</td>\n",
       "      <td>1</td>\n",
       "      <td>0</td>\n",
       "      <td>92888.52</td>\n",
       "      <td>1</td>\n",
       "    </tr>\n",
       "    <tr>\n",
       "      <th>9999</th>\n",
       "      <td>10000</td>\n",
       "      <td>15628319</td>\n",
       "      <td>Walker</td>\n",
       "      <td>792</td>\n",
       "      <td>France</td>\n",
       "      <td>Female</td>\n",
       "      <td>28</td>\n",
       "      <td>NaN</td>\n",
       "      <td>130142.79</td>\n",
       "      <td>1</td>\n",
       "      <td>1</td>\n",
       "      <td>0</td>\n",
       "      <td>38190.78</td>\n",
       "      <td>0</td>\n",
       "    </tr>\n",
       "  </tbody>\n",
       "</table>\n",
       "<p>10000 rows × 14 columns</p>\n",
       "</div>"
      ],
      "text/plain": [
       "      RowNumber  CustomerId    Surname  CreditScore Geography  Gender  Age  \\\n",
       "0             1    15634602   Hargrave          619    France  Female   42   \n",
       "1             2    15647311       Hill          608     Spain  Female   41   \n",
       "2             3    15619304       Onio          502    France  Female   42   \n",
       "3             4    15701354       Boni          699    France  Female   39   \n",
       "4             5    15737888   Mitchell          850     Spain  Female   43   \n",
       "...         ...         ...        ...          ...       ...     ...  ...   \n",
       "9995       9996    15606229   Obijiaku          771    France    Male   39   \n",
       "9996       9997    15569892  Johnstone          516    France    Male   35   \n",
       "9997       9998    15584532        Liu          709    France  Female   36   \n",
       "9998       9999    15682355  Sabbatini          772   Germany    Male   42   \n",
       "9999      10000    15628319     Walker          792    France  Female   28   \n",
       "\n",
       "      Tenure    Balance  NumOfProducts  HasCrCard  IsActiveMember  \\\n",
       "0        2.0       0.00              1          1               1   \n",
       "1        1.0   83807.86              1          0               1   \n",
       "2        8.0  159660.80              3          1               0   \n",
       "3        1.0       0.00              2          0               0   \n",
       "4        2.0  125510.82              1          1               1   \n",
       "...      ...        ...            ...        ...             ...   \n",
       "9995     5.0       0.00              2          1               0   \n",
       "9996    10.0   57369.61              1          1               1   \n",
       "9997     7.0       0.00              1          0               1   \n",
       "9998     3.0   75075.31              2          1               0   \n",
       "9999     NaN  130142.79              1          1               0   \n",
       "\n",
       "      EstimatedSalary  Exited  \n",
       "0           101348.88       1  \n",
       "1           112542.58       0  \n",
       "2           113931.57       1  \n",
       "3            93826.63       0  \n",
       "4            79084.10       0  \n",
       "...               ...     ...  \n",
       "9995         96270.64       0  \n",
       "9996        101699.77       0  \n",
       "9997         42085.58       1  \n",
       "9998         92888.52       1  \n",
       "9999         38190.78       0  \n",
       "\n",
       "[10000 rows x 14 columns]"
      ]
     },
     "execution_count": 72,
     "metadata": {},
     "output_type": "execute_result"
    }
   ],
   "source": [
    "df"
   ]
  },
  {
   "cell_type": "markdown",
   "metadata": {},
   "source": [
    "## Verificacion de datos"
   ]
  },
  {
   "cell_type": "markdown",
   "metadata": {},
   "source": [
    "En el siguiente paso vamos a chequear que los datos esten listos para realizar analisis con ellos.\n",
    "Es decir que no tengamos duplicados, datos faltantes o algun otro elemento que pueda afectar los datos al momento de realizar analisis con ellos."
   ]
  },
  {
   "cell_type": "code",
   "execution_count": 73,
   "metadata": {
    "scrolled": true
   },
   "outputs": [
    {
     "name": "stdout",
     "output_type": "stream",
     "text": [
      "<class 'pandas.core.frame.DataFrame'>\n",
      "RangeIndex: 10000 entries, 0 to 9999\n",
      "Data columns (total 14 columns):\n",
      " #   Column           Non-Null Count  Dtype  \n",
      "---  ------           --------------  -----  \n",
      " 0   RowNumber        10000 non-null  int64  \n",
      " 1   CustomerId       10000 non-null  int64  \n",
      " 2   Surname          10000 non-null  object \n",
      " 3   CreditScore      10000 non-null  int64  \n",
      " 4   Geography        10000 non-null  object \n",
      " 5   Gender           10000 non-null  object \n",
      " 6   Age              10000 non-null  int64  \n",
      " 7   Tenure           9091 non-null   float64\n",
      " 8   Balance          10000 non-null  float64\n",
      " 9   NumOfProducts    10000 non-null  int64  \n",
      " 10  HasCrCard        10000 non-null  int64  \n",
      " 11  IsActiveMember   10000 non-null  int64  \n",
      " 12  EstimatedSalary  10000 non-null  float64\n",
      " 13  Exited           10000 non-null  int64  \n",
      "dtypes: float64(3), int64(8), object(3)\n",
      "memory usage: 1.1+ MB\n",
      "None\n"
     ]
    }
   ],
   "source": [
    "#miramos el tipo de datos que contiene cada tabla.\n",
    "print(df.info())"
   ]
  },
  {
   "cell_type": "code",
   "execution_count": 74,
   "metadata": {},
   "outputs": [
    {
     "name": "stdout",
     "output_type": "stream",
     "text": [
      "      row_number  customer_id    surname  credit_score geography  gender  age  \\\n",
      "0              1     15634602   Hargrave           619    France  Female   42   \n",
      "1              2     15647311       Hill           608     Spain  Female   41   \n",
      "2              3     15619304       Onio           502    France  Female   42   \n",
      "3              4     15701354       Boni           699    France  Female   39   \n",
      "4              5     15737888   Mitchell           850     Spain  Female   43   \n",
      "...          ...          ...        ...           ...       ...     ...  ...   \n",
      "9995        9996     15606229   Obijiaku           771    France    Male   39   \n",
      "9996        9997     15569892  Johnstone           516    France    Male   35   \n",
      "9997        9998     15584532        Liu           709    France  Female   36   \n",
      "9998        9999     15682355  Sabbatini           772   Germany    Male   42   \n",
      "9999       10000     15628319     Walker           792    France  Female   28   \n",
      "\n",
      "      tenure    balance  num_of_products  has_cr_card  is_active_member  \\\n",
      "0        2.0       0.00                1            1                 1   \n",
      "1        1.0   83807.86                1            0                 1   \n",
      "2        8.0  159660.80                3            1                 0   \n",
      "3        1.0       0.00                2            0                 0   \n",
      "4        2.0  125510.82                1            1                 1   \n",
      "...      ...        ...              ...          ...               ...   \n",
      "9995     5.0       0.00                2            1                 0   \n",
      "9996    10.0   57369.61                1            1                 1   \n",
      "9997     7.0       0.00                1            0                 1   \n",
      "9998     3.0   75075.31                2            1                 0   \n",
      "9999     NaN  130142.79                1            1                 0   \n",
      "\n",
      "      estimated_salary  exited  \n",
      "0            101348.88       1  \n",
      "1            112542.58       0  \n",
      "2            113931.57       1  \n",
      "3             93826.63       0  \n",
      "4             79084.10       0  \n",
      "...                ...     ...  \n",
      "9995          96270.64       0  \n",
      "9996         101699.77       0  \n",
      "9997          42085.58       1  \n",
      "9998          92888.52       1  \n",
      "9999          38190.78       0  \n",
      "\n",
      "[10000 rows x 14 columns]\n"
     ]
    }
   ],
   "source": [
    "df.rename(columns=\n",
    "          {\"RowNumber\": \"row_number\",\n",
    "           \"CustomerId\": \"customer_id\",\n",
    "           \"Surname\": \"surname\",\n",
    "           \"CreditScore\": \"credit_score\",\n",
    "           \"Geography\": \"geography\",\n",
    "           \"Gender\": \"gender\",\n",
    "           \"Age\": \"age\",\n",
    "           \"Tenure\": \"tenure\",\n",
    "           \"Balance\": \"balance\",\n",
    "           \"NumOfProducts\": \"num_of_products\",\n",
    "           \"HasCrCard\": \"has_cr_card\",\n",
    "           \"IsActiveMember\": \"is_active_member\",\n",
    "           \"EstimatedSalary\": \"estimated_salary\",\n",
    "           \"Exited\": \"exited\"},inplace=True)\n",
    "print(df)"
   ]
  },
  {
   "cell_type": "code",
   "execution_count": 75,
   "metadata": {},
   "outputs": [
    {
     "name": "stdout",
     "output_type": "stream",
     "text": [
      "la cantidad de datos duplicados de df es: 0\n"
     ]
    }
   ],
   "source": [
    "#miraremos que no hayan duplicados y datos ausentes en la siguiente parte.\n",
    "\n",
    "print(\"la cantidad de datos duplicados de df es:\", df.duplicated().sum())"
   ]
  },
  {
   "cell_type": "code",
   "execution_count": 76,
   "metadata": {},
   "outputs": [
    {
     "name": "stdout",
     "output_type": "stream",
     "text": [
      "la cantidad de datos ausentes de df es: row_number            0\n",
      "customer_id           0\n",
      "surname               0\n",
      "credit_score          0\n",
      "geography             0\n",
      "gender                0\n",
      "age                   0\n",
      "tenure              909\n",
      "balance               0\n",
      "num_of_products       0\n",
      "has_cr_card           0\n",
      "is_active_member      0\n",
      "estimated_salary      0\n",
      "exited                0\n",
      "dtype: int64\n"
     ]
    }
   ],
   "source": [
    "print(\"la cantidad de datos ausentes de df es:\",df.isna().sum())"
   ]
  },
  {
   "cell_type": "markdown",
   "metadata": {},
   "source": [
    "Podemos observar que tenemos unos datos ausentes en la columna \"tenure\"\n",
    "\n",
    "Tenure: período durante el cual ha madurado el depósito a plazo fijo de un cliente (años)"
   ]
  },
  {
   "cell_type": "code",
   "execution_count": 77,
   "metadata": {},
   "outputs": [
    {
     "data": {
      "text/plain": [
       "4805    1.0\n",
       "2204    3.0\n",
       "8390    0.0\n",
       "7990    5.0\n",
       "438     NaN\n",
       "8146    7.0\n",
       "2909    6.0\n",
       "7181    7.0\n",
       "8370    3.0\n",
       "6422    9.0\n",
       "5975    6.0\n",
       "8280    NaN\n",
       "5489    8.0\n",
       "904     4.0\n",
       "1458    2.0\n",
       "2857    3.0\n",
       "8606    5.0\n",
       "2401    3.0\n",
       "1306    3.0\n",
       "6030    8.0\n",
       "3161    NaN\n",
       "1185    3.0\n",
       "1719    1.0\n",
       "5616    2.0\n",
       "7802    9.0\n",
       "2235    6.0\n",
       "1456    8.0\n",
       "51      NaN\n",
       "9068    1.0\n",
       "3540    5.0\n",
       "2389    1.0\n",
       "5051    8.0\n",
       "7521    1.0\n",
       "190     8.0\n",
       "9586    6.0\n",
       "5470    1.0\n",
       "9602    3.0\n",
       "2202    9.0\n",
       "444     3.0\n",
       "6738    9.0\n",
       "Name: tenure, dtype: float64"
      ]
     },
     "execution_count": 77,
     "metadata": {},
     "output_type": "execute_result"
    }
   ],
   "source": [
    "#Miraremos la columna que tiene los datos ausentes\n",
    "\n",
    "df[\"tenure\"].sample(40)"
   ]
  },
  {
   "cell_type": "code",
   "execution_count": 78,
   "metadata": {},
   "outputs": [
    {
     "data": {
      "text/plain": [
       "11"
      ]
     },
     "execution_count": 78,
     "metadata": {},
     "output_type": "execute_result"
    }
   ],
   "source": [
    "df[\"tenure\"].nunique()"
   ]
  },
  {
   "cell_type": "markdown",
   "metadata": {},
   "source": [
    "eliminaremos los datos ausentes, seran sustituidos por el valor medio de los años"
   ]
  },
  {
   "cell_type": "code",
   "execution_count": 79,
   "metadata": {},
   "outputs": [
    {
     "name": "stdout",
     "output_type": "stream",
     "text": [
      "4.997690023099769\n",
      "5.0\n"
     ]
    }
   ],
   "source": [
    "print(df[\"tenure\"].mean())\n",
    "print(df[\"tenure\"].median())"
   ]
  },
  {
   "cell_type": "code",
   "execution_count": 80,
   "metadata": {},
   "outputs": [],
   "source": [
    "#Imputacion con mediana condicionada para no afectar la distribucion de nuestra columna\n",
    "df[\"tenure\"].fillna(df.groupby(['geography', 'gender'])['tenure'].transform('median'), inplace=True) "
   ]
  },
  {
   "cell_type": "code",
   "execution_count": 81,
   "metadata": {},
   "outputs": [
    {
     "name": "stdout",
     "output_type": "stream",
     "text": [
      "la cantidad de datos ausentes de df es: row_number          0\n",
      "customer_id         0\n",
      "surname             0\n",
      "credit_score        0\n",
      "geography           0\n",
      "gender              0\n",
      "age                 0\n",
      "tenure              0\n",
      "balance             0\n",
      "num_of_products     0\n",
      "has_cr_card         0\n",
      "is_active_member    0\n",
      "estimated_salary    0\n",
      "exited              0\n",
      "dtype: int64\n"
     ]
    }
   ],
   "source": [
    "#verificamos que ya no tengamos valores ausentes\n",
    "print(\"la cantidad de datos ausentes de df es:\",df.isna().sum())"
   ]
  },
  {
   "cell_type": "markdown",
   "metadata": {},
   "source": [
    "Los datos ausentes han sido eliminados exitosamente"
   ]
  },
  {
   "cell_type": "markdown",
   "metadata": {},
   "source": [
    "Ahora vamos a eliminar las 3 primeras columnas que no contienen informacion relevante para nuestros modelos"
   ]
  },
  {
   "cell_type": "code",
   "execution_count": 82,
   "metadata": {},
   "outputs": [
    {
     "data": {
      "text/html": [
       "<div>\n",
       "<style scoped>\n",
       "    .dataframe tbody tr th:only-of-type {\n",
       "        vertical-align: middle;\n",
       "    }\n",
       "\n",
       "    .dataframe tbody tr th {\n",
       "        vertical-align: top;\n",
       "    }\n",
       "\n",
       "    .dataframe thead th {\n",
       "        text-align: right;\n",
       "    }\n",
       "</style>\n",
       "<table border=\"1\" class=\"dataframe\">\n",
       "  <thead>\n",
       "    <tr style=\"text-align: right;\">\n",
       "      <th></th>\n",
       "      <th>credit_score</th>\n",
       "      <th>geography</th>\n",
       "      <th>gender</th>\n",
       "      <th>age</th>\n",
       "      <th>tenure</th>\n",
       "      <th>balance</th>\n",
       "      <th>num_of_products</th>\n",
       "      <th>has_cr_card</th>\n",
       "      <th>is_active_member</th>\n",
       "      <th>estimated_salary</th>\n",
       "      <th>exited</th>\n",
       "    </tr>\n",
       "  </thead>\n",
       "  <tbody>\n",
       "    <tr>\n",
       "      <th>0</th>\n",
       "      <td>619</td>\n",
       "      <td>France</td>\n",
       "      <td>Female</td>\n",
       "      <td>42</td>\n",
       "      <td>2.0</td>\n",
       "      <td>0.00</td>\n",
       "      <td>1</td>\n",
       "      <td>1</td>\n",
       "      <td>1</td>\n",
       "      <td>101348.88</td>\n",
       "      <td>1</td>\n",
       "    </tr>\n",
       "    <tr>\n",
       "      <th>1</th>\n",
       "      <td>608</td>\n",
       "      <td>Spain</td>\n",
       "      <td>Female</td>\n",
       "      <td>41</td>\n",
       "      <td>1.0</td>\n",
       "      <td>83807.86</td>\n",
       "      <td>1</td>\n",
       "      <td>0</td>\n",
       "      <td>1</td>\n",
       "      <td>112542.58</td>\n",
       "      <td>0</td>\n",
       "    </tr>\n",
       "    <tr>\n",
       "      <th>2</th>\n",
       "      <td>502</td>\n",
       "      <td>France</td>\n",
       "      <td>Female</td>\n",
       "      <td>42</td>\n",
       "      <td>8.0</td>\n",
       "      <td>159660.80</td>\n",
       "      <td>3</td>\n",
       "      <td>1</td>\n",
       "      <td>0</td>\n",
       "      <td>113931.57</td>\n",
       "      <td>1</td>\n",
       "    </tr>\n",
       "    <tr>\n",
       "      <th>3</th>\n",
       "      <td>699</td>\n",
       "      <td>France</td>\n",
       "      <td>Female</td>\n",
       "      <td>39</td>\n",
       "      <td>1.0</td>\n",
       "      <td>0.00</td>\n",
       "      <td>2</td>\n",
       "      <td>0</td>\n",
       "      <td>0</td>\n",
       "      <td>93826.63</td>\n",
       "      <td>0</td>\n",
       "    </tr>\n",
       "    <tr>\n",
       "      <th>4</th>\n",
       "      <td>850</td>\n",
       "      <td>Spain</td>\n",
       "      <td>Female</td>\n",
       "      <td>43</td>\n",
       "      <td>2.0</td>\n",
       "      <td>125510.82</td>\n",
       "      <td>1</td>\n",
       "      <td>1</td>\n",
       "      <td>1</td>\n",
       "      <td>79084.10</td>\n",
       "      <td>0</td>\n",
       "    </tr>\n",
       "    <tr>\n",
       "      <th>...</th>\n",
       "      <td>...</td>\n",
       "      <td>...</td>\n",
       "      <td>...</td>\n",
       "      <td>...</td>\n",
       "      <td>...</td>\n",
       "      <td>...</td>\n",
       "      <td>...</td>\n",
       "      <td>...</td>\n",
       "      <td>...</td>\n",
       "      <td>...</td>\n",
       "      <td>...</td>\n",
       "    </tr>\n",
       "    <tr>\n",
       "      <th>9995</th>\n",
       "      <td>771</td>\n",
       "      <td>France</td>\n",
       "      <td>Male</td>\n",
       "      <td>39</td>\n",
       "      <td>5.0</td>\n",
       "      <td>0.00</td>\n",
       "      <td>2</td>\n",
       "      <td>1</td>\n",
       "      <td>0</td>\n",
       "      <td>96270.64</td>\n",
       "      <td>0</td>\n",
       "    </tr>\n",
       "    <tr>\n",
       "      <th>9996</th>\n",
       "      <td>516</td>\n",
       "      <td>France</td>\n",
       "      <td>Male</td>\n",
       "      <td>35</td>\n",
       "      <td>10.0</td>\n",
       "      <td>57369.61</td>\n",
       "      <td>1</td>\n",
       "      <td>1</td>\n",
       "      <td>1</td>\n",
       "      <td>101699.77</td>\n",
       "      <td>0</td>\n",
       "    </tr>\n",
       "    <tr>\n",
       "      <th>9997</th>\n",
       "      <td>709</td>\n",
       "      <td>France</td>\n",
       "      <td>Female</td>\n",
       "      <td>36</td>\n",
       "      <td>7.0</td>\n",
       "      <td>0.00</td>\n",
       "      <td>1</td>\n",
       "      <td>0</td>\n",
       "      <td>1</td>\n",
       "      <td>42085.58</td>\n",
       "      <td>1</td>\n",
       "    </tr>\n",
       "    <tr>\n",
       "      <th>9998</th>\n",
       "      <td>772</td>\n",
       "      <td>Germany</td>\n",
       "      <td>Male</td>\n",
       "      <td>42</td>\n",
       "      <td>3.0</td>\n",
       "      <td>75075.31</td>\n",
       "      <td>2</td>\n",
       "      <td>1</td>\n",
       "      <td>0</td>\n",
       "      <td>92888.52</td>\n",
       "      <td>1</td>\n",
       "    </tr>\n",
       "    <tr>\n",
       "      <th>9999</th>\n",
       "      <td>792</td>\n",
       "      <td>France</td>\n",
       "      <td>Female</td>\n",
       "      <td>28</td>\n",
       "      <td>5.0</td>\n",
       "      <td>130142.79</td>\n",
       "      <td>1</td>\n",
       "      <td>1</td>\n",
       "      <td>0</td>\n",
       "      <td>38190.78</td>\n",
       "      <td>0</td>\n",
       "    </tr>\n",
       "  </tbody>\n",
       "</table>\n",
       "<p>10000 rows × 11 columns</p>\n",
       "</div>"
      ],
      "text/plain": [
       "      credit_score geography  gender  age  tenure    balance  num_of_products  \\\n",
       "0              619    France  Female   42     2.0       0.00                1   \n",
       "1              608     Spain  Female   41     1.0   83807.86                1   \n",
       "2              502    France  Female   42     8.0  159660.80                3   \n",
       "3              699    France  Female   39     1.0       0.00                2   \n",
       "4              850     Spain  Female   43     2.0  125510.82                1   \n",
       "...            ...       ...     ...  ...     ...        ...              ...   \n",
       "9995           771    France    Male   39     5.0       0.00                2   \n",
       "9996           516    France    Male   35    10.0   57369.61                1   \n",
       "9997           709    France  Female   36     7.0       0.00                1   \n",
       "9998           772   Germany    Male   42     3.0   75075.31                2   \n",
       "9999           792    France  Female   28     5.0  130142.79                1   \n",
       "\n",
       "      has_cr_card  is_active_member  estimated_salary  exited  \n",
       "0               1                 1         101348.88       1  \n",
       "1               0                 1         112542.58       0  \n",
       "2               1                 0         113931.57       1  \n",
       "3               0                 0          93826.63       0  \n",
       "4               1                 1          79084.10       0  \n",
       "...           ...               ...               ...     ...  \n",
       "9995            1                 0          96270.64       0  \n",
       "9996            1                 1         101699.77       0  \n",
       "9997            0                 1          42085.58       1  \n",
       "9998            1                 0          92888.52       1  \n",
       "9999            1                 0          38190.78       0  \n",
       "\n",
       "[10000 rows x 11 columns]"
      ]
     },
     "execution_count": 82,
     "metadata": {},
     "output_type": "execute_result"
    }
   ],
   "source": [
    "df = df.drop([\"customer_id\", \"surname\", \"row_number\"], axis=1)\n",
    "df"
   ]
  },
  {
   "cell_type": "markdown",
   "metadata": {},
   "source": [
    "A continuacion vamos a categorizar las columnas Geography y Gender"
   ]
  },
  {
   "cell_type": "code",
   "execution_count": 83,
   "metadata": {},
   "outputs": [
    {
     "data": {
      "text/html": [
       "<div>\n",
       "<style scoped>\n",
       "    .dataframe tbody tr th:only-of-type {\n",
       "        vertical-align: middle;\n",
       "    }\n",
       "\n",
       "    .dataframe tbody tr th {\n",
       "        vertical-align: top;\n",
       "    }\n",
       "\n",
       "    .dataframe thead th {\n",
       "        text-align: right;\n",
       "    }\n",
       "</style>\n",
       "<table border=\"1\" class=\"dataframe\">\n",
       "  <thead>\n",
       "    <tr style=\"text-align: right;\">\n",
       "      <th></th>\n",
       "      <th>credit_score</th>\n",
       "      <th>age</th>\n",
       "      <th>tenure</th>\n",
       "      <th>balance</th>\n",
       "      <th>num_of_products</th>\n",
       "      <th>has_cr_card</th>\n",
       "      <th>is_active_member</th>\n",
       "      <th>estimated_salary</th>\n",
       "      <th>exited</th>\n",
       "      <th>geography_Germany</th>\n",
       "      <th>geography_Spain</th>\n",
       "      <th>gender_Male</th>\n",
       "    </tr>\n",
       "  </thead>\n",
       "  <tbody>\n",
       "    <tr>\n",
       "      <th>0</th>\n",
       "      <td>619</td>\n",
       "      <td>42</td>\n",
       "      <td>2.0</td>\n",
       "      <td>0.00</td>\n",
       "      <td>1</td>\n",
       "      <td>1</td>\n",
       "      <td>1</td>\n",
       "      <td>101348.88</td>\n",
       "      <td>1</td>\n",
       "      <td>0</td>\n",
       "      <td>0</td>\n",
       "      <td>0</td>\n",
       "    </tr>\n",
       "    <tr>\n",
       "      <th>1</th>\n",
       "      <td>608</td>\n",
       "      <td>41</td>\n",
       "      <td>1.0</td>\n",
       "      <td>83807.86</td>\n",
       "      <td>1</td>\n",
       "      <td>0</td>\n",
       "      <td>1</td>\n",
       "      <td>112542.58</td>\n",
       "      <td>0</td>\n",
       "      <td>0</td>\n",
       "      <td>1</td>\n",
       "      <td>0</td>\n",
       "    </tr>\n",
       "    <tr>\n",
       "      <th>2</th>\n",
       "      <td>502</td>\n",
       "      <td>42</td>\n",
       "      <td>8.0</td>\n",
       "      <td>159660.80</td>\n",
       "      <td>3</td>\n",
       "      <td>1</td>\n",
       "      <td>0</td>\n",
       "      <td>113931.57</td>\n",
       "      <td>1</td>\n",
       "      <td>0</td>\n",
       "      <td>0</td>\n",
       "      <td>0</td>\n",
       "    </tr>\n",
       "    <tr>\n",
       "      <th>3</th>\n",
       "      <td>699</td>\n",
       "      <td>39</td>\n",
       "      <td>1.0</td>\n",
       "      <td>0.00</td>\n",
       "      <td>2</td>\n",
       "      <td>0</td>\n",
       "      <td>0</td>\n",
       "      <td>93826.63</td>\n",
       "      <td>0</td>\n",
       "      <td>0</td>\n",
       "      <td>0</td>\n",
       "      <td>0</td>\n",
       "    </tr>\n",
       "    <tr>\n",
       "      <th>4</th>\n",
       "      <td>850</td>\n",
       "      <td>43</td>\n",
       "      <td>2.0</td>\n",
       "      <td>125510.82</td>\n",
       "      <td>1</td>\n",
       "      <td>1</td>\n",
       "      <td>1</td>\n",
       "      <td>79084.10</td>\n",
       "      <td>0</td>\n",
       "      <td>0</td>\n",
       "      <td>1</td>\n",
       "      <td>0</td>\n",
       "    </tr>\n",
       "    <tr>\n",
       "      <th>...</th>\n",
       "      <td>...</td>\n",
       "      <td>...</td>\n",
       "      <td>...</td>\n",
       "      <td>...</td>\n",
       "      <td>...</td>\n",
       "      <td>...</td>\n",
       "      <td>...</td>\n",
       "      <td>...</td>\n",
       "      <td>...</td>\n",
       "      <td>...</td>\n",
       "      <td>...</td>\n",
       "      <td>...</td>\n",
       "    </tr>\n",
       "    <tr>\n",
       "      <th>9995</th>\n",
       "      <td>771</td>\n",
       "      <td>39</td>\n",
       "      <td>5.0</td>\n",
       "      <td>0.00</td>\n",
       "      <td>2</td>\n",
       "      <td>1</td>\n",
       "      <td>0</td>\n",
       "      <td>96270.64</td>\n",
       "      <td>0</td>\n",
       "      <td>0</td>\n",
       "      <td>0</td>\n",
       "      <td>1</td>\n",
       "    </tr>\n",
       "    <tr>\n",
       "      <th>9996</th>\n",
       "      <td>516</td>\n",
       "      <td>35</td>\n",
       "      <td>10.0</td>\n",
       "      <td>57369.61</td>\n",
       "      <td>1</td>\n",
       "      <td>1</td>\n",
       "      <td>1</td>\n",
       "      <td>101699.77</td>\n",
       "      <td>0</td>\n",
       "      <td>0</td>\n",
       "      <td>0</td>\n",
       "      <td>1</td>\n",
       "    </tr>\n",
       "    <tr>\n",
       "      <th>9997</th>\n",
       "      <td>709</td>\n",
       "      <td>36</td>\n",
       "      <td>7.0</td>\n",
       "      <td>0.00</td>\n",
       "      <td>1</td>\n",
       "      <td>0</td>\n",
       "      <td>1</td>\n",
       "      <td>42085.58</td>\n",
       "      <td>1</td>\n",
       "      <td>0</td>\n",
       "      <td>0</td>\n",
       "      <td>0</td>\n",
       "    </tr>\n",
       "    <tr>\n",
       "      <th>9998</th>\n",
       "      <td>772</td>\n",
       "      <td>42</td>\n",
       "      <td>3.0</td>\n",
       "      <td>75075.31</td>\n",
       "      <td>2</td>\n",
       "      <td>1</td>\n",
       "      <td>0</td>\n",
       "      <td>92888.52</td>\n",
       "      <td>1</td>\n",
       "      <td>1</td>\n",
       "      <td>0</td>\n",
       "      <td>1</td>\n",
       "    </tr>\n",
       "    <tr>\n",
       "      <th>9999</th>\n",
       "      <td>792</td>\n",
       "      <td>28</td>\n",
       "      <td>5.0</td>\n",
       "      <td>130142.79</td>\n",
       "      <td>1</td>\n",
       "      <td>1</td>\n",
       "      <td>0</td>\n",
       "      <td>38190.78</td>\n",
       "      <td>0</td>\n",
       "      <td>0</td>\n",
       "      <td>0</td>\n",
       "      <td>0</td>\n",
       "    </tr>\n",
       "  </tbody>\n",
       "</table>\n",
       "<p>10000 rows × 12 columns</p>\n",
       "</div>"
      ],
      "text/plain": [
       "      credit_score  age  tenure    balance  num_of_products  has_cr_card  \\\n",
       "0              619   42     2.0       0.00                1            1   \n",
       "1              608   41     1.0   83807.86                1            0   \n",
       "2              502   42     8.0  159660.80                3            1   \n",
       "3              699   39     1.0       0.00                2            0   \n",
       "4              850   43     2.0  125510.82                1            1   \n",
       "...            ...  ...     ...        ...              ...          ...   \n",
       "9995           771   39     5.0       0.00                2            1   \n",
       "9996           516   35    10.0   57369.61                1            1   \n",
       "9997           709   36     7.0       0.00                1            0   \n",
       "9998           772   42     3.0   75075.31                2            1   \n",
       "9999           792   28     5.0  130142.79                1            1   \n",
       "\n",
       "      is_active_member  estimated_salary  exited  geography_Germany  \\\n",
       "0                    1         101348.88       1                  0   \n",
       "1                    1         112542.58       0                  0   \n",
       "2                    0         113931.57       1                  0   \n",
       "3                    0          93826.63       0                  0   \n",
       "4                    1          79084.10       0                  0   \n",
       "...                ...               ...     ...                ...   \n",
       "9995                 0          96270.64       0                  0   \n",
       "9996                 1         101699.77       0                  0   \n",
       "9997                 1          42085.58       1                  0   \n",
       "9998                 0          92888.52       1                  1   \n",
       "9999                 0          38190.78       0                  0   \n",
       "\n",
       "      geography_Spain  gender_Male  \n",
       "0                   0            0  \n",
       "1                   1            0  \n",
       "2                   0            0  \n",
       "3                   0            0  \n",
       "4                   1            0  \n",
       "...               ...          ...  \n",
       "9995                0            1  \n",
       "9996                0            1  \n",
       "9997                0            0  \n",
       "9998                0            1  \n",
       "9999                0            0  \n",
       "\n",
       "[10000 rows x 12 columns]"
      ]
     },
     "execution_count": 83,
     "metadata": {},
     "output_type": "execute_result"
    }
   ],
   "source": [
    "df = pd.get_dummies(df, drop_first=True)\n",
    "df"
   ]
  },
  {
   "cell_type": "markdown",
   "metadata": {},
   "source": [
    "# Examinacion del equilibrio de las clases"
   ]
  },
  {
   "cell_type": "code",
   "execution_count": 84,
   "metadata": {},
   "outputs": [
    {
     "data": {
      "text/plain": [
       "2037"
      ]
     },
     "execution_count": 84,
     "metadata": {},
     "output_type": "execute_result"
    }
   ],
   "source": [
    "count_pos = (df[\"exited\"] == 1).sum()\n",
    "count_pos"
   ]
  },
  {
   "cell_type": "code",
   "execution_count": 85,
   "metadata": {},
   "outputs": [
    {
     "data": {
      "text/plain": [
       "7963"
      ]
     },
     "execution_count": 85,
     "metadata": {},
     "output_type": "execute_result"
    }
   ],
   "source": [
    "count_neg = (df[\"exited\"] == 0).sum()\n",
    "count_neg"
   ]
  },
  {
   "cell_type": "markdown",
   "metadata": {},
   "source": [
    "Podemos ver que hay un claro desequilibrio entre las dos clases, ahora mismo vamos a proceder con el entrenamiento de los modelos aunque tengamos este desequilibrio."
   ]
  },
  {
   "cell_type": "markdown",
   "metadata": {},
   "source": [
    "# Segmentacion de datos"
   ]
  },
  {
   "cell_type": "code",
   "execution_count": 86,
   "metadata": {},
   "outputs": [],
   "source": [
    "features = df.drop(['exited'], axis=1)\n",
    "target = df['exited']\n",
    "\n",
    "features_train, features_valid, target_train, target_valid = train_test_split(features, target, test_size=0.6, random_state=12345) \n",
    "#se segmenta el 60 % de los datos para hacer el conjunto de validación\n",
    "features_valid, features_test, target_valid, target_test = train_test_split(features, target, test_size=0.5, random_state=12345)\n",
    "#se segmenta el 50 % de los datos para hacer el conjunto de validación"
   ]
  },
  {
   "cell_type": "markdown",
   "metadata": {},
   "source": [
    "# Investigacion de la calidad de diferentes modelos"
   ]
  },
  {
   "cell_type": "markdown",
   "metadata": {},
   "source": [
    "## Árbol de decisión de clasificacion"
   ]
  },
  {
   "cell_type": "code",
   "execution_count": 87,
   "metadata": {},
   "outputs": [
    {
     "name": "stdout",
     "output_type": "stream",
     "text": [
      "El mejor modelo en el conjunto de validación (max_depth = 9): 0.6966292134831461\n"
     ]
    }
   ],
   "source": [
    "best_model_tree = None\n",
    "best_result = 0\n",
    "best_depth = 0\n",
    "for depth in range(1, 10): # selecciona el rango del hiperparámetro\n",
    "    model_tree = DecisionTreeClassifier(max_depth=depth, random_state=12345)\n",
    "    # entrena el modelo en el conjunto de entrenamiento\n",
    "    model_tree.fit(features_train, target_train) \n",
    "    # entrena el modelo en el conjunto de entrenamiento\n",
    "    predictions_valid = model_tree.predict(features_valid)\n",
    "    # obtén las predicciones del modelo en el conjunto de validación\n",
    "    result = f1_score(target_valid, predictions_valid)\n",
    "    if result > best_result:\n",
    "        best_model_tree = model_tree\n",
    "        best_result = result\n",
    "        best_depth = depth\n",
    "        \n",
    "\n",
    "print(f\"El mejor modelo en el conjunto de validación (max_depth = {best_depth}): {best_result}\")"
   ]
  },
  {
   "cell_type": "markdown",
   "metadata": {},
   "source": [
    "## Bosque aleatorio de clasificacion"
   ]
  },
  {
   "cell_type": "code",
   "execution_count": 88,
   "metadata": {},
   "outputs": [
    {
     "name": "stdout",
     "output_type": "stream",
     "text": [
      "El mejor f1 del modelo en el conjunto de validación 0.716636197440585 n_estimators: 50 best_depth: 10\n"
     ]
    }
   ],
   "source": [
    "best_model_forest = None\n",
    "best_result = 0\n",
    "best_est = 0\n",
    "best_depth = 0\n",
    "for est in range(10, 51, 10):\n",
    "    for depth in range (1, 11):\n",
    "        model_random_forest = RandomForestClassifier(random_state=12345, n_estimators=est, max_depth=depth)\n",
    "        model_random_forest.fit(features_train, target_train)\n",
    "        predictions_valid = model_random_forest.predict(features_valid)\n",
    "        result = f1_score(target_valid, predictions_valid)\n",
    "        if result > best_result:\n",
    "            best_model_forest = model_random_forest\n",
    "            best_result = result\n",
    "            best_est = est\n",
    "            best_depth = depth\n",
    "\n",
    "           \n",
    "print(\"El mejor f1 del modelo en el conjunto de validación\", best_result, \"n_estimators:\", best_est, \"best_depth:\", depth)"
   ]
  },
  {
   "cell_type": "markdown",
   "metadata": {},
   "source": [
    "## Regresión logistica"
   ]
  },
  {
   "cell_type": "code",
   "execution_count": 89,
   "metadata": {},
   "outputs": [
    {
     "name": "stdout",
     "output_type": "stream",
     "text": [
      "el modelo de regresión logistica en el conjunto de validación tiene un f1 de: 0.07864164432529044\n"
     ]
    }
   ],
   "source": [
    "model_regresion = LogisticRegression(random_state=54321, solver='liblinear') # inicializa el constructor de modelos\n",
    "\n",
    "model_regresion.fit(features_train, target_train) # entrena el modelo en el conjunto de entrenamiento\n",
    "\n",
    "predictions_valid = model_regresion.predict(features_valid) # obtén las predicciones del modelo en el conjunto de validación\n",
    "\n",
    "result = f1_score(target_valid, predictions_valid)\n",
    "\n",
    "print( \"el modelo de regresión logistica en el conjunto de validación tiene un f1 de:\", result)"
   ]
  },
  {
   "cell_type": "markdown",
   "metadata": {},
   "source": [
    "Ahora vamos a mejorar el equilibrio de nuestros modelos"
   ]
  },
  {
   "cell_type": "markdown",
   "metadata": {},
   "source": [
    "## Sobremuestreo"
   ]
  },
  {
   "cell_type": "code",
   "execution_count": 90,
   "metadata": {},
   "outputs": [],
   "source": [
    "#Funcion de sobremuestreo\n",
    "\n",
    "def upsample(features, target, repeat):\n",
    "    features_zeros = features[target == 0]\n",
    "    features_ones = features[target == 1]\n",
    "    target_zeros = target[target == 0]\n",
    "    target_ones = target[target == 1]\n",
    "\n",
    "    features_upsampled = pd.concat([features_zeros] + [features_ones] * repeat)\n",
    "    target_upsampled = pd.concat([target_zeros] + [target_ones] * repeat)\n",
    "\n",
    "    features_upsampled, target_upsampled = shuffle(\n",
    "        features_upsampled, target_upsampled, random_state=12345\n",
    "    )\n",
    "\n",
    "    return features_upsampled, target_upsampled"
   ]
  },
  {
   "cell_type": "code",
   "execution_count": 91,
   "metadata": {},
   "outputs": [],
   "source": [
    "#definimos nuestras nuevas variables\n",
    "features_upsampled, target_upsampled = upsample(features_train, target_train, 4)"
   ]
  },
  {
   "cell_type": "markdown",
   "metadata": {},
   "source": [
    "## Prueba de modelos con sobremuestreo"
   ]
  },
  {
   "cell_type": "markdown",
   "metadata": {},
   "source": [
    "### Arbol de decision"
   ]
  },
  {
   "cell_type": "code",
   "execution_count": 92,
   "metadata": {},
   "outputs": [
    {
     "name": "stdout",
     "output_type": "stream",
     "text": [
      "0.9056526302058628\n",
      "El mejor modelo en el conjunto de validación (max_depth = 9): 0.6736418511066399\n"
     ]
    }
   ],
   "source": [
    "best_model_tree_up = None\n",
    "best_result = 0\n",
    "best_depth = 0\n",
    "for depth in range(1, 10): # selecciona el rango del hiperparámetro\n",
    "    model_tree_upsample = DecisionTreeClassifier(max_depth=depth, random_state=12345)\n",
    "    # entrena el modelo en el conjunto de entrenamiento con sobremuestreo\n",
    "    model_tree_upsample.fit(features_upsampled, target_upsampled) \n",
    "    # entrena el modelo en el conjunto de entrenamiento\n",
    "    predictions_valid = model_tree_upsample.predict(features_valid)\n",
    "    # obtén las predicciones del modelo en el conjunto de validación\n",
    "    result = f1_score(target_valid, predictions_valid)\n",
    "    if result > best_result:\n",
    "        best_model_tree_up = model_tree_upsample\n",
    "        best_result = result\n",
    "        best_depth = depth\n",
    "\n",
    "\n",
    "probabilities_valid = model_tree_upsample.predict_proba(features_valid)\n",
    "probabilities_one_valid = probabilities_valid[:, 1]\n",
    "\n",
    "auc_roc = roc_auc_score(target_valid, probabilities_one_valid)\n",
    "\n",
    "print(auc_roc)        \n",
    "\n",
    "print(f\"El mejor modelo en el conjunto de validación (max_depth = {best_depth}): {best_result}\")"
   ]
  },
  {
   "cell_type": "code",
   "execution_count": 93,
   "metadata": {},
   "outputs": [
    {
     "data": {
      "image/png": "[encoded data removed]",
      "text/plain": [
       "<Figure size 432x288 with 1 Axes>"
      ]
     },
     "metadata": {
      "needs_background": "light"
     },
     "output_type": "display_data"
    }
   ],
   "source": [
    "#grafica auc_roc\n",
    "\n",
    "fpr, tpr, thresholds = roc_curve(target_valid, probabilities_one_valid)\n",
    "\n",
    "plt.figure()\n",
    "plt.plot(fpr, tpr)\n",
    "plt.xlim([0.0, 1.0])\n",
    "plt.ylim([0.0, 1.0])\n",
    "plt.xlabel('Tasa de falsos positivos')\n",
    "plt.ylabel('Tasa de verdaderos positivos')\n",
    "plt.title('Curva ROC')\n",
    "plt.show() "
   ]
  },
  {
   "cell_type": "markdown",
   "metadata": {},
   "source": [
    "### Bosque aleatorio"
   ]
  },
  {
   "cell_type": "code",
   "execution_count": 94,
   "metadata": {},
   "outputs": [
    {
     "name": "stdout",
     "output_type": "stream",
     "text": [
      "0.9056526302058628\n",
      "umbral de exactitud del mejor modelo en el conjunto de validación 0.8075076385857703 n_estimators: 50 best_depth: 10\n"
     ]
    }
   ],
   "source": [
    "best_model_forest_up = None\n",
    "best_result = 0\n",
    "best_est = 0\n",
    "best_depth = 0\n",
    "for est in range(10, 51, 10):\n",
    "    for depth in range (1, 11):\n",
    "        model_random_forest_upsample = RandomForestClassifier(random_state=12345, n_estimators=est, max_depth=depth)\n",
    "        model_random_forest_upsample.fit(features_upsampled, target_upsampled)\n",
    "        predictions_valid = model_random_forest_upsample.predict(features_valid)\n",
    "        result = f1_score(target_valid, predictions_valid)\n",
    "        if result > best_result:\n",
    "            best_model_forest_up = model_random_forest_upsample\n",
    "            best_result = result\n",
    "            best_est = est\n",
    "            best_depth = depth\n",
    "\n",
    "           \n",
    "probabilities_valid_1 = model_random_forest_upsample.predict_proba(features_valid)\n",
    "probabilities_one_valid_1 = probabilities_valid_1[:, 1]\n",
    "\n",
    "auc_roc = roc_auc_score(target_valid, probabilities_one_valid)\n",
    "\n",
    "print(auc_roc)        \n",
    "\n",
    "print(\"umbral de exactitud del mejor modelo en el conjunto de validación\", best_result, \"n_estimators:\", best_est, \"best_depth:\", depth)"
   ]
  },
  {
   "cell_type": "code",
   "execution_count": 95,
   "metadata": {},
   "outputs": [
    {
     "data": {
      "image/png": "[encoded data removed]",
      "text/plain": [
       "<Figure size 432x288 with 1 Axes>"
      ]
     },
     "metadata": {
      "needs_background": "light"
     },
     "output_type": "display_data"
    }
   ],
   "source": [
    "#grafica auc_roc\n",
    "\n",
    "fpr_1, tpr_1, thresholds_1 = roc_curve(target_valid, probabilities_one_valid_1)\n",
    "\n",
    "plt.figure()\n",
    "plt.plot(fpr_1, tpr_1)\n",
    "plt.xlim([0.0, 1.0])\n",
    "plt.ylim([0.0, 1.0])\n",
    "plt.xlabel('Tasa de falsos positivos')\n",
    "plt.ylabel('Tasa de verdaderos positivos')\n",
    "plt.title('Curva ROC')\n",
    "plt.show()"
   ]
  },
  {
   "cell_type": "markdown",
   "metadata": {},
   "source": [
    "### Regresion logistica"
   ]
  },
  {
   "cell_type": "code",
   "execution_count": 96,
   "metadata": {},
   "outputs": [
    {
     "name": "stdout",
     "output_type": "stream",
     "text": [
      "0.9056526302058628\n",
      "el umbral de exactitud del modelo de regresión logistica en el conjunto de validación: 0.44967482192629293\n"
     ]
    }
   ],
   "source": [
    "model_regresion_upsample = LogisticRegression(random_state=54321, solver='liblinear') # inicializa el constructor de modelos\n",
    "\n",
    "model_regresion_upsample.fit(features_upsampled, target_upsampled) # entrena el modelo en el conjunto de entrenamiento\n",
    "\n",
    "predictions_valid = model_regresion_upsample.predict(features_valid) # obtén las predicciones del modelo en el conjunto de validación\n",
    "\n",
    "result = f1_score(target_valid, predictions_valid)\n",
    "\n",
    "probabilities_valid_2 = model_regresion_upsample.predict_proba(features_valid)\n",
    "probabilities_one_valid_2 = probabilities_valid_2[:, 1]\n",
    "\n",
    "auc_roc = roc_auc_score(target_valid, probabilities_one_valid)\n",
    "\n",
    "print(auc_roc)        \n",
    "\n",
    "print( \"el umbral de exactitud del modelo de regresión logistica en el conjunto de validación:\", result)"
   ]
  },
  {
   "cell_type": "code",
   "execution_count": 97,
   "metadata": {},
   "outputs": [
    {
     "data": {
      "image/png": "[encoded data removed]",
      "text/plain": [
       "<Figure size 432x288 with 1 Axes>"
      ]
     },
     "metadata": {
      "needs_background": "light"
     },
     "output_type": "display_data"
    }
   ],
   "source": [
    "#grafica auc_roc\n",
    "\n",
    "fpr_2, tpr_2, thresholds_2 = roc_curve(target_valid, probabilities_one_valid_2)\n",
    "\n",
    "plt.figure()\n",
    "plt.plot(fpr_2, tpr_2)\n",
    "plt.xlim([0.0, 1.0])\n",
    "plt.ylim([0.0, 1.0])\n",
    "plt.xlabel('Tasa de falsos positivos')\n",
    "plt.ylabel('Tasa de verdaderos positivos')\n",
    "plt.title('Curva ROC')\n",
    "plt.show()"
   ]
  },
  {
   "cell_type": "markdown",
   "metadata": {},
   "source": [
    "## Submuestreo"
   ]
  },
  {
   "cell_type": "code",
   "execution_count": 98,
   "metadata": {},
   "outputs": [],
   "source": [
    "#Funcion de submuestreo\n",
    "\n",
    "def downsample(features, target, fraction):\n",
    "    features_zeros = features[target == 0]\n",
    "    features_ones = features[target == 1]\n",
    "    target_zeros = target[target == 0]\n",
    "    target_ones = target[target == 1]\n",
    "\n",
    "    features_downsampled = pd.concat(\n",
    "        [features_zeros.sample(frac=fraction, random_state=12345)]\n",
    "        + [features_ones]\n",
    "    )\n",
    "    target_downsampled = pd.concat(\n",
    "        [target_zeros.sample(frac=fraction, random_state=12345)]\n",
    "        + [target_ones]\n",
    "    )\n",
    "\n",
    "    features_downsampled, target_downsampled = shuffle(\n",
    "        features_downsampled, target_downsampled, random_state=12345\n",
    "    )\n",
    "\n",
    "    return features_downsampled, target_downsampled"
   ]
  },
  {
   "cell_type": "code",
   "execution_count": 99,
   "metadata": {},
   "outputs": [],
   "source": [
    "#Definimos las nuevas variables\n",
    "\n",
    "features_downsampled, target_downsampled = downsample(features_train, target_train, 0.27)"
   ]
  },
  {
   "cell_type": "code",
   "execution_count": 100,
   "metadata": {},
   "outputs": [
    {
     "name": "stdout",
     "output_type": "stream",
     "text": [
      "844\n",
      "852\n"
     ]
    }
   ],
   "source": [
    "#verificamos la cantidad de respuestas positivas y negativas para ajustar el submuestreo de forma mas equilibrada\n",
    "print((target_downsampled == 1).sum())\n",
    "print((target_downsampled == 0).sum())"
   ]
  },
  {
   "cell_type": "markdown",
   "metadata": {},
   "source": [
    "### Arbol de decision"
   ]
  },
  {
   "cell_type": "code",
   "execution_count": 101,
   "metadata": {},
   "outputs": [
    {
     "name": "stdout",
     "output_type": "stream",
     "text": [
      "0.862973794785441\n",
      "El umbral de exactitud del mejor modelo en el conjunto de validación (max_depth = 9): 0.6119942196531791\n"
     ]
    }
   ],
   "source": [
    "best_model_tree_do = None\n",
    "best_result = 0\n",
    "best_depth = 0\n",
    "for depth in range(1, 10): # selecciona el rango del hiperparámetro\n",
    "    model_tree_downsample = DecisionTreeClassifier(max_depth=depth, random_state=12345)\n",
    "    # entrena el modelo en el conjunto de entrenamiento con sobremuestreo\n",
    "    model_tree_downsample.fit(features_downsampled, target_downsampled) \n",
    "    # entrena el modelo en el conjunto de entrenamiento\n",
    "    predictions_valid = model_tree_downsample.predict(features_valid)\n",
    "    # obtén las predicciones del modelo en el conjunto de validación\n",
    "    result = f1_score(target_valid, predictions_valid)\n",
    "    if result > best_result:\n",
    "        best_model_tree_do = model_tree_downsample\n",
    "        best_result = result\n",
    "        best_depth = depth\n",
    "\n",
    "\n",
    "probabilities_valid = model_tree_downsample.predict_proba(features_valid)\n",
    "probabilities_one_valid = probabilities_valid[:, 1]\n",
    "\n",
    "auc_roc = roc_auc_score(target_valid, probabilities_one_valid)\n",
    "\n",
    "print(auc_roc)        \n",
    "\n",
    "print(f\"El umbral de exactitud del mejor modelo en el conjunto de validación (max_depth = {best_depth}): {best_result}\")"
   ]
  },
  {
   "cell_type": "code",
   "execution_count": 102,
   "metadata": {},
   "outputs": [
    {
     "data": {
      "image/png": "[encoded data removed]",
      "text/plain": [
       "<Figure size 432x288 with 1 Axes>"
      ]
     },
     "metadata": {
      "needs_background": "light"
     },
     "output_type": "display_data"
    }
   ],
   "source": [
    "#grafica auc_roc\n",
    "\n",
    "fpr, tpr, thresholds = roc_curve(target_valid, probabilities_one_valid)\n",
    "\n",
    "plt.figure()\n",
    "plt.plot(fpr, tpr)\n",
    "plt.xlim([0.0, 1.0])\n",
    "plt.ylim([0.0, 1.0])\n",
    "plt.xlabel('Tasa de falsos positivos')\n",
    "plt.ylabel('Tasa de verdaderos positivos')\n",
    "plt.title('Curva ROC')\n",
    "plt.show() "
   ]
  },
  {
   "cell_type": "markdown",
   "metadata": {},
   "source": [
    "### Bosque aleatorio"
   ]
  },
  {
   "cell_type": "code",
   "execution_count": 103,
   "metadata": {},
   "outputs": [
    {
     "name": "stdout",
     "output_type": "stream",
     "text": [
      "0.862973794785441\n",
      "umbral de exactitud del mejor modelo en el conjunto de validación 0.7205206738131701 n_estimators: 50 best_depth: 10\n"
     ]
    }
   ],
   "source": [
    "best_model_forest_do = None\n",
    "best_result = 0\n",
    "best_est = 0\n",
    "best_depth = 0\n",
    "for est in range(10, 51, 10):\n",
    "    for depth in range (1, 11):\n",
    "        model_random_forest_downsample = RandomForestClassifier(random_state=12345, n_estimators=est, max_depth=depth)\n",
    "        model_random_forest_downsample.fit(features_downsampled, target_downsampled)\n",
    "        predictions_valid = model_random_forest_downsample.predict(features_valid)\n",
    "        result = f1_score(target_valid, predictions_valid)\n",
    "        if result > best_result:\n",
    "            best_model_forest_do = model_random_forest_downsample\n",
    "            best_result = result\n",
    "            best_est = est\n",
    "            best_depth = depth\n",
    "\n",
    "           \n",
    "probabilities_valid_1 = model_random_forest_downsample.predict_proba(features_valid)\n",
    "probabilities_one_valid_1 = probabilities_valid_1[:, 1]\n",
    "\n",
    "auc_roc = roc_auc_score(target_valid, probabilities_one_valid)\n",
    "\n",
    "print(auc_roc)        \n",
    "\n",
    "print(\"umbral de exactitud del mejor modelo en el conjunto de validación\", best_result, \"n_estimators:\", best_est, \"best_depth:\", depth)"
   ]
  },
  {
   "cell_type": "code",
   "execution_count": 104,
   "metadata": {},
   "outputs": [
    {
     "data": {
      "image/png": "[encoded data removed]",
      "text/plain": [
       "<Figure size 432x288 with 1 Axes>"
      ]
     },
     "metadata": {
      "needs_background": "light"
     },
     "output_type": "display_data"
    }
   ],
   "source": [
    "#grafica auc_roc\n",
    "\n",
    "fpr_1, tpr_1, thresholds_1 = roc_curve(target_valid, probabilities_one_valid_1)\n",
    "\n",
    "plt.figure()\n",
    "plt.plot(fpr_1, tpr_1)\n",
    "plt.xlim([0.0, 1.0])\n",
    "plt.ylim([0.0, 1.0])\n",
    "plt.xlabel('Tasa de falsos positivos')\n",
    "plt.ylabel('Tasa de verdaderos positivos')\n",
    "plt.title('Curva ROC')\n",
    "plt.show()"
   ]
  },
  {
   "cell_type": "markdown",
   "metadata": {},
   "source": [
    "### Regresion logistica"
   ]
  },
  {
   "cell_type": "code",
   "execution_count": 105,
   "metadata": {},
   "outputs": [
    {
     "name": "stdout",
     "output_type": "stream",
     "text": [
      "0.862973794785441\n",
      "el umbral de exactitud del modelo de regresión logistica en el conjunto de validación: 0.4503267973856209\n"
     ]
    }
   ],
   "source": [
    "model_regresion_downsample = LogisticRegression(random_state=54321, solver='liblinear') # inicializa el constructor de modelos\n",
    "\n",
    "model_regresion_downsample.fit(features_downsampled, target_downsampled) # entrena el modelo en el conjunto de entrenamiento\n",
    "\n",
    "predictions_valid = model_regresion_downsample.predict(features_valid) # obtén las predicciones del modelo en el conjunto de validación\n",
    "\n",
    "result = f1_score(target_valid, predictions_valid)\n",
    "\n",
    "probabilities_valid_2 = model_regresion_downsample.predict_proba(features_valid)\n",
    "probabilities_one_valid_2 = probabilities_valid_2[:, 1]\n",
    "\n",
    "auc_roc = roc_auc_score(target_valid, probabilities_one_valid)\n",
    "\n",
    "print(auc_roc)        \n",
    "\n",
    "print( \"el umbral de exactitud del modelo de regresión logistica en el conjunto de validación:\", result)"
   ]
  },
  {
   "cell_type": "code",
   "execution_count": 106,
   "metadata": {},
   "outputs": [
    {
     "data": {
      "image/png": "[encoded data removed]",
      "text/plain": [
       "<Figure size 432x288 with 1 Axes>"
      ]
     },
     "metadata": {
      "needs_background": "light"
     },
     "output_type": "display_data"
    }
   ],
   "source": [
    "#grafica auc_roc\n",
    "\n",
    "fpr_2, tpr_2, thresholds_2 = roc_curve(target_valid, probabilities_one_valid_2)\n",
    "\n",
    "plt.figure()\n",
    "plt.plot(fpr_2, tpr_2)\n",
    "plt.xlim([0.0, 1.0])\n",
    "plt.ylim([0.0, 1.0])\n",
    "plt.xlabel('Tasa de falsos positivos')\n",
    "plt.ylabel('Tasa de verdaderos positivos')\n",
    "plt.title('Curva ROC')\n",
    "plt.show()"
   ]
  },
  {
   "cell_type": "markdown",
   "metadata": {},
   "source": [
    "# Pruebas de calidad a los modelos"
   ]
  },
  {
   "cell_type": "code",
   "execution_count": 107,
   "metadata": {},
   "outputs": [],
   "source": [
    "pred1 = best_model_tree.predict(features_test)\n",
    "pred2 = best_model_forest.predict(features_test)\n",
    "pred3 = model_regresion.predict(features_test)\n",
    "pred4 = best_model_tree_up.predict(features_test)\n",
    "pred5 = best_model_forest_up.predict(features_test)\n",
    "pred6 = best_model_tree_do.predict(features_test)\n",
    "pred7 = best_model_forest_do.predict(features_test)\n",
    "pred8 = model_regresion_upsample.predict(features_test)\n",
    "pred9 = model_regresion_downsample.predict(features_test)"
   ]
  },
  {
   "cell_type": "code",
   "execution_count": 108,
   "metadata": {},
   "outputs": [
    {
     "name": "stdout",
     "output_type": "stream",
     "text": [
      "0.5334081976417744\n",
      "0.5561833019460138\n",
      "0.08141592920353982\n",
      "0.5221870047543582\n",
      "0.6042590949423248\n",
      "0.5174272367948257\n",
      "0.5819861431870669\n",
      "0.43440860215053767\n",
      "0.4324853228962817\n"
     ]
    }
   ],
   "source": [
    "for pred in [pred1, pred2, pred3, pred4, pred5, pred6, pred7, pred8, pred9]:\n",
    "    print(f1_score(pred,target_test))"
   ]
  },
  {
   "cell_type": "markdown",
   "metadata": {},
   "source": [
    "## Conclusion sobre la prueba de calidad\n"
   ]
  },
  {
   "cell_type": "markdown",
   "metadata": {},
   "source": [
    "Hemos aplicado la prueba de calidad a los nueve modelos que entrenamos previamente y hemos descubierto que solo uno de ellos pasa la prueba f1 que se nos ha pedido para el proyecto, que seria el pred5(best_model_forest_up).\n",
    "\n"
   ]
  },
  {
   "cell_type": "markdown",
   "metadata": {},
   "source": [
    "## Prueba de cordura"
   ]
  },
  {
   "cell_type": "code",
   "execution_count": 109,
   "metadata": {},
   "outputs": [],
   "source": [
    "predictions_cord = pd.Series(target_test.max(), index=target_test.index)"
   ]
  },
  {
   "cell_type": "code",
   "execution_count": 110,
   "metadata": {},
   "outputs": [
    {
     "name": "stdout",
     "output_type": "stream",
     "text": [
      "7867    1\n",
      "1402    1\n",
      "8606    1\n",
      "8885    1\n",
      "6494    1\n",
      "dtype: int64\n"
     ]
    }
   ],
   "source": [
    "print(predictions_cord.head(5))"
   ]
  },
  {
   "cell_type": "code",
   "execution_count": 111,
   "metadata": {},
   "outputs": [
    {
     "name": "stdout",
     "output_type": "stream",
     "text": [
      "0.3391463212091015 0.6042590949423248\n"
     ]
    }
   ],
   "source": [
    "#Mejor modelo\n",
    "predictions_test = best_model_forest_up.predict(features_test)\n",
    "result = f1_score(target_test, predictions_cord)\n",
    "result2 = f1_score(target_test, predictions_test)\n",
    "print(result, result2)"
   ]
  },
  {
   "cell_type": "code",
   "execution_count": 112,
   "metadata": {},
   "outputs": [
    {
     "name": "stdout",
     "output_type": "stream",
     "text": [
      "0.3391463212091015\n"
     ]
    }
   ],
   "source": [
    "#Aca hacemos la prueba de cordura y verificamos si nuestro modelo supera la calidad de este.\n",
    "result = f1_score(target_test, predictions_cord)\n",
    "print(result)"
   ]
  },
  {
   "cell_type": "markdown",
   "metadata": {},
   "source": [
    "# Conclusion"
   ]
  },
  {
   "cell_type": "markdown",
   "metadata": {},
   "source": [
    "Al final de todas las evaluaciones que hemos realizado pudimos ver que l unico modelo apto para cumplir con los requerimientos en esta oportunidad es el de bosque aleatorio de la seccion de sobremuestreo.\n",
    "\n",
    "Hemos entrenado nuestro modelo y lo hemos probado en calidad y cordura y ha superado ambas pruebas exitosamente, ahora esta listo para ser utilizado."
   ]
  }
 ],
 "metadata": {
  "kernelspec": {
   "display_name": "Python 3 (ipykernel)",
   "language": "python",
   "name": "python3"
  },
  "language_info": {
   "codemirror_mode": {
    "name": "ipython",
    "version": 3
   },
   "file_extension": ".py",
   "mimetype": "text/x-python",
   "name": "python",
   "nbconvert_exporter": "python",
   "pygments_lexer": "ipython3",
   "version": "3.11.5"
  },
  "toc": {
   "base_numbering": 1,
   "nav_menu": {},
   "number_sections": true,
   "sideBar": true,
   "skip_h1_title": false,
   "title_cell": "Table of Contents",
   "title_sidebar": "Contents",
   "toc_cell": false,
   "toc_position": {
    "height": "calc(100% - 180px)",
    "left": "10px",
    "top": "150px",
    "width": "257.188px"
   },
   "toc_section_display": true,
   "toc_window_display": false
  }
 },
 "nbformat": 4,
 "nbformat_minor": 2
}
