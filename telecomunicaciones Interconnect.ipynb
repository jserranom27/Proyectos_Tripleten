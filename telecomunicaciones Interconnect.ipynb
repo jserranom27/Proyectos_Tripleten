{
 "cells": [
  {
   "cell_type": "markdown",
   "id": "311057d7",
   "metadata": {},
   "source": [
    "# Proyecto final"
   ]
  },
  {
   "cell_type": "markdown",
   "id": "5efc81a6",
   "metadata": {},
   "source": [
    "# Descripcion del proyecto"
   ]
  },
  {
   "cell_type": "markdown",
   "id": "49e52fed",
   "metadata": {},
   "source": [
    "## Condiciones de la asignación principal\n",
    "\n",
    "Al operador de telecomunicaciones Interconnect le gustaría poder pronosticar su tasa de cancelación de clientes. Si se descubre que un usuario o usuaria planea irse, se le ofrecerán códigos promocionales y opciones de planes especiales. El equipo de marketing de Interconnect ha recopilado algunos de los datos personales de sus clientes, incluyendo información sobre sus planes y contratos.\n",
    "\n",
    "### Servicios de Interconnect\n",
    "\n",
    "Interconnect proporciona principalmente dos tipos de servicios:\n",
    "\n",
    "1. Comunicación por teléfono fijo. El teléfono se puede conectar a varias líneas de manera simultánea.\n",
    "2. Internet. La red se puede configurar a través de una línea telefónica (DSL, *línea de abonado digital*) o a través de un cable de fibra óptica.\n",
    "\n",
    "Algunos otros servicios que ofrece la empresa incluyen:\n",
    "\n",
    "- Seguridad en Internet: software antivirus (*ProtecciónDeDispositivo*) y un bloqueador de sitios web maliciosos (*SeguridadEnLínea*).\n",
    "- Una línea de soporte técnico (*SoporteTécnico*).\n",
    "- Almacenamiento de archivos en la nube y backup de datos (*BackupOnline*).\n",
    "- Streaming de TV (*StreamingTV*) y directorio de películas (*StreamingPelículas*)\n",
    "\n",
    "La clientela puede elegir entre un pago mensual o firmar un contrato de 1 o 2 años. Puede utilizar varios métodos de pago y recibir una factura electrónica después de una transacción.\n"
   ]
  },
  {
   "cell_type": "markdown",
   "id": "758b65b3",
   "metadata": {},
   "source": [
    "## Descripcion de los datos"
   ]
  },
  {
   "cell_type": "markdown",
   "id": "13d0c07e",
   "metadata": {},
   "source": [
    "Los datos consisten en archivos obtenidos de diferentes fuentes:\n",
    "\n",
    "- `contract.csv` — información del contrato;\n",
    "- `personal.csv` — datos personales del cliente;\n",
    "- `internet.csv` — información sobre los servicios de Internet;\n",
    "- `phone.csv` — información sobre los servicios telefónicos.\n",
    "\n",
    "En cada archivo, la columna `customerID` (ID de cliente) contiene un código único asignado a cada cliente. La información del contrato es válida a partir del 1 de febrero de 2020.\n",
    "\n",
    "Característica objetivo: la columna `'EndDate'` es igual a `'No'`.\n",
    "\n",
    "Métrica principal: AUC-ROC.\n",
    "\n",
    "Métrica adicional: exactitud.\n",
    "\n",
    "Criterios de evaluación:\n",
    "\n",
    "- AUC-ROC < 0.75 — 0 SP\n",
    "- 0.75 ≤ AUC-ROC < 0.81 — 4 SP\n",
    "- 0.81 ≤ AUC-ROC < 0.85 — 4.5 SP\n",
    "- 0.85 ≤ AUC-ROC < 0.87 — 5 SP\n",
    "- 0.87 ≤ AUC-ROC < 0.88 — 5.5 SP\n",
    "- AUC-ROC ≥ 0.88 — 6 SP\n"
   ]
  },
  {
   "cell_type": "markdown",
   "id": "c528cb8c",
   "metadata": {},
   "source": [
    "## Etapas del proyecto"
   ]
  },
  {
   "cell_type": "markdown",
   "id": "539c5fad",
   "metadata": {},
   "source": [
    "- Hacer un plan de trabajo.\n",
    "- Investigar la tarea.\n",
    "- Desarrollar un modelo.\n",
    "- Preparar el informe.\n",
    "\n",
    "# Plan de trabajo\n",
    "\n",
    "- Objetivo: \n",
    "    \n",
    "Desarrollar un modelo para predecir la tasa de cancelación de clientes de Interconnect con métricas de evaluación basadas en AUC-ROC y exactitud.\n",
    "\n",
    "- Métricas clave: \n",
    "\n",
    "AUC-ROC y exactitud.\n",
    "\n",
    "- Pasos generales:\n",
    "\n",
    "Investigación y análisis de datos.\n",
    "Procesamiento de datos y análisis exploratorio.\n",
    "Desarrollo y ajuste del modelo.\n",
    "Evaluación y ajuste fino del modelo.\n",
    "Preparación del informe final.\n",
    "\n",
    "- Etapa 1: Investigación y Análisis de Datos\n",
    "\n",
    "Comprensión del problema: \n",
    "\n",
    "Entender las características que influyen en la decisión de cancelar.\n",
    "\n",
    "Descripción de archivos:\n",
    "\n",
    "contract.csv: Revisar las columnas de contratos, en especial \"EndDate\".\n",
    "personal.csv: Examinar los datos personales que podrían correlacionarse con la cancelación.\n",
    "internet.csv: Revisar las variables de servicios de Internet.\n",
    "phone.csv: Examinar las variables de servicios telefónicos.\n",
    "Relación entre tablas: Usar customerID para unir todas las tablas, asegurándonos de no perder datos importantes en el proceso.\n",
    "\n",
    "\n",
    "- Etapa 2: Procesamiento de Datos y Análisis Exploratorio (EDA)\n",
    "\n",
    "\n",
    "Limpieza de datos: Revisar datos faltantes, eliminar duplicados y corregir valores atípicos.\n",
    "\n",
    "Transformaciones iniciales:\n",
    "\n",
    "Convertir \"EndDate\" en una variable binaria (1 = cancelado, 0 = no cancelado).\n",
    "\n",
    "Realizar transformaciones de variables categóricas (por ejemplo, pago mensual vs. contrato de años) para convertirlas en variables numéricas.\n",
    "\n",
    "EDA:\n",
    "\n",
    "Analizar la distribución de las variables y explorar posibles correlaciones entre ellas y la cancelacion.\n",
    "\n",
    "Visualizar las diferencias en tasas de cancelación por categorías de servicios y métodos de pago.\n",
    "\n",
    "- Etapa 3: Desarrollo del Modelo\n",
    "\n",
    "\n",
    "Separación de datos: Dividir los datos en conjuntos de entrenamiento y prueba.\n",
    "Modelo base: Desarrollar un modelo base, como la regresión logística, para establecer un punto de comparación.\n",
    "Modelos avanzados: Prpbar modelos de clasificación más avanzados como árboles de decisión, random forest, o modelos basados en boosting (XGBoost o CatBoost).\n",
    "Evaluación de rendimiento: Usar AUC-ROC como métrica principal y exactitud como métrica adicional.\n",
    "\n",
    "\n",
    "- Etapa 4: Evaluación y Ajuste Fino\n",
    "\n",
    "\n",
    "Optimización de hiperparámetros: Usar técnicas como grid search o random search para mejorar el modelo seleccionado.\n",
    "Validación cruzada: Evalúar el modelo mediante validación cruzada para evitar sobreajuste.\n",
    "Interpretación del modelo: Analizar las características más importantes que el modelo utiliza para predecir la cancelacion.\n",
    "\n",
    "\n",
    "- Etapa 5: Preparación del Informe\n",
    "\n",
    "\n",
    "Estructura del informe:\n",
    "Introducción: Objetivo, importancia del proyecto y métricas de evaluación.\n",
    "Metodología: Descripción de datos, pasos de limpieza y procesamiento, y resumen de técnicas utilizadas.\n",
    "Resultados: Explicacíon de los hallazgos clave, el rendimiento del modelo y las características más importantes.\n",
    "Conclusiones y recomendaciones: Ofrecer mis recomendaciones para el equipo de marketing basadas en el modelo y sus resultados.\n"
   ]
  },
  {
   "cell_type": "markdown",
   "id": "369115ba",
   "metadata": {},
   "source": [
    "## Desarrollo del proyecto"
   ]
  },
  {
   "cell_type": "markdown",
   "id": "f7b9622c",
   "metadata": {},
   "source": [
    "## Etapa 1"
   ]
  },
  {
   "cell_type": "markdown",
   "id": "3d4e3b95",
   "metadata": {},
   "source": [
    "### Importacion de librerias"
   ]
  },
  {
   "cell_type": "code",
   "execution_count": 1,
   "id": "36e54ee9",
   "metadata": {},
   "outputs": [],
   "source": [
    "# Librerías de manejo de datos\n",
    "import numpy as np\n",
    "import pandas as pd\n",
    "import re\n",
    "from datetime import datetime\n",
    "import os\n",
    "\n",
    "# Librerías de visualización\n",
    "import matplotlib.pyplot as plt\n",
    "import seaborn as sns\n",
    "\n",
    "# Librerías para preprocesamiento y división de datos\n",
    "from sklearn.model_selection import train_test_split\n",
    "from sklearn.preprocessing import StandardScaler\n",
    "\n",
    "# Librerías para modelado\n",
    "from sklearn.linear_model import LogisticRegression\n",
    "from sklearn.tree import DecisionTreeClassifier\n",
    "from sklearn.ensemble import RandomForestClassifier, GradientBoostingClassifier\n",
    "\n",
    "# Librerías para evaluación de modelos\n",
    "from sklearn.metrics import precision_score, confusion_matrix, classification_report, roc_auc_score, accuracy_score, f1_score\n",
    "\n",
    "# Librerías para balanceo de datos\n",
    "from imblearn.over_sampling import RandomOverSampler\n",
    "from sklearn.utils import resample\n",
    "\n",
    "# Librerías para ajuste de hiperparámetros\n",
    "from sklearn.model_selection import GridSearchCV, RandomizedSearchCV\n",
    "from scipy.stats import uniform\n"
   ]
  },
  {
   "cell_type": "markdown",
   "id": "a259936a",
   "metadata": {},
   "source": [
    "## Importacion y lectura de datos"
   ]
  },
  {
   "cell_type": "code",
   "execution_count": 2,
   "id": "3c65100c",
   "metadata": {},
   "outputs": [],
   "source": [
    "os.chdir(r'C:\\Users\\Jefferson Serrano\\Desktop\\proyecto final')\n"
   ]
  },
  {
   "cell_type": "code",
   "execution_count": 3,
   "id": "b486d6f0",
   "metadata": {},
   "outputs": [],
   "source": [
    "contract_df = pd.read_csv('contract.csv', na_values=[\" \", \"?\", \"NaN\", \"None\", \"NULL\"])\n",
    "personal_df = pd.read_csv('personal.csv', na_values=[\" \", \"?\", \"NaN\", \"None\", \"NULL\"])\n",
    "internet_df = pd.read_csv('internet.csv', na_values=[\" \", \"?\", \"NaN\", \"None\", \"NULL\"])\n",
    "phone_df = pd.read_csv('phone.csv', na_values=[\" \", \"?\", \"NaN\", \"None\", \"NULL\"])\n"
   ]
  },
  {
   "cell_type": "code",
   "execution_count": 4,
   "id": "833cb093",
   "metadata": {},
   "outputs": [
    {
     "name": "stdout",
     "output_type": "stream",
     "text": [
      "Contrato DataFrame:\n",
      "   customerID   BeginDate              EndDate            Type  \\\n",
      "0  7590-VHVEG  2020-01-01                   No  Month-to-month   \n",
      "1  5575-GNVDE  2017-04-01                   No        One year   \n",
      "2  3668-QPYBK  2019-10-01  2019-12-01 00:00:00  Month-to-month   \n",
      "3  7795-CFOCW  2016-05-01                   No        One year   \n",
      "4  9237-HQITU  2019-09-01  2019-11-01 00:00:00  Month-to-month   \n",
      "\n",
      "  PaperlessBilling              PaymentMethod  MonthlyCharges  TotalCharges  \n",
      "0              Yes           Electronic check           29.85         29.85  \n",
      "1               No               Mailed check           56.95       1889.50  \n",
      "2              Yes               Mailed check           53.85        108.15  \n",
      "3               No  Bank transfer (automatic)           42.30       1840.75  \n",
      "4              Yes           Electronic check           70.70        151.65  \n",
      "<class 'pandas.core.frame.DataFrame'>\n",
      "RangeIndex: 7043 entries, 0 to 7042\n",
      "Data columns (total 8 columns):\n",
      " #   Column            Non-Null Count  Dtype  \n",
      "---  ------            --------------  -----  \n",
      " 0   customerID        7043 non-null   object \n",
      " 1   BeginDate         7043 non-null   object \n",
      " 2   EndDate           7043 non-null   object \n",
      " 3   Type              7043 non-null   object \n",
      " 4   PaperlessBilling  7043 non-null   object \n",
      " 5   PaymentMethod     7043 non-null   object \n",
      " 6   MonthlyCharges    7043 non-null   float64\n",
      " 7   TotalCharges      7032 non-null   float64\n",
      "dtypes: float64(2), object(6)\n",
      "memory usage: 440.3+ KB\n",
      "None\n",
      "\n",
      "Datos Personales DataFrame:\n",
      "   customerID  gender  SeniorCitizen Partner Dependents\n",
      "0  7590-VHVEG  Female              0     Yes         No\n",
      "1  5575-GNVDE    Male              0      No         No\n",
      "2  3668-QPYBK    Male              0      No         No\n",
      "3  7795-CFOCW    Male              0      No         No\n",
      "4  9237-HQITU  Female              0      No         No\n",
      "<class 'pandas.core.frame.DataFrame'>\n",
      "RangeIndex: 7043 entries, 0 to 7042\n",
      "Data columns (total 5 columns):\n",
      " #   Column         Non-Null Count  Dtype \n",
      "---  ------         --------------  ----- \n",
      " 0   customerID     7043 non-null   object\n",
      " 1   gender         7043 non-null   object\n",
      " 2   SeniorCitizen  7043 non-null   int64 \n",
      " 3   Partner        7043 non-null   object\n",
      " 4   Dependents     7043 non-null   object\n",
      "dtypes: int64(1), object(4)\n",
      "memory usage: 275.2+ KB\n",
      "None\n",
      "\n",
      "Internet DataFrame:\n",
      "   customerID InternetService OnlineSecurity OnlineBackup DeviceProtection  \\\n",
      "0  7590-VHVEG             DSL             No          Yes               No   \n",
      "1  5575-GNVDE             DSL            Yes           No              Yes   \n",
      "2  3668-QPYBK             DSL            Yes          Yes               No   \n",
      "3  7795-CFOCW             DSL            Yes           No              Yes   \n",
      "4  9237-HQITU     Fiber optic             No           No               No   \n",
      "\n",
      "  TechSupport StreamingTV StreamingMovies  \n",
      "0          No          No              No  \n",
      "1          No          No              No  \n",
      "2          No          No              No  \n",
      "3         Yes          No              No  \n",
      "4          No          No              No  \n",
      "<class 'pandas.core.frame.DataFrame'>\n",
      "RangeIndex: 5517 entries, 0 to 5516\n",
      "Data columns (total 8 columns):\n",
      " #   Column            Non-Null Count  Dtype \n",
      "---  ------            --------------  ----- \n",
      " 0   customerID        5517 non-null   object\n",
      " 1   InternetService   5517 non-null   object\n",
      " 2   OnlineSecurity    5517 non-null   object\n",
      " 3   OnlineBackup      5517 non-null   object\n",
      " 4   DeviceProtection  5517 non-null   object\n",
      " 5   TechSupport       5517 non-null   object\n",
      " 6   StreamingTV       5517 non-null   object\n",
      " 7   StreamingMovies   5517 non-null   object\n",
      "dtypes: object(8)\n",
      "memory usage: 344.9+ KB\n",
      "None\n",
      "\n",
      "Teléfono DataFrame:\n",
      "   customerID MultipleLines\n",
      "0  5575-GNVDE            No\n",
      "1  3668-QPYBK            No\n",
      "2  9237-HQITU            No\n",
      "3  9305-CDSKC           Yes\n",
      "4  1452-KIOVK           Yes\n",
      "<class 'pandas.core.frame.DataFrame'>\n",
      "RangeIndex: 6361 entries, 0 to 6360\n",
      "Data columns (total 2 columns):\n",
      " #   Column         Non-Null Count  Dtype \n",
      "---  ------         --------------  ----- \n",
      " 0   customerID     6361 non-null   object\n",
      " 1   MultipleLines  6361 non-null   object\n",
      "dtypes: object(2)\n",
      "memory usage: 99.5+ KB\n",
      "None\n"
     ]
    }
   ],
   "source": [
    "# Revisión de los primeros registros y la información de cada DataFrame\n",
    "print(\"Contrato DataFrame:\")\n",
    "print(contract_df.head())\n",
    "print(contract_df.info())\n",
    "\n",
    "print(\"\\nDatos Personales DataFrame:\")\n",
    "print(personal_df.head())\n",
    "print(personal_df.info())\n",
    "\n",
    "print(\"\\nInternet DataFrame:\")\n",
    "print(internet_df.head())\n",
    "print(internet_df.info())\n",
    "\n",
    "print(\"\\nTeléfono DataFrame:\")\n",
    "print(phone_df.head())\n",
    "print(phone_df.info())"
   ]
  },
  {
   "cell_type": "markdown",
   "id": "165a059f",
   "metadata": {},
   "source": [
    "## Tratamiento de datos"
   ]
  },
  {
   "cell_type": "code",
   "execution_count": 5,
   "id": "6f9be8ff",
   "metadata": {},
   "outputs": [
    {
     "name": "stdout",
     "output_type": "stream",
     "text": [
      "Contrato DataFrame:\n",
      " Index(['customer_i_d', 'begin_date', 'end_date', 'type', 'paperless_billing',\n",
      "       'payment_method', 'monthly_charges', 'total_charges'],\n",
      "      dtype='object')\n",
      "Datos Personales DataFrame:\n",
      " Index(['customer_i_d', 'gender', 'senior_citizen', 'partner', 'dependents'], dtype='object')\n",
      "Internet DataFrame:\n",
      " Index(['customer_i_d', 'internet_service', 'online_security', 'online_backup',\n",
      "       'device_protection', 'tech_support', 'streaming_t_v',\n",
      "       'streaming_movies'],\n",
      "      dtype='object')\n",
      "Teléfono DataFrame:\n",
      " Index(['customer_i_d', 'multiple_lines'], dtype='object')\n"
     ]
    }
   ],
   "source": [
    "# Función para convertir a snake_case\n",
    "def to_snake_case(s):\n",
    "    # Cambiar CamelCase a snake_case y convertir a minúsculas\n",
    "    # Primero, reemplazamos espacios y guiones por guiones bajos\n",
    "    s = s.replace(\" \", \"_\").replace(\"-\", \"_\")\n",
    "    # Luego, inserta guiones bajos antes de cada mayúscula que no esté al inicio\n",
    "    s = re.sub(r'(?<!^)(?=[A-Z])', '_', s)\n",
    "    return s.lower()\n",
    "\n",
    "# Aplicar a las columnas de cada DataFrame\n",
    "contract_df.columns = [to_snake_case(col) for col in contract_df.columns]\n",
    "personal_df.columns = [to_snake_case(col) for col in personal_df.columns]\n",
    "internet_df.columns = [to_snake_case(col) for col in internet_df.columns]\n",
    "phone_df.columns = [to_snake_case(col) for col in phone_df.columns]\n",
    "\n",
    "# Verificar los cambios\n",
    "print(\"Contrato DataFrame:\\n\", contract_df.columns)\n",
    "print(\"Datos Personales DataFrame:\\n\", personal_df.columns)\n",
    "print(\"Internet DataFrame:\\n\", internet_df.columns)\n",
    "print(\"Teléfono DataFrame:\\n\", phone_df.columns)\n"
   ]
  },
  {
   "cell_type": "code",
   "execution_count": 6,
   "id": "1f9b8d6a",
   "metadata": {},
   "outputs": [
    {
     "name": "stdout",
     "output_type": "stream",
     "text": [
      "Columnas en contract_df:\n",
      " Index(['customer_i_d', 'begin_date', 'end_date', 'type', 'paperless_billing',\n",
      "       'payment_method', 'monthly_charges', 'total_charges'],\n",
      "      dtype='object')\n",
      "\n",
      "Resumen de 'end_date':\n",
      "end_date\n",
      "No                     5174\n",
      "2019-11-01 00:00:00     485\n",
      "2019-12-01 00:00:00     466\n",
      "2020-01-01 00:00:00     460\n",
      "2019-10-01 00:00:00     458\n",
      "Name: count, dtype: int64\n",
      "\n",
      "Descripción de contract_df:\n",
      "       customer_i_d  begin_date end_date            type paperless_billing  \\\n",
      "count          7043        7043     7043            7043              7043   \n",
      "unique         7043          77        5               3                 2   \n",
      "top      7590-VHVEG  2014-02-01       No  Month-to-month               Yes   \n",
      "freq              1         366     5174            3875              4171   \n",
      "mean            NaN         NaN      NaN             NaN               NaN   \n",
      "std             NaN         NaN      NaN             NaN               NaN   \n",
      "min             NaN         NaN      NaN             NaN               NaN   \n",
      "25%             NaN         NaN      NaN             NaN               NaN   \n",
      "50%             NaN         NaN      NaN             NaN               NaN   \n",
      "75%             NaN         NaN      NaN             NaN               NaN   \n",
      "max             NaN         NaN      NaN             NaN               NaN   \n",
      "\n",
      "          payment_method  monthly_charges  total_charges  \n",
      "count               7043      7043.000000    7032.000000  \n",
      "unique                 4              NaN            NaN  \n",
      "top     Electronic check              NaN            NaN  \n",
      "freq                2365              NaN            NaN  \n",
      "mean                 NaN        64.761692    2283.300441  \n",
      "std                  NaN        30.090047    2266.771362  \n",
      "min                  NaN        18.250000      18.800000  \n",
      "25%                  NaN        35.500000     401.450000  \n",
      "50%                  NaN        70.350000    1397.475000  \n",
      "75%                  NaN        89.850000    3794.737500  \n",
      "max                  NaN       118.750000    8684.800000  \n"
     ]
    }
   ],
   "source": [
    "# Revisión de columnas y datos de contract_df\n",
    "print(\"Columnas en contract_df:\\n\", contract_df.columns)\n",
    "print(\"\\nResumen de 'end_date':\")\n",
    "print(contract_df['end_date'].value_counts())\n",
    "print(\"\\nDescripción de contract_df:\")\n",
    "print(contract_df.describe(include='all'))  # Incluye todas las columnas, incluso las no numéricas\n"
   ]
  },
  {
   "cell_type": "code",
   "execution_count": 7,
   "id": "5943cc47",
   "metadata": {},
   "outputs": [],
   "source": [
    "#Finalmente sustituimos el nombre de customer_i_d por customer_id\n",
    "\n",
    "contract_df = contract_df.rename(columns={\"customer_i_d\": \"customer_id\"})\n",
    "personal_df = personal_df.rename(columns={\"customer_i_d\": \"customer_id\"})\n",
    "internet_df = internet_df.rename(columns={\"customer_i_d\": \"customer_id\"})\n",
    "phone_df = phone_df.rename(columns={\"customer_i_d\": \"customer_id\"})"
   ]
  },
  {
   "cell_type": "code",
   "execution_count": 8,
   "id": "f6bb16c6",
   "metadata": {},
   "outputs": [
    {
     "name": "stdout",
     "output_type": "stream",
     "text": [
      "Index(['customer_id', 'begin_date', 'end_date', 'type', 'paperless_billing',\n",
      "       'payment_method', 'monthly_charges', 'total_charges'],\n",
      "      dtype='object')\n",
      "Index(['customer_id', 'gender', 'senior_citizen', 'partner', 'dependents'], dtype='object')\n",
      "Index(['customer_id', 'internet_service', 'online_security', 'online_backup',\n",
      "       'device_protection', 'tech_support', 'streaming_t_v',\n",
      "       'streaming_movies'],\n",
      "      dtype='object')\n",
      "Index(['customer_id', 'multiple_lines'], dtype='object')\n"
     ]
    }
   ],
   "source": [
    "print(contract_df.columns)\n",
    "print(personal_df.columns)\n",
    "print(internet_df.columns)\n",
    "print(phone_df.columns)\n"
   ]
  },
  {
   "cell_type": "code",
   "execution_count": 10,
   "id": "859ab326",
   "metadata": {},
   "outputs": [
    {
     "name": "stdout",
     "output_type": "stream",
     "text": [
      "--- contract_df ---\n",
      "\n",
      "Información del DataFrame:\n",
      "<class 'pandas.core.frame.DataFrame'>\n",
      "RangeIndex: 7043 entries, 0 to 7042\n",
      "Data columns (total 8 columns):\n",
      " #   Column             Non-Null Count  Dtype  \n",
      "---  ------             --------------  -----  \n",
      " 0   customer_id        7043 non-null   object \n",
      " 1   begin_date         7043 non-null   object \n",
      " 2   end_date           7043 non-null   object \n",
      " 3   type               7043 non-null   object \n",
      " 4   paperless_billing  7043 non-null   object \n",
      " 5   payment_method     7043 non-null   object \n",
      " 6   monthly_charges    7043 non-null   float64\n",
      " 7   total_charges      7032 non-null   float64\n",
      "dtypes: float64(2), object(6)\n",
      "memory usage: 440.3+ KB\n",
      "None\n",
      "\n",
      "Valores faltantes:\n",
      "total_charges    11\n",
      "dtype: int64\n",
      "\n",
      "Duplicados: 0\n",
      "\n",
      "Estadísticas descriptivas:\n",
      "       customer_id  begin_date end_date            type paperless_billing  \\\n",
      "count         7043        7043     7043            7043              7043   \n",
      "unique        7043          77        5               3                 2   \n",
      "top     7590-VHVEG  2014-02-01       No  Month-to-month               Yes   \n",
      "freq             1         366     5174            3875              4171   \n",
      "mean           NaN         NaN      NaN             NaN               NaN   \n",
      "std            NaN         NaN      NaN             NaN               NaN   \n",
      "min            NaN         NaN      NaN             NaN               NaN   \n",
      "25%            NaN         NaN      NaN             NaN               NaN   \n",
      "50%            NaN         NaN      NaN             NaN               NaN   \n",
      "75%            NaN         NaN      NaN             NaN               NaN   \n",
      "max            NaN         NaN      NaN             NaN               NaN   \n",
      "\n",
      "          payment_method  monthly_charges  total_charges  \n",
      "count               7043      7043.000000    7032.000000  \n",
      "unique                 4              NaN            NaN  \n",
      "top     Electronic check              NaN            NaN  \n",
      "freq                2365              NaN            NaN  \n",
      "mean                 NaN        64.761692    2283.300441  \n",
      "std                  NaN        30.090047    2266.771362  \n",
      "min                  NaN        18.250000      18.800000  \n",
      "25%                  NaN        35.500000     401.450000  \n",
      "50%                  NaN        70.350000    1397.475000  \n",
      "75%                  NaN        89.850000    3794.737500  \n",
      "max                  NaN       118.750000    8684.800000  \n",
      "\n",
      "--- Fin de análisis de calidad para contract_df ---\n",
      "\n"
     ]
    }
   ],
   "source": [
    "# Análisis de calidad para contract_df\n",
    "data_quality_check(contract_df, \"contract_df\")\n"
   ]
  },
  {
   "cell_type": "code",
   "execution_count": 11,
   "id": "55120caf",
   "metadata": {},
   "outputs": [
    {
     "name": "stdout",
     "output_type": "stream",
     "text": [
      "--- personal_df ---\n",
      "\n",
      "Información del DataFrame:\n",
      "<class 'pandas.core.frame.DataFrame'>\n",
      "RangeIndex: 7043 entries, 0 to 7042\n",
      "Data columns (total 5 columns):\n",
      " #   Column          Non-Null Count  Dtype \n",
      "---  ------          --------------  ----- \n",
      " 0   customer_id     7043 non-null   object\n",
      " 1   gender          7043 non-null   object\n",
      " 2   senior_citizen  7043 non-null   int64 \n",
      " 3   partner         7043 non-null   object\n",
      " 4   dependents      7043 non-null   object\n",
      "dtypes: int64(1), object(4)\n",
      "memory usage: 275.2+ KB\n",
      "None\n",
      "\n",
      "Valores faltantes:\n",
      "Series([], dtype: int64)\n",
      "\n",
      "Duplicados: 0\n",
      "\n",
      "Estadísticas descriptivas:\n",
      "       customer_id gender  senior_citizen partner dependents\n",
      "count         7043   7043     7043.000000    7043       7043\n",
      "unique        7043      2             NaN       2          2\n",
      "top     7590-VHVEG   Male             NaN      No         No\n",
      "freq             1   3555             NaN    3641       4933\n",
      "mean           NaN    NaN        0.162147     NaN        NaN\n",
      "std            NaN    NaN        0.368612     NaN        NaN\n",
      "min            NaN    NaN        0.000000     NaN        NaN\n",
      "25%            NaN    NaN        0.000000     NaN        NaN\n",
      "50%            NaN    NaN        0.000000     NaN        NaN\n",
      "75%            NaN    NaN        0.000000     NaN        NaN\n",
      "max            NaN    NaN        1.000000     NaN        NaN\n",
      "\n",
      "--- Fin de análisis de calidad para personal_df ---\n",
      "\n"
     ]
    }
   ],
   "source": [
    "# Análisis de calidad para personal_df\n",
    "data_quality_check(personal_df, \"personal_df\")\n"
   ]
  },
  {
   "cell_type": "code",
   "execution_count": 12,
   "id": "b253fe5a",
   "metadata": {},
   "outputs": [
    {
     "name": "stdout",
     "output_type": "stream",
     "text": [
      "--- internet_df ---\n",
      "\n",
      "Información del DataFrame:\n",
      "<class 'pandas.core.frame.DataFrame'>\n",
      "RangeIndex: 5517 entries, 0 to 5516\n",
      "Data columns (total 8 columns):\n",
      " #   Column             Non-Null Count  Dtype \n",
      "---  ------             --------------  ----- \n",
      " 0   customer_id        5517 non-null   object\n",
      " 1   internet_service   5517 non-null   object\n",
      " 2   online_security    5517 non-null   object\n",
      " 3   online_backup      5517 non-null   object\n",
      " 4   device_protection  5517 non-null   object\n",
      " 5   tech_support       5517 non-null   object\n",
      " 6   streaming_t_v      5517 non-null   object\n",
      " 7   streaming_movies   5517 non-null   object\n",
      "dtypes: object(8)\n",
      "memory usage: 344.9+ KB\n",
      "None\n",
      "\n",
      "Valores faltantes:\n",
      "Series([], dtype: int64)\n",
      "\n",
      "Duplicados: 0\n",
      "\n",
      "Estadísticas descriptivas:\n",
      "       customer_id internet_service online_security online_backup  \\\n",
      "count         5517             5517            5517          5517   \n",
      "unique        5517                2               2             2   \n",
      "top     7590-VHVEG      Fiber optic              No            No   \n",
      "freq             1             3096            3498          3088   \n",
      "\n",
      "       device_protection tech_support streaming_t_v streaming_movies  \n",
      "count               5517         5517          5517             5517  \n",
      "unique                 2            2             2                2  \n",
      "top                   No           No            No               No  \n",
      "freq                3095         3473          2810             2785  \n",
      "\n",
      "--- Fin de análisis de calidad para internet_df ---\n",
      "\n"
     ]
    }
   ],
   "source": [
    "# Análisis de calidad para internet_df\n",
    "data_quality_check(internet_df, \"internet_df\")\n"
   ]
  },
  {
   "cell_type": "code",
   "execution_count": 13,
   "id": "ec90d2e4",
   "metadata": {},
   "outputs": [
    {
     "name": "stdout",
     "output_type": "stream",
     "text": [
      "--- phone_df ---\n",
      "\n",
      "Información del DataFrame:\n",
      "<class 'pandas.core.frame.DataFrame'>\n",
      "RangeIndex: 6361 entries, 0 to 6360\n",
      "Data columns (total 2 columns):\n",
      " #   Column          Non-Null Count  Dtype \n",
      "---  ------          --------------  ----- \n",
      " 0   customer_id     6361 non-null   object\n",
      " 1   multiple_lines  6361 non-null   object\n",
      "dtypes: object(2)\n",
      "memory usage: 99.5+ KB\n",
      "None\n",
      "\n",
      "Valores faltantes:\n",
      "Series([], dtype: int64)\n",
      "\n",
      "Duplicados: 0\n",
      "\n",
      "Estadísticas descriptivas:\n",
      "       customer_id multiple_lines\n",
      "count         6361           6361\n",
      "unique        6361              2\n",
      "top     5575-GNVDE             No\n",
      "freq             1           3390\n",
      "\n",
      "--- Fin de análisis de calidad para phone_df ---\n",
      "\n"
     ]
    }
   ],
   "source": [
    "# Análisis de calidad para phone_df\n",
    "data_quality_check(phone_df, \"phone_df\")\n"
   ]
  },
  {
   "cell_type": "code",
   "execution_count": 14,
   "id": "de6a5737",
   "metadata": {},
   "outputs": [
    {
     "name": "stdout",
     "output_type": "stream",
     "text": [
      "<class 'pandas.core.frame.DataFrame'>\n",
      "RangeIndex: 7043 entries, 0 to 7042\n",
      "Data columns (total 8 columns):\n",
      " #   Column             Non-Null Count  Dtype  \n",
      "---  ------             --------------  -----  \n",
      " 0   customer_id        7043 non-null   object \n",
      " 1   begin_date         7043 non-null   object \n",
      " 2   end_date           7043 non-null   object \n",
      " 3   type               7043 non-null   object \n",
      " 4   paperless_billing  7043 non-null   object \n",
      " 5   payment_method     7043 non-null   object \n",
      " 6   monthly_charges    7043 non-null   float64\n",
      " 7   total_charges      7043 non-null   float64\n",
      "dtypes: float64(2), object(6)\n",
      "memory usage: 440.3+ KB\n",
      "None\n"
     ]
    }
   ],
   "source": [
    "\n",
    "# Manejar valores nulos en 'total_charges' (imputación )\n",
    "contract_df['total_charges'].fillna(contract_df['total_charges'].mean(), inplace=True)\n",
    "    \n",
    "\n",
    "print(contract_df.info())   \n"
   ]
  },
  {
   "cell_type": "code",
   "execution_count": 15,
   "id": "2ca5d1ad",
   "metadata": {},
   "outputs": [],
   "source": [
    "# Convertir columnas de fechas a tipo datetime\n",
    "contract_df['begin_date'] = pd.to_datetime(contract_df['begin_date'], errors='coerce')\n",
    "contract_df['end_date'] = pd.to_datetime(contract_df['end_date'].replace(\"No\", pd.NaT), errors='coerce')\n"
   ]
  },
  {
   "cell_type": "code",
   "execution_count": 16,
   "id": "02fcfb3a",
   "metadata": {},
   "outputs": [
    {
     "name": "stdout",
     "output_type": "stream",
     "text": [
      "<class 'pandas.core.frame.DataFrame'>\n",
      "RangeIndex: 7043 entries, 0 to 7042\n",
      "Data columns (total 8 columns):\n",
      " #   Column             Non-Null Count  Dtype         \n",
      "---  ------             --------------  -----         \n",
      " 0   customer_id        7043 non-null   object        \n",
      " 1   begin_date         7043 non-null   datetime64[ns]\n",
      " 2   end_date           1869 non-null   datetime64[ns]\n",
      " 3   type               7043 non-null   object        \n",
      " 4   paperless_billing  7043 non-null   object        \n",
      " 5   payment_method     7043 non-null   object        \n",
      " 6   monthly_charges    7043 non-null   float64       \n",
      " 7   total_charges      7043 non-null   float64       \n",
      "dtypes: datetime64[ns](2), float64(2), object(4)\n",
      "memory usage: 440.3+ KB\n"
     ]
    }
   ],
   "source": [
    "contract_df.info()"
   ]
  },
  {
   "cell_type": "code",
   "execution_count": 17,
   "id": "c3a59904",
   "metadata": {},
   "outputs": [],
   "source": [
    "# Calcular la duración del contrato en meses\n",
    "contract_df['contract_duration'] = (contract_df['end_date'] - contract_df['begin_date']).dt.days // 30\n"
   ]
  },
  {
   "cell_type": "code",
   "execution_count": 18,
   "id": "bcc21d44",
   "metadata": {},
   "outputs": [
    {
     "name": "stdout",
     "output_type": "stream",
     "text": [
      "0       NaN\n",
      "1       NaN\n",
      "2       2.0\n",
      "3       NaN\n",
      "4       2.0\n",
      "       ... \n",
      "7038    NaN\n",
      "7039    NaN\n",
      "7040    NaN\n",
      "7041    4.0\n",
      "7042    NaN\n",
      "Name: contract_duration, Length: 7043, dtype: float64\n"
     ]
    }
   ],
   "source": [
    "print(contract_df[\"contract_duration\"])"
   ]
  },
  {
   "cell_type": "code",
   "execution_count": 19,
   "id": "8fd72270",
   "metadata": {},
   "outputs": [
    {
     "name": "stdout",
     "output_type": "stream",
     "text": [
      "0       37.93\n",
      "1       33.00\n",
      "2        2.00\n",
      "3       43.40\n",
      "4        2.00\n",
      "        ...  \n",
      "7038    23.00\n",
      "7039    72.00\n",
      "7040    10.00\n",
      "7041     4.00\n",
      "7042    65.00\n",
      "Name: contract_duration, Length: 7043, dtype: float64\n"
     ]
    }
   ],
   "source": [
    "def impute_contract_duration_by_start_date(contract_df):\n",
    "    \n",
    "    # Calcular la duración de contratos finalizados\n",
    "    contract_df['contract_duration'] = (contract_df['end_date'] - contract_df['begin_date']).dt.days // 30\n",
    "\n",
    "    # Crear columnas de año y mes para agrupar por inicio de contrato\n",
    "    contract_df['begin_year'] = contract_df['begin_date'].dt.year\n",
    "    contract_df['begin_month'] = contract_df['begin_date'].dt.month\n",
    "\n",
    "    # Imputación: Calcular la duración representativa para cada mes y año de inicio\n",
    "    # Usaremos el percentil 95 de los contratos finalizados para cada grupo (año y mes) como referencia\n",
    "    durations_by_month = contract_df[contract_df['contract_duration'].notna()].groupby(['begin_year', 'begin_month'])['contract_duration'].quantile(0.95)\n",
    "\n",
    "    # Asignar la duración representativa a contratos activos (NaN en 'contract_duration')\n",
    "    def assign_duration(row):\n",
    "        if pd.isna(row['contract_duration']):  # Si es un contrato activo\n",
    "            return durations_by_month.get((row['begin_year'], row['begin_month']), durations_by_month.mean())  # Valor por mes o media general si falta\n",
    "        return row['contract_duration']  # Mantener el valor original si no es NaN\n",
    "\n",
    "    contract_df['contract_duration'] = contract_df.apply(assign_duration, axis=1)\n",
    "    \n",
    "    # Eliminar columnas auxiliares antes de regresar el DataFrame\n",
    "    contract_df.drop(columns=['begin_year', 'begin_month'], inplace=True)\n",
    "    \n",
    "    return contract_df\n",
    "\n",
    "# Aplicar la función de imputación\n",
    "contract_df = impute_contract_duration_by_start_date(contract_df)\n",
    "\n",
    "# Verificar el resultado\n",
    "print(contract_df['contract_duration'])\n"
   ]
  },
  {
   "cell_type": "markdown",
   "id": "f5f602f6",
   "metadata": {},
   "source": [
    "### Explicacion de los cambios"
   ]
  },
  {
   "cell_type": "markdown",
   "id": "5ae445e3",
   "metadata": {},
   "source": [
    "Agrupación por Mes y Año: Creamos las columnas begin_year y begin_month para agrupar por año y mes de inicio del contrato.\n",
    "\n",
    "Cálculo del Percentil 95 por Mes y Año: Calculamos el percentil 95 de contract_duration dentro de cada grupo (begin_year, begin_month) para contratos finalizados.\n",
    "\n",
    "Asignación Condicional: Para contratos activos, asignamos la duración del percentil 95 correspondiente a su mes y año de inicio. Si un mes/año específico no tiene contratos finalizados, usamos la media general como respaldo.\n",
    "\n",
    "Esto asegura que la duración imputada esté alineada con las tendencias de cada mes, manteniendo la coherencia en los datos para los contratos activos.\n",
    "\n",
    "Se realiza este cambio para contar con la informacion de la duracion de los contratos sin que nos queden los valores NAN de los contratos que no se han terminado.\n"
   ]
  },
  {
   "cell_type": "code",
   "execution_count": 20,
   "id": "1fc256fa",
   "metadata": {},
   "outputs": [
    {
     "name": "stdout",
     "output_type": "stream",
     "text": [
      "    end_date  is_canceled\n",
      "0        NaT            0\n",
      "1        NaT            0\n",
      "2 2019-12-01            1\n",
      "3        NaT            0\n",
      "4 2019-11-01            1\n",
      "5 2019-11-01            1\n",
      "6        NaT            0\n",
      "7        NaT            0\n",
      "8 2019-11-01            1\n",
      "9        NaT            0\n"
     ]
    }
   ],
   "source": [
    "# Crear la variable binaria 'is_canceled' basada en 'end_date'\n",
    "contract_df['is_canceled'] = contract_df['end_date'].notna().astype(int)\n",
    "\n",
    "# Verificar el resultado\n",
    "print(contract_df[['end_date', 'is_canceled']].head(10))"
   ]
  },
  {
   "cell_type": "code",
   "execution_count": 21,
   "id": "7614a2a1",
   "metadata": {},
   "outputs": [
    {
     "name": "stdout",
     "output_type": "stream",
     "text": [
      "     begin_date            end_date  is_canceled\n",
      "3874 2019-05-01 2020-01-01 00:00:00            0\n",
      "1273 2016-01-01 2020-01-01 00:00:00            0\n",
      "1093 2014-03-01 2020-01-01 00:00:00            0\n",
      "4891 2019-10-01 2020-01-01 00:00:00            0\n",
      "558  2019-03-01 2020-01-01 00:00:00            0\n",
      "875  2019-11-01 2020-01-01 00:00:00            0\n",
      "4650 2017-01-01 2019-12-11 20:24:00            0\n",
      "3466 2014-02-01 2020-01-01 00:00:00            0\n",
      "5811 2015-01-01 2019-12-22 16:48:00            0\n",
      "281  2019-04-01 2020-01-01 00:00:00            0\n"
     ]
    }
   ],
   "source": [
    "def impute_end_date_by_start_date(contract_df):\n",
    "    # Crear columnas auxiliares para el año y mes de inicio\n",
    "    contract_df['begin_year'] = contract_df['begin_date'].dt.year\n",
    "    contract_df['begin_month'] = contract_df['begin_date'].dt.month\n",
    "\n",
    "    # Imputación: Calcular una fecha de finalización representativa para cada grupo de inicio de contrato (por mes y año)\n",
    "    end_date_by_month = contract_df[contract_df['end_date'].notna()].groupby(['begin_year', 'begin_month'])['end_date'].quantile(0.95)\n",
    "\n",
    "    # Asignar la fecha de finalización representativa a contratos activos (NaT en 'end_date')\n",
    "    def assign_end_date(row):\n",
    "        if pd.isna(row['end_date']):  # Si es un contrato activo\n",
    "            return end_date_by_month.get((row['begin_year'], row['begin_month']), row['begin_date'])  # Fecha por mes o la fecha de inicio si no hay datos\n",
    "        return row['end_date']  # Mantener el valor original si no es NaT\n",
    "\n",
    "    contract_df['end_date'] = contract_df.apply(assign_end_date, axis=1)\n",
    "    \n",
    "    # Eliminar columnas auxiliares\n",
    "    contract_df.drop(columns=['begin_year', 'begin_month'], inplace=True)\n",
    "    \n",
    "    return contract_df\n",
    "\n",
    "#Imputar la columna end_date\n",
    "contract_df = impute_end_date_by_start_date(contract_df)\n",
    "\n",
    "#Verificar el resultado de la imputación\n",
    "print(contract_df[['begin_date', 'end_date', 'is_canceled']].sample(10))\n"
   ]
  },
  {
   "cell_type": "code",
   "execution_count": 22,
   "id": "60a6b585",
   "metadata": {},
   "outputs": [
    {
     "name": "stdout",
     "output_type": "stream",
     "text": [
      "<class 'pandas.core.frame.DataFrame'>\n",
      "RangeIndex: 7043 entries, 0 to 7042\n",
      "Data columns (total 22 columns):\n",
      " #   Column             Non-Null Count  Dtype         \n",
      "---  ------             --------------  -----         \n",
      " 0   customer_id        7043 non-null   object        \n",
      " 1   begin_date         7043 non-null   datetime64[ns]\n",
      " 2   end_date           7043 non-null   datetime64[ns]\n",
      " 3   type               7043 non-null   object        \n",
      " 4   paperless_billing  7043 non-null   object        \n",
      " 5   payment_method     7043 non-null   object        \n",
      " 6   monthly_charges    7043 non-null   float64       \n",
      " 7   total_charges      7043 non-null   float64       \n",
      " 8   contract_duration  7043 non-null   float64       \n",
      " 9   is_canceled        7043 non-null   int32         \n",
      " 10  gender             7043 non-null   object        \n",
      " 11  senior_citizen     7043 non-null   int64         \n",
      " 12  partner            7043 non-null   object        \n",
      " 13  dependents         7043 non-null   object        \n",
      " 14  internet_service   5517 non-null   object        \n",
      " 15  online_security    5517 non-null   object        \n",
      " 16  online_backup      5517 non-null   object        \n",
      " 17  device_protection  5517 non-null   object        \n",
      " 18  tech_support       5517 non-null   object        \n",
      " 19  streaming_t_v      5517 non-null   object        \n",
      " 20  streaming_movies   5517 non-null   object        \n",
      " 21  multiple_lines     6361 non-null   object        \n",
      "dtypes: datetime64[ns](2), float64(3), int32(1), int64(1), object(15)\n",
      "memory usage: 1.2+ MB\n",
      "None\n"
     ]
    }
   ],
   "source": [
    "# Unir los DataFrames en un solo DataFrame principal\n",
    "df_combined = contract_df.merge(personal_df, on=\"customer_id\", how=\"outer\") \\\n",
    "                         .merge(internet_df, on=\"customer_id\", how=\"outer\") \\\n",
    "                         .merge(phone_df, on=\"customer_id\", how=\"outer\")\n",
    "\n",
    "# Verificar el resultado de la unión\n",
    "print(df_combined.info())\n"
   ]
  },
  {
   "cell_type": "code",
   "execution_count": 23,
   "id": "85adb658",
   "metadata": {},
   "outputs": [
    {
     "name": "stdout",
     "output_type": "stream",
     "text": [
      "  begin_date            end_date  monthly_charges  total_charges  \\\n",
      "0 2020-01-01 2020-01-01 00:00:00            29.85          29.85   \n",
      "1 2017-04-01 2020-01-01 00:00:00            56.95        1889.50   \n",
      "2 2019-10-01 2019-12-01 00:00:00            53.85         108.15   \n",
      "3 2016-05-01 2019-12-13 09:36:00            42.30        1840.75   \n",
      "4 2019-09-01 2019-11-01 00:00:00            70.70         151.65   \n",
      "\n",
      "   contract_duration  is_canceled  senior_citizen  customer_id_0003-MKNFE  \\\n",
      "0              37.93            0               0                   False   \n",
      "1              33.00            0               0                   False   \n",
      "2               2.00            1               0                   False   \n",
      "3              43.40            0               0                   False   \n",
      "4               2.00            1               0                   False   \n",
      "\n",
      "   customer_id_0004-TLHLJ  customer_id_0011-IGKFF  ...  partner_Yes  \\\n",
      "0                   False                   False  ...         True   \n",
      "1                   False                   False  ...        False   \n",
      "2                   False                   False  ...        False   \n",
      "3                   False                   False  ...        False   \n",
      "4                   False                   False  ...        False   \n",
      "\n",
      "   dependents_Yes  internet_service_Fiber optic  online_security_Yes  \\\n",
      "0           False                         False                False   \n",
      "1           False                         False                 True   \n",
      "2           False                         False                 True   \n",
      "3           False                         False                 True   \n",
      "4           False                          True                False   \n",
      "\n",
      "   online_backup_Yes  device_protection_Yes  tech_support_Yes  \\\n",
      "0               True                  False             False   \n",
      "1              False                   True             False   \n",
      "2               True                  False             False   \n",
      "3              False                   True              True   \n",
      "4              False                  False             False   \n",
      "\n",
      "   streaming_t_v_Yes  streaming_movies_Yes  multiple_lines_Yes  \n",
      "0              False                 False               False  \n",
      "1              False                 False               False  \n",
      "2              False                 False               False  \n",
      "3              False                 False               False  \n",
      "4              False                 False               False  \n",
      "\n",
      "[5 rows x 7066 columns]\n"
     ]
    }
   ],
   "source": [
    "# Codificación de variables categóricas\n",
    "df_combined = pd.get_dummies(df_combined, drop_first=True)\n",
    "\n",
    "# Verificar el resultado de la codificación\n",
    "print(df_combined.head())"
   ]
  },
  {
   "cell_type": "markdown",
   "id": "f4d3a9df",
   "metadata": {},
   "source": [
    "# EDA"
   ]
  },
  {
   "cell_type": "code",
   "execution_count": 24,
   "id": "418a9a34",
   "metadata": {},
   "outputs": [
    {
     "name": "stdout",
     "output_type": "stream",
     "text": [
      "                          begin_date                       end_date  \\\n",
      "count                           7043                           7043   \n",
      "mean   2017-04-30 13:01:50.918642688  2019-12-17 16:07:19.994320640   \n",
      "min              2013-10-01 00:00:00            2019-10-01 00:00:00   \n",
      "25%              2015-06-01 00:00:00            2019-12-16 12:00:00   \n",
      "50%              2017-09-01 00:00:00            2020-01-01 00:00:00   \n",
      "75%              2019-04-01 00:00:00            2020-01-01 00:00:00   \n",
      "max              2020-02-01 00:00:00            2020-02-01 00:00:00   \n",
      "std                              NaN                            NaN   \n",
      "\n",
      "       monthly_charges  total_charges  contract_duration  is_canceled  \\\n",
      "count      7043.000000    7043.000000        7043.000000  7043.000000   \n",
      "mean         64.761692    2283.300441          33.013229     0.265370   \n",
      "min          18.250000      18.800000           1.000000     0.000000   \n",
      "25%          35.500000     402.225000          10.000000     0.000000   \n",
      "50%          70.350000    1400.550000          32.000000     0.000000   \n",
      "75%          89.850000    3786.600000          54.600000     1.000000   \n",
      "max         118.750000    8684.800000          73.000000     1.000000   \n",
      "std          30.090047    2265.000258          23.809978     0.441561   \n",
      "\n",
      "       senior_citizen  \n",
      "count     7043.000000  \n",
      "mean         0.162147  \n",
      "min          0.000000  \n",
      "25%          0.000000  \n",
      "50%          0.000000  \n",
      "75%          0.000000  \n",
      "max          1.000000  \n",
      "std          0.368612  \n"
     ]
    }
   ],
   "source": [
    "\n",
    "# Ver estadísticas descriptivas\n",
    "print(df_combined.describe())\n",
    "\n"
   ]
  },
  {
   "cell_type": "code",
   "execution_count": 25,
   "id": "2f87f439",
   "metadata": {},
   "outputs": [
    {
     "name": "stdout",
     "output_type": "stream",
     "text": [
      "Index(['begin_date', 'end_date', 'monthly_charges', 'total_charges',\n",
      "       'contract_duration', 'is_canceled', 'senior_citizen', 'type_One year',\n",
      "       'type_Two year', 'paperless_billing_Yes',\n",
      "       'payment_method_Credit card (automatic)',\n",
      "       'payment_method_Electronic check', 'payment_method_Mailed check',\n",
      "       'gender_Male', 'partner_Yes', 'dependents_Yes',\n",
      "       'internet_service_Fiber optic', 'online_security_Yes',\n",
      "       'online_backup_Yes', 'device_protection_Yes', 'tech_support_Yes',\n",
      "       'streaming_t_v_Yes', 'streaming_movies_Yes', 'multiple_lines_Yes'],\n",
      "      dtype='object')\n",
      "<class 'pandas.core.frame.DataFrame'>\n",
      "RangeIndex: 7043 entries, 0 to 7042\n",
      "Data columns (total 24 columns):\n",
      " #   Column                                  Non-Null Count  Dtype         \n",
      "---  ------                                  --------------  -----         \n",
      " 0   begin_date                              7043 non-null   datetime64[ns]\n",
      " 1   end_date                                7043 non-null   datetime64[ns]\n",
      " 2   monthly_charges                         7043 non-null   float64       \n",
      " 3   total_charges                           7043 non-null   float64       \n",
      " 4   contract_duration                       7043 non-null   float64       \n",
      " 5   is_canceled                             7043 non-null   int32         \n",
      " 6   senior_citizen                          7043 non-null   int64         \n",
      " 7   type_One year                           7043 non-null   bool          \n",
      " 8   type_Two year                           7043 non-null   bool          \n",
      " 9   paperless_billing_Yes                   7043 non-null   bool          \n",
      " 10  payment_method_Credit card (automatic)  7043 non-null   bool          \n",
      " 11  payment_method_Electronic check         7043 non-null   bool          \n",
      " 12  payment_method_Mailed check             7043 non-null   bool          \n",
      " 13  gender_Male                             7043 non-null   bool          \n",
      " 14  partner_Yes                             7043 non-null   bool          \n",
      " 15  dependents_Yes                          7043 non-null   bool          \n",
      " 16  internet_service_Fiber optic            7043 non-null   bool          \n",
      " 17  online_security_Yes                     7043 non-null   bool          \n",
      " 18  online_backup_Yes                       7043 non-null   bool          \n",
      " 19  device_protection_Yes                   7043 non-null   bool          \n",
      " 20  tech_support_Yes                        7043 non-null   bool          \n",
      " 21  streaming_t_v_Yes                       7043 non-null   bool          \n",
      " 22  streaming_movies_Yes                    7043 non-null   bool          \n",
      " 23  multiple_lines_Yes                      7043 non-null   bool          \n",
      "dtypes: bool(17), datetime64[ns](2), float64(3), int32(1), int64(1)\n",
      "memory usage: 474.7 KB\n",
      "None\n"
     ]
    }
   ],
   "source": [
    "# Definir las columnas a eliminar\n",
    "columns_to_drop = [col for col in df_combined.columns if 'customer_id_' in col]\n",
    "\n",
    "# Eliminar las columnas del DataFrame df_combined en el lugar\n",
    "df_combined.drop(columns=columns_to_drop, inplace=True)\n",
    "\n",
    "# Verificar si las columnas fueron eliminadas correctamente\n",
    "print(df_combined.columns)\n",
    "\n",
    "# Verifica el nuevo DataFrame\n",
    "print(df_combined.info())\n",
    "\n"
   ]
  },
  {
   "cell_type": "code",
   "execution_count": 26,
   "id": "720f4dc2",
   "metadata": {},
   "outputs": [
    {
     "data": {
      "image/png": "[encoded data removed]",
      "text/plain": [
       "<Figure size 1000x600 with 1 Axes>"
      ]
     },
     "metadata": {},
     "output_type": "display_data"
    },
    {
     "data": {
      "image/png": "[encoded data removed]",
      "text/plain": [
       "<Figure size 1000x600 with 1 Axes>"
      ]
     },
     "metadata": {},
     "output_type": "display_data"
    }
   ],
   "source": [
    "# Histograma de una variable numérica\n",
    "plt.figure(figsize=(10, 6))\n",
    "sns.histplot(df_combined['contract_duration'], bins=30, kde=True)\n",
    "plt.title('Distribución de la duración del contrato')\n",
    "plt.xlabel('Duración del contrato (meses)')\n",
    "plt.ylabel('Frecuencia')\n",
    "plt.show()\n",
    "\n",
    "# Gráfico de barras de una variable categórica\n",
    "plt.figure(figsize=(10, 6))\n",
    "sns.countplot(data=df_combined, x='is_canceled')\n",
    "plt.title('Distribución de cancelaciones')\n",
    "plt.xlabel('Cancelado (1) / No cancelado (0)')\n",
    "plt.ylabel('Frecuencia')\n",
    "plt.show()\n"
   ]
  },
  {
   "cell_type": "code",
   "execution_count": 27,
   "id": "1056efa8",
   "metadata": {},
   "outputs": [
    {
     "data": {
      "image/png": "[encoded data removed]",
      "text/plain": [
       "<Figure size 1000x600 with 2 Axes>"
      ]
     },
     "metadata": {},
     "output_type": "display_data"
    }
   ],
   "source": [
    "# Seleccionar un subconjunto de variables relevantes para ser correlacionadas\n",
    "columns_of_interest = ['monthly_charges', 'total_charges', 'contract_duration', \n",
    "                       'is_canceled']\n",
    "\n",
    "# Crear la matriz de correlación solo con estas columnas\n",
    "correlation_matrix = df_combined[columns_of_interest].corr()\n",
    "\n",
    "# Visualizar la matriz de correlación\n",
    "plt.figure(figsize=(10, 6))\n",
    "sns.heatmap(correlation_matrix, annot=True, fmt=\".2f\", cmap='coolwarm')\n",
    "plt.title('Matriz de Correlación')\n",
    "plt.show()"
   ]
  },
  {
   "cell_type": "code",
   "execution_count": 28,
   "id": "7040a0c9",
   "metadata": {},
   "outputs": [
    {
     "data": {
      "image/png": "[encoded data removed]",
      "text/plain": [
       "<Figure size 640x480 with 1 Axes>"
      ]
     },
     "metadata": {},
     "output_type": "display_data"
    }
   ],
   "source": [
    "sns.boxplot(x='is_canceled', y='contract_duration', data=df_combined)\n",
    "plt.title('Duración de contratos por cancelación')\n",
    "plt.show()\n"
   ]
  },
  {
   "cell_type": "code",
   "execution_count": 29,
   "id": "5da7f526",
   "metadata": {},
   "outputs": [
    {
     "data": {
      "image/png": "[encoded data removed]",
      "text/plain": [
       "<Figure size 1000x600 with 1 Axes>"
      ]
     },
     "metadata": {},
     "output_type": "display_data"
    }
   ],
   "source": [
    "plt.figure(figsize=(10, 6))\n",
    "sns.histplot(df_combined[df_combined['is_canceled'] == 1]['contract_duration'], color='red', kde=True, label='Cancelados')\n",
    "sns.histplot(df_combined[df_combined['is_canceled'] == 0]['contract_duration'], color='green', kde=True, label='No cancelados')\n",
    "plt.legend()\n",
    "plt.title('Distribución de duración de contratos por cancelación')\n",
    "plt.show()"
   ]
  },
  {
   "cell_type": "markdown",
   "id": "d0419c5f",
   "metadata": {},
   "source": [
    "## Analisis de EDA"
   ]
  },
  {
   "cell_type": "markdown",
   "id": "95b845da",
   "metadata": {},
   "source": [
    "1. Distribución de Cancelaciones (is_canceled):\n",
    "\n",
    "La distribución de las cancelaciones muestra un desbalance significativo, donde aproximadamente el 26% de los contratos han sido cancelados, mientras que el 74% permanecen activos.\n",
    "Dentro de los contratos cancelados, la gran mayoría ocurre al principio, con un pico notable en las primeras barras de la distribución. Esto podría indicar que una gran proporción de clientes tienden a cancelar sus contratos en los primeros meses.\n",
    "A partir de la cuarta barra, la tasa de cancelación disminuye abruptamente y se estabiliza en valores bajos (alrededor de 50), lo que sugiere que los contratos más largos tienen menos probabilidades de ser cancelados.\n",
    "Esta información podría ser útil para segmentar a los clientes en función de su antigüedad o duración del contrato, y orientar las estrategias de retención hacia los clientes en sus primeros meses de servicio.\n",
    "\n",
    "2. Distribución de Duración de Contratos (contract_duration):\n",
    "\n",
    "La duración de los contratos muestra tres picos claros:\n",
    "El primer pico, superando los 800 contratos, podría representar contratos estándar con una duración muy popular.\n",
    "El segundo pico, alrededor de los 40 meses, podría estar relacionado con contratos de mediano plazo o contratos con promociones especiales.\n",
    "El tercer pico, cerca de 70 meses, sugiere que existen contratos de largo plazo o renovaciones que siguen siendo populares.\n",
    "Entre estos picos, lo que sugiere que la mayoría de los contratos tienden a durar dentro de un rango de tiempo determinado.\n",
    "Estos patrones de duración podrían estar relacionados con las políticas comerciales de la empresa, y es importante analizarlos más a fondo para comprender si las cancelaciones son más comunes en ciertas duraciones de contrato.\n",
    "\n",
    "Relación entre Cancelación y Duración del Contrato:\n",
    "\n",
    "El análisis de la distribución de la duración de los contratos por cancelación muestra que los contratos de corta duración (con picos en las primeras barras) tienen una probabilidad mucho mayor de ser cancelados. Esto podría indicar que los clientes que no están satisfechos tienden a cancelar sus contratos temprano.\n",
    "Para los contratos más largos, especialmente aquellos cercanos al tercer pico, las cancelaciones se vuelven mucho menos frecuentes. Esto sugiere que los clientes que permanecen por períodos largos tienden a no cancelar, lo que podría ser indicativo de una mayor satisfacción o un compromiso a largo plazo con el servicio.\n",
    "\n",
    "Desbalance de Clases:\n",
    "\n",
    "El conjunto de datos muestra un gran desbalance de clases entre los contratos cancelados y no cancelados. Esto es importante para el modelado, ya que los modelos de predicción pueden tender a predecir más la clase mayoritaria (no cancelado).\n",
    "Técnicas de balanceo de clases, como el sobremuestreo de las cancelaciones o el submuestreo de los no cancelados, podrían ser útiles para abordar este desbalance y mejorar la precisión de las predicciones.\n",
    "\n",
    "Correlaciones:\n",
    "\n",
    "Hay una correlación fuerte (0.80) entre contract_duration y total_charges, lo que indica que los contratos largos tienden a generar más cargos totales. Sin embargo, la relación con is_canceled es compleja, ya que los clientes con contratos más largos pueden ser menos propensos a cancelar, pero si cancelan, tienen un impacto financiero más grande debido a los altos cargos acumulados.\n",
    "La correlación moderada (0.65) entre monthly_charges y total_charges sugiere que los cargos mensuales más altos están directamente relacionados con cargos totales más altos. Los clientes con altos cargos mensuales podrían estar más inclinados a cancelar si no perciben el valor, lo que podría ser un punto clave para estrategias de retención.\n"
   ]
  },
  {
   "cell_type": "markdown",
   "id": "783c8d36",
   "metadata": {},
   "source": [
    "# Preparacion de datos para modelado"
   ]
  },
  {
   "cell_type": "code",
   "execution_count": 30,
   "id": "573bec0d",
   "metadata": {},
   "outputs": [],
   "source": [
    "#Como no necesitamos las columnas en datetime y estas no la podemos usar en el entrenamiento\n",
    "# del modelo vamos a eliminarlas\n",
    "\n",
    "# Elimina las columnas de fechas originales\n",
    "df_combined = df_combined.drop(columns=['begin_date', 'end_date'])"
   ]
  },
  {
   "cell_type": "code",
   "execution_count": 31,
   "id": "1f88686b",
   "metadata": {},
   "outputs": [
    {
     "name": "stdout",
     "output_type": "stream",
     "text": [
      "<class 'pandas.core.frame.DataFrame'>\n",
      "RangeIndex: 7043 entries, 0 to 7042\n",
      "Data columns (total 22 columns):\n",
      " #   Column                                  Non-Null Count  Dtype  \n",
      "---  ------                                  --------------  -----  \n",
      " 0   monthly_charges                         7043 non-null   float64\n",
      " 1   total_charges                           7043 non-null   float64\n",
      " 2   contract_duration                       7043 non-null   float64\n",
      " 3   is_canceled                             7043 non-null   int32  \n",
      " 4   senior_citizen                          7043 non-null   int64  \n",
      " 5   type_One year                           7043 non-null   bool   \n",
      " 6   type_Two year                           7043 non-null   bool   \n",
      " 7   paperless_billing_Yes                   7043 non-null   bool   \n",
      " 8   payment_method_Credit card (automatic)  7043 non-null   bool   \n",
      " 9   payment_method_Electronic check         7043 non-null   bool   \n",
      " 10  payment_method_Mailed check             7043 non-null   bool   \n",
      " 11  gender_Male                             7043 non-null   bool   \n",
      " 12  partner_Yes                             7043 non-null   bool   \n",
      " 13  dependents_Yes                          7043 non-null   bool   \n",
      " 14  internet_service_Fiber optic            7043 non-null   bool   \n",
      " 15  online_security_Yes                     7043 non-null   bool   \n",
      " 16  online_backup_Yes                       7043 non-null   bool   \n",
      " 17  device_protection_Yes                   7043 non-null   bool   \n",
      " 18  tech_support_Yes                        7043 non-null   bool   \n",
      " 19  streaming_t_v_Yes                       7043 non-null   bool   \n",
      " 20  streaming_movies_Yes                    7043 non-null   bool   \n",
      " 21  multiple_lines_Yes                      7043 non-null   bool   \n",
      "dtypes: bool(17), float64(3), int32(1), int64(1)\n",
      "memory usage: 364.7 KB\n"
     ]
    }
   ],
   "source": [
    "df_combined.info()"
   ]
  },
  {
   "cell_type": "code",
   "execution_count": 32,
   "id": "26a47b46",
   "metadata": {
    "scrolled": true
   },
   "outputs": [
    {
     "name": "stdout",
     "output_type": "stream",
     "text": [
      "is_canceled\n",
      "0    0.73463\n",
      "1    0.26537\n",
      "Name: proportion, dtype: float64\n"
     ]
    }
   ],
   "source": [
    "# Verificar distribución de clases en is_canceled\n",
    "print(df_combined['is_canceled'].value_counts(normalize=True))"
   ]
  },
  {
   "cell_type": "markdown",
   "id": "5e38cb91",
   "metadata": {},
   "source": [
    "## Sobremuestreo"
   ]
  },
  {
   "cell_type": "code",
   "execution_count": 33,
   "id": "982ec920",
   "metadata": {},
   "outputs": [
    {
     "name": "stdout",
     "output_type": "stream",
     "text": [
      "Distribución original de la variable target: is_canceled\n",
      "0    5174\n",
      "1    1869\n",
      "Name: count, dtype: int64\n",
      "Distribución después del sobremuestreo: is_canceled\n",
      "0    5174\n",
      "1    5174\n",
      "Name: count, dtype: int64\n"
     ]
    }
   ],
   "source": [
    "#vamos a eliminar el desbalance de los datos para evitar sesgos en los modelos.\n",
    "\n",
    "X = df_combined.drop(columns=['is_canceled'])\n",
    "y = df_combined['is_canceled']\n",
    "\n",
    "# Inicializar el sobremuestreo\n",
    "ros = RandomOverSampler(random_state=42)\n",
    "X_resampled, y_resampled = ros.fit_resample(X, y)\n",
    "\n",
    "# Revisa las nuevas distribuciones\n",
    "print(f\"Distribución original de la variable target: {y.value_counts()}\")\n",
    "print(f\"Distribución después del sobremuestreo: {y_resampled.value_counts()}\")\n"
   ]
  },
  {
   "cell_type": "markdown",
   "id": "c92079ea",
   "metadata": {},
   "source": [
    "# Modelos predictivos"
   ]
  },
  {
   "cell_type": "code",
   "execution_count": 34,
   "id": "7934d111",
   "metadata": {
    "scrolled": true
   },
   "outputs": [],
   "source": [
    "# Definir la semilla para reproducibilidad\n",
    "RANDOM_STATE = 42\n",
    "\n",
    "# Separar variables predictoras (X) y objetivo (y)\n",
    "X = df_combined.drop(columns=['is_canceled'])\n",
    "y = df_combined['is_canceled']\n",
    "\n",
    "# Dividir en conjuntos de entrenamiento y prueba\n",
    "X_train, X_test, y_train, y_test = train_test_split(X, y, test_size=0.2, random_state=RANDOM_STATE)\n",
    "\n",
    "# Escalamiento de variables\n",
    "scaler = StandardScaler()\n",
    "X_train_scaled = scaler.fit_transform(X_train)\n",
    "X_test_scaled = scaler.transform(X_test)\n",
    "\n",
    "# Modelos a probar\n",
    "models = {\n",
    "    \"Logistic Regression\": LogisticRegression(random_state=RANDOM_STATE),\n",
    "    \"Decision Tree\": DecisionTreeClassifier(random_state=RANDOM_STATE),\n",
    "    \"Random Forest\": RandomForestClassifier(random_state=RANDOM_STATE),\n",
    "    \"Gradient Boosting\": GradientBoostingClassifier(random_state=RANDOM_STATE)\n",
    "}\n"
   ]
  },
  {
   "cell_type": "code",
   "execution_count": 35,
   "id": "8e034c84",
   "metadata": {},
   "outputs": [
    {
     "name": "stdout",
     "output_type": "stream",
     "text": [
      "Logistic Regression:\n",
      "  Datos de entrenamiento:\n",
      "    Accuracy: 0.7998\n",
      "    F1-Score: 0.5822\n",
      "    AUC-ROC: 0.8457\n",
      "  Datos de prueba:\n",
      "    Accuracy: 0.8233\n",
      "    F1-Score: 0.6386\n",
      "    AUC-ROC: 0.8672\n",
      "\n",
      "Decision Tree:\n",
      "  Datos de entrenamiento:\n",
      "    Accuracy: 1.0000\n",
      "    F1-Score: 1.0000\n",
      "    AUC-ROC: 1.0000\n",
      "  Datos de prueba:\n",
      "    Accuracy: 0.7984\n",
      "    F1-Score: 0.6162\n",
      "    AUC-ROC: 0.7385\n",
      "\n",
      "Random Forest:\n",
      "  Datos de entrenamiento:\n",
      "    Accuracy: 1.0000\n",
      "    F1-Score: 1.0000\n",
      "    AUC-ROC: 1.0000\n",
      "  Datos de prueba:\n",
      "    Accuracy: 0.8389\n",
      "    F1-Score: 0.6414\n",
      "    AUC-ROC: 0.8868\n",
      "\n",
      "Gradient Boosting:\n",
      "  Datos de entrenamiento:\n",
      "    Accuracy: 0.8546\n",
      "    F1-Score: 0.6906\n",
      "    AUC-ROC: 0.9045\n",
      "  Datos de prueba:\n",
      "    Accuracy: 0.8481\n",
      "    F1-Score: 0.6806\n",
      "    AUC-ROC: 0.9015\n",
      "\n"
     ]
    }
   ],
   "source": [
    "# Evaluar los modelos\n",
    "for name, model in models.items():\n",
    "    # Entrenar el modelo\n",
    "    model.fit(X_train_scaled, y_train)\n",
    "    \n",
    "    # Predicciones en entrenamiento y prueba\n",
    "    y_train_pred = model.predict(X_train_scaled)\n",
    "    y_test_pred = model.predict(X_test_scaled)\n",
    "    \n",
    "    # Probabilidades para AUC-ROC\n",
    "    y_train_pred_prob = model.predict_proba(X_train_scaled)[:, 1] if hasattr(model, 'predict_proba') else None\n",
    "    y_test_pred_prob = model.predict_proba(X_test_scaled)[:, 1] if hasattr(model, 'predict_proba') else None\n",
    "    \n",
    "    # Métricas para datos de entrenamiento\n",
    "    train_accuracy = accuracy_score(y_train, y_train_pred)\n",
    "    train_f1 = f1_score(y_train, y_train_pred)\n",
    "    train_auc_roc = roc_auc_score(y_train, y_train_pred_prob) if y_train_pred_prob is not None else \"N/A\"\n",
    "    \n",
    "    # Métricas para datos de prueba\n",
    "    test_accuracy = accuracy_score(y_test, y_test_pred)\n",
    "    test_f1 = f1_score(y_test, y_test_pred)\n",
    "    test_auc_roc = roc_auc_score(y_test, y_test_pred_prob) if y_test_pred_prob is not None else \"N/A\"\n",
    "    \n",
    "    # Imprimir resultados\n",
    "    print(f\"{name}:\")\n",
    "    print(f\"  Datos de entrenamiento:\")\n",
    "    print(f\"    Accuracy: {train_accuracy:.4f}\")\n",
    "    print(f\"    F1-Score: {train_f1:.4f}\")\n",
    "    print(f\"    AUC-ROC: {train_auc_roc:.4f}\" if train_auc_roc != \"N/A\" else \"    AUC-ROC: Not Available\")\n",
    "    \n",
    "    print(f\"  Datos de prueba:\")\n",
    "    print(f\"    Accuracy: {test_accuracy:.4f}\")\n",
    "    print(f\"    F1-Score: {test_f1:.4f}\")\n",
    "    print(f\"    AUC-ROC: {test_auc_roc:.4f}\" if test_auc_roc != \"N/A\" else \"    AUC-ROC: Not Available\")\n",
    "    print()\n"
   ]
  },
  {
   "cell_type": "markdown",
   "id": "d3d4666e",
   "metadata": {},
   "source": [
    "Análisis de Resultados\n",
    "\n",
    "\n",
    "Logistic Regression\n",
    "\n",
    "Accuracy: 82.33%\n",
    "F1-Score: 63.86%\n",
    "AUC-ROC: 86.72%\n",
    "Este modelo muestra un buen balance entre precisión y capacidad para distinguir entre las clases (AUC-ROC). Aunque es más simple que los modelos más complejos, el F1-Score indica que puede manejar razonablemente bien las clases desbalanceadas. Es una opción sólida como línea base para comparación.\n",
    "\n",
    "Decision Tree\n",
    "\n",
    "Accuracy: 79.84%\n",
    "F1-Score: 61.62%\n",
    "AUC-ROC: 73.85%\n",
    "Este modelo tiene una precisión aceptable, pero su AUC-ROC y F1-Score son los más bajos entre los modelos probados. Además, la precisión perfecta en los datos de entrenamiento sugiere un sobreajuste significativo, ya que no generaliza bien en el conjunto de prueba.\n",
    "\n",
    "Random Forest\n",
    "\n",
    "Accuracy: 83.89%\n",
    "F1-Score: 64.14%\n",
    "AUC-ROC: 88.68%\n",
    "Este modelo muestra un mejor balance entre entrenamiento y prueba comparado con el Decision Tree. Su mayor AUC-ROC y F1-Score en datos de prueba lo posicionan como una opción más robusta para manejar clases desbalanceadas. Sin embargo, el sobreajuste aún es evidente en los datos de entrenamiento.\n",
    "\n",
    "Gradient Boosting\n",
    "\n",
    "Accuracy: 84.81%\n",
    "F1-Score: 68.06%\n",
    "AUC-ROC: 90.15%\n",
    "Gradient Boosting es el modelo con el mejor desempeño según todas las métricas en datos de prueba. Su F1-Score más alto indica que maneja mejor las clases desbalanceadas, y su AUC-ROC refleja una capacidad superior para distinguir entre las clases. Además, no muestra sobreajuste tan extremo como otros modelos. Es el mejor candidato para su implementación final.\n"
   ]
  },
  {
   "cell_type": "code",
   "execution_count": 37,
   "id": "38934cfb",
   "metadata": {},
   "outputs": [
    {
     "name": "stdout",
     "output_type": "stream",
     "text": [
      "Fitting 5 folds for each of 10 candidates, totalling 50 fits\n",
      "[CV] END learning_rate=0.0849080237694725, max_depth=3, n_estimators=300, subsample=0.8; total time=   1.1s\n",
      "[CV] END learning_rate=0.0849080237694725, max_depth=3, n_estimators=300, subsample=0.8; total time=   1.0s\n",
      "[CV] END learning_rate=0.0849080237694725, max_depth=3, n_estimators=300, subsample=0.8; total time=   1.0s\n",
      "[CV] END learning_rate=0.0849080237694725, max_depth=3, n_estimators=300, subsample=0.8; total time=   1.0s\n",
      "[CV] END learning_rate=0.0849080237694725, max_depth=3, n_estimators=300, subsample=0.8; total time=   1.0s\n",
      "[CV] END learning_rate=0.16593820005455387, max_depth=3, n_estimators=300, subsample=1.0; total time=   1.0s\n",
      "[CV] END learning_rate=0.16593820005455387, max_depth=3, n_estimators=300, subsample=1.0; total time=   1.0s\n",
      "[CV] END learning_rate=0.16593820005455387, max_depth=3, n_estimators=300, subsample=1.0; total time=   1.0s\n",
      "[CV] END learning_rate=0.16593820005455387, max_depth=3, n_estimators=300, subsample=1.0; total time=   1.0s\n",
      "[CV] END learning_rate=0.16593820005455387, max_depth=3, n_estimators=300, subsample=1.0; total time=   1.0s\n",
      "[CV] END learning_rate=0.041198904067240534, max_depth=5, n_estimators=300, subsample=1.0; total time=   2.0s\n",
      "[CV] END learning_rate=0.041198904067240534, max_depth=5, n_estimators=300, subsample=1.0; total time=   2.0s\n",
      "[CV] END learning_rate=0.041198904067240534, max_depth=5, n_estimators=300, subsample=1.0; total time=   1.9s\n",
      "[CV] END learning_rate=0.041198904067240534, max_depth=5, n_estimators=300, subsample=1.0; total time=   2.1s\n",
      "[CV] END learning_rate=0.041198904067240534, max_depth=5, n_estimators=300, subsample=1.0; total time=   1.9s\n",
      "[CV] END learning_rate=0.07674172222780437, max_depth=5, n_estimators=200, subsample=0.8; total time=   1.2s\n",
      "[CV] END learning_rate=0.07674172222780437, max_depth=5, n_estimators=200, subsample=0.8; total time=   1.2s\n",
      "[CV] END learning_rate=0.07674172222780437, max_depth=5, n_estimators=200, subsample=0.8; total time=   1.2s\n",
      "[CV] END learning_rate=0.07674172222780437, max_depth=5, n_estimators=200, subsample=0.8; total time=   1.1s\n",
      "[CV] END learning_rate=0.07674172222780437, max_depth=5, n_estimators=200, subsample=0.8; total time=   1.2s\n",
      "[CV] END learning_rate=0.20398197043239888, max_depth=4, n_estimators=200, subsample=1.0; total time=   1.1s\n",
      "[CV] END learning_rate=0.20398197043239888, max_depth=4, n_estimators=200, subsample=1.0; total time=   1.0s\n",
      "[CV] END learning_rate=0.20398197043239888, max_depth=4, n_estimators=200, subsample=1.0; total time=   0.9s\n",
      "[CV] END learning_rate=0.20398197043239888, max_depth=4, n_estimators=200, subsample=1.0; total time=   0.9s\n",
      "[CV] END learning_rate=0.20398197043239888, max_depth=4, n_estimators=200, subsample=1.0; total time=   0.9s\n",
      "[CV] END learning_rate=0.04636499344142013, max_depth=3, n_estimators=100, subsample=1.0; total time=   0.3s\n",
      "[CV] END learning_rate=0.04636499344142013, max_depth=3, n_estimators=100, subsample=1.0; total time=   0.3s\n",
      "[CV] END learning_rate=0.04636499344142013, max_depth=3, n_estimators=100, subsample=1.0; total time=   0.3s\n",
      "[CV] END learning_rate=0.04636499344142013, max_depth=3, n_estimators=100, subsample=1.0; total time=   0.3s\n",
      "[CV] END learning_rate=0.04636499344142013, max_depth=3, n_estimators=100, subsample=1.0; total time=   0.3s\n",
      "[CV] END learning_rate=0.1323306320976562, max_depth=3, n_estimators=100, subsample=0.8; total time=   0.3s\n",
      "[CV] END learning_rate=0.1323306320976562, max_depth=3, n_estimators=100, subsample=0.8; total time=   0.3s\n",
      "[CV] END learning_rate=0.1323306320976562, max_depth=3, n_estimators=100, subsample=0.8; total time=   0.3s\n",
      "[CV] END learning_rate=0.1323306320976562, max_depth=3, n_estimators=100, subsample=0.8; total time=   0.3s\n",
      "[CV] END learning_rate=0.1323306320976562, max_depth=3, n_estimators=100, subsample=0.8; total time=   0.3s\n",
      "[CV] END learning_rate=0.11495493205167782, max_depth=5, n_estimators=200, subsample=1.0; total time=   1.4s\n",
      "[CV] END learning_rate=0.11495493205167782, max_depth=5, n_estimators=200, subsample=1.0; total time=   1.3s\n",
      "[CV] END learning_rate=0.11495493205167782, max_depth=5, n_estimators=200, subsample=1.0; total time=   1.2s\n",
      "[CV] END learning_rate=0.11495493205167782, max_depth=5, n_estimators=200, subsample=1.0; total time=   1.2s\n",
      "[CV] END learning_rate=0.11495493205167782, max_depth=5, n_estimators=200, subsample=1.0; total time=   1.4s\n",
      "[CV] END learning_rate=0.06842892970704363, max_depth=5, n_estimators=200, subsample=1.0; total time=   1.2s\n",
      "[CV] END learning_rate=0.06842892970704363, max_depth=5, n_estimators=200, subsample=1.0; total time=   1.3s\n",
      "[CV] END learning_rate=0.06842892970704363, max_depth=5, n_estimators=200, subsample=1.0; total time=   1.3s\n",
      "[CV] END learning_rate=0.06842892970704363, max_depth=5, n_estimators=200, subsample=1.0; total time=   1.2s\n",
      "[CV] END learning_rate=0.06842892970704363, max_depth=5, n_estimators=200, subsample=1.0; total time=   1.2s\n",
      "[CV] END learning_rate=0.16703519227860275, max_depth=5, n_estimators=300, subsample=1.0; total time=   1.9s\n",
      "[CV] END learning_rate=0.16703519227860275, max_depth=5, n_estimators=300, subsample=1.0; total time=   2.0s\n",
      "[CV] END learning_rate=0.16703519227860275, max_depth=5, n_estimators=300, subsample=1.0; total time=   1.9s\n",
      "[CV] END learning_rate=0.16703519227860275, max_depth=5, n_estimators=300, subsample=1.0; total time=   1.8s\n",
      "[CV] END learning_rate=0.16703519227860275, max_depth=5, n_estimators=300, subsample=1.0; total time=   1.9s\n",
      "Mejores hiperparámetros: {'learning_rate': 0.04636499344142013, 'max_depth': 3, 'n_estimators': 100, 'subsample': 1.0}\n",
      "Mejor AUC-ROC: 0.8690859076703402\n",
      "AUC-ROC en conjunto de prueba: 0.8852\n",
      "AUC-ROC en conjunto de prueba completo: 0.8936\n"
     ]
    }
   ],
   "source": [
    "# # Crear una muestra aleatoria de los datos de entrenamiento (80% de los datos originales)\n",
    "# X_train_segmented, _, y_train_segmented, _ = train_test_split(X_train_scaled, y_train, test_size=0.8, random_state=RANDOM_STATE)\n",
    "\n",
    "# # Definir el modelo base\n",
    "# gb_model = GradientBoostingClassifier(random_state=RANDOM_STATE)\n",
    "\n",
    "# # Definir el grid de hiperparámetros con distribuciones continuas y discretas\n",
    "# param_dist = {\n",
    "#     \"n_estimators\": [100, 200, 300],  # Número de árboles\n",
    "#     \"learning_rate\": uniform(0.01, 0.2),  # Tasa de aprendizaje\n",
    "#     \"max_depth\": [3, 4, 5],  # Profundidad máxima de los árboles\n",
    "#     \"subsample\": [0.8, 1.0]  # Fracción de muestras para cada árbol\n",
    "# }\n",
    "\n",
    "# # Configurar RandomizedSearchCV\n",
    "# random_search = RandomizedSearchCV(\n",
    "#     estimator=gb_model,\n",
    "#     param_distributions=param_dist,\n",
    "#     n_iter=10,  # Número de combinaciones aleatorias a probar\n",
    "#     scoring=\"roc_auc\",  # Evaluación basada en AUC-ROC\n",
    "#     cv=5,  # Validación cruzada con 3 pliegues\n",
    "#     verbose=2,  # Verbosidad para ver el progreso\n",
    "#     random_state=RANDOM_STATE,  # Semilla para reproducibilidad\n",
    "# )\n",
    "\n",
    "# # Ajustar el modelo en la muestra de datos segmentada\n",
    "# random_search.fit(X_train_segmented, y_train_segmented)\n",
    "\n",
    "# # Imprimir los mejores hiperparámetros\n",
    "# print(\"Mejores hiperparámetros:\", random_search.best_params_)\n",
    "# print(\"Mejor AUC-ROC:\", random_search.best_score_)\n",
    "\n",
    "# # Guardar el mejor modelo\n",
    "# best_gb_model_segmented = random_search.best_estimator_\n",
    "\n",
    "# # Evaluar el mejor modelo en el conjunto de prueba\n",
    "# y_pred_prob = best_gb_model_segmented.predict_proba(X_test_scaled)[:, 1]\n",
    "# auc_roc = roc_auc_score(y_test, y_pred_prob)\n",
    "# print(f\"AUC-ROC en conjunto de prueba: {auc_roc:.4f}\")\n",
    "\n",
    "# # Ahora podemos entrenar el modelo en el conjunto completo de datos con los mejores\n",
    "# # hiperparámetros.\n",
    "# # Ajustar el modelo con los mejores hiperparámetros al conjunto completo\n",
    "# best_gb_model = random_search.best_estimator_\n",
    "# best_gb_model.fit(X_train_scaled, y_train)\n",
    "\n",
    "# # Evaluar el modelo ajustado en el conjunto de prueba completo\n",
    "# y_pred_prob_full = best_gb_model.predict_proba(X_test_scaled)[:, 1]\n",
    "# auc_roc_full = roc_auc_score(y_test, y_pred_prob_full)\n",
    "# print(f\"AUC-ROC en conjunto de prueba completo: {auc_roc_full:.4f}\")\n"
   ]
  },
  {
   "cell_type": "markdown",
   "id": "0dbeb45a",
   "metadata": {},
   "source": [
    "**Conclusión del análisis y ajuste de modelos**\n",
    "\n",
    "En este proyecto, evaluamos inicialmente cuatro modelos: Logistic Regression, Decision Tree, Random Forest, y Gradient Boosting. Tras analizar su rendimiento utilizando métricas clave como AUC-ROC y F1-Score, Gradient Boosting destacó como el modelo con el mejor desempeño, especialmente por su capacidad para distinguir entre las clases de clientes que cancelarían o no sus servicios, alcanzando un AUC-ROC superior a 0.90.\n",
    "\n",
    "Con el objetivo de optimizar el rendimiento de Gradient Boosting, llevamos a cabo un ajuste fino de sus hiperparámetros utilizando RandomizedSearchCV. Sin embargo, los resultados obtenidos fueron ligeramente mas bajos que el modelo base: mientras que el modelo básico alcanzó un AUC-ROC de 0.90, el modelo ajustado a través de la búsqueda de hiperparámetros arrojó un AUC-ROC de 0.89. Este resultado sugiere que el modelo base ya estaba en su punto óptimo, y el ajuste no aportó mejoras significativas en cuanto a la métrica de AUC-ROC.\n",
    "\n",
    "Por otro lado, observamos que otros modelos, como el Decision Tree y Random Forest, mostraron un claro sobreajuste al conjunto de entrenamiento. Mientras que estos modelos alcanzaron una precisión perfecta en los datos de entrenamiento, su rendimiento en los datos de prueba fue notablemente inferior, con AUC-ROC significativamente más bajos. Este comportamiento es una indicación de que estos modelos podrían estar aprendiendo detalles específicos del conjunto de entrenamiento que no se generalizan bien a datos nuevos, lo que refuerza la necesidad de un modelo que sea robusto tanto en entrenamiento como en prueba.\n",
    "\n",
    "Gradient Boosting, en su versión base, se mostró como el modelo más equilibrado, con un buen desempeño en ambos conjuntos de datos (entrenamiento y prueba) y sin signos evidentes de sobreajuste. Esto lo convierte en la opción más eficiente y confiable, dado que ya cumplía con los requisitos del proyecto y no justificaba un ajuste adicional que resultara en un rendimiento marginalmente inferior.\n",
    "\n",
    "Finalmente, decidimos mantener el modelo Gradient Boosting sin ajustes de hiperparámetros. Este modelo no solo superó las expectativas del proyecto, sino que también ofreció una solución computacionalmente eficiente. La capacidad del modelo para identificar a los clientes con mayor probabilidad de cancelación sigue siendo una herramienta valiosa para las estrategias de retención de la empresa, y su rendimiento se mantiene estable y confiable incluso sin una optimización adicional.\n"
   ]
  },
  {
   "cell_type": "markdown",
   "id": "550226ec",
   "metadata": {},
   "source": [
    "# Conclusion Final"
   ]
  },
  {
   "cell_type": "markdown",
   "id": "c4274fb3",
   "metadata": {},
   "source": [
    "En este proyecto, me embarqué en el desafío de predecir la probabilidad de cancelación de clientes para una empresa de telecomunicaciones, utilizando un enfoque basado en modelos de aprendizaje automático. A lo largo del proceso, realicé diversas etapas clave para asegurar la eficacia y robustez del modelo final:\n",
    "\n",
    "Evaluación de Modelos: Inicialmente, evalué cuatro modelos diferentes: Regresión Logística, Árbol de Decisión, Bosque Aleatorio, y Gradient Boosting. Utilicé métricas como accuracy, AUC-ROC, y F1-Score para medir el rendimiento y determinar cuál modelo se ajustaba mejor a las necesidades del proyecto. A través de esta evaluación, se identificó que el modelo Gradient Boosting fue el más prometedor, destacando especialmente en la métrica de AUC-ROC, que superó 0.90 en el conjunto de prueba.\n",
    "\n",
    "Selección del Mejor Modelo: Tras comparar los resultados obtenidos, el modelo Gradient Boosting sobresalió como el más adecuado, con un rendimiento constante tanto en los datos de entrenamiento como en los de prueba, lo que lo hizo resistente al sobreajuste. Este modelo alcanzó un AUC-ROC de 0.9015 en el conjunto de prueba, lo que refleja una excelente capacidad para discriminar entre las clases de clientes que cancelan o no cancelan sus servicios. Además, mostró un buen balance entre precisión y capacidad de generalización, lo que lo posicionó como la mejor opción para el proyecto.\n",
    "\n",
    "Ajuste de Hiperparámetros: Aunque el siguiente paso en la metodología fue realizar un ajuste fino de los hiperparámetros del modelo Gradient Boosting mediante RandomizedSearchCV, los resultados no justificaron el esfuerzo. A pesar de la búsqueda exhaustiva de parámetros, el modelo ajustado resultó en una ligera disminución del AUC-ROC, pasando de 0.90 a 0.89. Esto demostró que el modelo base ya estaba optimizado, y el ajuste no resultó en una mejora significativa en términos de desempeño.\n",
    "\n",
    "Decisión Final: Después de evaluar los resultados y considerar el costo computacional de la optimización, se decidió mantener el modelo Gradient Boosting sin cambios en sus parámetros. Este modelo ya cumplía con los objetivos del proyecto, ofreciendo un rendimiento confiable y eficiente sin la necesidad de ajustes adicionales. Esta decisión no solo optimiza el tiempo de ejecución, sino que también mejora la eficiencia general del proceso.\n",
    "\n",
    "Impacto y Recomendaciones: El modelo final, con un AUC-ROC de 0.9015, es capaz de predecir de manera precisa las probabilidades de cancelación de los clientes. Esta capacidad es clave para las estrategias de retención de clientes de la empresa, ya que permite identificar a los clientes con mayor riesgo de cancelación y tomar medidas proactivas para mantener su fidelidad. Mi recomendación para el equipo de marketing es utilizar este modelo para diseñar campañas personalizadas de retención, centradas en los clientes con mayor probabilidad de cancelación, ofreciendo incentivos o servicios adicionales que mejoren su experiencia.\n",
    "\n",
    "En conclusión, este proyecto ha demostrado el poder de Gradient Boosting como un modelo robusto y eficiente para la predicción de cancelación de clientes en el sector de telecomunicaciones. El modelo final se ha mostrado eficaz, equilibrado y capaz de adaptarse a las necesidades del negocio, brindando un alto nivel de precisión predictiva con un bajo costo computacional. Este enfoque no solo ofrece resultados sólidos en la actualidad, sino que también es escalable, permitiendo ajustes futuros conforme surjan nuevos datos o cambien los patrones de comportamiento de los clientes.\n"
   ]
  }
 ],
 "metadata": {
  "ExecuteTimeLog": [
   {
    "duration": 21,
    "start_time": "2024-11-19T16:46:29.974Z"
   },
   {
    "duration": 2983,
    "start_time": "2024-11-20T16:25:00.388Z"
   },
   {
    "duration": 0,
    "start_time": "2024-11-20T16:25:03.374Z"
   },
   {
    "duration": 0,
    "start_time": "2024-11-20T16:25:03.378Z"
   },
   {
    "duration": 0,
    "start_time": "2024-11-20T16:25:03.379Z"
   },
   {
    "duration": 1,
    "start_time": "2024-11-20T16:25:03.380Z"
   },
   {
    "duration": 0,
    "start_time": "2024-11-20T16:25:03.382Z"
   },
   {
    "duration": 0,
    "start_time": "2024-11-20T16:25:03.384Z"
   },
   {
    "duration": 0,
    "start_time": "2024-11-20T16:25:03.385Z"
   },
   {
    "duration": 0,
    "start_time": "2024-11-20T16:25:03.386Z"
   },
   {
    "duration": 0,
    "start_time": "2024-11-20T16:25:03.388Z"
   },
   {
    "duration": 0,
    "start_time": "2024-11-20T16:25:03.389Z"
   },
   {
    "duration": 1,
    "start_time": "2024-11-20T16:25:03.390Z"
   },
   {
    "duration": 0,
    "start_time": "2024-11-20T16:25:03.392Z"
   },
   {
    "duration": 0,
    "start_time": "2024-11-20T16:25:03.394Z"
   },
   {
    "duration": 0,
    "start_time": "2024-11-20T16:25:03.395Z"
   },
   {
    "duration": 0,
    "start_time": "2024-11-20T16:25:03.397Z"
   },
   {
    "duration": 0,
    "start_time": "2024-11-20T16:25:03.398Z"
   },
   {
    "duration": 0,
    "start_time": "2024-11-20T16:25:03.399Z"
   },
   {
    "duration": 0,
    "start_time": "2024-11-20T16:25:03.401Z"
   },
   {
    "duration": 0,
    "start_time": "2024-11-20T16:25:03.403Z"
   },
   {
    "duration": 0,
    "start_time": "2024-11-20T16:25:03.404Z"
   },
   {
    "duration": 0,
    "start_time": "2024-11-20T16:25:03.405Z"
   },
   {
    "duration": 0,
    "start_time": "2024-11-20T16:25:03.406Z"
   },
   {
    "duration": 0,
    "start_time": "2024-11-20T16:25:03.408Z"
   },
   {
    "duration": 0,
    "start_time": "2024-11-20T16:25:03.409Z"
   },
   {
    "duration": 0,
    "start_time": "2024-11-20T16:25:03.411Z"
   },
   {
    "duration": 0,
    "start_time": "2024-11-20T16:25:03.411Z"
   },
   {
    "duration": 0,
    "start_time": "2024-11-20T16:25:03.413Z"
   },
   {
    "duration": 0,
    "start_time": "2024-11-20T16:25:03.414Z"
   },
   {
    "duration": 0,
    "start_time": "2024-11-20T16:25:03.470Z"
   },
   {
    "duration": 0,
    "start_time": "2024-11-20T16:25:03.472Z"
   },
   {
    "duration": 0,
    "start_time": "2024-11-20T16:25:03.473Z"
   },
   {
    "duration": 0,
    "start_time": "2024-11-20T16:25:03.475Z"
   },
   {
    "duration": 0,
    "start_time": "2024-11-20T16:25:03.477Z"
   },
   {
    "duration": 0,
    "start_time": "2024-11-20T16:25:03.479Z"
   },
   {
    "duration": 0,
    "start_time": "2024-11-20T16:25:03.480Z"
   }
  ],
  "kernelspec": {
   "display_name": "Python 3 (ipykernel)",
   "language": "python",
   "name": "python3"
  },
  "language_info": {
   "codemirror_mode": {
    "name": "ipython",
    "version": 3
   },
   "file_extension": ".py",
   "mimetype": "text/x-python",
   "name": "python",
   "nbconvert_exporter": "python",
   "pygments_lexer": "ipython3",
   "version": "3.11.5"
  },
  "toc": {
   "base_numbering": 1,
   "nav_menu": {},
   "number_sections": true,
   "sideBar": true,
   "skip_h1_title": true,
   "title_cell": "Table of Contents",
   "title_sidebar": "Contents",
   "toc_cell": false,
   "toc_position": {},
   "toc_section_display": true,
   "toc_window_display": false
  }
 },
 "nbformat": 4,
 "nbformat_minor": 5
}
