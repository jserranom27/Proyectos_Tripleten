{
 "cells": [
  {
   "cell_type": "markdown",
   "metadata": {
    "id": "3rYiDeEH0q0f"
   },
   "source": [
    "# ¿Cuál es la mejor tarifa?\n",
    "\n",
    "Trabajas como analista para el operador de telecomunicaciones Megaline. La empresa ofrece a sus clientes dos tarifas de prepago, Surf y Ultimate. El departamento comercial quiere saber cuál de las tarifas genera más ingresos para poder ajustar el presupuesto de publicidad.\n",
    "\n",
    "Vas a realizar un análisis preliminar de las tarifas basado en una selección de clientes relativamente pequeña. Tendrás los datos de 500 clientes de Megaline: quiénes son los clientes, de dónde son, qué tarifa usan, así como la cantidad de llamadas que hicieron y los mensajes de texto que enviaron en 2018. Tu trabajo es analizar el comportamiento de los clientes y determinar qué tarifa de prepago genera más ingresos."
   ]
  },
  {
   "cell_type": "markdown",
   "metadata": {
    "id": "MQi4IPy70q0y"
   },
   "source": [
    "## Inicialización"
   ]
  },
  {
   "cell_type": "code",
   "execution_count": 1,
   "metadata": {
    "id": "MtYIuBxu0q0z"
   },
   "outputs": [],
   "source": [
    "# Cargar todas las librerías\n",
    "import pandas as pd\n",
    "import matplotlib.pyplot as plt\n",
    "import numpy as np\n",
    "from scipy import stats as st\n",
    "import seaborn as sns\n",
    "\n"
   ]
  },
  {
   "cell_type": "markdown",
   "metadata": {
    "id": "4ysWWC5i0q00"
   },
   "source": [
    "## Cargar datos"
   ]
  },
  {
   "cell_type": "code",
   "execution_count": 2,
   "metadata": {
    "id": "CCqPW7rS0q01"
   },
   "outputs": [
    {
     "ename": "FileNotFoundError",
     "evalue": "[Errno 2] No such file or directory: '/datasets/megaline_calls.csv'",
     "output_type": "error",
     "traceback": [
      "\u001b[1;31m---------------------------------------------------------------------------\u001b[0m",
      "\u001b[1;31mFileNotFoundError\u001b[0m                         Traceback (most recent call last)",
      "Cell \u001b[1;32mIn[2], line 2\u001b[0m\n\u001b[0;32m      1\u001b[0m \u001b[38;5;66;03m# Carga los archivos de datos en diferentes DataFrames\u001b[39;00m\n\u001b[1;32m----> 2\u001b[0m megaline_calls \u001b[38;5;241m=\u001b[39m \u001b[43mpd\u001b[49m\u001b[38;5;241;43m.\u001b[39;49m\u001b[43mread_csv\u001b[49m\u001b[43m(\u001b[49m\u001b[38;5;124;43m\"\u001b[39;49m\u001b[38;5;124;43m/datasets/megaline_calls.csv\u001b[39;49m\u001b[38;5;124;43m\"\u001b[39;49m\u001b[43m)\u001b[49m\n\u001b[0;32m      3\u001b[0m megaline_internet \u001b[38;5;241m=\u001b[39m pd\u001b[38;5;241m.\u001b[39mread_csv(\u001b[38;5;124m\"\u001b[39m\u001b[38;5;124m/datasets/megaline_internet.csv\u001b[39m\u001b[38;5;124m\"\u001b[39m)\n\u001b[0;32m      4\u001b[0m megaline_messages \u001b[38;5;241m=\u001b[39m pd\u001b[38;5;241m.\u001b[39mread_csv(\u001b[38;5;124m\"\u001b[39m\u001b[38;5;124m/datasets/megaline_messages.csv\u001b[39m\u001b[38;5;124m\"\u001b[39m)\n",
      "File \u001b[1;32m~\\anaconda3\\Lib\\site-packages\\pandas\\io\\parsers\\readers.py:912\u001b[0m, in \u001b[0;36mread_csv\u001b[1;34m(filepath_or_buffer, sep, delimiter, header, names, index_col, usecols, dtype, engine, converters, true_values, false_values, skipinitialspace, skiprows, skipfooter, nrows, na_values, keep_default_na, na_filter, verbose, skip_blank_lines, parse_dates, infer_datetime_format, keep_date_col, date_parser, date_format, dayfirst, cache_dates, iterator, chunksize, compression, thousands, decimal, lineterminator, quotechar, quoting, doublequote, escapechar, comment, encoding, encoding_errors, dialect, on_bad_lines, delim_whitespace, low_memory, memory_map, float_precision, storage_options, dtype_backend)\u001b[0m\n\u001b[0;32m    899\u001b[0m kwds_defaults \u001b[38;5;241m=\u001b[39m _refine_defaults_read(\n\u001b[0;32m    900\u001b[0m     dialect,\n\u001b[0;32m    901\u001b[0m     delimiter,\n\u001b[1;32m   (...)\u001b[0m\n\u001b[0;32m    908\u001b[0m     dtype_backend\u001b[38;5;241m=\u001b[39mdtype_backend,\n\u001b[0;32m    909\u001b[0m )\n\u001b[0;32m    910\u001b[0m kwds\u001b[38;5;241m.\u001b[39mupdate(kwds_defaults)\n\u001b[1;32m--> 912\u001b[0m \u001b[38;5;28;01mreturn\u001b[39;00m \u001b[43m_read\u001b[49m\u001b[43m(\u001b[49m\u001b[43mfilepath_or_buffer\u001b[49m\u001b[43m,\u001b[49m\u001b[43m \u001b[49m\u001b[43mkwds\u001b[49m\u001b[43m)\u001b[49m\n",
      "File \u001b[1;32m~\\anaconda3\\Lib\\site-packages\\pandas\\io\\parsers\\readers.py:577\u001b[0m, in \u001b[0;36m_read\u001b[1;34m(filepath_or_buffer, kwds)\u001b[0m\n\u001b[0;32m    574\u001b[0m _validate_names(kwds\u001b[38;5;241m.\u001b[39mget(\u001b[38;5;124m\"\u001b[39m\u001b[38;5;124mnames\u001b[39m\u001b[38;5;124m\"\u001b[39m, \u001b[38;5;28;01mNone\u001b[39;00m))\n\u001b[0;32m    576\u001b[0m \u001b[38;5;66;03m# Create the parser.\u001b[39;00m\n\u001b[1;32m--> 577\u001b[0m parser \u001b[38;5;241m=\u001b[39m \u001b[43mTextFileReader\u001b[49m\u001b[43m(\u001b[49m\u001b[43mfilepath_or_buffer\u001b[49m\u001b[43m,\u001b[49m\u001b[43m \u001b[49m\u001b[38;5;241;43m*\u001b[39;49m\u001b[38;5;241;43m*\u001b[39;49m\u001b[43mkwds\u001b[49m\u001b[43m)\u001b[49m\n\u001b[0;32m    579\u001b[0m \u001b[38;5;28;01mif\u001b[39;00m chunksize \u001b[38;5;129;01mor\u001b[39;00m iterator:\n\u001b[0;32m    580\u001b[0m     \u001b[38;5;28;01mreturn\u001b[39;00m parser\n",
      "File \u001b[1;32m~\\anaconda3\\Lib\\site-packages\\pandas\\io\\parsers\\readers.py:1407\u001b[0m, in \u001b[0;36mTextFileReader.__init__\u001b[1;34m(self, f, engine, **kwds)\u001b[0m\n\u001b[0;32m   1404\u001b[0m     \u001b[38;5;28mself\u001b[39m\u001b[38;5;241m.\u001b[39moptions[\u001b[38;5;124m\"\u001b[39m\u001b[38;5;124mhas_index_names\u001b[39m\u001b[38;5;124m\"\u001b[39m] \u001b[38;5;241m=\u001b[39m kwds[\u001b[38;5;124m\"\u001b[39m\u001b[38;5;124mhas_index_names\u001b[39m\u001b[38;5;124m\"\u001b[39m]\n\u001b[0;32m   1406\u001b[0m \u001b[38;5;28mself\u001b[39m\u001b[38;5;241m.\u001b[39mhandles: IOHandles \u001b[38;5;241m|\u001b[39m \u001b[38;5;28;01mNone\u001b[39;00m \u001b[38;5;241m=\u001b[39m \u001b[38;5;28;01mNone\u001b[39;00m\n\u001b[1;32m-> 1407\u001b[0m \u001b[38;5;28mself\u001b[39m\u001b[38;5;241m.\u001b[39m_engine \u001b[38;5;241m=\u001b[39m \u001b[38;5;28;43mself\u001b[39;49m\u001b[38;5;241;43m.\u001b[39;49m\u001b[43m_make_engine\u001b[49m\u001b[43m(\u001b[49m\u001b[43mf\u001b[49m\u001b[43m,\u001b[49m\u001b[43m \u001b[49m\u001b[38;5;28;43mself\u001b[39;49m\u001b[38;5;241;43m.\u001b[39;49m\u001b[43mengine\u001b[49m\u001b[43m)\u001b[49m\n",
      "File \u001b[1;32m~\\anaconda3\\Lib\\site-packages\\pandas\\io\\parsers\\readers.py:1661\u001b[0m, in \u001b[0;36mTextFileReader._make_engine\u001b[1;34m(self, f, engine)\u001b[0m\n\u001b[0;32m   1659\u001b[0m     \u001b[38;5;28;01mif\u001b[39;00m \u001b[38;5;124m\"\u001b[39m\u001b[38;5;124mb\u001b[39m\u001b[38;5;124m\"\u001b[39m \u001b[38;5;129;01mnot\u001b[39;00m \u001b[38;5;129;01min\u001b[39;00m mode:\n\u001b[0;32m   1660\u001b[0m         mode \u001b[38;5;241m+\u001b[39m\u001b[38;5;241m=\u001b[39m \u001b[38;5;124m\"\u001b[39m\u001b[38;5;124mb\u001b[39m\u001b[38;5;124m\"\u001b[39m\n\u001b[1;32m-> 1661\u001b[0m \u001b[38;5;28mself\u001b[39m\u001b[38;5;241m.\u001b[39mhandles \u001b[38;5;241m=\u001b[39m \u001b[43mget_handle\u001b[49m\u001b[43m(\u001b[49m\n\u001b[0;32m   1662\u001b[0m \u001b[43m    \u001b[49m\u001b[43mf\u001b[49m\u001b[43m,\u001b[49m\n\u001b[0;32m   1663\u001b[0m \u001b[43m    \u001b[49m\u001b[43mmode\u001b[49m\u001b[43m,\u001b[49m\n\u001b[0;32m   1664\u001b[0m \u001b[43m    \u001b[49m\u001b[43mencoding\u001b[49m\u001b[38;5;241;43m=\u001b[39;49m\u001b[38;5;28;43mself\u001b[39;49m\u001b[38;5;241;43m.\u001b[39;49m\u001b[43moptions\u001b[49m\u001b[38;5;241;43m.\u001b[39;49m\u001b[43mget\u001b[49m\u001b[43m(\u001b[49m\u001b[38;5;124;43m\"\u001b[39;49m\u001b[38;5;124;43mencoding\u001b[39;49m\u001b[38;5;124;43m\"\u001b[39;49m\u001b[43m,\u001b[49m\u001b[43m \u001b[49m\u001b[38;5;28;43;01mNone\u001b[39;49;00m\u001b[43m)\u001b[49m\u001b[43m,\u001b[49m\n\u001b[0;32m   1665\u001b[0m \u001b[43m    \u001b[49m\u001b[43mcompression\u001b[49m\u001b[38;5;241;43m=\u001b[39;49m\u001b[38;5;28;43mself\u001b[39;49m\u001b[38;5;241;43m.\u001b[39;49m\u001b[43moptions\u001b[49m\u001b[38;5;241;43m.\u001b[39;49m\u001b[43mget\u001b[49m\u001b[43m(\u001b[49m\u001b[38;5;124;43m\"\u001b[39;49m\u001b[38;5;124;43mcompression\u001b[39;49m\u001b[38;5;124;43m\"\u001b[39;49m\u001b[43m,\u001b[49m\u001b[43m \u001b[49m\u001b[38;5;28;43;01mNone\u001b[39;49;00m\u001b[43m)\u001b[49m\u001b[43m,\u001b[49m\n\u001b[0;32m   1666\u001b[0m \u001b[43m    \u001b[49m\u001b[43mmemory_map\u001b[49m\u001b[38;5;241;43m=\u001b[39;49m\u001b[38;5;28;43mself\u001b[39;49m\u001b[38;5;241;43m.\u001b[39;49m\u001b[43moptions\u001b[49m\u001b[38;5;241;43m.\u001b[39;49m\u001b[43mget\u001b[49m\u001b[43m(\u001b[49m\u001b[38;5;124;43m\"\u001b[39;49m\u001b[38;5;124;43mmemory_map\u001b[39;49m\u001b[38;5;124;43m\"\u001b[39;49m\u001b[43m,\u001b[49m\u001b[43m \u001b[49m\u001b[38;5;28;43;01mFalse\u001b[39;49;00m\u001b[43m)\u001b[49m\u001b[43m,\u001b[49m\n\u001b[0;32m   1667\u001b[0m \u001b[43m    \u001b[49m\u001b[43mis_text\u001b[49m\u001b[38;5;241;43m=\u001b[39;49m\u001b[43mis_text\u001b[49m\u001b[43m,\u001b[49m\n\u001b[0;32m   1668\u001b[0m \u001b[43m    \u001b[49m\u001b[43merrors\u001b[49m\u001b[38;5;241;43m=\u001b[39;49m\u001b[38;5;28;43mself\u001b[39;49m\u001b[38;5;241;43m.\u001b[39;49m\u001b[43moptions\u001b[49m\u001b[38;5;241;43m.\u001b[39;49m\u001b[43mget\u001b[49m\u001b[43m(\u001b[49m\u001b[38;5;124;43m\"\u001b[39;49m\u001b[38;5;124;43mencoding_errors\u001b[39;49m\u001b[38;5;124;43m\"\u001b[39;49m\u001b[43m,\u001b[49m\u001b[43m \u001b[49m\u001b[38;5;124;43m\"\u001b[39;49m\u001b[38;5;124;43mstrict\u001b[39;49m\u001b[38;5;124;43m\"\u001b[39;49m\u001b[43m)\u001b[49m\u001b[43m,\u001b[49m\n\u001b[0;32m   1669\u001b[0m \u001b[43m    \u001b[49m\u001b[43mstorage_options\u001b[49m\u001b[38;5;241;43m=\u001b[39;49m\u001b[38;5;28;43mself\u001b[39;49m\u001b[38;5;241;43m.\u001b[39;49m\u001b[43moptions\u001b[49m\u001b[38;5;241;43m.\u001b[39;49m\u001b[43mget\u001b[49m\u001b[43m(\u001b[49m\u001b[38;5;124;43m\"\u001b[39;49m\u001b[38;5;124;43mstorage_options\u001b[39;49m\u001b[38;5;124;43m\"\u001b[39;49m\u001b[43m,\u001b[49m\u001b[43m \u001b[49m\u001b[38;5;28;43;01mNone\u001b[39;49;00m\u001b[43m)\u001b[49m\u001b[43m,\u001b[49m\n\u001b[0;32m   1670\u001b[0m \u001b[43m\u001b[49m\u001b[43m)\u001b[49m\n\u001b[0;32m   1671\u001b[0m \u001b[38;5;28;01massert\u001b[39;00m \u001b[38;5;28mself\u001b[39m\u001b[38;5;241m.\u001b[39mhandles \u001b[38;5;129;01mis\u001b[39;00m \u001b[38;5;129;01mnot\u001b[39;00m \u001b[38;5;28;01mNone\u001b[39;00m\n\u001b[0;32m   1672\u001b[0m f \u001b[38;5;241m=\u001b[39m \u001b[38;5;28mself\u001b[39m\u001b[38;5;241m.\u001b[39mhandles\u001b[38;5;241m.\u001b[39mhandle\n",
      "File \u001b[1;32m~\\anaconda3\\Lib\\site-packages\\pandas\\io\\common.py:859\u001b[0m, in \u001b[0;36mget_handle\u001b[1;34m(path_or_buf, mode, encoding, compression, memory_map, is_text, errors, storage_options)\u001b[0m\n\u001b[0;32m    854\u001b[0m \u001b[38;5;28;01melif\u001b[39;00m \u001b[38;5;28misinstance\u001b[39m(handle, \u001b[38;5;28mstr\u001b[39m):\n\u001b[0;32m    855\u001b[0m     \u001b[38;5;66;03m# Check whether the filename is to be opened in binary mode.\u001b[39;00m\n\u001b[0;32m    856\u001b[0m     \u001b[38;5;66;03m# Binary mode does not support 'encoding' and 'newline'.\u001b[39;00m\n\u001b[0;32m    857\u001b[0m     \u001b[38;5;28;01mif\u001b[39;00m ioargs\u001b[38;5;241m.\u001b[39mencoding \u001b[38;5;129;01mand\u001b[39;00m \u001b[38;5;124m\"\u001b[39m\u001b[38;5;124mb\u001b[39m\u001b[38;5;124m\"\u001b[39m \u001b[38;5;129;01mnot\u001b[39;00m \u001b[38;5;129;01min\u001b[39;00m ioargs\u001b[38;5;241m.\u001b[39mmode:\n\u001b[0;32m    858\u001b[0m         \u001b[38;5;66;03m# Encoding\u001b[39;00m\n\u001b[1;32m--> 859\u001b[0m         handle \u001b[38;5;241m=\u001b[39m \u001b[38;5;28;43mopen\u001b[39;49m\u001b[43m(\u001b[49m\n\u001b[0;32m    860\u001b[0m \u001b[43m            \u001b[49m\u001b[43mhandle\u001b[49m\u001b[43m,\u001b[49m\n\u001b[0;32m    861\u001b[0m \u001b[43m            \u001b[49m\u001b[43mioargs\u001b[49m\u001b[38;5;241;43m.\u001b[39;49m\u001b[43mmode\u001b[49m\u001b[43m,\u001b[49m\n\u001b[0;32m    862\u001b[0m \u001b[43m            \u001b[49m\u001b[43mencoding\u001b[49m\u001b[38;5;241;43m=\u001b[39;49m\u001b[43mioargs\u001b[49m\u001b[38;5;241;43m.\u001b[39;49m\u001b[43mencoding\u001b[49m\u001b[43m,\u001b[49m\n\u001b[0;32m    863\u001b[0m \u001b[43m            \u001b[49m\u001b[43merrors\u001b[49m\u001b[38;5;241;43m=\u001b[39;49m\u001b[43merrors\u001b[49m\u001b[43m,\u001b[49m\n\u001b[0;32m    864\u001b[0m \u001b[43m            \u001b[49m\u001b[43mnewline\u001b[49m\u001b[38;5;241;43m=\u001b[39;49m\u001b[38;5;124;43m\"\u001b[39;49m\u001b[38;5;124;43m\"\u001b[39;49m\u001b[43m,\u001b[49m\n\u001b[0;32m    865\u001b[0m \u001b[43m        \u001b[49m\u001b[43m)\u001b[49m\n\u001b[0;32m    866\u001b[0m     \u001b[38;5;28;01melse\u001b[39;00m:\n\u001b[0;32m    867\u001b[0m         \u001b[38;5;66;03m# Binary mode\u001b[39;00m\n\u001b[0;32m    868\u001b[0m         handle \u001b[38;5;241m=\u001b[39m \u001b[38;5;28mopen\u001b[39m(handle, ioargs\u001b[38;5;241m.\u001b[39mmode)\n",
      "\u001b[1;31mFileNotFoundError\u001b[0m: [Errno 2] No such file or directory: '/datasets/megaline_calls.csv'"
     ]
    }
   ],
   "source": [
    "# Carga los archivos de datos en diferentes DataFrames\n",
    "megaline_calls = pd.read_csv(\"/datasets/megaline_calls.csv\")\n",
    "megaline_internet = pd.read_csv(\"/datasets/megaline_internet.csv\")\n",
    "megaline_messages = pd.read_csv(\"/datasets/megaline_messages.csv\")\n",
    "megaline_plans = pd.read_csv(\"/datasets/megaline_plans.csv\")\n",
    "megaline_users = pd.read_csv(\"/datasets/megaline_users.csv\")\n",
    "\n",
    "\n"
   ]
  },
  {
   "cell_type": "markdown",
   "metadata": {
    "id": "69qqoJ3r0q01"
   },
   "source": [
    "## Preparar los datos"
   ]
  },
  {
   "cell_type": "markdown",
   "metadata": {
    "id": "vUuZw80S0q01"
   },
   "source": [
    "\n"
   ]
  },
  {
   "cell_type": "code",
   "execution_count": null,
   "metadata": {},
   "outputs": [],
   "source": [
    "#En este espacio vamos a verificar si el dataset de tarifas tiene valores duplicados o ausentes\n",
    "print(megaline_plans.duplicated().sum())\n",
    "print(megaline_plans.isna().sum())"
   ]
  },
  {
   "cell_type": "code",
   "execution_count": null,
   "metadata": {},
   "outputs": [],
   "source": [
    "#verificar si el dataset de tarifas tiene valores duplicados o ausentes\n",
    "print(megaline_users.duplicated().sum())\n",
    "print(megaline_users.isna().sum())\n",
    "print(megaline_users.nunique())\n",
    "print(megaline_users[\"city\"].unique())"
   ]
  },
  {
   "cell_type": "markdown",
   "metadata": {
    "id": "ohBhimvH0q01"
   },
   "source": [
    "## Tarifas"
   ]
  },
  {
   "cell_type": "code",
   "execution_count": null,
   "metadata": {
    "id": "GptqP3Q40q02"
   },
   "outputs": [],
   "source": [
    "# Imprime la información general/resumida sobre el DataFrame de las tarifas\n",
    "megaline_plans.info()\n"
   ]
  },
  {
   "cell_type": "code",
   "execution_count": null,
   "metadata": {
    "id": "64xzjwL70q02"
   },
   "outputs": [],
   "source": [
    "# Imprime una muestra de los datos para las tarifas\n",
    "print(megaline_plans.head())\n"
   ]
  },
  {
   "cell_type": "markdown",
   "metadata": {
    "id": "mEc_3_hs0q02"
   },
   "source": [
    "\n",
    "\n",
    "\n",
    "Hasta el momento no veo datos no adecuados, ausentes o duplicados."
   ]
  },
  {
   "cell_type": "markdown",
   "metadata": {
    "id": "1n2X6WXf0q04"
   },
   "source": [
    "## Usuarios/as"
   ]
  },
  {
   "cell_type": "code",
   "execution_count": null,
   "metadata": {
    "id": "2NgjWFqx0q05"
   },
   "outputs": [],
   "source": [
    "# Imprime la información general/resumida sobre el DataFrame de usuarios\n",
    "megaline_users.info()\n"
   ]
  },
  {
   "cell_type": "code",
   "execution_count": null,
   "metadata": {
    "id": "1IN1L9uh0q05"
   },
   "outputs": [],
   "source": [
    "# Imprime una muestra de datos para usuarios\n",
    "megaline_users.sample(40)\n"
   ]
  },
  {
   "cell_type": "markdown",
   "metadata": {
    "id": "dCZoUq4f0q06"
   },
   "source": [
    "\n",
    "En el primer momento que vi esta pregunta no tenia mucho que agragar ya que no sabia que tenia que hacer con los datos, a lo largo del proyecto necesite crear columnas nuevas con nuevas informaciones para poder hacer los analisis respectivos."
   ]
  },
  {
   "cell_type": "markdown",
   "metadata": {
    "id": "BX5FQh_I0q06"
   },
   "source": [
    "### Corregir los datos"
   ]
  },
  {
   "cell_type": "code",
   "execution_count": null,
   "metadata": {
    "id": "yUqX-K0C0q07"
   },
   "outputs": [],
   "source": [
    "#Vamos a verificar que todas se escriban de la misma manera\n",
    "megaline_users[\"city\"] = megaline_users[\"city\"].str.title()\n",
    "#luego verificamos si cambiaron los valores unicos\n",
    "print(megaline_users.nunique())\n",
    "megaline_users[\"city\"]"
   ]
  },
  {
   "cell_type": "markdown",
   "metadata": {
    "id": "ycwuARJp0q07"
   },
   "source": [
    "### Enriquecer los datos"
   ]
  },
  {
   "cell_type": "markdown",
   "metadata": {
    "id": "iq0AaBS90q08"
   },
   "source": [
    "En este dataset hemos encontrado una cantidad importante de valores ausentes, en la misma columna vemos que tenemos fechas que no estan en tipo datetime, sin embargo hasta este punto no voy a modificar nada hasta comprender exactamente que me quieren decir esos NaN y no cambiare el tipo de datos de las fechas tampoco a menos de que en el futuro necesite realizar operaciones con ellos.\n"
   ]
  },
  {
   "cell_type": "markdown",
   "metadata": {
    "id": "o7MeKCid0q08"
   },
   "source": [
    "## Llamadas"
   ]
  },
  {
   "cell_type": "code",
   "execution_count": null,
   "metadata": {
    "id": "6dDlnoDm0q08"
   },
   "outputs": [],
   "source": [
    "# Imprime la información general/resumida sobre el DataFrame de las llamadas\n",
    "\n",
    "megaline_calls.info()"
   ]
  },
  {
   "cell_type": "code",
   "execution_count": null,
   "metadata": {
    "id": "kuh1vlNB0q09"
   },
   "outputs": [],
   "source": [
    "# Imprime una muestra de datos para las llamadas\n",
    "\n",
    "megaline_calls.sample(40)"
   ]
  },
  {
   "cell_type": "markdown",
   "metadata": {
    "id": "S7hzxmbX0q0-"
   },
   "source": [
    "### Corregir los datos"
   ]
  },
  {
   "cell_type": "code",
   "execution_count": null,
   "metadata": {
    "id": "S2r8xA4f0q0-"
   },
   "outputs": [],
   "source": [
    "#verificaremos si los datos estan listos para analizar\n",
    "print(megaline_calls.duplicated().sum())\n",
    "print(megaline_calls.isna().sum())\n",
    "print(megaline_calls.nunique())"
   ]
  },
  {
   "cell_type": "markdown",
   "metadata": {
    "id": "KrMgTrlG0q0_"
   },
   "source": [
    "### Enriquecer los datos"
   ]
  },
  {
   "cell_type": "code",
   "execution_count": null,
   "metadata": {
    "id": "iZ1avpA_0q0_"
   },
   "outputs": [],
   "source": [
    "#Debemos cambiar el tipo de datos de la columna call_date a datetime\n",
    "#Y agragar una nueva columna con los meses\n",
    "megaline_calls[\"call_date\"] = pd.to_datetime(megaline_calls[\"call_date\"], format='%Y-%m-%d')\n",
    "megaline_calls[\"month\"] = megaline_calls[\"call_date\"].dt.month\n",
    "#verificamos como queda el dataframe\n",
    "megaline_calls"
   ]
  },
  {
   "cell_type": "code",
   "execution_count": null,
   "metadata": {
    "scrolled": true
   },
   "outputs": [],
   "source": [
    "#Adicional a lo que hicimos anteriormente agragaremos una columna nueva que contenga las duraciones\n",
    "#de las llamadas redondeadas segun la politica de la empresa\n",
    "\n",
    "megaline_calls[\"rounded_duration\"] = np.ceil(megaline_calls[\"duration\"])\n",
    "megaline_calls #verificamos como se ve el nuevo dataframe"
   ]
  },
  {
   "cell_type": "markdown",
   "metadata": {
    "id": "mOUZSi180q0_"
   },
   "source": [
    "## Mensajes"
   ]
  },
  {
   "cell_type": "code",
   "execution_count": null,
   "metadata": {
    "id": "R-bYJpdV0q1A"
   },
   "outputs": [],
   "source": [
    "# Imprime la información general/resumida sobre el DataFrame de los mensajes\n",
    "megaline_messages.info()\n"
   ]
  },
  {
   "cell_type": "code",
   "execution_count": null,
   "metadata": {
    "id": "mCEl2iGE0q1A"
   },
   "outputs": [],
   "source": [
    "# Imprime una muestra de datos para los mensajes\n",
    "print(megaline_messages.sample(40))\n",
    "\n",
    "#verificaremos si los datos estan listos para analizar\n",
    "print(megaline_messages.duplicated().sum())\n",
    "print(megaline_messages.isna().sum())\n",
    "print(megaline_messages.nunique())"
   ]
  },
  {
   "cell_type": "markdown",
   "metadata": {
    "id": "Sprfak900q1B"
   },
   "source": [
    "### Corregir los datos"
   ]
  },
  {
   "cell_type": "code",
   "execution_count": null,
   "metadata": {
    "id": "vsllvkoa0q1B"
   },
   "outputs": [],
   "source": [
    "#Debemos cambiar el tipo de datos de la columna message_date a datetime\n",
    "megaline_messages[\"message_date\"] = pd.to_datetime(megaline_messages[\"message_date\"], format='%Y-%m-%d')\n",
    "print(megaline_messages.head())\n",
    "megaline_messages.info()"
   ]
  },
  {
   "cell_type": "markdown",
   "metadata": {
    "id": "HvLid7iD0q1B"
   },
   "source": [
    "### Enriquecer los datos"
   ]
  },
  {
   "cell_type": "code",
   "execution_count": null,
   "metadata": {
    "id": "zYEXZac10q1C"
   },
   "outputs": [],
   "source": [
    "#Agregaremos una nueva columna de meses\n",
    "megaline_messages[\"month\"] = megaline_messages[\"message_date\"].dt.month\n",
    "#verificamos como se ve la nueva columna\n",
    "megaline_messages"
   ]
  },
  {
   "cell_type": "markdown",
   "metadata": {
    "id": "bStkaxn40q1C"
   },
   "source": [
    "## Internet"
   ]
  },
  {
   "cell_type": "code",
   "execution_count": null,
   "metadata": {
    "id": "e-Uz5qyn0q1C"
   },
   "outputs": [],
   "source": [
    "# Imprime la información general/resumida sobre el DataFrame de internet\n",
    "\n",
    "megaline_internet.info()"
   ]
  },
  {
   "cell_type": "code",
   "execution_count": null,
   "metadata": {
    "id": "9r3x_XLw0q1C"
   },
   "outputs": [],
   "source": [
    "# Imprime una muestra de datos para el tráfico de internet\n",
    "megaline_internet.sample(40)\n"
   ]
  },
  {
   "cell_type": "markdown",
   "metadata": {
    "id": "yA0tkPFg0q1D"
   },
   "source": [
    "### Corregir los datos"
   ]
  },
  {
   "cell_type": "code",
   "execution_count": null,
   "metadata": {
    "id": "zVeanzdd0q1E"
   },
   "outputs": [],
   "source": [
    "#Para este dataframe realizaremos el mismo procedimiento de antes, chequear que no tenga datos ausentes,\n",
    "#duplicados o extraños y ademas le cambiaremos el tipo de dato a la columna session_date a datetime\n",
    "#Y adicionaremos una columna con el consumo de datos redondeado.\n",
    "\n",
    "#verificaremos si los datos estan listos para analizar\n",
    "print(megaline_internet.duplicated().sum())\n",
    "print(megaline_internet.isna().sum())\n",
    "print(megaline_internet.nunique())"
   ]
  },
  {
   "cell_type": "markdown",
   "metadata": {
    "id": "e8_mLF4a0q1E"
   },
   "source": [
    "### Enriquecer los datos"
   ]
  },
  {
   "cell_type": "code",
   "execution_count": null,
   "metadata": {
    "id": "ESiYPIEK0q1E"
   },
   "outputs": [],
   "source": [
    "#Cambiamos el tipo de datos de session_date\n",
    "megaline_internet[\"session_date\"] = pd.to_datetime(megaline_internet[\"session_date\"], format='%Y-%m-%d')\n",
    "print(megaline_internet.head())\n",
    "megaline_internet.info()"
   ]
  },
  {
   "cell_type": "code",
   "execution_count": null,
   "metadata": {
    "scrolled": true
   },
   "outputs": [],
   "source": [
    "#creamos una nueva columna con los meses\n",
    "megaline_internet[\"month\"] = megaline_internet[\"session_date\"].dt.month\n",
    "#creamos un nuevo dataframe que contenga la informacion de los mb que utilizo cada usuario por mes\n",
    "df_total_per_month = megaline_internet.groupby([\"user_id\", \"month\"]).agg(total_per_month=(\"mb_used\", \"sum\"))\n",
    "#Creamos una columna de que contenga el total de gb utilizado por usuario redondeando segun las normas de la empresa\n",
    "df_total_per_month[\"gb\"] = (df_total_per_month[\"total_per_month\"] / 1024).apply(np.ceil)\n",
    "df_total_per_month"
   ]
  },
  {
   "cell_type": "markdown",
   "metadata": {
    "id": "3UA2cqIW0q1E"
   },
   "source": [
    "## Estudiar las condiciones de las tarifas"
   ]
  },
  {
   "cell_type": "code",
   "execution_count": null,
   "metadata": {
    "id": "i409op8p0q1F"
   },
   "outputs": [],
   "source": [
    "# Imprime las condiciones de la tarifa y asegúrate de que te quedan claras\n",
    "\n",
    "megaline_plans[\"gb_per_month\"] = np.ceil(megaline_plans[\"mb_per_month_included\"] / 1024)\n",
    "megaline_plans"
   ]
  },
  {
   "cell_type": "markdown",
   "metadata": {},
   "source": [
    "Descripción de las tarifas\n",
    "\n",
    "Nota: Megaline redondea los segundos a minutos y los megabytes a gigabytes. \n",
    "\n",
    "Para llamadas, cada llamada individual se redondea:\n",
    "\n",
    "incluso si la llamada duró solo un segundo, se contará como un minuto. Para tráfico web, las sesiones web individuales no se redondean.\n",
    "\n",
    "En vez de esto, el total del mes se redondea hacia arriba. \n",
    "\n",
    "Si alguien usa 1025 megabytes este mes, se le cobrarán 2 gigabytes.\n",
    "\n",
    "A continuación puedes ver una descripción de las tarifas:\n",
    "\n",
    "Surf\n",
    "Pago mensual: 20\\$.\n",
    "\n",
    "500 minutos al mes, 50 SMS y 15 GB de datos.\n",
    "\n",
    "Si se exceden los límites del paquete:\n",
    "\n",
    "1 minuto: 3 centavos.\n",
    "\n",
    "1 SMS: 3 centavos.\n",
    "\n",
    "1 GB de datos: 10\\$.\n",
    "\n",
    "Ultimate\n",
    "Pago mensual: 70\\$.\n",
    "\n",
    "3000 minutos al mes, 1000 SMS y 30 GB de datos.\n",
    "\n",
    "Si se exceden los límites del paquete:\n",
    "\n",
    "1 minuto: 1 centavo.\n",
    "\n",
    "1 SMS: 1 centavo.\n",
    "\n",
    "1 GB de datos: 7\\$."
   ]
  },
  {
   "cell_type": "markdown",
   "metadata": {
    "id": "hMR1tP5d0q1F"
   },
   "source": [
    "## Agregar datos por usuario\n",
    "\n"
   ]
  },
  {
   "cell_type": "code",
   "execution_count": null,
   "metadata": {
    "id": "A332cedB0q1G"
   },
   "outputs": [],
   "source": [
    "# Calcula el número de llamadas hechas por cada usuario al mes. Guarda el resultado.\n",
    "calls_per_month = megaline_calls.groupby([\"user_id\", \"month\"])[\"id\"].nunique()\n",
    "calls_per_month"
   ]
  },
  {
   "cell_type": "code",
   "execution_count": null,
   "metadata": {
    "id": "aw2cmuql0q1G"
   },
   "outputs": [],
   "source": [
    "# Calcula la cantidad de minutos usados por cada usuario al mes. Guarda el resultado.\n",
    "total_min_per_month = megaline_calls.groupby([\"user_id\", \"month\"]).sum()\n",
    "total_min_per_month"
   ]
  },
  {
   "cell_type": "code",
   "execution_count": null,
   "metadata": {
    "id": "CcQvNHn60q1G"
   },
   "outputs": [],
   "source": [
    "# Calcula el número de mensajes enviados por cada usuario al mes. Guarda el resultado.\n",
    "\n",
    "total_messages_sent = megaline_messages.groupby([\"user_id\", \"month\"])[\"id\"].nunique()\n",
    "#monstramos el resultado\n",
    "total_messages_sent"
   ]
  },
  {
   "cell_type": "code",
   "execution_count": null,
   "metadata": {
    "id": "H1AqN2eG0q1H",
    "scrolled": true
   },
   "outputs": [],
   "source": [
    "# Calcula el volumen del tráfico de Internet usado por cada usuario al mes. Guarda el resultado.\n",
    "df_total_per_month\n"
   ]
  },
  {
   "cell_type": "code",
   "execution_count": null,
   "metadata": {
    "id": "FW99ykyf0q1H"
   },
   "outputs": [],
   "source": [
    "# Fusiona los datos de llamadas, minutos, mensajes e Internet con base en user_id y month\n",
    "\n",
    "total_service = pd.concat([calls_per_month, total_min_per_month, df_total_per_month, total_messages_sent], axis=1)\n",
    "total_service.columns = [\"total_calls\", \"total_min\", \"rounded_min\", \"total_mb\", \"gb\", \"total_sms\"]\n",
    "total_service = total_service.reset_index()\n",
    "total_service"
   ]
  },
  {
   "cell_type": "code",
   "execution_count": null,
   "metadata": {
    "id": "0dNOXHag0q1H",
    "scrolled": true
   },
   "outputs": [],
   "source": [
    "# Añade la información de la tarifa\n",
    "\n",
    "total_service = total_service.merge(megaline_users[[\"plan\", \"user_id\"]], how=\"left\", on=\"user_id\")\n",
    "total_service = total_service.merge(megaline_plans, left_on=\"plan\", right_on=\"plan_name\", how=\"left\")\n",
    "total_service = total_service.drop(\"plan_name\", axis=1)\n",
    "total_service"
   ]
  },
  {
   "cell_type": "code",
   "execution_count": null,
   "metadata": {
    "id": "5FGCf_c60q1I"
   },
   "outputs": [],
   "source": [
    "# Calcula el ingreso mensual para cada usuario\n",
    "\n",
    "#asigno el dataframe a otra variable para conservar el original\n",
    "service_calls = total_service\n",
    "#sustituyo el nombre del plan por la cantidad de minutos que otorga\n",
    "service_calls[\"plan\"] = np.where((service_calls.plan == \"surf\"), 500, service_calls.plan)\n",
    "service_calls[\"plan\"] = np.where((service_calls.plan == \"ultimate\"), 3000, service_calls.plan)\n",
    "#Agrego una columna nueva con la resta de los minutos \n",
    "service_calls[\"pay_for_calls\"] = service_calls[\"rounded_min\"] - service_calls[\"plan\"]\n",
    "#Renombro la columna plan para que quede con la informacion de minutos por usuarios\n",
    "service_calls = service_calls.rename(columns={\"plan\":\"free_min\"})\n",
    "#Agrego al dataframe nuevamente la columna plan \n",
    "service_calls = service_calls.merge(megaline_users[[\"plan\", \"user_id\"]], how=\"left\", on=\"user_id\")\n",
    "#Cambio el nombre de los planes por la cantidad de mensajes que otorgan\n",
    "service_calls[\"plan\"] = np.where((service_calls.plan == \"surf\"), 50, service_calls.plan)\n",
    "service_calls[\"plan\"] = np.where((service_calls.plan == \"ultimate\"), 1000, service_calls.plan)\n",
    "#Renombro la columna de plan para que quede la informacion de sms por usuarios\n",
    "service_calls = service_calls.rename(columns={\"plan\":\"free_sms\"})\n",
    "#Agrego una columna con la resta de los sms\n",
    "service_calls[\"pay_for_sms\"] = service_calls[\"total_sms\"] - service_calls[\"free_sms\"]\n",
    "#Agrego al dataframe nuevamente la columna plan\n",
    "service_calls = service_calls.merge(megaline_users[[\"plan\", \"user_id\"]], how=\"left\", on=\"user_id\")\n",
    "#Cambio el nombre de los planes por la cantidad de gb que otorgan\n",
    "service_calls[\"plan\"] = np.where((service_calls.plan == \"surf\"), 15, service_calls.plan)\n",
    "service_calls[\"plan\"] = np.where((service_calls.plan == \"ultimate\"), 30, service_calls.plan)\n",
    "#Renombro la columna de plan para que quede la informacion de gb por usuarios\n",
    "service_calls = service_calls.rename(columns={\"plan\":\"free_gb\"})\n",
    "#Agrego una columna con la resta de los sms\n",
    "service_calls[\"pay_for_gb\"] = service_calls[\"gb\"] - service_calls[\"free_gb\"]\n",
    "#Agrego al dataframe nuevamente la columna plan\n",
    "service_calls = service_calls.merge(megaline_users[[\"plan\", \"user_id\"]], how=\"left\", on=\"user_id\")\n",
    "#Cambio el nombre de los planes por numeros para poder realizar operaciones matematicas\n",
    "service_calls[\"plan\"] = np.where((service_calls.plan == \"surf\"), 0, service_calls.plan)\n",
    "service_calls[\"plan\"] = np.where((service_calls.plan == \"ultimate\"), 1, service_calls.plan)\n",
    "#Elimine los Nan\n",
    "service_calls.fillna(0, inplace=True)\n",
    "service_calls"
   ]
  },
  {
   "cell_type": "code",
   "execution_count": null,
   "metadata": {},
   "outputs": [],
   "source": [
    "service_calls[\"pay_for_calls_usd\"] = service_calls[\"pay_for_calls\"] * service_calls[\"usd_per_minute\"]\n",
    "service_calls[\"pay_for_calls_usd\"] = service_calls[\"pay_for_calls_usd\"].where(service_calls[\"pay_for_calls_usd\"] >= 0, 0)\n",
    "\n",
    "service_calls[\"pay_for_sms_usd\"] = service_calls[\"pay_for_sms\"] * service_calls[\"usd_per_message\"]\n",
    "service_calls[\"pay_for_sms_usd\"] = service_calls[\"pay_for_sms_usd\"].where(service_calls[\"pay_for_sms_usd\"] >= 0, 0)\n",
    "\n",
    "service_calls[\"pay_for_gb_usd\"] = service_calls[\"pay_for_gb\"] * service_calls[\"usd_per_gb\"]\n",
    "service_calls[\"pay_for_gb_usd\"] = service_calls[\"pay_for_gb_usd\"].where(service_calls[\"pay_for_gb_usd\"] >= 0, 0)\n",
    "\n",
    "service_calls[\"total_pay_for_user\"] = service_calls[\"pay_for_calls_usd\"] + service_calls[\"pay_for_sms_usd\"] + service_calls[\"pay_for_gb_usd\"] + service_calls[\"usd_monthly_pay\"]\n",
    "\n",
    "income_per_month = service_calls[[\"user_id\", \"month\", \"total_pay_for_user\"]]\n",
    "income_per_month"
   ]
  },
  {
   "cell_type": "markdown",
   "metadata": {
    "id": "-jtyHzJb0q1I"
   },
   "source": [
    "## Estudia el comportamiento de usuario"
   ]
  },
  {
   "cell_type": "markdown",
   "metadata": {
    "id": "vtW4CJEe0q1J"
   },
   "source": [
    "### Llamadas"
   ]
  },
  {
   "cell_type": "code",
   "execution_count": null,
   "metadata": {
    "id": "Jf5v5--k0q1J"
   },
   "outputs": [],
   "source": [
    "# Compara la duración promedio de llamadas por cada plan y por cada mes. Traza un gráfico de barras para visualizarla.\n",
    "calls_mean = service_calls.pivot_table(index=\"month\", columns=\"plan\", values=\"total_min\", aggfunc=\"mean\")\n",
    "calls_mean_plot = calls_mean.plot(kind=\"bar\", title=\"Promedio de llamadas por plan por mes\", xlabel=\"Meses\", grid=\"on\", figsize=[12,5])\n",
    "calls_mean_plot.legend([\"Surf\", \"Ultimate\"])"
   ]
  },
  {
   "cell_type": "code",
   "execution_count": null,
   "metadata": {
    "id": "QoLqW1S_0q1J"
   },
   "outputs": [],
   "source": [
    "# Compara el número de minutos mensuales que necesitan los usuarios de cada plan. Traza un histograma.\n",
    "\n",
    "min_need_surf = service_calls.query(\"plan == 0\").rounded_min\n",
    "min_need_ultimate = service_calls.query(\"plan == 1\").rounded_min\n",
    "min_need_surf.plot(kind=\"hist\") #plan surf color azul en el histograma\n",
    "min_need_ultimate.plot(kind=\"hist\", title=\"Número de minutos que necesitan los usuarios segun su plan\", figsize=[10, 5])"
   ]
  },
  {
   "cell_type": "code",
   "execution_count": null,
   "metadata": {
    "id": "oSndbAnt0q1K"
   },
   "outputs": [],
   "source": [
    "# Calcula la media y la varianza de la duración mensual de llamadas.\n",
    "\n",
    "min_need_surf_mean = service_calls.query(\"plan == 0\").total_min.mean()\n",
    "min_need_ultimate_mean = service_calls.query(\"plan == 1\").total_min.mean()\n",
    "min_need_surf_var = service_calls.query(\"plan == 0\").total_min.var()\n",
    "min_need_ultimate_var = service_calls.query(\"plan == 1\").total_min.var()\n",
    "print(min_need_ultimate_var)\n",
    "min_need_surf_var\n"
   ]
  },
  {
   "cell_type": "code",
   "execution_count": null,
   "metadata": {
    "id": "nZzoRUKc0q1K"
   },
   "outputs": [],
   "source": [
    "# Traza un diagrama de caja para visualizar la distribución de la duración mensual de llamadas\n",
    "\n",
    "box_plot = sns.boxplot(x = service_calls['month'],\n",
    "            y = service_calls['total_min'])"
   ]
  },
  {
   "cell_type": "markdown",
   "metadata": {
    "id": "r627zBO50q1K"
   },
   "source": [
    "\n",
    "\n",
    "\n",
    "Creo que los usuarios del plan surf aunque realizan menos llamadas que los usuarios del plan ultimate, necesitan mas minutos con respecto al plan que tienen. la variacion entre las cantidad de minutos en llamadas es pequeña en relacion de la diferencia de minutos entre un plan y el otro."
   ]
  },
  {
   "cell_type": "markdown",
   "metadata": {
    "id": "8idKy8Wh0q1L"
   },
   "source": [
    "### Mensajes"
   ]
  },
  {
   "cell_type": "code",
   "execution_count": null,
   "metadata": {
    "id": "NXLxiTit0q1L"
   },
   "outputs": [],
   "source": [
    "# Comprara el número de mensajes que tienden a enviar cada mes los usuarios de cada plan\n",
    "\n",
    "box_plot_sms = sns.boxplot(x = service_calls['month'],\n",
    "            y = service_calls['total_sms'])"
   ]
  },
  {
   "cell_type": "code",
   "execution_count": null,
   "metadata": {
    "id": "GRI_R7xF0q1L"
   },
   "outputs": [],
   "source": [
    "# Compara la cantidad de tráfico de Internet consumido por usuarios por plan\n",
    "\n",
    "internet_trafic = service_calls.pivot_table(index=\"month\", columns=\"plan\", values=\"gb\", aggfunc=\"sum\")\n",
    "internet_trafic_plot = internet_trafic.plot(kind=\"hist\", alpha=0.6, title=\"Tráfico de Internet consumido por usuarios por plan\", xlabel=\"meses\", grid=\"on\", stacked=True, figsize=[12,8])\n",
    "internet_trafic_plot.legend([\"Surf=0\", \"Ultimate=1\"])"
   ]
  },
  {
   "cell_type": "markdown",
   "metadata": {
    "id": "390SSL480q1M"
   },
   "source": [
    "\n",
    "\n",
    "Todos los usuarios ultimate tienden a enviar mas mensajes que los de usuarios surf, sin embargo el promedio de mensajes por mes es muy bajo con respecto a la capacidad que otorga su plan, quiere decir esto que los mensajes no son el producto mas utilizado por los usuarios."
   ]
  },
  {
   "cell_type": "markdown",
   "metadata": {
    "id": "42YSypXz0q1M"
   },
   "source": [
    "### Internet"
   ]
  },
  {
   "cell_type": "code",
   "execution_count": null,
   "metadata": {
    "id": "lSuKPtjh0q1M"
   },
   "outputs": [],
   "source": [
    "# Compara la duración promedio de uso de gb por cada plan y por cada mes. Traza un gráfico de barras para visualizarla.\n",
    "internet_mean = service_calls.pivot_table(index=\"month\", columns=\"plan\", values=\"gb\", aggfunc=\"mean\")\n",
    "internet_mean_plot = internet_mean.plot(kind=\"bar\", title=\"Promedio de GB por plan por mes\", xlabel=\"Meses\", grid=\"on\", figsize=[12,5])\n",
    "internet_mean_plot.legend([\"Surf\", \"Ultimate\"])"
   ]
  },
  {
   "cell_type": "code",
   "execution_count": null,
   "metadata": {
    "id": "wnh8jYXi0q1N"
   },
   "outputs": [],
   "source": [
    "# Compara el número de gb mensuales que necesitan los usuarios de cada plan. Traza un histograma.\n",
    "\n",
    "gb_need_surf = service_calls.query(\"plan == 0\").gb\n",
    "gb_need_ultimate = service_calls.query(\"plan == 1\").gb\n",
    "gb_need_surf.plot(kind=\"hist\") #plan surf color azul en el histograma\n",
    "gb_need_ultimate.plot(kind=\"hist\", title=\"Número de gb que necesitan los usuarios segun su plan\", figsize=[10, 5])"
   ]
  },
  {
   "cell_type": "code",
   "execution_count": null,
   "metadata": {
    "id": "5VlyJ9ry0q1N"
   },
   "outputs": [],
   "source": [
    "# Calcula la media y la varianza de la duración mensual de internet.\n",
    "\n",
    "gb_need_surf_mean = service_calls.query(\"plan == 0\").gb.mean()\n",
    "gb_need_ultimate_mean = service_calls.query(\"plan == 1\").gb.mean()\n",
    "gb_need_surf_var = service_calls.query(\"plan == 0\").gb.var()\n",
    "gb_need_ultimate_var = service_calls.query(\"plan == 1\").gb.var()\n",
    "print(gb_need_ultimate_var)\n",
    "gb_need_surf_var\n"
   ]
  },
  {
   "cell_type": "markdown",
   "metadata": {
    "id": "UN9zwuMP0q1N"
   },
   "source": [
    "\n",
    "\n",
    "Se observa que los usuarios del plan ultimate consumen mas datos que los del plan surf, sin embargo a pesar de que la diferencia de gb ofrecida por cada plan es del doble, podemos pareciar que la diferencia no es tan grande con respecto al cosumo, quiere decir esto que los usuarios del plan surf consumen gb fuera del limite de su plan con mucha mas regularidad que los del plan ultimate que parecen ajustarse mas a su limite de gb."
   ]
  },
  {
   "cell_type": "markdown",
   "metadata": {
    "id": "tCijq3260q1N"
   },
   "source": [
    "## Ingreso"
   ]
  },
  {
   "cell_type": "code",
   "execution_count": null,
   "metadata": {
    "id": "tz-dq_V00q1O"
   },
   "outputs": [],
   "source": [
    "income_per_month_plan = income_per_month.merge(service_calls[[\"plan\", \"user_id\"]], how=\"left\", on=\"user_id\")\n",
    "income_per_month_plan = income_per_month_plan.groupby([\"plan\", \"month\"]).agg(total_income=(\"total_pay_for_user\", \"sum\"))\n",
    "income_per_month_plan = income_per_month_plan.reset_index()\n",
    "\n",
    "\n",
    "#income_plan_plot = income_per_month_plan.pivot_table(index=\"month\", columns=\"plan\", values=\"total_income\", aggfunc=\"sum\")\n",
    "#income_plan_plot = income_plan_plot.plot(kind=\"hist\", alpha=0.6, title=\"Total de ingresos por plan por mes\", xlabel=\"Meses\", figsize=[12,5])\n",
    "#income_plan_plot.legend([\"Surf\", \"Ultimate\"])\n",
    "\n",
    "#surf_income = income_per_month_plan[income_per_month_plan[\"plan\"] == 0].groupby(\"month\")[\"total_income\"].sum()\n",
    "#ultime_income = income_per_month_plan[income_per_month_plan[\"plan\"] == 1].groupby(\"month\")[\"total_income\"].sum()\n",
    "#income_hist = pd.concat([surf_income, ultime_income], axis=1)\n",
    "#income_hist.plot(kind=\"hist\", bins=6, alpha=0.8)\n",
    "#plt.legend([\"Surf\", \"Ultimate\"])\n",
    "\n",
    "#surf_income = service_calls.query(\"plan == 0\")\n",
    "#ultimate_income = service_calls.query(\"plan == 1\")\n",
    "#income_hist = pd.concat([surf_income, ultimate_income])\n",
    "sns.histplot(data=service_calls, x=\"total_pay_for_user\", hue=\"plan\", bins=10, alpha=0.5)\n"
   ]
  },
  {
   "cell_type": "markdown",
   "metadata": {
    "id": "KAFidcXZ0q1P"
   },
   "source": [
    "\n",
    "\n",
    "Se observa que los ingresos por el plan surf son mas altos que los del plan ultimate, aunque el plan surf es mas costoso que el otro plan creemos que esto se debe a que los beneficios del plan surf se agotan mas rapido haciendo que los usuarios deban pagar tarifas adicionales para seguir disfrutando del servicio"
   ]
  },
  {
   "cell_type": "markdown",
   "metadata": {
    "id": "ajJ7VKeI0q1Q"
   },
   "source": [
    "## Prueba las hipótesis estadísticas"
   ]
  },
  {
   "cell_type": "code",
   "execution_count": null,
   "metadata": {
    "id": "nFoPNlPq0q1R"
   },
   "outputs": [],
   "source": [
    "# Prueba las hipótesis\n",
    "\n",
    "# hipótesis alternativa \"son significativamente diferentes los ingresos promedio procedentes de los usuarios de los planes de llamada Ultimate y Surf.\"\n",
    "\n",
    "#Hipotesis nula \" los ingresos promedio procedentes de los usuarios de los planes de llamada Ultimate y Surf. No son significativamente diferentes\"\n",
    "\n",
    "#Defino el promedio de ingresos de los usuarios por cada plan\n",
    "income_per_month_plan = income_per_month.merge(service_calls[[\"user_id\", \"plan\"]], how=\"left\", on=\"user_id\")\n",
    "income_mean_surf = income_per_month_plan.query(\"plan == 0\")\n",
    "income_mean_surf = income_mean_surf.groupby(\"month\")[\"total_pay_for_user\"].mean()\n",
    "income_mean_ultimate = income_per_month_plan.query(\"plan == 1\")\n",
    "income_mean_ultimate = income_mean_ultimate.groupby(\"month\")[\"total_pay_for_user\"].mean()\n",
    "#Defino alpha\n",
    "alpha = 0.05\n",
    "#Aplico Ttest\n",
    "results = st.ttest_ind(income_mean_surf, income_mean_ultimate, equal_var=False)\n",
    "print(\"valor p:\", results.pvalue)\n",
    "if results.pvalue < alpha:\n",
    "    print(\"Rechazamos la hipotesis nula\")\n",
    "else:\n",
    "    print(\"No podemos rechazar la hipotesis nula\")\n",
    "\n",
    "\n"
   ]
  },
  {
   "cell_type": "code",
   "execution_count": null,
   "metadata": {
    "id": "Cqcj7wrZ0q1S"
   },
   "outputs": [],
   "source": [
    "# Prueba las hipótesis\n",
    "#hacemos el filtro por ciudades\n",
    "\n",
    "income_for_city = income_per_month.merge(megaline_users[[\"user_id\", \"city\"]], how=\"left\", on=\"user_id\")\n",
    "income_for_NY = income_for_city.query(\"city == 'New York-Newark-Jersey City, Ny-Nj-Pa Msa'\")\n",
    "income_other_city = income_for_city.query(\"city != 'New York-Newark-Jersey City, Ny-Nj-Pa Msa'\")\n",
    "income_for_NY_mean = income_for_NY.groupby(\"month\")[\"total_pay_for_user\"].mean()\n",
    "income_for_other_city_mean = income_other_city.groupby(\"month\")[\"total_pay_for_user\"].mean()"
   ]
  },
  {
   "cell_type": "code",
   "execution_count": null,
   "metadata": {},
   "outputs": [],
   "source": [
    "#Probamos la hipotesis\n",
    "#Hipotesis alternativa = \"el ingreso promedio de los usuarios del área NY-NJ es diferente al de los usuarios de otras regiones\"\n",
    "#Hipotesis nula = \"el ingreso promedio de los usuarios del área NY-NJ NO es diferente al de los usuarios de otras regiones\"\n",
    "\n",
    "#definimos alpha\n",
    "alpha = 0.05\n",
    "#Aplicamos ttest\n",
    "results = st.ttest_ind(income_for_NY_mean, income_for_other_city_mean, equal_var=False)\n",
    "print(\"valor p:\", results.pvalue)\n",
    "if results.pvalue < alpha:\n",
    "    print(\"Rechazamos la hipotesis nula\")\n",
    "else:\n",
    "    print(\"No podemos rechazar la hipotesis nula\")"
   ]
  },
  {
   "cell_type": "markdown",
   "metadata": {
    "id": "bbTR8UQO0q1T"
   },
   "source": [
    "## Conclusión general\n",
    "\n",
    "\n",
    "\n",
    "Al finalizar el analisis podemos decir que aunque los usuarios del plan surf pagan un basico mensual mas bajo, reprensentan un gran ingreso para la empresa.\n",
    "\n",
    "Con respecto a las hipotesis rechazamos la primera hipotesis nula, ya que segun nuestros calculos la media de los ingresos por usuarios por plan son diferentes.\n",
    "\n",
    "y la segunda hipotesis no podemos rechazarla ya que no tenemos suficiente evidencia para afirmar que las medias no son iguales entre la ciudad de NY con respecto a otras regiones.\n"
   ]
  }
 ],
 "metadata": {
  "ExecuteTimeLog": [
   {
    "duration": 828,
    "start_time": "2021-11-16T09:21:11.304Z"
   },
   {
    "duration": 893,
    "start_time": "2021-11-16T09:21:17.728Z"
   },
   {
    "duration": 1150,
    "start_time": "2021-11-16T09:21:29.568Z"
   },
   {
    "duration": 3,
    "start_time": "2021-11-16T09:24:14.495Z"
   },
   {
    "duration": 120,
    "start_time": "2021-11-16T09:24:46.630Z"
   },
   {
    "duration": 3,
    "start_time": "2021-11-16T09:28:27.882Z"
   },
   {
    "duration": 4,
    "start_time": "2021-11-16T09:29:54.281Z"
   },
   {
    "duration": 3,
    "start_time": "2021-11-16T09:30:45.936Z"
   },
   {
    "duration": 4,
    "start_time": "2021-11-16T09:31:06.300Z"
   },
   {
    "duration": 113,
    "start_time": "2021-11-16T09:31:37.208Z"
   },
   {
    "duration": 143,
    "start_time": "2021-11-16T09:31:48.656Z"
   },
   {
    "duration": 98,
    "start_time": "2021-11-16T09:31:55.678Z"
   },
   {
    "duration": 3,
    "start_time": "2021-11-16T09:32:08.535Z"
   },
   {
    "duration": 111,
    "start_time": "2021-11-16T09:32:10.120Z"
   },
   {
    "duration": 3,
    "start_time": "2021-11-16T09:32:15.732Z"
   },
   {
    "duration": 4,
    "start_time": "2021-11-16T09:32:29.423Z"
   },
   {
    "duration": 3,
    "start_time": "2021-11-16T10:03:03.074Z"
   },
   {
    "duration": 3,
    "start_time": "2021-11-16T10:10:01.288Z"
   },
   {
    "duration": 3,
    "start_time": "2021-11-16T10:10:46.923Z"
   },
   {
    "duration": 121,
    "start_time": "2021-11-16T10:37:46.494Z"
   },
   {
    "duration": 125,
    "start_time": "2021-11-16T10:38:20.632Z"
   },
   {
    "duration": 112,
    "start_time": "2021-11-16T10:46:53.001Z"
   },
   {
    "duration": 110,
    "start_time": "2021-11-16T10:48:25.775Z"
   },
   {
    "duration": 3,
    "start_time": "2021-11-16T10:50:18.720Z"
   },
   {
    "duration": 4,
    "start_time": "2021-11-16T10:50:37.649Z"
   },
   {
    "duration": 2,
    "start_time": "2021-11-16T10:50:51.884Z"
   },
   {
    "duration": 3,
    "start_time": "2021-11-16T10:51:56.237Z"
   },
   {
    "duration": 101,
    "start_time": "2021-11-16T10:53:13.791Z"
   },
   {
    "duration": 3,
    "start_time": "2021-11-16T10:55:59.186Z"
   },
   {
    "duration": 3,
    "start_time": "2021-11-16T10:56:10.751Z"
   },
   {
    "duration": 3,
    "start_time": "2021-11-16T10:56:49.038Z"
   },
   {
    "duration": 3,
    "start_time": "2021-11-16T10:56:49.174Z"
   },
   {
    "duration": 4,
    "start_time": "2021-11-16T10:56:49.414Z"
   },
   {
    "duration": 3,
    "start_time": "2021-11-16T10:56:49.680Z"
   },
   {
    "duration": 3,
    "start_time": "2021-11-16T10:56:50.370Z"
   },
   {
    "duration": 114,
    "start_time": "2021-11-16T10:59:34.518Z"
   },
   {
    "duration": 3,
    "start_time": "2021-11-16T11:01:41.201Z"
   },
   {
    "duration": 116,
    "start_time": "2021-11-16T11:01:48.754Z"
   },
   {
    "duration": 3,
    "start_time": "2021-11-16T11:02:16.685Z"
   },
   {
    "duration": 3,
    "start_time": "2021-11-16T11:02:19.479Z"
   },
   {
    "duration": 3,
    "start_time": "2021-11-16T11:02:47.067Z"
   },
   {
    "duration": 3,
    "start_time": "2021-11-16T11:02:49.353Z"
   },
   {
    "duration": 3,
    "start_time": "2021-11-16T11:03:07.835Z"
   },
   {
    "duration": 3,
    "start_time": "2021-11-16T11:03:07.953Z"
   },
   {
    "duration": 112,
    "start_time": "2021-11-16T11:07:52.072Z"
   },
   {
    "duration": 187,
    "start_time": "2021-11-16T11:09:23.468Z"
   },
   {
    "duration": 4,
    "start_time": "2021-11-16T11:10:01.455Z"
   },
   {
    "duration": 3,
    "start_time": "2021-11-16T11:10:05.069Z"
   },
   {
    "duration": 4,
    "start_time": "2021-11-16T11:10:13.376Z"
   },
   {
    "duration": 3,
    "start_time": "2021-11-16T11:10:14.434Z"
   },
   {
    "duration": 3,
    "start_time": "2021-11-16T11:10:22.853Z"
   },
   {
    "duration": 4,
    "start_time": "2021-11-16T11:27:29.279Z"
   },
   {
    "duration": 4,
    "start_time": "2021-11-16T11:29:08.919Z"
   },
   {
    "duration": 118,
    "start_time": "2021-11-16T11:29:46.703Z"
   },
   {
    "duration": 437,
    "start_time": "2021-11-16T11:36:02.181Z"
   },
   {
    "duration": 157,
    "start_time": "2021-11-16T11:36:14.388Z"
   },
   {
    "duration": 207,
    "start_time": "2021-11-16T11:47:15.898Z"
   },
   {
    "duration": 3,
    "start_time": "2021-11-16T11:53:52.092Z"
   },
   {
    "duration": 3,
    "start_time": "2021-11-16T11:53:52.236Z"
   },
   {
    "duration": 3,
    "start_time": "2021-11-16T11:59:12.005Z"
   },
   {
    "duration": 112,
    "start_time": "2021-11-16T12:00:33.446Z"
   },
   {
    "duration": 3,
    "start_time": "2021-11-16T12:02:14.453Z"
   },
   {
    "duration": 3,
    "start_time": "2021-11-16T12:02:39.512Z"
   },
   {
    "duration": 106,
    "start_time": "2021-11-16T12:03:03.460Z"
   },
   {
    "duration": 3,
    "start_time": "2021-11-17T20:37:21.139Z"
   },
   {
    "duration": 3,
    "start_time": "2021-11-17T20:37:22.229Z"
   },
   {
    "duration": 3,
    "start_time": "2021-11-17T20:38:38.806Z"
   },
   {
    "duration": 3,
    "start_time": "2021-11-17T20:38:41.958Z"
   },
   {
    "duration": 3,
    "start_time": "2021-11-17T20:43:46.551Z"
   },
   {
    "duration": 4,
    "start_time": "2021-11-17T20:58:21.835Z"
   },
   {
    "duration": 3,
    "start_time": "2021-11-17T20:59:21.872Z"
   },
   {
    "duration": 4,
    "start_time": "2021-11-17T20:59:45.352Z"
   },
   {
    "duration": 4,
    "start_time": "2021-11-17T20:59:49.646Z"
   },
   {
    "duration": 159,
    "start_time": "2021-11-17T21:02:26.949Z"
   },
   {
    "duration": 3,
    "start_time": "2021-11-17T21:03:53.461Z"
   },
   {
    "duration": 3,
    "start_time": "2021-11-17T21:03:53.694Z"
   },
   {
    "duration": 3,
    "start_time": "2021-11-17T21:05:28.145Z"
   },
   {
    "duration": 116,
    "start_time": "2021-11-17T21:05:57.787Z"
   },
   {
    "duration": 3,
    "start_time": "2021-11-17T21:06:37.993Z"
   },
   {
    "duration": 3,
    "start_time": "2021-11-17T21:06:38.261Z"
   },
   {
    "duration": 3,
    "start_time": "2021-11-17T21:11:54.358Z"
   },
   {
    "duration": 3,
    "start_time": "2021-11-17T21:12:43.846Z"
   },
   {
    "duration": 4,
    "start_time": "2021-11-17T21:13:08.773Z"
   },
   {
    "duration": 3,
    "start_time": "2021-11-17T21:14:44.441Z"
   },
   {
    "duration": 3,
    "start_time": "2021-11-17T21:15:42.059Z"
   },
   {
    "duration": 4,
    "start_time": "2021-11-17T21:15:51.995Z"
   },
   {
    "duration": 3,
    "start_time": "2021-11-17T21:15:53.923Z"
   },
   {
    "duration": 3,
    "start_time": "2021-11-17T21:15:55.282Z"
   },
   {
    "duration": 3,
    "start_time": "2021-11-17T21:16:28.492Z"
   },
   {
    "duration": 3,
    "start_time": "2021-11-17T21:16:32.603Z"
   },
   {
    "duration": 3,
    "start_time": "2021-11-17T21:17:06.941Z"
   },
   {
    "duration": 98,
    "start_time": "2021-11-17T21:18:05.733Z"
   },
   {
    "duration": 4,
    "start_time": "2021-11-17T21:21:35.255Z"
   },
   {
    "duration": 3,
    "start_time": "2021-11-17T21:21:37.804Z"
   },
   {
    "duration": 4,
    "start_time": "2021-11-17T21:23:06.071Z"
   },
   {
    "duration": 3,
    "start_time": "2021-11-17T21:23:24.799Z"
   },
   {
    "duration": 3,
    "start_time": "2021-11-17T21:23:32.591Z"
   },
   {
    "duration": 98,
    "start_time": "2021-11-17T21:28:31.559Z"
   },
   {
    "duration": 3,
    "start_time": "2021-11-17T21:28:45.448Z"
   },
   {
    "duration": 3,
    "start_time": "2021-11-17T21:29:17.303Z"
   },
   {
    "duration": 3,
    "start_time": "2021-11-17T21:29:29.617Z"
   },
   {
    "duration": 3,
    "start_time": "2021-11-17T21:29:32.681Z"
   },
   {
    "duration": 3,
    "start_time": "2021-11-17T21:36:11.474Z"
   },
   {
    "duration": 3,
    "start_time": "2021-11-17T21:36:14.791Z"
   },
   {
    "duration": 3,
    "start_time": "2021-11-17T21:36:53.943Z"
   },
   {
    "duration": 3,
    "start_time": "2021-11-17T21:36:56.165Z"
   },
   {
    "duration": 4,
    "start_time": "2021-11-17T21:37:16.590Z"
   },
   {
    "duration": 3,
    "start_time": "2021-11-17T21:37:22.702Z"
   },
   {
    "duration": 4,
    "start_time": "2021-11-17T21:38:03.479Z"
   },
   {
    "duration": 3,
    "start_time": "2021-11-17T21:38:08.601Z"
   },
   {
    "duration": 3,
    "start_time": "2021-11-17T21:38:12.928Z"
   },
   {
    "duration": 3,
    "start_time": "2021-11-17T21:38:48.896Z"
   },
   {
    "duration": 2,
    "start_time": "2021-11-17T21:38:49.171Z"
   },
   {
    "duration": 4,
    "start_time": "2021-11-17T21:39:57.889Z"
   },
   {
    "duration": 3,
    "start_time": "2021-11-17T21:39:58.057Z"
   },
   {
    "duration": 3,
    "start_time": "2021-11-17T21:41:20.108Z"
   },
   {
    "duration": 3,
    "start_time": "2021-11-17T21:41:20.629Z"
   },
   {
    "duration": 3,
    "start_time": "2021-11-17T21:42:49.136Z"
   },
   {
    "duration": 3,
    "start_time": "2021-11-17T21:43:15.137Z"
   },
   {
    "duration": 4,
    "start_time": "2021-11-17T21:43:16.766Z"
   },
   {
    "duration": 4,
    "start_time": "2021-11-17T21:43:31.711Z"
   },
   {
    "duration": 3,
    "start_time": "2021-11-17T21:43:36.312Z"
   },
   {
    "duration": 4,
    "start_time": "2021-11-17T21:45:08.825Z"
   },
   {
    "duration": 4,
    "start_time": "2021-11-17T21:45:10.119Z"
   },
   {
    "duration": 4,
    "start_time": "2021-11-17T21:45:13.748Z"
   },
   {
    "duration": 3,
    "start_time": "2021-11-17T21:45:22.219Z"
   },
   {
    "duration": 3,
    "start_time": "2021-11-17T21:45:33.412Z"
   },
   {
    "duration": 2,
    "start_time": "2021-11-17T21:46:01.885Z"
   },
   {
    "duration": 3,
    "start_time": "2021-11-17T21:46:03.628Z"
   },
   {
    "duration": 107,
    "start_time": "2021-11-17T21:47:32.512Z"
   },
   {
    "duration": 103,
    "start_time": "2021-11-17T21:50:36.243Z"
   },
   {
    "duration": 3,
    "start_time": "2021-11-18T06:28:31.440Z"
   },
   {
    "duration": 3,
    "start_time": "2021-11-18T06:29:00.168Z"
   },
   {
    "duration": 3,
    "start_time": "2021-11-18T06:31:27.008Z"
   },
   {
    "duration": 2,
    "start_time": "2021-11-18T06:35:34.288Z"
   },
   {
    "duration": 2,
    "start_time": "2021-11-18T06:38:04.527Z"
   }
  ],
  "colab": {
   "provenance": []
  },
  "kernelspec": {
   "display_name": "Python 3 (ipykernel)",
   "language": "python",
   "name": "python3"
  },
  "language_info": {
   "codemirror_mode": {
    "name": "ipython",
    "version": 3
   },
   "file_extension": ".py",
   "mimetype": "text/x-python",
   "name": "python",
   "nbconvert_exporter": "python",
   "pygments_lexer": "ipython3",
   "version": "3.11.5"
  },
  "toc": {
   "base_numbering": 1,
   "nav_menu": {},
   "number_sections": true,
   "sideBar": true,
   "skip_h1_title": false,
   "title_cell": "Table of Contents",
   "title_sidebar": "Contents",
   "toc_cell": false,
   "toc_position": {
    "height": "calc(100% - 180px)",
    "left": "10px",
    "top": "150px",
    "width": "257.188px"
   },
   "toc_section_display": true,
   "toc_window_display": true
  }
 },
 "nbformat": 4,
 "nbformat_minor": 1
}
